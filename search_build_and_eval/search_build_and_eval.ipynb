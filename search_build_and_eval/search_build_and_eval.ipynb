{
 "cells": [
  {
   "cell_type": "code",
   "execution_count": 1,
   "id": "16aa6b1a-eef2-4bc4-8381-011ba86ebdd7",
   "metadata": {},
   "outputs": [
    {
     "name": "stderr",
     "output_type": "stream",
     "text": [
      "/Users/amoghkulkarni/.local/share/virtualenvs/gadget-spec-bot-PKdu65VV/lib/python3.9/site-packages/urllib3/__init__.py:35: NotOpenSSLWarning: urllib3 v2 only supports OpenSSL 1.1.1+, currently the 'ssl' module is compiled with 'LibreSSL 2.8.3'. See: https://github.com/urllib3/urllib3/issues/3020\n",
      "  warnings.warn(\n"
     ]
    }
   ],
   "source": [
    "import json\n",
    "from elasticsearch import Elasticsearch"
   ]
  },
  {
   "cell_type": "code",
   "execution_count": 6,
   "id": "3fe17b31-490d-464f-89bb-092494b35b94",
   "metadata": {},
   "outputs": [
    {
     "name": "stdout",
     "output_type": "stream",
     "text": [
      "total 13264\n",
      "-rw-r--r--@ 1 amoghkulkarni  staff     0B Aug 31 21:12 example.ipynb\n",
      "drwxr-xr-x@ 5 amoghkulkarni  staff   160B Sep  1 16:46 \u001b[1m\u001b[36mhtml_docs\u001b[m\u001b[m\n",
      "-rw-r--r--@ 1 amoghkulkarni  staff    11K Sep  3 08:06 failed_phone_list.md\n",
      "-rw-r--r--@ 1 amoghkulkarni  staff   4.3M Sep 13 10:33 mobile_specifications_data.json\n",
      "-rw-r--r--@ 1 amoghkulkarni  staff   281K Sep 14 10:10 gsm-website-extraction-poc.ipynb\n",
      "-rw-r--r--@ 1 amoghkulkarni  staff   1.0M Sep 14 10:10 errored_mobile_specifications_data.json\n"
     ]
    }
   ],
   "source": [
    "!ls -ltrh ../data-extraction"
   ]
  },
  {
   "cell_type": "code",
   "execution_count": 2,
   "id": "b9f92805-26c4-49bc-af67-d44ad2051a6f",
   "metadata": {},
   "outputs": [],
   "source": [
    "with open('../data-extraction/mobile_specifications_data.json', 'r') as fp:\n",
    "    mobile_specs_data = json.load(fp)"
   ]
  },
  {
   "cell_type": "code",
   "execution_count": 11,
   "id": "9a36335f-f166-46d1-a0ea-42354949ea66",
   "metadata": {},
   "outputs": [
    {
     "data": {
      "text/plain": [
       "{'dizo-star-500': {'General': {'Brand': 'Dizo',\n",
       "   'Model': 'Star 500',\n",
       "   'Price in India': '₹1,425',\n",
       "   'Release date': '8th July 2021',\n",
       "   'Launched in India': 'Yes',\n",
       "   'Form factor': 'Bar',\n",
       "   'Dimensions (mm)': '132.50 x 55.40 x 12.00',\n",
       "   'Weight (g)': '108.00',\n",
       "   'Battery capacity (mAh)': '1900',\n",
       "   'Colours': 'Black, Green, Silver'},\n",
       "  'Display': {'Screen size (inches)': '2.80',\n",
       "   'Touchscreen': 'No',\n",
       "   'Resolution': '320x240 pixels'},\n",
       "  'Hardware': {'RAM': '32MB',\n",
       "   'Internal storage': '32MB',\n",
       "   'Expandable storage': 'Yes',\n",
       "   'Expandable storage up to (GB)': '64'},\n",
       "  'Camera': {'Rear camera': '0.3-megapixel',\n",
       "   'No. of Rear Cameras': '1',\n",
       "   'Front camera': 'No'},\n",
       "  'Connectivity': {'Number of SIMs': '2',\n",
       "   'Active 4G on both SIM cards': 'No',\n",
       "   'SIM Type': 'Micro-SIM',\n",
       "   'GSM/CDMA': 'GSM'}},\n",
       " 'dizo-star-300': {'General': {'Brand': 'Dizo',\n",
       "   'Model': 'Star 300',\n",
       "   'Price in India': '₹1,049',\n",
       "   'Release date': '8th July 2021',\n",
       "   'Launched in India': 'Yes',\n",
       "   'Form factor': 'Bar',\n",
       "   'Dimensions (mm)': '119.50 x 52.00 x 13.40',\n",
       "   'Weight (g)': '105.40',\n",
       "   'Battery capacity (mAh)': '2550',\n",
       "   'Colours': 'Black, Blue, Red'},\n",
       "  'Display': {'Screen size (inches)': '1.77',\n",
       "   'Touchscreen': 'No',\n",
       "   'Resolution': '160x120 pixels'},\n",
       "  'Hardware': {'RAM': '32MB',\n",
       "   'Internal storage': '32MB',\n",
       "   'Expandable storage': 'Yes',\n",
       "   'Expandable storage up to (GB)': '64'},\n",
       "  'Camera': {'Rear camera': '0.08-megapixel',\n",
       "   'No. of Rear Cameras': '1',\n",
       "   'Front camera': 'No'},\n",
       "  'Connectivity': {'Number of SIMs': '2',\n",
       "   'Active 4G on both SIM cards': 'No',\n",
       "   'SIM Type': 'Micro-SIM',\n",
       "   'GSM/CDMA': 'GSM'}}}"
      ]
     },
     "execution_count": 11,
     "metadata": {},
     "output_type": "execute_result"
    }
   ],
   "source": []
  },
  {
   "cell_type": "code",
   "execution_count": 3,
   "id": "90ec37a2-ba98-4eed-9ae9-e41ebf138ad3",
   "metadata": {},
   "outputs": [
    {
     "name": "stderr",
     "output_type": "stream",
     "text": [
      "/Users/amoghkulkarni/.local/share/virtualenvs/gadget-spec-bot-PKdu65VV/lib/python3.9/site-packages/tqdm/auto.py:21: TqdmWarning: IProgress not found. Please update jupyter and ipywidgets. See https://ipywidgets.readthedocs.io/en/stable/user_install.html\n",
      "  from .autonotebook import tqdm as notebook_tqdm\n"
     ]
    }
   ],
   "source": [
    "from tqdm.auto import tqdm"
   ]
  },
  {
   "cell_type": "code",
   "execution_count": 4,
   "id": "52636067-4c44-4161-95c3-03863595cd37",
   "metadata": {},
   "outputs": [],
   "source": [
    "from sentence_transformers import SentenceTransformer"
   ]
  },
  {
   "cell_type": "code",
   "execution_count": 21,
   "id": "eed81a75-ae29-4afe-aa78-122a020047d7",
   "metadata": {},
   "outputs": [
    {
     "name": "stderr",
     "output_type": "stream",
     "text": [
      "huggingface/tokenizers: The current process just got forked, after parallelism has already been used. Disabling parallelism to avoid deadlocks...\n",
      "To disable this warning, you can either:\n",
      "\t- Avoid using `tokenizers` before the fork if possible\n",
      "\t- Explicitly set the environment variable TOKENIZERS_PARALLELISM=(true | false)\n"
     ]
    },
    {
     "name": "stdout",
     "output_type": "stream",
     "text": [
      "sentence-transformers==2.7.0\n"
     ]
    }
   ],
   "source": [
    "!pip freeze | grep -i sentence"
   ]
  },
  {
   "cell_type": "code",
   "execution_count": 6,
   "id": "d1bae52f-f73b-47b9-ba27-342d4d79c346",
   "metadata": {},
   "outputs": [],
   "source": [
    "import numpy as np"
   ]
  },
  {
   "cell_type": "code",
   "execution_count": 4,
   "id": "d28f9d2b-6305-4265-8ac3-81e37225d6ca",
   "metadata": {},
   "outputs": [
    {
     "data": {
      "text/plain": [
       "'1.26.4'"
      ]
     },
     "execution_count": 4,
     "metadata": {},
     "output_type": "execute_result"
    }
   ],
   "source": [
    "np.__version__"
   ]
  },
  {
   "cell_type": "code",
   "execution_count": 8,
   "id": "0044eb67-9c29-499a-a55b-b3389ab07d44",
   "metadata": {},
   "outputs": [
    {
     "name": "stderr",
     "output_type": "stream",
     "text": [
      "/Users/amoghkulkarni/.local/share/virtualenvs/gadget-spec-bot-PKdu65VV/lib/python3.9/site-packages/transformers/tokenization_utils_base.py:1617: FutureWarning: `clean_up_tokenization_spaces` was not set. It will be set to `True` by default. This behavior will be deprecated in transformers v4.45, and will be then set to `False` by default. For more details check this issue: https://github.com/huggingface/transformers/issues/31884\n",
      "  warnings.warn(\n"
     ]
    }
   ],
   "source": [
    "model = SentenceTransformer(\"all-mpnet-base-v2\")"
   ]
  },
  {
   "cell_type": "code",
   "execution_count": 7,
   "id": "81febca6-3001-45c7-8b68-4c01f9f34d8c",
   "metadata": {},
   "outputs": [
    {
     "data": {
      "text/plain": [
       "768"
      ]
     },
     "execution_count": 7,
     "metadata": {},
     "output_type": "execute_result"
    }
   ],
   "source": [
    "len(model.encode(\"dizo-star-500\"))"
   ]
  },
  {
   "cell_type": "code",
   "execution_count": 30,
   "id": "dd83de9b-714c-4377-bdc3-0e7332cb93d0",
   "metadata": {},
   "outputs": [],
   "source": [
    "es_client = Elasticsearch('http://localhost:9200')"
   ]
  },
  {
   "cell_type": "code",
   "execution_count": 31,
   "id": "844d51a5-bea4-4b5a-9a2a-0f320c8a7e53",
   "metadata": {},
   "outputs": [
    {
     "data": {
      "text/plain": [
       "ObjectApiResponse({'name': '3ccafbf6ba75', 'cluster_name': 'docker-cluster', 'cluster_uuid': 'PjY-6oAsRiykpDnJfsyPLg', 'version': {'number': '8.4.3', 'build_flavor': 'default', 'build_type': 'docker', 'build_hash': '42f05b9372a9a4a470db3b52817899b99a76ee73', 'build_date': '2022-10-04T07:17:24.662462378Z', 'build_snapshot': False, 'lucene_version': '9.3.0', 'minimum_wire_compatibility_version': '7.17.0', 'minimum_index_compatibility_version': '7.0.0'}, 'tagline': 'You Know, for Search'})"
      ]
     },
     "execution_count": 31,
     "metadata": {},
     "output_type": "execute_result"
    }
   ],
   "source": [
    "es_client.info()"
   ]
  },
  {
   "cell_type": "code",
   "execution_count": 41,
   "id": "f96f47c0-99d8-43f8-b95b-06fd0c06f6bf",
   "metadata": {},
   "outputs": [],
   "source": [
    "index_settings = {\n",
    "    \"settings\": {\n",
    "        \"number_of_shards\": 1,\n",
    "        \"number_of_replicas\": 0\n",
    "    },\n",
    "    \"mappings\": {\n",
    "        \"properties\": {\n",
    "            \"company\": {\"type\": \"text\"},\n",
    "            \"name\": {\"type\": \"text\"},\n",
    "            \"specifications\": {\"type\": \"keyword\"} ,\n",
    "            \"specification_vector\": {\"type\": \"dense_vector\", \"dims\": 96, \"index\": True, \"similarity\": \"cosine\"},\n",
    "            \"name_vector\": {\"type\": \"dense_vector\", \"dims\": 96, \"index\": True, \"similarity\": \"cosine\"}\n",
    "        }\n",
    "    }\n",
    "}"
   ]
  },
  {
   "cell_type": "code",
   "execution_count": 64,
   "id": "7847573a-41c9-495c-8a65-27ef488b73f2",
   "metadata": {},
   "outputs": [
    {
     "data": {
      "text/plain": [
       "ObjectApiResponse({'acknowledged': True, 'shards_acknowledged': True, 'index': 'mobile-specifications'})"
      ]
     },
     "execution_count": 64,
     "metadata": {},
     "output_type": "execute_result"
    }
   ],
   "source": [
    "index_name = \"mobile-specifications\"\n",
    "if es_client.indices.exists(index=index_name):\n",
    "    es_client.indices.delete(index=index_name)\n",
    "es_client.indices.create(index=index_name, body=index_settings)"
   ]
  },
  {
   "cell_type": "code",
   "execution_count": 18,
   "id": "57b44736-1976-46d1-9613-6df8a6b4f5dc",
   "metadata": {},
   "outputs": [
    {
     "name": "stderr",
     "output_type": "stream",
     "text": [
      "100%|█████████████████████████████████████████████████████████████████████████████████████████████████████████████████████████████████████████████████████████████████████████████████████████████████████| 179/179 [00:00<00:00, 2050.52it/s]\n"
     ]
    }
   ],
   "source": [
    "mobile_specs_rows = []\n",
    "\n",
    "for each_mobile_company in tqdm(mobile_specs_data):\n",
    "    for each_mobile in mobile_specs_data[each_mobile_company]:\n",
    "        temp_mobile_dictionary = {\n",
    "            'company': each_mobile_company,\n",
    "            'name': each_mobile,\n",
    "            'specifications': json.dumps(mobile_specs_data[each_mobile_company][each_mobile])\n",
    "        }\n",
    "        mobile_specs_rows.append(temp_mobile_dictionary)"
   ]
  },
  {
   "cell_type": "markdown",
   "id": "e04bceb5-fa7d-4929-82c3-a9dbeed9df9f",
   "metadata": {
    "jp-MarkdownHeadingCollapsed": true
   },
   "source": [
    "### This was where I screwed up the logic of dictionary references"
   ]
  },
  {
   "cell_type": "code",
   "execution_count": 20,
   "id": "87713138-36bd-413b-b5ab-ea3ff9ea872a",
   "metadata": {},
   "outputs": [
    {
     "name": "stderr",
     "output_type": "stream",
     "text": [
      "100%|█████████████████████████████████████████████████████████████████████████████████████████████████████████████████████████████████████████████████████████████████████████████████████████████████████| 179/179 [00:00<00:00, 3065.81it/s]\n"
     ]
    }
   ],
   "source": [
    "mobile_specs_rows = []\n",
    "\n",
    "for each_mobile_company in tqdm(mobile_specs_data):\n",
    "    temp_mobile_dictionary = {\n",
    "        'company': each_mobile_company\n",
    "    }\n",
    "    for each_mobile in mobile_specs_data[each_mobile_company]:\n",
    "        temp_mobile_dictionary.update({ 'name': each_mobile })\n",
    "        temp_mobile_dictionary.update({ 'specifications': json.dumps(mobile_specs_data[each_mobile_company][each_mobile]) })\n",
    "        mobile_specs_rows.append(temp_mobile_dictionary)"
   ]
  },
  {
   "cell_type": "code",
   "execution_count": 136,
   "id": "de60f9c6-3ff1-4294-8f54-861eb7e9e1da",
   "metadata": {},
   "outputs": [],
   "source": [
    "company = '10-or-phones'\n",
    "temp_dict = {\n",
    "    'company': company\n",
    "}"
   ]
  },
  {
   "cell_type": "code",
   "execution_count": 137,
   "id": "c1dc3f77-05c9-4ac2-b601-6d9f1934e7cb",
   "metadata": {},
   "outputs": [],
   "source": [
    "mob_1 = '10.or-e'"
   ]
  },
  {
   "cell_type": "code",
   "execution_count": 138,
   "id": "578e1ce5-c673-41b5-b0d3-ec720ed06650",
   "metadata": {},
   "outputs": [],
   "source": [
    "mob_2 = '10.or-g2'"
   ]
  },
  {
   "cell_type": "code",
   "execution_count": 139,
   "id": "de230ce9-8f74-4f65-929d-b8728247b70e",
   "metadata": {},
   "outputs": [],
   "source": [
    "temp_dict.update({ 'name': mob_1 })\n",
    "temp_dict.update({ 'specifications': json.dumps(mobile_specs_data[company][mob_1]) })"
   ]
  },
  {
   "cell_type": "code",
   "execution_count": 140,
   "id": "7a39aefc-b9e1-4ca3-9e4e-b340eb49ef41",
   "metadata": {},
   "outputs": [],
   "source": [
    "new_list = []"
   ]
  },
  {
   "cell_type": "code",
   "execution_count": 141,
   "id": "c30237b6-41f5-4c7d-8944-070d10075d86",
   "metadata": {},
   "outputs": [],
   "source": [
    "new_list.append(temp_dict)"
   ]
  },
  {
   "cell_type": "code",
   "execution_count": 142,
   "id": "59be2ac9-ce7c-4697-a6b7-0bc11f760621",
   "metadata": {},
   "outputs": [
    {
     "data": {
      "text/plain": [
       "{'company': '10-or-phones',\n",
       " 'name': '10.or-e',\n",
       " 'specifications': '{\"General\": {\"Brand\": \"10.or\", \"Model\": \"E\", \"Price in India\": \"\\\\u20b94,999\", \"Release date\": \"September 2017\", \"Form factor\": \"Touchscreen\", \"Battery capacity (mAh)\": \"4000\", \"Removable battery\": \"No\", \"Colours\": \"Aim Gold, Beyond Black\"}, \"Display\": {\"Screen size (inches)\": \"5.50\", \"Touchscreen\": \"Yes\", \"Resolution\": \"1080x1920 pixels\"}, \"Hardware\": {\"Processor\": \"octa-core\", \"Processor make\": \"Qualcomm Snapdragon 430\", \"RAM\": \"2GB\", \"Internal storage\": \"16GB\", \"Expandable storage\": \"Yes\", \"Expandable storage type\": \"microSD\", \"Expandable storage up to (GB)\": \"128\"}, \"Camera\": {\"Rear camera\": \"13-megapixel\", \"Rear flash\": \"Yes\", \"Front camera\": \"5-megapixel\", \"Front flash\": \"Yes\"}, \"Software\": {\"Operating system\": \"Android 7.1.2\"}, \"Connectivity\": {\"Wi-Fi\": \"Yes\", \"Wi-Fi standards supported\": \"802.11 b/g/n\", \"GPS\": \"Yes\", \"Bluetooth\": \"Yes\", \"NFC\": \"No\", \"Infrared\": \"No\", \"USB OTG\": \"No\", \"FM\": \"No\", \"Number of SIMs\": \"2\", \"Wi-Fi Direct\": \"No\", \"Mobile High-Definition Link (MHL)\": \"No\", \"GSM/CDMA\": \"GSM\", \"3G\": \"Yes\", \"4G/ LTE\": \"Yes\", \"Supports 4G in India (Band 40)\": \"Yes\"}, \"Sensors\": {\"Compass/ Magnetometer\": \"No\", \"Proximity sensor\": \"Yes\", \"Accelerometer\": \"Yes\", \"Ambient light sensor\": \"Yes\", \"Gyroscope\": \"No\", \"Barometer\": \"No\", \"Temperature sensor\": \"No\"}}'}"
      ]
     },
     "execution_count": 142,
     "metadata": {},
     "output_type": "execute_result"
    }
   ],
   "source": [
    "temp_dict"
   ]
  },
  {
   "cell_type": "code",
   "execution_count": 144,
   "id": "f79c6d69-e6cf-44d3-bc13-5e22760950ef",
   "metadata": {},
   "outputs": [],
   "source": [
    "temp_dict.update({ 'name': mob_2 })\n",
    "temp_dict.update({ 'specifications': json.dumps(mobile_specs_data[company][mob_2]) })"
   ]
  },
  {
   "cell_type": "code",
   "execution_count": 145,
   "id": "8c07e0c0-3b94-4b17-8998-5543a50c0040",
   "metadata": {},
   "outputs": [
    {
     "data": {
      "text/plain": [
       "{'company': '10-or-phones',\n",
       " 'name': '10.or-g2',\n",
       " 'specifications': '{\"General\": {\"Brand\": \"10.or\", \"Model\": \"G2\", \"Price in India\": \"\\\\u20b97,999\", \"Release date\": \"28th June 2019\", \"Launched in India\": \"Yes\", \"Form factor\": \"Touchscreen\", \"Battery capacity (mAh)\": \"5000\", \"Fast charging\": \"Proprietary\", \"Colours\": \"Charcoal Black, Twilight Blue\"}, \"Display\": {\"Screen size (inches)\": \"6.18\", \"Touchscreen\": \"Yes\", \"Resolution\": \"1080x2246 pixels\", \"Protection type\": \"Gorilla Glass\", \"Aspect ratio\": \"19:9\"}, \"Hardware\": {\"Processor\": \"octa-core\", \"Processor make\": \"Qualcomm Snapdragon 636\", \"RAM\": \"4GB\", \"Internal storage\": \"64GB\", \"Expandable storage\": \"Yes\", \"Expandable storage type\": \"microSD\", \"Expandable storage up to (GB)\": \"256\", \"Dedicated microSD slot\": \"Yes\"}, \"Camera\": {\"Rear camera\": \"16-megapixel + 5-megapixel\", \"Rear autofocus\": \"Yes\", \"Rear flash\": \"Dual LED\", \"Front camera\": \"12-megapixel\"}, \"Software\": {\"Operating system\": \"Android\"}, \"Connectivity\": {\"Wi-Fi\": \"Yes\", \"Wi-Fi standards supported\": \"802.11 b/g/n\", \"GPS\": \"Yes\", \"Bluetooth\": \"Yes\", \"Micro-USB\": \"Yes\", \"Number of SIMs\": \"2\", \"SIM Type\": \"Nano-SIM\", \"GSM/CDMA\": \"GSM\", \"3G\": \"Yes\", \"4G/ LTE\": \"Yes\", \"Supports 4G in India (Band 40)\": \"Yes\"}, \"Sensors\": {\"Proximity sensor\": \"Yes\", \"Accelerometer\": \"Yes\", \"Ambient light sensor\": \"Yes\", \"Gyroscope\": \"Yes\"}}'}"
      ]
     },
     "execution_count": 145,
     "metadata": {},
     "output_type": "execute_result"
    }
   ],
   "source": [
    "temp_dict"
   ]
  },
  {
   "cell_type": "code",
   "execution_count": 146,
   "id": "22a1b90b-80e5-40da-92fb-65b34d74494d",
   "metadata": {},
   "outputs": [
    {
     "data": {
      "text/plain": [
       "[{'company': '10-or-phones',\n",
       "  'name': '10.or-g2',\n",
       "  'specifications': '{\"General\": {\"Brand\": \"10.or\", \"Model\": \"G2\", \"Price in India\": \"\\\\u20b97,999\", \"Release date\": \"28th June 2019\", \"Launched in India\": \"Yes\", \"Form factor\": \"Touchscreen\", \"Battery capacity (mAh)\": \"5000\", \"Fast charging\": \"Proprietary\", \"Colours\": \"Charcoal Black, Twilight Blue\"}, \"Display\": {\"Screen size (inches)\": \"6.18\", \"Touchscreen\": \"Yes\", \"Resolution\": \"1080x2246 pixels\", \"Protection type\": \"Gorilla Glass\", \"Aspect ratio\": \"19:9\"}, \"Hardware\": {\"Processor\": \"octa-core\", \"Processor make\": \"Qualcomm Snapdragon 636\", \"RAM\": \"4GB\", \"Internal storage\": \"64GB\", \"Expandable storage\": \"Yes\", \"Expandable storage type\": \"microSD\", \"Expandable storage up to (GB)\": \"256\", \"Dedicated microSD slot\": \"Yes\"}, \"Camera\": {\"Rear camera\": \"16-megapixel + 5-megapixel\", \"Rear autofocus\": \"Yes\", \"Rear flash\": \"Dual LED\", \"Front camera\": \"12-megapixel\"}, \"Software\": {\"Operating system\": \"Android\"}, \"Connectivity\": {\"Wi-Fi\": \"Yes\", \"Wi-Fi standards supported\": \"802.11 b/g/n\", \"GPS\": \"Yes\", \"Bluetooth\": \"Yes\", \"Micro-USB\": \"Yes\", \"Number of SIMs\": \"2\", \"SIM Type\": \"Nano-SIM\", \"GSM/CDMA\": \"GSM\", \"3G\": \"Yes\", \"4G/ LTE\": \"Yes\", \"Supports 4G in India (Band 40)\": \"Yes\"}, \"Sensors\": {\"Proximity sensor\": \"Yes\", \"Accelerometer\": \"Yes\", \"Ambient light sensor\": \"Yes\", \"Gyroscope\": \"Yes\"}}'}]"
      ]
     },
     "execution_count": 146,
     "metadata": {},
     "output_type": "execute_result"
    }
   ],
   "source": [
    "new_list"
   ]
  },
  {
   "cell_type": "code",
   "execution_count": 147,
   "id": "5d3b1c4e-4bf5-4304-b866-404657a727c7",
   "metadata": {},
   "outputs": [
    {
     "data": {
      "text/plain": [
       "[{'company': '10-or-phones',\n",
       "  'name': '10.or-g2',\n",
       "  'specifications': '{\"General\": {\"Brand\": \"10.or\", \"Model\": \"G2\", \"Price in India\": \"\\\\u20b97,999\", \"Release date\": \"28th June 2019\", \"Launched in India\": \"Yes\", \"Form factor\": \"Touchscreen\", \"Battery capacity (mAh)\": \"5000\", \"Fast charging\": \"Proprietary\", \"Colours\": \"Charcoal Black, Twilight Blue\"}, \"Display\": {\"Screen size (inches)\": \"6.18\", \"Touchscreen\": \"Yes\", \"Resolution\": \"1080x2246 pixels\", \"Protection type\": \"Gorilla Glass\", \"Aspect ratio\": \"19:9\"}, \"Hardware\": {\"Processor\": \"octa-core\", \"Processor make\": \"Qualcomm Snapdragon 636\", \"RAM\": \"4GB\", \"Internal storage\": \"64GB\", \"Expandable storage\": \"Yes\", \"Expandable storage type\": \"microSD\", \"Expandable storage up to (GB)\": \"256\", \"Dedicated microSD slot\": \"Yes\"}, \"Camera\": {\"Rear camera\": \"16-megapixel + 5-megapixel\", \"Rear autofocus\": \"Yes\", \"Rear flash\": \"Dual LED\", \"Front camera\": \"12-megapixel\"}, \"Software\": {\"Operating system\": \"Android\"}, \"Connectivity\": {\"Wi-Fi\": \"Yes\", \"Wi-Fi standards supported\": \"802.11 b/g/n\", \"GPS\": \"Yes\", \"Bluetooth\": \"Yes\", \"Micro-USB\": \"Yes\", \"Number of SIMs\": \"2\", \"SIM Type\": \"Nano-SIM\", \"GSM/CDMA\": \"GSM\", \"3G\": \"Yes\", \"4G/ LTE\": \"Yes\", \"Supports 4G in India (Band 40)\": \"Yes\"}, \"Sensors\": {\"Proximity sensor\": \"Yes\", \"Accelerometer\": \"Yes\", \"Ambient light sensor\": \"Yes\", \"Gyroscope\": \"Yes\"}}'},\n",
       " {'company': '10-or-phones',\n",
       "  'name': '10.or-g2',\n",
       "  'specifications': '{\"General\": {\"Brand\": \"10.or\", \"Model\": \"G2\", \"Price in India\": \"\\\\u20b97,999\", \"Release date\": \"28th June 2019\", \"Launched in India\": \"Yes\", \"Form factor\": \"Touchscreen\", \"Battery capacity (mAh)\": \"5000\", \"Fast charging\": \"Proprietary\", \"Colours\": \"Charcoal Black, Twilight Blue\"}, \"Display\": {\"Screen size (inches)\": \"6.18\", \"Touchscreen\": \"Yes\", \"Resolution\": \"1080x2246 pixels\", \"Protection type\": \"Gorilla Glass\", \"Aspect ratio\": \"19:9\"}, \"Hardware\": {\"Processor\": \"octa-core\", \"Processor make\": \"Qualcomm Snapdragon 636\", \"RAM\": \"4GB\", \"Internal storage\": \"64GB\", \"Expandable storage\": \"Yes\", \"Expandable storage type\": \"microSD\", \"Expandable storage up to (GB)\": \"256\", \"Dedicated microSD slot\": \"Yes\"}, \"Camera\": {\"Rear camera\": \"16-megapixel + 5-megapixel\", \"Rear autofocus\": \"Yes\", \"Rear flash\": \"Dual LED\", \"Front camera\": \"12-megapixel\"}, \"Software\": {\"Operating system\": \"Android\"}, \"Connectivity\": {\"Wi-Fi\": \"Yes\", \"Wi-Fi standards supported\": \"802.11 b/g/n\", \"GPS\": \"Yes\", \"Bluetooth\": \"Yes\", \"Micro-USB\": \"Yes\", \"Number of SIMs\": \"2\", \"SIM Type\": \"Nano-SIM\", \"GSM/CDMA\": \"GSM\", \"3G\": \"Yes\", \"4G/ LTE\": \"Yes\", \"Supports 4G in India (Band 40)\": \"Yes\"}, \"Sensors\": {\"Proximity sensor\": \"Yes\", \"Accelerometer\": \"Yes\", \"Ambient light sensor\": \"Yes\", \"Gyroscope\": \"Yes\"}}'}]"
      ]
     },
     "execution_count": 147,
     "metadata": {},
     "output_type": "execute_result"
    }
   ],
   "source": [
    "new_list.append(temp_dict)\n",
    "new_list"
   ]
  },
  {
   "cell_type": "markdown",
   "id": "072808ee-e60d-403c-bd61-d5f178924051",
   "metadata": {},
   "source": [
    "### screw up ends"
   ]
  },
  {
   "cell_type": "code",
   "execution_count": 33,
   "id": "23d92e3a-c154-40f8-b4a3-71bb4c017074",
   "metadata": {},
   "outputs": [
    {
     "name": "stderr",
     "output_type": "stream",
     "text": [
      "100%|█████████████████████████████████████████████████████████████████████████████████████████████████████████████████████████████████████████████████████████████████████████████████████████████████████| 2096/2096 [27:37<00:00,  1.26it/s]\n"
     ]
    }
   ],
   "source": [
    "for each_mobile in tqdm(mobile_specs_rows):\n",
    "    each_mobile['specification_vector'] = model.encode(each_mobile['specifications']).tolist()"
   ]
  },
  {
   "cell_type": "code",
   "execution_count": 25,
   "id": "d9899b31-0b71-47b8-976e-18dd6edecbc0",
   "metadata": {},
   "outputs": [
    {
     "name": "stderr",
     "output_type": "stream",
     "text": [
      "100%|█████████████████████████████████████████████████████████████████████████████████████████████████████████████████████████████████████████████████████████████████████████████████████████████████████| 2096/2096 [03:58<00:00,  8.80it/s]\n"
     ]
    }
   ],
   "source": [
    "for each_mobile in tqdm(mobile_specs_rows):\n",
    "    each_mobile['name_vector'] = model.encode(each_mobile['name']).tolist()"
   ]
  },
  {
   "cell_type": "code",
   "execution_count": 26,
   "id": "d9cccfe6-f15a-4f64-ad6a-e0baf796d64f",
   "metadata": {},
   "outputs": [
    {
     "name": "stderr",
     "output_type": "stream",
     "text": [
      "100%|████████████████████████████████████████████████████████████████████████████████████████████████████████████████████████████████████████████████████████████████████████████████████████████████████| 2096/2096 [00:19<00:00, 107.98it/s]\n"
     ]
    }
   ],
   "source": [
    "for doc in tqdm(mobile_specs_rows):\n",
    "    es_client.index(index=index_name, document=doc)"
   ]
  },
  {
   "cell_type": "code",
   "execution_count": 9,
   "id": "b773dbde-95cf-4bc7-aca1-5760ad2b9449",
   "metadata": {},
   "outputs": [],
   "source": [
    "search_term = 'iphone-16-pro'\n",
    "vector_search_term = model.encode(search_term)"
   ]
  },
  {
   "cell_type": "code",
   "execution_count": 15,
   "id": "a610a0aa-9504-4903-b15e-d60494a528e8",
   "metadata": {},
   "outputs": [],
   "source": [
    "knn_query = {\n",
    "    \"field\": \"specification_vector\",\n",
    "    \"query_vector\": vector_search_term,\n",
    "    \"k\": 5,\n",
    "    \"num_candidates\": 10000\n",
    "}"
   ]
  },
  {
   "cell_type": "code",
   "execution_count": 16,
   "id": "832e10d5-ae83-4e9a-85ef-198eeb79c466",
   "metadata": {},
   "outputs": [],
   "source": [
    "index_name = \"mobile-specifications\""
   ]
  },
  {
   "cell_type": "code",
   "execution_count": 17,
   "id": "9b085804-989e-48b2-ae37-e9b64fbd32cd",
   "metadata": {},
   "outputs": [],
   "source": [
    "res = es_client.search(index=index_name,knn=knn_query, source=[\"name\", \"specifications\", \"company\"], size=10)"
   ]
  },
  {
   "cell_type": "code",
   "execution_count": 18,
   "id": "4e589f37-180e-4007-8920-fc766944e3bf",
   "metadata": {},
   "outputs": [
    {
     "data": {
      "text/plain": [
       "{'total': {'value': 5, 'relation': 'eq'},\n",
       " 'max_score': 0.8278189,\n",
       " 'hits': [{'_index': 'mobile-specifications',\n",
       "   '_id': 'GcbuXJIBzLYN4yyb7iVc',\n",
       "   '_score': 0.8278189,\n",
       "   '_source': {'name': 'iphone-16-pro-max',\n",
       "    'company': 'apple-phones',\n",
       "    'specifications': '{\"General\": {\"Brand\": \"Apple\", \"Model\": \"iPhone 16 Pro Max\", \"Price in India\": \"\\\\u20b9164,900\", \"Release date\": \"9th September 2024\", \"Launched in India\": \"Yes\", \"Form factor\": \"Touchscreen\", \"Dimensions (mm)\": \"163.00 x 77.60 x 8.25\", \"Weight (g)\": \"227.00\", \"IP rating\": \"IP68\", \"Removable battery\": \"No\", \"Wireless charging\": \"Yes\", \"Wireless Charging Type\": \"Qi 2, MagSafe\", \"Colours\": \"Black Titanium, Natural Titanium, White Titanium, Desert Titanium\"}, \"Display\": {\"Refresh Rate\": \"120 Hz\", \"Screen size (inches)\": \"6.90\", \"Touchscreen\": \"Yes\", \"Resolution\": \"1320x2868 pixels\", \"Pixels per inch (PPI)\": \"460\"}, \"Hardware\": {\"Processor\": \"hexa-core\", \"Processor make\": \"Apple A18 Pro\", \"RAM\": \"8GB\", \"Internal storage\": \"256GB, 512GB, 1TB\", \"Expandable storage\": \"No\", \"Expandable storage type\": \"No\"}, \"Camera\": {\"Rear camera\": \"48-megapixel (f/1.78) + 12-megapixel (f/2.8) + 48-megapixel (f/2.2)\", \"No. of Rear Cameras\": \"3\", \"Front camera\": \"12-megapixel (f/1.9)\", \"No. of Front Cameras\": \"1\", \"Lens Type (Second Rear Camera)\": \"Telephoto\", \"Lens Type (Third Rear Camera)\": \"Ultra Wide-Angle\"}, \"Software\": {\"Operating system\": \"iOS 18\"}, \"Connectivity\": {\"Wi-Fi 7\": \"Yes\", \"Wi-Fi\": \"Yes\", \"Wi-Fi standards supported\": \"802.11 b/g/n/ac/ax\", \"GPS\": \"Yes\", \"Bluetooth\": \"Yes, v 5.30\", \"NFC\": \"Yes\", \"Infrared\": \"No\", \"USB Type-C\": \"Yes\", \"Headphones\": \"Type-C\", \"Number of SIMs\": \"2\", \"Active 4G on both SIM cards\": \"Yes\", \"SIM Type\": \"eSIM\", \"GSM/CDMA\": \"GSM\", \"3G\": \"Yes\", \"4G/ LTE\": \"Yes\", \"5G\": \"Yes\", \"Supports 4G in India (Band 40)\": \"Yes\"}, \"Sensors\": {\"3D face recognition\": \"Yes\", \"Compass/ Magnetometer\": \"Yes\", \"Proximity sensor\": \"Yes\", \"Accelerometer\": \"Yes\", \"Ambient light sensor\": \"Yes\", \"Gyroscope\": \"Yes\", \"Barometer\": \"Yes\"}}'}},\n",
       "  {'_index': 'mobile-specifications',\n",
       "   '_id': 'GMbuXJIBzLYN4yyb7iVT',\n",
       "   '_score': 0.82673794,\n",
       "   '_source': {'name': 'iphone-16-pro',\n",
       "    'company': 'apple-phones',\n",
       "    'specifications': '{\"General\": {\"Brand\": \"Apple\", \"Model\": \"iPhone 16 Pro\", \"Price in India\": \"\\\\u20b9129,900\", \"Release date\": \"9th September 2024\", \"Launched in India\": \"Yes\", \"Form factor\": \"Touchscreen\", \"Dimensions (mm)\": \"149.60 x 71.50 x 8.25\", \"Weight (g)\": \"199.00\", \"IP rating\": \"IP68\", \"Removable battery\": \"No\", \"Wireless charging\": \"Yes\", \"Wireless Charging Type\": \"Qi 2, MagSafe\", \"Colours\": \"Black Titanium, Natural Titanium, White Titanium, Desert Titanium\"}, \"Display\": {\"Refresh Rate\": \"120 Hz\", \"Screen size (inches)\": \"6.30\", \"Touchscreen\": \"Yes\", \"Resolution\": \"1206x2622 pixels\", \"Pixels per inch (PPI)\": \"460\"}, \"Hardware\": {\"Processor\": \"hexa-core\", \"Processor make\": \"Apple A18 Pro\", \"RAM\": \"8GB\", \"Internal storage\": \"128GB, 256GB, 512GB, 1TB\", \"Expandable storage\": \"No\", \"Expandable storage type\": \"No\"}, \"Camera\": {\"Rear camera\": \"48-megapixel (f/1.78) + 12-megapixel (f/2.8) + 48-megapixel (f/2.2)\", \"No. of Rear Cameras\": \"3\", \"Front camera\": \"12-megapixel (f/1.9)\", \"No. of Front Cameras\": \"1\", \"Lens Type (Second Rear Camera)\": \"Telephoto\", \"Lens Type (Third Rear Camera)\": \"Ultra Wide-Angle\"}, \"Software\": {\"Operating system\": \"iOS 18\"}, \"Connectivity\": {\"Wi-Fi 7\": \"Yes\", \"Wi-Fi\": \"Yes\", \"Wi-Fi standards supported\": \"802.11 b/g/n/ac/ax\", \"GPS\": \"Yes\", \"Bluetooth\": \"Yes, v 5.30\", \"NFC\": \"Yes\", \"Infrared\": \"No\", \"USB Type-C\": \"Yes\", \"Headphones\": \"Type-C\", \"Number of SIMs\": \"2\", \"Active 4G on both SIM cards\": \"Yes\", \"SIM Type\": \"eSIM\", \"GSM/CDMA\": \"GSM\", \"3G\": \"Yes\", \"4G/ LTE\": \"Yes\", \"5G\": \"Yes\", \"Supports 4G in India (Band 40)\": \"Yes\"}, \"Sensors\": {\"3D face recognition\": \"Yes\", \"Compass/ Magnetometer\": \"Yes\", \"Proximity sensor\": \"Yes\", \"Accelerometer\": \"Yes\", \"Ambient light sensor\": \"Yes\", \"Gyroscope\": \"Yes\", \"Barometer\": \"Yes\"}}'}},\n",
       "  {'_index': 'mobile-specifications',\n",
       "   '_id': 'GsbuXJIBzLYN4yyb7iVm',\n",
       "   '_score': 0.8056419,\n",
       "   '_source': {'name': 'iphone-16-plus',\n",
       "    'company': 'apple-phones',\n",
       "    'specifications': '{\"General\": {\"Brand\": \"Apple\", \"Model\": \"iPhone 16 Plus\", \"Price in India\": \"\\\\u20b989,900\", \"Release date\": \"9th September 2024\", \"Launched in India\": \"Yes\", \"Form factor\": \"Touchscreen\", \"Dimensions (mm)\": \"160.90 x 77.80 x 7.80\", \"Weight (g)\": \"199.00\", \"IP rating\": \"IP68\", \"Removable battery\": \"No\", \"Wireless charging\": \"Yes\", \"Colours\": \"Black, White, Pink, Teal, Ultramarine\"}, \"Display\": {\"Refresh Rate\": \"60 Hz\", \"Screen size (inches)\": \"6.70\", \"Touchscreen\": \"Yes\", \"Resolution\": \"1290x2796 pixels\", \"Pixels per inch (PPI)\": \"460\"}, \"Hardware\": {\"Processor\": \"hexa-core\", \"Processor make\": \"Apple A18\", \"RAM\": \"8GB\", \"Internal storage\": \"128GB, 256GB, 512GB\", \"Expandable storage\": \"No\", \"Expandable storage type\": \"No\"}, \"Camera\": {\"Rear camera\": \"48-megapixel (f/1.6) + 12-megapixel (f/2.2)\", \"No. of Rear Cameras\": \"2\", \"Front camera\": \"12-megapixel (f/1.9)\", \"No. of Front Cameras\": \"1\", \"Lens Type (Second Rear Camera)\": \"Ultra Wide-Angle\"}, \"Software\": {\"Operating system\": \"iOS 18\"}, \"Connectivity\": {\"Wi-Fi\": \"Yes\", \"Wi-Fi standards supported\": \"802.11 b/g/n/ac/ax\", \"GPS\": \"Yes\", \"Bluetooth\": \"Yes, v 5.30\", \"NFC\": \"Yes\", \"Infrared\": \"No\", \"USB Type-C\": \"Yes\", \"Headphones\": \"Type-C\", \"Number of SIMs\": \"2\", \"Active 4G on both SIM cards\": \"Yes\", \"SIM Type\": \"eSIM\", \"GSM/CDMA\": \"GSM\", \"3G\": \"Yes\", \"4G/ LTE\": \"Yes\", \"5G\": \"Yes\", \"Supports 4G in India (Band 40)\": \"Yes\"}, \"Sensors\": {\"3D face recognition\": \"Yes\", \"Compass/ Magnetometer\": \"Yes\", \"Proximity sensor\": \"Yes\", \"Accelerometer\": \"Yes\", \"Ambient light sensor\": \"Yes\", \"Gyroscope\": \"Yes\", \"Barometer\": \"Yes\"}}'}},\n",
       "  {'_index': 'mobile-specifications',\n",
       "   '_id': 'G8buXJIBzLYN4yyb7iV0',\n",
       "   '_score': 0.79912925,\n",
       "   '_source': {'name': 'iphone-16',\n",
       "    'company': 'apple-phones',\n",
       "    'specifications': '{\"General\": {\"Brand\": \"Apple\", \"Model\": \"iPhone 16\", \"Price in India\": \"\\\\u20b979,900\", \"Release date\": \"9th September 2024\", \"Launched in India\": \"Yes\", \"Form factor\": \"Touchscreen\", \"Dimensions (mm)\": \"147.60 x 71.60 x 7.80\", \"Weight (g)\": \"170.00\", \"IP rating\": \"IP68\", \"Removable battery\": \"No\", \"Wireless charging\": \"Yes\", \"Colours\": \"Black, White, Pink, Teal, Ultramarine\"}, \"Display\": {\"Refresh Rate\": \"60 Hz\", \"Screen size (inches)\": \"6.10\", \"Touchscreen\": \"Yes\", \"Resolution\": \"1179x2556 pixels\", \"Pixels per inch (PPI)\": \"460\"}, \"Hardware\": {\"Processor\": \"hexa-core\", \"Processor make\": \"Apple A18\", \"RAM\": \"8GB\", \"Internal storage\": \"128GB, 256GB, 512GB\", \"Expandable storage\": \"No\", \"Expandable storage type\": \"No\"}, \"Camera\": {\"Rear camera\": \"48-megapixel (f/1.6) + 12-megapixel (f/2.2)\", \"No. of Rear Cameras\": \"2\", \"No. of Front Cameras\": \"1\", \"Lens Type (Second Rear Camera)\": \"Ultra Wide-Angle\", \"Front camera\": \"12-megapixel (f/1.9)\"}, \"Software\": {\"Operating system\": \"iOS 18\"}, \"Connectivity\": {\"Wi-Fi\": \"Yes\", \"Wi-Fi standards supported\": \"802.11 b/g/n/ac/ax\", \"GPS\": \"Yes\", \"Bluetooth\": \"Yes, v 5.30\", \"NFC\": \"Yes\", \"Infrared\": \"No\", \"USB Type-C\": \"Yes\", \"Headphones\": \"Type-C\", \"Number of SIMs\": \"2\", \"Active 4G on both SIM cards\": \"Yes\", \"SIM Type\": \"Nano-SIM\", \"GSM/CDMA\": \"GSM\", \"3G\": \"Yes\", \"4G/ LTE\": \"Yes\", \"5G\": \"Yes\", \"Supports 4G in India (Band 40)\": \"Yes\"}, \"Sensors\": {\"3D face recognition\": \"Yes\", \"Compass/ Magnetometer\": \"Yes\", \"Proximity sensor\": \"Yes\", \"Accelerometer\": \"Yes\", \"Ambient light sensor\": \"Yes\", \"Gyroscope\": \"Yes\", \"Barometer\": \"Yes\"}}'}},\n",
       "  {'_index': 'mobile-specifications',\n",
       "   '_id': 'IsbuXJIBzLYN4yyb7iW7',\n",
       "   '_score': 0.7815254,\n",
       "   '_source': {'name': 'iphone-14-pro',\n",
       "    'company': 'apple-phones',\n",
       "    'specifications': '{\"General\": {\"Brand\": \"Apple\", \"Model\": \"iPhone 14 Pro\", \"Price in India\": \"\\\\u20b9130,999\", \"Release date\": \"7th September 2022\", \"Launched in India\": \"Yes\", \"Form factor\": \"Touchscreen\", \"Dimensions (mm)\": \"147.50 x 71.50 x 7.85\", \"Weight (g)\": \"206.00\", \"IP rating\": \"IP68\", \"Removable battery\": \"No\", \"Fast charging\": \"Proprietary\", \"Wireless charging\": \"Yes\", \"Colours\": \"Deep Purple, Gold, Silver, Space Black\"}, \"Display\": {\"Refresh Rate\": \"120 Hz\", \"Screen size (inches)\": \"6.10\", \"Touchscreen\": \"Yes\", \"Resolution\": \"1179x2556 pixels\"}, \"Hardware\": {\"Processor\": \"hexa-core\", \"Processor make\": \"Apple A16 Bionic\", \"RAM\": \"6GB\", \"Internal storage\": \"128GB, 256GB, 512GB, 1TB\", \"Expandable storage\": \"No\", \"Dedicated microSD slot\": \"No\"}, \"Camera\": {\"Rear camera\": \"48-megapixel (f/1.78) + 12-megapixel (f/2.2) + 12-megapixel (f/2.8)\", \"No. of Rear Cameras\": \"3\", \"Front camera\": \"12-megapixel (f/1.9)\", \"No. of Front Cameras\": \"1\"}, \"Software\": {\"Operating system\": \"iOS 16\"}, \"Connectivity\": {\"Wi-Fi\": \"Yes\", \"Wi-Fi standards supported\": \"802.11 a/b/g/n/ac/ax\", \"GPS\": \"Yes\", \"Bluetooth\": \"Yes, v 5.30\", \"Lightning\": \"Yes\", \"Headphones\": \"No\", \"Number of SIMs\": \"2\", \"Active 4G on both SIM cards\": \"Yes\", \"SIM Type\": \"eSIM\", \"GSM/CDMA\": \"GSM\", \"3G\": \"Yes\", \"4G/ LTE\": \"Yes\", \"5G\": \"Yes\", \"Supports 4G in India (Band 40)\": \"Yes\"}, \"Sensors\": {\"3D face recognition\": \"Yes\", \"Compass/ Magnetometer\": \"Yes\", \"Proximity sensor\": \"Yes\", \"Accelerometer\": \"Yes\", \"Ambient light sensor\": \"Yes\", \"Gyroscope\": \"Yes\", \"Barometer\": \"Yes\"}}'}}]}"
      ]
     },
     "execution_count": 18,
     "metadata": {},
     "output_type": "execute_result"
    }
   ],
   "source": [
    "res['hits']"
   ]
  },
  {
   "cell_type": "code",
   "execution_count": 94,
   "id": "116f616f-33ad-417f-9205-f8dc95809e2e",
   "metadata": {},
   "outputs": [
    {
     "name": "stderr",
     "output_type": "stream",
     "text": [
      "/var/folders/zw/mqwlds_s7ml5_fvqptkb174h0000gn/T/ipykernel_87975/1282795516.py:1: DeprecationWarning: The 'params' parameter is deprecated and will be removed in a future version. Instead use individual parameters.\n",
      "  es_client.cat.count(index=index_name, params={\"format\": \"json\"})\n"
     ]
    },
    {
     "data": {
      "text/plain": [
       "ListApiResponse([{'epoch': '1727149402', 'timestamp': '03:43:22', 'count': '0'}])"
      ]
     },
     "execution_count": 94,
     "metadata": {},
     "output_type": "execute_result"
    }
   ],
   "source": [
    "es_client.cat.count(index=index_name, params={\"format\": \"json\"})"
   ]
  },
  {
   "cell_type": "code",
   "execution_count": null,
   "id": "8076895b-53b3-4a85-843e-212a9ea64259",
   "metadata": {},
   "outputs": [],
   "source": [
    "res[\"hits\"]"
   ]
  },
  {
   "cell_type": "markdown",
   "id": "a176552e-0e79-4bb5-bfe1-f92eec4f1311",
   "metadata": {},
   "source": [
    "## Mobile name vector evaluation\n",
    "\n",
    "#### Encoding mobile name for searching\n"
   ]
  },
  {
   "cell_type": "code",
   "execution_count": 154,
   "id": "717a3e79-6674-41e4-a10d-97b720d645b9",
   "metadata": {},
   "outputs": [
    {
     "data": {
      "text/plain": [
       "dict_keys(['company', 'name', 'specifications', 'name_vector'])"
      ]
     },
     "execution_count": 154,
     "metadata": {},
     "output_type": "execute_result"
    }
   ],
   "source": [
    "mobile_specs_rows[0].keys()"
   ]
  },
  {
   "cell_type": "code",
   "execution_count": 152,
   "id": "06d7393c-29c1-4a2b-81c5-86b846bfb8d0",
   "metadata": {},
   "outputs": [
    {
     "name": "stderr",
     "output_type": "stream",
     "text": [
      "100%|█████████████████████████████████████████████████████████████████████████████████████████████████████████████████████████████████████████████████████████████████████████████████████████████████████| 2096/2096 [03:55<00:00,  8.91it/s]\n"
     ]
    }
   ],
   "source": [
    "for each_mobile in tqdm(mobile_specs_rows):\n",
    "    each_mobile['name_vector'] = model.encode(each_mobile['name']).tolist()"
   ]
  },
  {
   "cell_type": "code",
   "execution_count": 153,
   "id": "245fabdb-b0b7-471a-82bd-a7fe4b7b15d2",
   "metadata": {},
   "outputs": [
    {
     "data": {
      "text/plain": [
       "768"
      ]
     },
     "execution_count": 153,
     "metadata": {},
     "output_type": "execute_result"
    }
   ],
   "source": [
    "len(mobile_specs_rows[0]['name_vector'])"
   ]
  },
  {
   "cell_type": "code",
   "execution_count": 69,
   "id": "eb1a9f13-be52-4d6d-8379-5e931df33a74",
   "metadata": {},
   "outputs": [
    {
     "name": "stdout",
     "output_type": "stream",
     "text": [
      "dict_keys(['company', 'name', 'specifications', 'specification_vector', 'name_vector'])\n"
     ]
    }
   ],
   "source": [
    "for doc in mobile_specs_rows[:1]:\n",
    "    print(doc.keys())"
   ]
  },
  {
   "cell_type": "code",
   "execution_count": 31,
   "id": "cfc988ac-f214-470f-8a19-695b7c70c002",
   "metadata": {},
   "outputs": [],
   "source": [
    "def elastic_search_knn(vector, vector_field=\"name_vector\"):\n",
    "    \"\"\"Return elastic search results for given vector.\"\"\"\n",
    "    knn_query = {\n",
    "        \"field\": vector_field,\n",
    "        \"query_vector\": vector,\n",
    "        \"k\": 5,\n",
    "        \"num_candidates\": 10000\n",
    "    }\n",
    "\n",
    "    search_query = {\n",
    "        'knn': knn_query,\n",
    "        '_source': [\"name\", \"company\", \"specifications\"]\n",
    "    }\n",
    "\n",
    "    es_results = es_client.search(\n",
    "        index=index_name,\n",
    "        body=search_query\n",
    "    )\n",
    "\n",
    "    result_docs = []\n",
    "    \n",
    "    for hit in es_results['hits']['hits']:\n",
    "        result_docs.append(hit['_source'])\n",
    "\n",
    "    return result_docs"
   ]
  },
  {
   "cell_type": "code",
   "execution_count": 32,
   "id": "5c00682f-5f42-45ce-8941-52e4f3b3e799",
   "metadata": {},
   "outputs": [],
   "source": [
    "search_term = 'azus-zenfone'\n",
    "vector_search_term = model.encode(search_term)\n",
    "zenfone_context = elastic_search_knn(vector_search_term)"
   ]
  },
  {
   "cell_type": "code",
   "execution_count": 52,
   "id": "1bb96681-352a-4194-af2f-72cfcdcd07c9",
   "metadata": {},
   "outputs": [],
   "source": [
    "prompt_template = \"\"\"\n",
    "You are mobile phone expert. Answer all the specifications of PHONE using the CONTEXT provided from SPECFICATIONS database.\n",
    "The specifications in the CONTEXT is a json string. Convert the json string to readable format before printing out the answer.\n",
    "Use only the specifications given in the context to print the specs of the device.\n",
    "Do not number the specifications passed.\n",
    "Print only the first result in a markdown format where subsections are indented in readable format.\n",
    "\n",
    "\n",
    "PHONE: {phone}\n",
    "\n",
    "CONTEXT:\n",
    "{context}\n",
    "\"\"\".strip()"
   ]
  },
  {
   "cell_type": "code",
   "execution_count": 34,
   "id": "d141bf49-2505-4ccf-957a-efde51af134d",
   "metadata": {},
   "outputs": [],
   "source": [
    "phone = \"asuz-zenfone\""
   ]
  },
  {
   "cell_type": "code",
   "execution_count": 35,
   "id": "70a61413-8a6a-4f52-a339-06f39f8068ce",
   "metadata": {},
   "outputs": [],
   "source": [
    "context = \"\"\n",
    "\n",
    "for each in zenfone_context:\n",
    "    context = context + f\"\\n\\nname: {each['name']}\\ncompany: {each['company']}\\nspecifications: {each['specifications']}\""
   ]
  },
  {
   "cell_type": "code",
   "execution_count": 176,
   "id": "349e3616-40cf-4316-8b87-27e244268c41",
   "metadata": {},
   "outputs": [
    {
     "name": "stdout",
     "output_type": "stream",
     "text": [
      "You are mobile phone expert. Answer all the specifications of PHONE using the CONTEXT provided from SPECFICATIONS database.\n",
      "The specifications in the CONTEXT is a json string. Convert the json string to readable format before printing out the answer.\n",
      "Use only the specifications given in the context to print the specs of the device.\n",
      "\n",
      "\n",
      "PHONE: asuz-zenfone\n",
      "\n",
      "CONTEXT:\n",
      "\n",
      "\n",
      "name: asus-zenfone-10\n",
      "company: asus-phones\n",
      "specifications: {\"General\": {\"Brand\": \"Asus\", \"Model\": \"Zenfone 10\", \"Release date\": \"29th June 2022\", \"Launched in India\": \"No\", \"Form factor\": \"Touchscreen\", \"Dimensions (mm)\": \"146.50 x 68.10 x 9.40\", \"Weight (g)\": \"172.00\", \"IP rating\": \"IP68\", \"Battery capacity (mAh)\": \"5000\", \"Removable battery\": \"No\", \"Fast charging\": \"Proprietary\", \"Wireless charging\": \"Yes\", \"Colours\": \"Aurora Green, Comet White, Eclipse Red, Midnight Black, Starry Blue\"}, \"Display\": {\"Refresh Rate\": \"120 Hz\", \"Resolution Standard\": \"HD+\", \"Screen size (inches)\": \"5.90\", \"Touchscreen\": \"Yes\", \"Resolution\": \"1080x2400 pixels\", \"Protection type\": \"Gorilla Glass\", \"Aspect ratio\": \"20:9\"}, \"Hardware\": {\"Processor\": \"octa-core\", \"Processor make\": \"Snapdragon 8 Gen 2\", \"RAM\": \"8GB\", \"Internal storage\": \"128GB\"}, \"Camera\": {\"Rear camera\": \"50-megapixel + 13-megapixel\", \"No. of Rear Cameras\": \"2\", \"Front camera\": \"32-megapixel\", \"Lens Type (Second Rear Camera)\": \"Ultra Wide-Angle\"}, \"Software\": {\"Operating system\": \"Android 13\", \"Skin\": \"Asus ZenUI\"}, \"Connectivity\": {\"Wi-Fi\": \"Yes\", \"Wi-Fi standards supported\": \"802.11 a/b/g/n/ac/ax\", \"GPS\": \"Yes\", \"Bluetooth\": \"Yes, v 5.30\", \"NFC\": \"Yes\", \"USB Type-C\": \"Yes\", \"Headphones\": \"3.5mm\", \"Number of SIMs\": \"2\", \"Active 4G on both SIM cards\": \"Yes\", \"SIM Type\": \"Nano-SIM\"}, \"Sensors\": {\"Fingerprint sensor\": \"Yes\", \"Compass/ Magnetometer\": \"Yes\", \"Proximity sensor\": \"Yes\", \"Accelerometer\": \"Yes\", \"Ambient light sensor\": \"Yes\", \"Gyroscope\": \"Yes\"}}\n",
      "\n",
      "name: asus-zenfone-v\n",
      "company: asus-phones\n",
      "specifications: {\"General\": {\"Alternate names\": \"(V520KL)\", \"Brand\": \"Asus\", \"Model\": \"ZenFone V\", \"Release date\": \"September 2017\", \"Form factor\": \"Touchscreen\", \"Dimensions (mm)\": \"146.50 x 72.60 x 7.60\", \"Weight (g)\": \"147.00\", \"Battery capacity (mAh)\": \"3000\", \"Removable battery\": \"No\", \"Colours\": \"Sapphire Black\"}, \"Display\": {\"Screen size (inches)\": \"5.20\", \"Touchscreen\": \"Yes\", \"Resolution\": \"1080x1920 pixels\"}, \"Hardware\": {\"Processor\": \"2.2GHz quad-core\", \"Processor make\": \"Qualcomm Snapdragon 820\", \"RAM\": \"4GB\", \"Internal storage\": \"32GB\", \"Expandable storage\": \"Yes\", \"Expandable storage type\": \"microSD\", \"Expandable storage up to (GB)\": \"256\"}, \"Camera\": {\"Rear camera\": \"23-megapixel\", \"Rear flash\": \"LED\", \"Front camera\": \"8-megapixel\"}, \"Software\": {\"Operating system\": \"Android 7.0\", \"Skin\": \"ZenUI 3.0\"}, \"Connectivity\": {\"Wi-Fi\": \"Yes\", \"Wi-Fi standards supported\": \"802.11 a/b/g/n/ac\", \"GPS\": \"Yes\", \"Bluetooth\": \"Yes, v 4.20\", \"NFC\": \"No\", \"Infrared\": \"No\", \"USB OTG\": \"No\", \"Headphones\": \"3.5mm\", \"FM\": \"No\", \"Number of SIMs\": \"1\", \"Wi-Fi Direct\": \"Yes\", \"Mobile High-Definition Link (MHL)\": \"No\", \"SIM Type\": \"Nano-SIM\", \"GSM/CDMA\": \"GSM\", \"3G\": \"Yes\", \"4G/ LTE\": \"Yes\", \"Supports 4G in India (Band 40)\": \"No\"}, \"Sensors\": {\"Compass/ Magnetometer\": \"No\", \"Proximity sensor\": \"Yes\", \"Accelerometer\": \"Yes\", \"Ambient light sensor\": \"Yes\", \"Gyroscope\": \"Yes\", \"Barometer\": \"No\", \"Temperature sensor\": \"No\"}}\n",
      "\n",
      "name: asus-zenfone-7\n",
      "company: asus-phones\n",
      "specifications: {\"General\": {\"Brand\": \"Asus\", \"Model\": \"ZenFone 7\", \"Release date\": \"26th August 2020\", \"Launched in India\": \"No\", \"Form factor\": \"Touchscreen\", \"Dimensions (mm)\": \"165.08 x 77.28 x 9.60\", \"Weight (g)\": \"230.00\", \"Battery capacity (mAh)\": \"5000\", \"Removable battery\": \"No\", \"Fast charging\": \"Quick Charge 4.0\", \"Wireless charging\": \"No\", \"Colours\": \"Black, Radiant White\"}, \"Display\": {\"Screen size (inches)\": \"6.67\", \"Touchscreen\": \"Yes\", \"Resolution\": \"1080x2400 pixels\", \"Protection type\": \"Gorilla Glass\", \"Aspect ratio\": \"20:9\"}, \"Hardware\": {\"Processor make\": \"Qualcomm Snapdragon 865\", \"RAM\": \"6GB\", \"Internal storage\": \"128GB\", \"Expandable storage\": \"Yes\", \"Expandable storage type\": \"microSD\", \"Expandable storage up to (GB)\": \"2TB\", \"Dedicated microSD slot\": \"Yes\"}, \"Camera\": {\"Rear camera\": \"64-megapixel (f/1.8, 0.8-micron) + 12-megapixel (f/2.2, 1.4-micron) + 8-megapixel\", \"Rear autofocus\": \"Yes\", \"Rear flash\": \"Dual LED\"}, \"Software\": {\"Operating system\": \"Android 10\", \"Skin\": \"ZenUI 7\"}, \"Connectivity\": {\"Wi-Fi\": \"Yes\", \"Wi-Fi standards supported\": \"802.11 a/b/g/n/ac/ax\", \"GPS\": \"Yes\", \"Bluetooth\": \"Yes, v 5.10\", \"NFC\": \"Yes\", \"USB Type-C\": \"Yes\", \"Number of SIMs\": \"2\", \"Active 4G on both SIM cards\": \"Yes\", \"SIM Type\": \"Nano-SIM\", \"GSM/CDMA\": \"GSM\", \"3G\": \"Yes\", \"4G/ LTE\": \"Yes\", \"5G\": \"Yes\", \"Supports 4G in India (Band 40)\": \"Yes\"}, \"Sensors\": {\"Face unlock\": \"Yes\", \"Fingerprint sensor\": \"Yes\", \"Compass/ Magnetometer\": \"Yes\", \"Proximity sensor\": \"Yes\", \"Accelerometer\": \"Yes\", \"Ambient light sensor\": \"Yes\", \"Gyroscope\": \"Yes\"}}\n",
      "\n",
      "name: asus-zenfone-8\n",
      "company: asus-phones\n",
      "specifications: {\"General\": {\"Brand\": \"Asus\", \"Model\": \"ZenFone 8\", \"Release date\": \"12th May 2021\", \"Launched in India\": \"No\", \"Form factor\": \"Touchscreen\", \"Dimensions (mm)\": \"148.00 x 68.50 x 8.90\", \"Weight (g)\": \"169.00\", \"Battery capacity (mAh)\": \"4000\", \"Fast charging\": \"Proprietary\", \"Colours\": \"Obsidian Black, Horizon Silver, Moonlight White\"}, \"Display\": {\"Screen size (inches)\": \"5.90\", \"Touchscreen\": \"Yes\", \"Resolution\": \"1080x2400 pixels\", \"Protection type\": \"Gorilla Glass\", \"Aspect ratio\": \"20:9\"}, \"Hardware\": {\"Processor\": \"2.84GHz octa-core\", \"Processor make\": \"Qualcomm Snapdragon 888\", \"RAM\": \"8GB\", \"Internal storage\": \"128GB, 256GB\"}, \"Camera\": {\"Rear camera\": \"64-megapixel (f/1.8, 0.8-micron) + 12-megapixel (f/2.2, 1.4-micron)\", \"No. of Rear Cameras\": \"2\", \"Rear autofocus\": \"Phase detection autofocus\", \"Rear flash\": \"Yes\", \"Front camera\": \"12-megapixel (1.22-micron)\", \"No. of Front Cameras\": \"1\", \"Front autofocus\": \"Yes\"}, \"Software\": {\"Operating system\": \"Android 11\", \"Skin\": \"ZenUI 8\"}, \"Connectivity\": {\"Wi-Fi\": \"Yes\", \"Wi-Fi standards supported\": \"802.11 a/b/g/n/ac/ax\", \"GPS\": \"Yes\", \"Bluetooth\": \"Yes, v 5.20\", \"NFC\": \"Yes\", \"USB Type-C\": \"Yes\", \"Headphones\": \"3.5mm\", \"FM\": \"Yes\", \"Number of SIMs\": \"2\", \"SIM Type\": \"Nano-SIM\", \"GSM/CDMA\": \"GSM\", \"3G\": \"Yes\", \"4G/ LTE\": \"Yes\", \"5G\": \"Yes\", \"Supports 4G in India (Band 40)\": \"Yes\"}, \"Sensors\": {\"Face unlock\": \"Yes\", \"In-Display Fingerprint Sensor\": \"Yes\", \"Compass/ Magnetometer\": \"Yes\", \"Proximity sensor\": \"Yes\", \"Accelerometer\": \"Yes\", \"Ambient light sensor\": \"Yes\", \"Gyroscope\": \"Yes\"}}\n",
      "\n",
      "name: asus-zenfone-9\n",
      "company: asus-phones\n",
      "specifications: {\"General\": {\"Brand\": \"Asus\", \"Model\": \"ZenFone 9\", \"Release date\": \"28th July 2022\", \"Launched in India\": \"No\", \"Form factor\": \"Touchscreen\", \"IP rating\": \"IP68\", \"Battery capacity (mAh)\": \"4300\", \"Colours\": \"Midnight Black, Moonlight White, Sunset Red, Starry Blue\"}, \"Display\": {\"Refresh Rate\": \"120 Hz\", \"Resolution Standard\": \"HD+\", \"Screen size (inches)\": \"5.90\", \"Touchscreen\": \"Yes\", \"Resolution\": \"1080x2400 pixels\", \"Protection type\": \"Gorilla Glass\", \"Aspect ratio\": \"20:9\"}, \"Hardware\": {\"RAM\": \"8GB\", \"Internal storage\": \"128GB\"}, \"Software\": {\"Operating system\": \"Android 12\"}, \"Connectivity\": {\"Wi-Fi\": \"Yes\", \"Wi-Fi standards supported\": \"802.11 a/b/g/n/ac/ax\", \"Bluetooth\": \"Yes, v 5.20\", \"NFC\": \"Yes\", \"USB Type-C\": \"Yes\", \"Headphones\": \"3.5mm\", \"Number of SIMs\": \"2\", \"Active 4G on both SIM cards\": \"Yes\", \"SIM Type\": \"Nano-SIM\"}, \"Sensors\": {\"Fingerprint sensor\": \"Yes\", \"Compass/ Magnetometer\": \"Yes\", \"Accelerometer\": \"Yes\", \"Ambient light sensor\": \"Yes\", \"Gyroscope\": \"Yes\"}}\n"
     ]
    }
   ],
   "source": [
    "print(prompt_template.format(phone=phone, context=context))"
   ]
  },
  {
   "cell_type": "code",
   "execution_count": 177,
   "id": "978b3f9e-be92-4549-90d4-c5251facd07a",
   "metadata": {},
   "outputs": [
    {
     "name": "stderr",
     "output_type": "stream",
     "text": [
      "huggingface/tokenizers: The current process just got forked, after parallelism has already been used. Disabling parallelism to avoid deadlocks...\n",
      "To disable this warning, you can either:\n",
      "\t- Avoid using `tokenizers` before the fork if possible\n",
      "\t- Explicitly set the environment variable TOKENIZERS_PARALLELISM=(true | false)\n"
     ]
    }
   ],
   "source": [
    "!source ~/.zshrc"
   ]
  },
  {
   "cell_type": "code",
   "execution_count": 7,
   "id": "e5fbc153-9850-4a1c-b247-0c70a760381c",
   "metadata": {},
   "outputs": [],
   "source": [
    "from huggingface_hub import InferenceClient"
   ]
  },
  {
   "cell_type": "code",
   "execution_count": 37,
   "id": "f478577c-7677-492d-9c76-e4a0bf9808be",
   "metadata": {},
   "outputs": [],
   "source": [
    "import os"
   ]
  },
  {
   "cell_type": "code",
   "execution_count": 38,
   "id": "903fa9d2-a0aa-484a-b096-efd7dbcfd6cf",
   "metadata": {},
   "outputs": [],
   "source": [
    "HF_API_TOKEN = os.getenv('HF_API_TOKEN')\n",
    "client = InferenceClient(\"HuggingFaceH4/zephyr-7b-beta\", token=HF_API_TOKEN)"
   ]
  },
  {
   "cell_type": "code",
   "execution_count": 53,
   "id": "92d374c6-e437-439a-9662-a863cc148e26",
   "metadata": {},
   "outputs": [],
   "source": [
    "prompt = prompt_template.format(phone=phone, context=context)"
   ]
  },
  {
   "cell_type": "code",
   "execution_count": 54,
   "id": "84bbfb9e-c7e1-44cd-bdb0-851128f73ae3",
   "metadata": {},
   "outputs": [],
   "source": [
    "messages = [{\"role\": \"user\", \"content\": prompt}]"
   ]
  },
  {
   "cell_type": "code",
   "execution_count": 55,
   "id": "19423f84-fb43-46b6-83e9-59f6c2a4e683",
   "metadata": {},
   "outputs": [],
   "source": [
    "response = client.chat_completion(messages, max_tokens=1000)"
   ]
  },
  {
   "cell_type": "code",
   "execution_count": 57,
   "id": "97e6ff4c-ceb5-40e2-8484-d11aa336a9fd",
   "metadata": {},
   "outputs": [],
   "source": [
    "def llm(prompt):\n",
    "    messages = [{\"role\": \"user\", \"content\": prompt}]\n",
    "    response = client.chat_completion(messages, max_tokens=1000)\n",
    "    \n",
    "    return response.choices[0].message.content"
   ]
  },
  {
   "cell_type": "code",
   "execution_count": 59,
   "id": "9bc4e67d-fd57-4fbc-aabb-ca53a423971b",
   "metadata": {},
   "outputs": [
    {
     "name": "stdout",
     "output_type": "stream",
     "text": [
      "PHONE: asus-zenfone-10\n",
      "\n",
      "Display:\n",
      "- Resolution Standard: HD+\n",
      "- Screen size: 5.90 inches\n",
      "- Refresh Rate: 120 Hz\n",
      "- Protection type: Gorilla Glass\n",
      "- Touchscreen: Yes\n",
      "\n",
      "Camera:\n",
      "- Rear camera: 50-megapixel + 13-megapixel\n",
      "- Number of Rear Cameras: 2\n",
      "- Front camera: 32-megapixel\n",
      "- Lens Type (Second Rear Camera): Ultra Wide-Angle\n",
      "\n",
      "Battery:\n",
      "- Battery capacity (mAh): 5000\n",
      "- Removable battery: No\n",
      "- Fast charging: Proprietary\n",
      "- Wireless charging: Yes\n",
      "\n",
      "IP rating: IP68\n",
      "\n",
      "Connectivity:\n",
      "- Wi-Fi: Yes\n",
      "- Wi-Fi standards supported: 802.11 a/b/g/n/ac/ax\n",
      "- Bluetooth: Yes, v 5.30\n",
      "- NFC: Yes\n",
      "- USB Type-C: Yes\n",
      "- Headphones: 3.5mm\n",
      "- Number of SIMs: 2\n",
      "- Active 4G on both SIM cards: Yes\n",
      "- SIM Type: Nano-SIM\n",
      "\n",
      "Hardware:\n",
      "- OS: Android 13\n",
      "- Skin: Asus ZenUI\n",
      "- Processor: octa-core\n",
      "- Processor make: Snapdragon 8 Gen 2\n",
      "- RAM: 8GB\n",
      "- Internal storage: 128GB\n",
      "\n",
      "Sensors:\n",
      "- Fingerprint sensor: Yes\n",
      "- Compass/ Magnetometer: Yes\n",
      "- Proximity sensor: Yes\n",
      "- Accelerometer: Yes\n",
      "- Ambient light sensor: Yes\n",
      "- Gyroscope: Yes\n",
      "\n",
      "Weight (g): 172.00\n",
      "Dimensions (mm): 146.50 x 68.10 x 9.40\n",
      "Form factor: Touchscreen\n",
      "IP rating: IP68\n",
      "Release date: 29th June 2022\n",
      "Launched in India: No\n",
      "Aurora Green, Comet White, Eclipse Red, Midnight Black, Starry Blue (Available Colours) \n",
      "\n",
      "Note: The specs provided are directly from the given context and are accurate as per the CONTEXT provided.\n"
     ]
    }
   ],
   "source": [
    "print(llm(prompt))"
   ]
  },
  {
   "cell_type": "code",
   "execution_count": 67,
   "id": "518be94a-3cd2-41cd-83a5-f680312986a8",
   "metadata": {},
   "outputs": [],
   "source": [
    "def get_mobile_name_results(mobile_name_statement):\n",
    "    \"\"\"Return the ES results of the mobile phone asked by user.\"\"\"\n",
    "    name_vector = model.encode(mobile_name_statement)\n",
    "    mobile_context = elastic_search_knn(name_vector)\n",
    "\n",
    "    return mobile_context"
   ]
  },
  {
   "cell_type": "code",
   "execution_count": 70,
   "id": "b5e7f062-ba47-4944-9cdd-a0a351501303",
   "metadata": {},
   "outputs": [],
   "source": [
    "def build_prompt(phone_specifications, mobile_context):\n",
    "    \"\"\"Build the context using search results and return the prompt.\"\"\"\n",
    "    prompt_template = \"\"\"\n",
    "You are mobile phone expert. Answer all the specifications of PHONE using the CONTEXT provided from SPECFICATIONS database.\n",
    "The specifications in the CONTEXT is a json string. Convert the json string to readable format before printing out the answer.\n",
    "Use only the specifications given in the context to print the specs of the device.\n",
    "Do not number the specifications passed.\n",
    "Print only the first result in a markdown format where subsections are indented in readable format.\n",
    "\n",
    "\n",
    "PHONE: {phone}\n",
    "\n",
    "CONTEXT:\n",
    "{context}\n",
    "\"\"\".strip()\n",
    "\n",
    "    context = \"\"\n",
    "\n",
    "    for each in mobile_context:\n",
    "        context = context + f\"\\n\\nname: {each['name']}\\ncompany: {each['company']}\\nspecifications: {each['specifications']}\"\n",
    "\n",
    "    prompt = prompt_template.format(phone=phone_specifications, context=context)\n",
    "    return prompt"
   ]
  },
  {
   "cell_type": "code",
   "execution_count": 64,
   "id": "553a50f9-943a-474d-b80f-92838688f677",
   "metadata": {},
   "outputs": [],
   "source": [
    "def llm(prompt):\n",
    "    \"\"\"Return LLM generation based on context.\"\"\"\n",
    "    messages = [{\"role\": \"user\", \"content\": prompt}]\n",
    "    response = client.chat_completion(messages, max_tokens=1000)\n",
    "    \n",
    "    return response.choices[0].message.content"
   ]
  },
  {
   "cell_type": "code",
   "execution_count": 71,
   "id": "847c0b52-63a4-427a-a7b5-00a632bb36b4",
   "metadata": {},
   "outputs": [],
   "source": [
    "def rag(mobile_phone_statement):\n",
    "    \"\"\"Run the RAG flow for the given mobile phone statement.\"\"\"\n",
    "    mobile_name_context = get_mobile_name_results(mobile_phone_statement)\n",
    "    prompt = build_prompt(mobile_phone_statement, mobile_name_context)\n",
    "    answer = llm(prompt)\n",
    "\n",
    "    return answer"
   ]
  },
  {
   "cell_type": "code",
   "execution_count": 72,
   "id": "9cc37272-5983-4a15-bd5a-387835b5d022",
   "metadata": {},
   "outputs": [
    {
     "name": "stdout",
     "output_type": "stream",
     "text": [
      "PHONE: Specifications of iPhone 15\n",
      "\n",
      "The iPhone 15, expected to be released in September 2023, boasts a wide range of impressive features upon its unveiling. Here are its detailed specifications as outlined by the CONTEXT provided by the SPECFICATIONS database.\n",
      "\n",
      "General:\n",
      "- Brand: Apple\n",
      "- Model: iPhone 15\n",
      "- Price in India: ₹69,900\n",
      "- Release date: 12th September 2023\n",
      "- Launched in India: Yes\n",
      "- Form factor: Touchscreen\n",
      "- Dimensions (mm): 147.60 x 71.60 x 7.80\n",
      "- Weight (g): 171.00\n",
      "- IP rating: IP68\n",
      "- Removable battery: No\n",
      "- Wireless charging: Yes\n",
      "- Colours: Black, Blue, Green, Pink, Yellow\n",
      "\n",
      "Display:\n",
      "- Refresh Rate: 60 Hz\n",
      "- Screen size (inches): 6.10\n",
      "- Touchscreen: Yes\n",
      "- Resolution: 1179x2556 pixels\n",
      "- Pixels per inch (PPI): 460\n",
      "\n",
      "Hardware:\n",
      "- Processor: hexa-core\n",
      "- Processor make: Apple A16 Bionic\n",
      "- RAM: 6GB\n",
      "- Internal storage: 128GB, 256GB, 512GB\n",
      "- Expandable storage: No\n",
      "\n",
      "Camera:\n",
      "- Rear camera: 48-megapixel (f/1.6) + 12-megapixel (f/2.4)\n",
      "- No. of Rear Cameras: 2\n",
      "- Front camera: 12-megapixel (f/1.9)\n",
      "- No. of Front Cameras: 1\n",
      "\n",
      "Software:\n",
      "- Operating system: iOS 17\n",
      "\n",
      "Connectivity:\n",
      "- Wi-Fi: Yes\n",
      "- Wi-Fi standards supported: 802.11 b/g/n/ac/ax\n",
      "- GPS: Yes\n",
      "- Bluetooth: Yes, v 5.30\n",
      "- NFC: Yes\n",
      "- USB Type-C: Yes\n",
      "- Headphones: Type-C\n",
      "- Number of SIMs: 2\n",
      "- Active 4G on both SIM cards: Yes\n",
      "- SIM Type: Nano-SIM\n",
      "- GSM/CDMA: GSM\n",
      "- 3G: Yes\n",
      "- 4G/ LTE: Yes\n",
      "- 5G: Yes\n",
      "- Supports 4G in India (Band 40): Yes\n",
      "\n",
      "Sensors:\n",
      "- 3D face recognition: Yes\n",
      "- Compass/ Magnetometer: Yes\n",
      "- Proximity sensor: Yes\n",
      "- Accelerometer: Yes\n",
      "- Ambient light sensor: Yes\n",
      "- Gyroscope: Yes\n",
      "- Barometer: Yes\n",
      "\n",
      "Note: Specifications are subject to change and may differ from the final product.\n"
     ]
    }
   ],
   "source": [
    "print(rag('Tell me the specifications of iphone 15'))"
   ]
  },
  {
   "cell_type": "markdown",
   "id": "52a33bcf-0bef-4dc5-838d-d7b02f761e5b",
   "metadata": {},
   "source": [
    "## Specifications vector evaluation\n",
    "\n",
    "    - This is continued in a new file"
   ]
  },
  {
   "cell_type": "code",
   "execution_count": 73,
   "id": "948a7b24-7cc1-410e-ba52-05443cb74f6d",
   "metadata": {},
   "outputs": [],
   "source": [
    "mobile_specs_vector_data = mobile_specs_rows.copy()"
   ]
  },
  {
   "cell_type": "code",
   "execution_count": 74,
   "id": "cdbd5a1e-25a8-4ccb-a816-810974efdc7b",
   "metadata": {},
   "outputs": [
    {
     "data": {
      "text/plain": [
       "dict_keys(['company', 'name', 'specifications', 'name_vector'])"
      ]
     },
     "execution_count": 74,
     "metadata": {},
     "output_type": "execute_result"
    }
   ],
   "source": [
    "mobile_specs_vector_data[1].keys()"
   ]
  },
  {
   "cell_type": "code",
   "execution_count": 75,
   "id": "864ae2b3-dd9a-46e1-bf25-38ffce8d5c93",
   "metadata": {},
   "outputs": [],
   "source": [
    "index_settings = {\n",
    "    \"settings\": {\n",
    "        \"number_of_shards\": 1,\n",
    "        \"number_of_replicas\": 0\n",
    "    },\n",
    "    \"mappings\": {\n",
    "        \"properties\": {\n",
    "            \"company\": {\"type\": \"text\"},\n",
    "            \"name\": {\"type\": \"text\"},\n",
    "            \"specifications\": {\"type\": \"keyword\"} ,\n",
    "            \"specification_vector\": {\"type\": \"dense_vector\", \"dims\": 768, \"index\": True, \"similarity\": \"cosine\"},\n",
    "            \"name_vector\": {\"type\": \"dense_vector\", \"dims\": 768, \"index\": True, \"similarity\": \"cosine\"}\n",
    "        }\n",
    "    }\n",
    "}"
   ]
  },
  {
   "cell_type": "code",
   "execution_count": 76,
   "id": "db594a4a-5a84-42e9-ac5d-ef35f2dac163",
   "metadata": {},
   "outputs": [
    {
     "data": {
      "text/plain": [
       "ObjectApiResponse({'acknowledged': True, 'shards_acknowledged': True, 'index': 'mobile-specifications'})"
      ]
     },
     "execution_count": 76,
     "metadata": {},
     "output_type": "execute_result"
    }
   ],
   "source": [
    "index_name = \"mobile-specifications\"\n",
    "es_client.indices.delete(index=index_name)\n",
    "es_client.indices.create(index=index_name, body=index_settings)"
   ]
  },
  {
   "cell_type": "code",
   "execution_count": 77,
   "id": "6969f1fc-1517-43b5-8878-877dd93009c1",
   "metadata": {},
   "outputs": [
    {
     "name": "stderr",
     "output_type": "stream",
     "text": [
      "100%|█████████████████████████████████████████████████████████████████████████████████████████████████████████████████████████████████████████████████████████████████████████████████████████████████████| 2096/2096 [29:12<00:00,  1.20it/s]\n"
     ]
    }
   ],
   "source": [
    "for each_mobile in tqdm(mobile_specs_vector_data):\n",
    "    each_mobile['specification_vector'] = model.encode(each_mobile['specifications']).tolist()"
   ]
  },
  {
   "cell_type": "code",
   "execution_count": 79,
   "id": "04ac836f-0dd2-4d51-918a-b0b8dd1e22fc",
   "metadata": {},
   "outputs": [
    {
     "data": {
      "text/plain": [
       "dict_keys(['company', 'name', 'specifications', 'name_vector', 'specification_vector'])"
      ]
     },
     "execution_count": 79,
     "metadata": {},
     "output_type": "execute_result"
    }
   ],
   "source": [
    "mobile_specs_vector_data[0].keys()"
   ]
  },
  {
   "cell_type": "code",
   "execution_count": 78,
   "id": "d00f4182-d47a-4b6a-a2d0-a2d9acaf7615",
   "metadata": {},
   "outputs": [],
   "source": [
    "import pickle"
   ]
  },
  {
   "cell_type": "code",
   "execution_count": 80,
   "id": "7b4cb9a6-6b07-4383-8cc1-65e3a49244dc",
   "metadata": {},
   "outputs": [],
   "source": [
    "with open('mobile_specs_vector_data.pkl', 'wb') as fp:\n",
    "    pickle.dump(mobile_specs_vector_data, fp)"
   ]
  },
  {
   "cell_type": "code",
   "execution_count": 82,
   "id": "3ee3b5d8-1508-43ec-b570-c0c069250fdd",
   "metadata": {},
   "outputs": [],
   "source": [
    "with open('mobile_specs_vector_data.pkl', 'rb') as fp:\n",
    "    bkp_mobile_specs_vector_data = pickle.load(fp)"
   ]
  },
  {
   "cell_type": "code",
   "execution_count": 8,
   "id": "e7ebe2f8-8990-4851-abf6-9dce6d13d3ed",
   "metadata": {},
   "outputs": [],
   "source": [
    "import json\n",
    "from elasticsearch import Elasticsearch"
   ]
  },
  {
   "cell_type": "code",
   "execution_count": 9,
   "id": "e187a9fe-a329-42ad-a9a5-01970af9c9e7",
   "metadata": {},
   "outputs": [],
   "source": [
    "with open('../data-extraction/mobile_specifications_data.json', 'r') as fp:\n",
    "    mobile_specs_data = json.load(fp)"
   ]
  },
  {
   "cell_type": "code",
   "execution_count": 13,
   "id": "8638ff03-7e29-4bdc-819e-3779a5d7c2ec",
   "metadata": {},
   "outputs": [],
   "source": [
    "import spacy"
   ]
  },
  {
   "cell_type": "code",
   "execution_count": 15,
   "id": "e4bdd5c5-a287-40fe-8a73-746649a5e2d7",
   "metadata": {},
   "outputs": [
    {
     "name": "stdout",
     "output_type": "stream",
     "text": [
      "/Users/amoghkulkarni/.local/share/virtualenvs/gadget-spec-bot-PKdu65VV/lib/python3.9/site-packages/urllib3/__init__.py:35: NotOpenSSLWarning: urllib3 v2 only supports OpenSSL 1.1.1+, currently the 'ssl' module is compiled with 'LibreSSL 2.8.3'. See: https://github.com/urllib3/urllib3/issues/3020\n",
      "  warnings.warn(\n",
      "Collecting en-core-web-sm==3.7.1\n",
      "  Downloading https://github.com/explosion/spacy-models/releases/download/en_core_web_sm-3.7.1/en_core_web_sm-3.7.1-py3-none-any.whl (12.8 MB)\n",
      "\u001b[2K     \u001b[38;2;114;156;31m━━━━━━━━━━━━━━━━━━━━━━━━━━━━━━━━━━━━━━━━\u001b[0m \u001b[32m12.8/12.8 MB\u001b[0m \u001b[31m8.1 MB/s\u001b[0m eta \u001b[36m0:00:00\u001b[0mm eta \u001b[36m0:00:01\u001b[0m[36m0:00:01\u001b[0m\n",
      "\u001b[?25hRequirement already satisfied: spacy<3.8.0,>=3.7.2 in /Users/amoghkulkarni/.local/share/virtualenvs/gadget-spec-bot-PKdu65VV/lib/python3.9/site-packages (from en-core-web-sm==3.7.1) (3.7.5)\n",
      "Requirement already satisfied: spacy-legacy<3.1.0,>=3.0.11 in /Users/amoghkulkarni/.local/share/virtualenvs/gadget-spec-bot-PKdu65VV/lib/python3.9/site-packages (from spacy<3.8.0,>=3.7.2->en-core-web-sm==3.7.1) (3.0.12)\n",
      "Requirement already satisfied: spacy-loggers<2.0.0,>=1.0.0 in /Users/amoghkulkarni/.local/share/virtualenvs/gadget-spec-bot-PKdu65VV/lib/python3.9/site-packages (from spacy<3.8.0,>=3.7.2->en-core-web-sm==3.7.1) (1.0.5)\n",
      "Requirement already satisfied: murmurhash<1.1.0,>=0.28.0 in /Users/amoghkulkarni/.local/share/virtualenvs/gadget-spec-bot-PKdu65VV/lib/python3.9/site-packages (from spacy<3.8.0,>=3.7.2->en-core-web-sm==3.7.1) (1.0.10)\n",
      "Requirement already satisfied: cymem<2.1.0,>=2.0.2 in /Users/amoghkulkarni/.local/share/virtualenvs/gadget-spec-bot-PKdu65VV/lib/python3.9/site-packages (from spacy<3.8.0,>=3.7.2->en-core-web-sm==3.7.1) (2.0.8)\n",
      "Requirement already satisfied: preshed<3.1.0,>=3.0.2 in /Users/amoghkulkarni/.local/share/virtualenvs/gadget-spec-bot-PKdu65VV/lib/python3.9/site-packages (from spacy<3.8.0,>=3.7.2->en-core-web-sm==3.7.1) (3.0.9)\n",
      "Requirement already satisfied: thinc<8.3.0,>=8.2.2 in /Users/amoghkulkarni/.local/share/virtualenvs/gadget-spec-bot-PKdu65VV/lib/python3.9/site-packages (from spacy<3.8.0,>=3.7.2->en-core-web-sm==3.7.1) (8.2.5)\n",
      "Requirement already satisfied: wasabi<1.2.0,>=0.9.1 in /Users/amoghkulkarni/.local/share/virtualenvs/gadget-spec-bot-PKdu65VV/lib/python3.9/site-packages (from spacy<3.8.0,>=3.7.2->en-core-web-sm==3.7.1) (1.1.3)\n",
      "Requirement already satisfied: srsly<3.0.0,>=2.4.3 in /Users/amoghkulkarni/.local/share/virtualenvs/gadget-spec-bot-PKdu65VV/lib/python3.9/site-packages (from spacy<3.8.0,>=3.7.2->en-core-web-sm==3.7.1) (2.4.8)\n",
      "Requirement already satisfied: catalogue<2.1.0,>=2.0.6 in /Users/amoghkulkarni/.local/share/virtualenvs/gadget-spec-bot-PKdu65VV/lib/python3.9/site-packages (from spacy<3.8.0,>=3.7.2->en-core-web-sm==3.7.1) (2.0.10)\n",
      "Requirement already satisfied: weasel<0.5.0,>=0.1.0 in /Users/amoghkulkarni/.local/share/virtualenvs/gadget-spec-bot-PKdu65VV/lib/python3.9/site-packages (from spacy<3.8.0,>=3.7.2->en-core-web-sm==3.7.1) (0.4.1)\n",
      "Requirement already satisfied: typer<1.0.0,>=0.3.0 in /Users/amoghkulkarni/.local/share/virtualenvs/gadget-spec-bot-PKdu65VV/lib/python3.9/site-packages (from spacy<3.8.0,>=3.7.2->en-core-web-sm==3.7.1) (0.12.5)\n",
      "Requirement already satisfied: tqdm<5.0.0,>=4.38.0 in /Users/amoghkulkarni/.local/share/virtualenvs/gadget-spec-bot-PKdu65VV/lib/python3.9/site-packages (from spacy<3.8.0,>=3.7.2->en-core-web-sm==3.7.1) (4.66.5)\n",
      "Requirement already satisfied: requests<3.0.0,>=2.13.0 in /Users/amoghkulkarni/.local/share/virtualenvs/gadget-spec-bot-PKdu65VV/lib/python3.9/site-packages (from spacy<3.8.0,>=3.7.2->en-core-web-sm==3.7.1) (2.32.3)\n",
      "Requirement already satisfied: pydantic!=1.8,!=1.8.1,<3.0.0,>=1.7.4 in /Users/amoghkulkarni/.local/share/virtualenvs/gadget-spec-bot-PKdu65VV/lib/python3.9/site-packages (from spacy<3.8.0,>=3.7.2->en-core-web-sm==3.7.1) (2.9.2)\n",
      "Requirement already satisfied: jinja2 in /Users/amoghkulkarni/.local/share/virtualenvs/gadget-spec-bot-PKdu65VV/lib/python3.9/site-packages (from spacy<3.8.0,>=3.7.2->en-core-web-sm==3.7.1) (3.1.4)\n",
      "Requirement already satisfied: setuptools in /Users/amoghkulkarni/.local/share/virtualenvs/gadget-spec-bot-PKdu65VV/lib/python3.9/site-packages (from spacy<3.8.0,>=3.7.2->en-core-web-sm==3.7.1) (75.1.0)\n",
      "Requirement already satisfied: packaging>=20.0 in /Users/amoghkulkarni/.local/share/virtualenvs/gadget-spec-bot-PKdu65VV/lib/python3.9/site-packages (from spacy<3.8.0,>=3.7.2->en-core-web-sm==3.7.1) (24.1)\n",
      "Requirement already satisfied: langcodes<4.0.0,>=3.2.0 in /Users/amoghkulkarni/.local/share/virtualenvs/gadget-spec-bot-PKdu65VV/lib/python3.9/site-packages (from spacy<3.8.0,>=3.7.2->en-core-web-sm==3.7.1) (3.4.1)\n",
      "Requirement already satisfied: numpy>=1.19.0 in /Users/amoghkulkarni/.local/share/virtualenvs/gadget-spec-bot-PKdu65VV/lib/python3.9/site-packages (from spacy<3.8.0,>=3.7.2->en-core-web-sm==3.7.1) (1.26.4)\n",
      "Requirement already satisfied: language-data>=1.2 in /Users/amoghkulkarni/.local/share/virtualenvs/gadget-spec-bot-PKdu65VV/lib/python3.9/site-packages (from langcodes<4.0.0,>=3.2.0->spacy<3.8.0,>=3.7.2->en-core-web-sm==3.7.1) (1.2.0)\n",
      "Requirement already satisfied: annotated-types>=0.6.0 in /Users/amoghkulkarni/.local/share/virtualenvs/gadget-spec-bot-PKdu65VV/lib/python3.9/site-packages (from pydantic!=1.8,!=1.8.1,<3.0.0,>=1.7.4->spacy<3.8.0,>=3.7.2->en-core-web-sm==3.7.1) (0.7.0)\n",
      "Requirement already satisfied: pydantic-core==2.23.4 in /Users/amoghkulkarni/.local/share/virtualenvs/gadget-spec-bot-PKdu65VV/lib/python3.9/site-packages (from pydantic!=1.8,!=1.8.1,<3.0.0,>=1.7.4->spacy<3.8.0,>=3.7.2->en-core-web-sm==3.7.1) (2.23.4)\n",
      "Requirement already satisfied: typing-extensions>=4.6.1 in /Users/amoghkulkarni/.local/share/virtualenvs/gadget-spec-bot-PKdu65VV/lib/python3.9/site-packages (from pydantic!=1.8,!=1.8.1,<3.0.0,>=1.7.4->spacy<3.8.0,>=3.7.2->en-core-web-sm==3.7.1) (4.12.2)\n",
      "Requirement already satisfied: charset-normalizer<4,>=2 in /Users/amoghkulkarni/.local/share/virtualenvs/gadget-spec-bot-PKdu65VV/lib/python3.9/site-packages (from requests<3.0.0,>=2.13.0->spacy<3.8.0,>=3.7.2->en-core-web-sm==3.7.1) (3.3.2)\n",
      "Requirement already satisfied: idna<4,>=2.5 in /Users/amoghkulkarni/.local/share/virtualenvs/gadget-spec-bot-PKdu65VV/lib/python3.9/site-packages (from requests<3.0.0,>=2.13.0->spacy<3.8.0,>=3.7.2->en-core-web-sm==3.7.1) (3.10)\n",
      "Requirement already satisfied: urllib3<3,>=1.21.1 in /Users/amoghkulkarni/.local/share/virtualenvs/gadget-spec-bot-PKdu65VV/lib/python3.9/site-packages (from requests<3.0.0,>=2.13.0->spacy<3.8.0,>=3.7.2->en-core-web-sm==3.7.1) (2.2.3)\n",
      "Requirement already satisfied: certifi>=2017.4.17 in /Users/amoghkulkarni/.local/share/virtualenvs/gadget-spec-bot-PKdu65VV/lib/python3.9/site-packages (from requests<3.0.0,>=2.13.0->spacy<3.8.0,>=3.7.2->en-core-web-sm==3.7.1) (2024.8.30)\n",
      "Requirement already satisfied: blis<0.8.0,>=0.7.8 in /Users/amoghkulkarni/.local/share/virtualenvs/gadget-spec-bot-PKdu65VV/lib/python3.9/site-packages (from thinc<8.3.0,>=8.2.2->spacy<3.8.0,>=3.7.2->en-core-web-sm==3.7.1) (0.7.11)\n",
      "Requirement already satisfied: confection<1.0.0,>=0.0.1 in /Users/amoghkulkarni/.local/share/virtualenvs/gadget-spec-bot-PKdu65VV/lib/python3.9/site-packages (from thinc<8.3.0,>=8.2.2->spacy<3.8.0,>=3.7.2->en-core-web-sm==3.7.1) (0.1.5)\n",
      "Requirement already satisfied: click>=8.0.0 in /Users/amoghkulkarni/.local/share/virtualenvs/gadget-spec-bot-PKdu65VV/lib/python3.9/site-packages (from typer<1.0.0,>=0.3.0->spacy<3.8.0,>=3.7.2->en-core-web-sm==3.7.1) (8.1.7)\n",
      "Requirement already satisfied: shellingham>=1.3.0 in /Users/amoghkulkarni/.local/share/virtualenvs/gadget-spec-bot-PKdu65VV/lib/python3.9/site-packages (from typer<1.0.0,>=0.3.0->spacy<3.8.0,>=3.7.2->en-core-web-sm==3.7.1) (1.5.4)\n",
      "Requirement already satisfied: rich>=10.11.0 in /Users/amoghkulkarni/.local/share/virtualenvs/gadget-spec-bot-PKdu65VV/lib/python3.9/site-packages (from typer<1.0.0,>=0.3.0->spacy<3.8.0,>=3.7.2->en-core-web-sm==3.7.1) (13.9.2)\n",
      "Requirement already satisfied: cloudpathlib<1.0.0,>=0.7.0 in /Users/amoghkulkarni/.local/share/virtualenvs/gadget-spec-bot-PKdu65VV/lib/python3.9/site-packages (from weasel<0.5.0,>=0.1.0->spacy<3.8.0,>=3.7.2->en-core-web-sm==3.7.1) (0.19.0)\n",
      "Requirement already satisfied: smart-open<8.0.0,>=5.2.1 in /Users/amoghkulkarni/.local/share/virtualenvs/gadget-spec-bot-PKdu65VV/lib/python3.9/site-packages (from weasel<0.5.0,>=0.1.0->spacy<3.8.0,>=3.7.2->en-core-web-sm==3.7.1) (7.0.5)\n",
      "Requirement already satisfied: MarkupSafe>=2.0 in /Users/amoghkulkarni/.local/share/virtualenvs/gadget-spec-bot-PKdu65VV/lib/python3.9/site-packages (from jinja2->spacy<3.8.0,>=3.7.2->en-core-web-sm==3.7.1) (2.1.5)\n",
      "Requirement already satisfied: marisa-trie>=0.7.7 in /Users/amoghkulkarni/.local/share/virtualenvs/gadget-spec-bot-PKdu65VV/lib/python3.9/site-packages (from language-data>=1.2->langcodes<4.0.0,>=3.2.0->spacy<3.8.0,>=3.7.2->en-core-web-sm==3.7.1) (1.2.0)\n",
      "Requirement already satisfied: markdown-it-py>=2.2.0 in /Users/amoghkulkarni/.local/share/virtualenvs/gadget-spec-bot-PKdu65VV/lib/python3.9/site-packages (from rich>=10.11.0->typer<1.0.0,>=0.3.0->spacy<3.8.0,>=3.7.2->en-core-web-sm==3.7.1) (3.0.0)\n",
      "Requirement already satisfied: pygments<3.0.0,>=2.13.0 in /Users/amoghkulkarni/.local/share/virtualenvs/gadget-spec-bot-PKdu65VV/lib/python3.9/site-packages (from rich>=10.11.0->typer<1.0.0,>=0.3.0->spacy<3.8.0,>=3.7.2->en-core-web-sm==3.7.1) (2.18.0)\n",
      "Requirement already satisfied: wrapt in /Users/amoghkulkarni/.local/share/virtualenvs/gadget-spec-bot-PKdu65VV/lib/python3.9/site-packages (from smart-open<8.0.0,>=5.2.1->weasel<0.5.0,>=0.1.0->spacy<3.8.0,>=3.7.2->en-core-web-sm==3.7.1) (1.16.0)\n",
      "Requirement already satisfied: mdurl~=0.1 in /Users/amoghkulkarni/.local/share/virtualenvs/gadget-spec-bot-PKdu65VV/lib/python3.9/site-packages (from markdown-it-py>=2.2.0->rich>=10.11.0->typer<1.0.0,>=0.3.0->spacy<3.8.0,>=3.7.2->en-core-web-sm==3.7.1) (0.1.2)\n",
      "Installing collected packages: en-core-web-sm\n",
      "Successfully installed en-core-web-sm-3.7.1\n",
      "\u001b[38;5;2m✔ Download and installation successful\u001b[0m\n",
      "You can now load the package via spacy.load('en_core_web_sm')\n"
     ]
    }
   ],
   "source": [
    "!python -m spacy download en_core_web_sm"
   ]
  },
  {
   "cell_type": "code",
   "execution_count": 16,
   "id": "5a89567b-0742-48cc-b3cb-c37306664e98",
   "metadata": {},
   "outputs": [],
   "source": [
    "nlp = spacy.load('en_core_web_sm')"
   ]
  },
  {
   "cell_type": "code",
   "execution_count": 20,
   "id": "2b3166ab-4f1e-4d8c-9f19-cb01b7dddb28",
   "metadata": {},
   "outputs": [],
   "source": [
    "specs_row = mobile_specs_rows[0]['specifications']"
   ]
  },
  {
   "cell_type": "code",
   "execution_count": 21,
   "id": "dfd6aa0c-88f2-4c16-8e0e-359d615c6c09",
   "metadata": {},
   "outputs": [],
   "source": [
    "vectors = nlp(specs_row)"
   ]
  },
  {
   "cell_type": "code",
   "execution_count": 23,
   "id": "65e1a8c8-3d2f-4a0b-88f7-bfc2e24dec1b",
   "metadata": {},
   "outputs": [],
   "source": [
    "tokens = [token.lemma_ for token in vectors]"
   ]
  },
  {
   "cell_type": "code",
   "execution_count": 27,
   "id": "03c8f28e-921c-4bcd-b8fd-cd2480d62a04",
   "metadata": {},
   "outputs": [],
   "source": [
    "some_vector_list = vectors.vector.tolist()"
   ]
  },
  {
   "cell_type": "code",
   "execution_count": 63,
   "id": "6f406b20-f2bf-4704-ad75-c0e39371e10c",
   "metadata": {},
   "outputs": [
    {
     "name": "stderr",
     "output_type": "stream",
     "text": [
      "100%|█████████████████████████████████████████████████████████████████████████████████████████████████████████████████████████████████████████████████████████████████████████████████████████████████████| 2096/2096 [02:08<00:00, 16.28it/s]\n"
     ]
    }
   ],
   "source": [
    "for each_mobile in tqdm(mobile_specs_rows):\n",
    "    doc = nlp(each_mobile['specifications'])\n",
    "    each_mobile['specification_vector'] = doc.vector"
   ]
  },
  {
   "cell_type": "code",
   "execution_count": 34,
   "id": "aa60bd53-4a6e-475a-acb3-de0d860817b0",
   "metadata": {},
   "outputs": [
    {
     "data": {
      "text/plain": [
       "dict_keys(['company', 'name', 'specifications', 'specification_vector'])"
      ]
     },
     "execution_count": 34,
     "metadata": {},
     "output_type": "execute_result"
    }
   ],
   "source": [
    "mobile_specs_rows[0].keys()"
   ]
  },
  {
   "cell_type": "code",
   "execution_count": 65,
   "id": "18c2edca-8bfa-4471-9554-b96f49438b7f",
   "metadata": {},
   "outputs": [
    {
     "name": "stderr",
     "output_type": "stream",
     "text": [
      "100%|████████████████████████████████████████████████████████████████████████████████████████████████████████████████████████████████████████████████████████████████████████████████████████████████████| 2096/2096 [00:12<00:00, 166.60it/s]\n"
     ]
    }
   ],
   "source": [
    "for doc in tqdm(mobile_specs_rows):\n",
    "    es_client.index(index=index_name, document=doc)"
   ]
  },
  {
   "cell_type": "code",
   "execution_count": 40,
   "id": "5426abb9-b6a2-4dd5-96a1-a4f8286566d9",
   "metadata": {},
   "outputs": [
    {
     "data": {
      "text/plain": [
       "96"
      ]
     },
     "execution_count": 40,
     "metadata": {},
     "output_type": "execute_result"
    }
   ],
   "source": [
    "len(vectors.vector)"
   ]
  },
  {
   "cell_type": "code",
   "execution_count": 66,
   "id": "46a4049d-9487-42df-adf8-b8cbe9b54b2b",
   "metadata": {},
   "outputs": [],
   "source": [
    "search_term = 'samsung-galaxy-quantum-5'\n",
    "vector_search_term = nlp(search_term)"
   ]
  },
  {
   "cell_type": "code",
   "execution_count": 67,
   "id": "b9af4c99-58ce-41b2-8ee7-969e64b232cc",
   "metadata": {},
   "outputs": [],
   "source": [
    "knn_query = {\n",
    "    \"field\": \"specification_vector\",\n",
    "    \"query_vector\": vector_search_term.vector,\n",
    "    \"k\": 5,\n",
    "    \"num_candidates\": 10000\n",
    "}"
   ]
  },
  {
   "cell_type": "code",
   "execution_count": 56,
   "id": "513f1e82-cfae-474c-b407-0fce51f5ebb1",
   "metadata": {},
   "outputs": [],
   "source": [
    "index_name = \"mobile-specifications\""
   ]
  },
  {
   "cell_type": "code",
   "execution_count": 68,
   "id": "e1273f5d-da5e-4574-b5eb-be3b31863028",
   "metadata": {},
   "outputs": [],
   "source": [
    "res = es_client.search(index=index_name,knn=knn_query, source=[\"name\", \"specifications\", \"company\"], size=10)"
   ]
  },
  {
   "cell_type": "code",
   "execution_count": 70,
   "id": "4b324afd-5b1a-4574-8c9a-5aa47be7cb93",
   "metadata": {},
   "outputs": [],
   "source": [
    "search_query = {\n",
    "    'knn': knn_query,\n",
    "    '_source': [\"name\", \"company\", \"specifications\"]\n",
    "}"
   ]
  },
  {
   "cell_type": "code",
   "execution_count": 71,
   "id": "b29d3a3b-c61b-49bf-9881-83e9eb932bd8",
   "metadata": {},
   "outputs": [],
   "source": [
    "res = es_client.search(index=index_name, body=search_query)"
   ]
  },
  {
   "cell_type": "code",
   "execution_count": 72,
   "id": "0361d97d-07d0-409e-b216-d5d7dae5a526",
   "metadata": {},
   "outputs": [
    {
     "data": {
      "text/plain": [
       "{'total': {'value': 5, 'relation': 'eq'},\n",
       " 'max_score': 0.72518784,\n",
       " 'hits': [{'_index': 'mobile-specifications',\n",
       "   '_id': 'NhewYJIBdHrq0v253cbH',\n",
       "   '_score': 0.72518784,\n",
       "   '_source': {'name': 'redmi-k50-ultra',\n",
       "    'company': 'redmi-phones',\n",
       "    'specifications': '{\"General\": {\"Brand\": \"Redmi\", \"Model\": \"K50 Ultra\", \"Release date\": \"11th August 2022\", \"Launched in India\": \"No\", \"Battery capacity (mAh)\": \"5,000\", \"Removable battery\": \"No\", \"Wireless charging\": \"No\", \"Colours\": \"Black, Blue, and Silver\"}, \"Camera\": {\"Rear camera\": \"108-megapixel + 8-megapixel + 2-megapixel\", \"No. of Rear Cameras\": \"3\", \"Front camera\": \"20-megapixel\", \"No. of Front Cameras\": \"1\"}}'}},\n",
       "  {'_index': 'mobile-specifications',\n",
       "   '_id': '1BewYJIBdHrq0v250MM1',\n",
       "   '_score': 0.71979403,\n",
       "   '_source': {'name': 'lg-k92-5g',\n",
       "    'company': 'lg-phones',\n",
       "    'specifications': '{\"General\": {\"Brand\": \"LG\", \"Model\": \"K92 5G\", \"Release date\": \"30th October 2020\", \"Launched in India\": \"No\", \"Battery capacity (mAh)\": \"4000\", \"Colours\": \"Titan Gray\"}, \"Display\": {\"Screen size (inches)\": \"6.70\"}, \"Hardware\": {\"Processor make\": \"Qualcomm Snapdragon 690\", \"RAM\": \"6GB\", \"Internal storage\": \"128GB\", \"Expandable storage\": \"Yes\", \"Expandable storage type\": \"microSD\", \"Expandable storage up to (GB)\": \"2TB\"}, \"Camera\": {\"Rear camera\": \"64-megapixel (f/1.78) + 5-megapixel (f/2.2) + 2-megapixel (f/2.4) + 2-megapixel (f/2.4)\", \"Rear autofocus\": \"Yes\", \"Front camera\": \"16-megapixel (f/2.0)\"}, \"Software\": {\"Operating system\": \"Android 10\"}, \"Connectivity\": {\"Wi-Fi\": \"Yes\", \"Wi-Fi standards supported\": \"802.11 a/b/g/n/ac\", \"Bluetooth\": \"Yes, v 5.10\", \"USB Type-C\": \"Yes\"}, \"Sensors\": {\"Fingerprint sensor\": \"Yes\"}}'}},\n",
       "  {'_index': 'mobile-specifications',\n",
       "   '_id': '6xewYJIBdHrq0v25xsEW',\n",
       "   '_score': 0.71623504,\n",
       "   '_source': {'name': 'honor-90-pro',\n",
       "    'company': 'honor-phones',\n",
       "    'specifications': '{\"General\": {\"Brand\": \"Honor\", \"Model\": \"90 Pro\", \"Release date\": \"29th May 2023\", \"Launched in India\": \"No\", \"Dimensions (mm)\": \"161.60 x 73.90 x 7.70\", \"Weight (g)\": \"180.00\", \"Battery capacity (mAh)\": \"5000\", \"Removable battery\": \"No\", \"Fast charging\": \"Proprietary\", \"Wireless charging\": \"No\", \"Colours\": \"Diamond Silver, Emerald Green, Midnight Black, Peacock Blue\"}, \"Display\": {\"Refresh Rate\": \"120 Hz\", \"Resolution Standard\": \"FHD+\", \"Screen size (inches)\": \"6.78\", \"Touchscreen\": \"Yes\", \"Resolution\": \"1080x2664 pixels\"}, \"Hardware\": {\"Processor\": \"octa-core\", \"Processor make\": \"Qualcomm Snapdragon 8+ Gen 1\", \"RAM\": \"12GB\", \"Internal storage\": \"256GB\"}, \"Camera\": {\"Rear camera\": \"200-megapixel (f/1.9) + 12-megapixel (f/2.2) + 32-megapixel\", \"No. of Rear Cameras\": \"3\", \"Front camera\": \"50-megapixel (f/2.4) + 2-megapixel (f/2.4)\", \"No. of Front Cameras\": \"2\"}, \"Software\": {\"Operating system\": \"Android 13\", \"Skin\": \"MagicOS 7.1\"}, \"Connectivity\": {\"Wi-Fi\": \"Yes\", \"Wi-Fi standards supported\": \"802.11 a/b/g/n/ac/ax\", \"GPS\": \"Yes\", \"Bluetooth\": \"Yes, v 5.20\", \"NFC\": \"Yes\", \"USB Type-C\": \"Yes\"}}'}},\n",
       "  {'_index': 'mobile-specifications',\n",
       "   '_id': 'KxewYJIBdHrq0v2568i4',\n",
       "   '_score': 0.71508247,\n",
       "   '_source': {'name': 'zte-axon-10-pro-5g',\n",
       "    'company': 'zte-phones',\n",
       "    'specifications': '{\"General\": {\"Brand\": \"ZTE\", \"Model\": \"Axon 10 Pro 5G\", \"Release date\": \"February 2019\", \"Form factor\": \"Touchscreen\", \"Dimensions (mm)\": \"159.20 x 73.40 x 7.90\", \"Battery capacity (mAh)\": \"4000\", \"Fast charging\": \"Quick Charge 4+\", \"Wireless charging\": \"Yes\"}, \"Display\": {\"Screen size (inches)\": \"6.47\", \"Touchscreen\": \"Yes\", \"Resolution\": \"1080x2340 pixels\"}, \"Hardware\": {\"Processor\": \"octa-core\", \"Processor make\": \"Qualcomm Snapdragon 855\", \"RAM\": \"6GB\", \"Internal storage\": \"128GB\", \"Expandable storage\": \"Yes\", \"Expandable storage type\": \"microSD\", \"Expandable storage up to (GB)\": \"2000\"}, \"Camera\": {\"Rear camera\": \"48-megapixel (f/1.7) + 20-megapixel (f/2.2) + 8-megapixel (f/2.4)\", \"Front camera\": \"20-megapixel (f/2.0)\"}, \"Software\": {\"Operating system\": \"Android Pie\"}, \"Connectivity\": {\"Wi-Fi\": \"Yes\", \"Wi-Fi standards supported\": \"802.11 a/b/g/n/ac\", \"Bluetooth\": \"Yes, v 5.00\", \"USB Type-C\": \"Yes\"}}'}},\n",
       "  {'_index': 'mobile-specifications',\n",
       "   '_id': 'qxewYJIBdHrq0v2558dj',\n",
       "   '_score': 0.71466225,\n",
       "   '_source': {'name': 'xiaomi-civi-2',\n",
       "    'company': 'xiaomi-phones',\n",
       "    'specifications': '{\"General\": {\"Brand\": \"Xiaomi\", \"Model\": \"Civi 2\", \"Release date\": \"27th September 2022\", \"Launched in India\": \"No\", \"Dimensions (mm)\": \"159.20 x 72.70 x 7.23\", \"Weight (g)\": \"171.80\", \"Battery capacity (mAh)\": \"4500\", \"Colours\": \"Black, Blue, Pink, Hello Kitty Edition\"}, \"Display\": {\"Refresh Rate\": \"120 Hz\", \"Resolution Standard\": \"FHD+\", \"Screen size (inches)\": \"6.55\", \"Touchscreen\": \"Yes\", \"Resolution\": \"1080x2400 pixels\", \"Protection type\": \"Gorilla Glass 5\"}, \"Hardware\": {\"Processor\": \"2.4GHz octa-core\", \"Processor make\": \"Qualcomm Snapdragon 7 Gen 1\", \"RAM\": \"8GB\", \"Internal storage\": \"128GB\"}, \"Camera\": {\"Rear camera\": \"50-megapixel (f/1.8) + 20-megapixel (f/2.2) + 2-megapixel (f/2.4)\", \"No. of Rear Cameras\": \"3\", \"No. of Front Cameras\": \"2\", \"Lens Type (Second Rear Camera)\": \"Ultra Wide-Angle\", \"Lens Type (Third Rear Camera)\": \"Macro\", \"Lens Type (Secondary Front Camera)\": \"Ultra Wide-Angle\", \"Front camera\": \"32-megapixel (f/2.0) + 32-megapixel\"}, \"Software\": {\"Operating system\": \"Android 12\", \"Skin\": \"MIUI 13\"}, \"Connectivity\": {\"Wi-Fi\": \"Yes\", \"Wi-Fi standards supported\": \"802.11 a/b/g/n/ac/ax\", \"GPS\": \"Yes\", \"Bluetooth\": \"Yes, v 5.20\", \"NFC\": \"Yes\", \"Infrared\": \"Yes\", \"USB Type-C\": \"Yes\", \"Wi-Fi Direct\": \"Yes\"}, \"Sensors\": {\"Compass/ Magnetometer\": \"Yes\", \"Proximity sensor\": \"Yes\", \"Accelerometer\": \"Yes\", \"Ambient light sensor\": \"Yes\", \"Gyroscope\": \"Yes\"}}'}}]}"
      ]
     },
     "execution_count": 72,
     "metadata": {},
     "output_type": "execute_result"
    }
   ],
   "source": [
    "res[\"hits\"]"
   ]
  },
  {
   "cell_type": "code",
   "execution_count": 76,
   "id": "4f46ba69-d65c-4ee8-85a0-8b8e2dfb3224",
   "metadata": {},
   "outputs": [
    {
     "name": "stdout",
     "output_type": "stream",
     "text": [
      "pandas==2.2.3\n"
     ]
    }
   ],
   "source": [
    "!pip freeze | grep -i pandas"
   ]
  },
  {
   "cell_type": "code",
   "execution_count": null,
   "id": "723b422a-07a8-4f91-901c-40f85413209d",
   "metadata": {},
   "outputs": [],
   "source": [
    "!"
   ]
  }
 ],
 "metadata": {
  "kernelspec": {
   "display_name": "Python 3 (ipykernel)",
   "language": "python",
   "name": "python3"
  },
  "language_info": {
   "codemirror_mode": {
    "name": "ipython",
    "version": 3
   },
   "file_extension": ".py",
   "mimetype": "text/x-python",
   "name": "python",
   "nbconvert_exporter": "python",
   "pygments_lexer": "ipython3",
   "version": "3.9.6"
  }
 },
 "nbformat": 4,
 "nbformat_minor": 5
}
