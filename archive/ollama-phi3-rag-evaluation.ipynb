{
 "cells": [
  {
   "cell_type": "code",
   "execution_count": 1,
   "id": "cddebd8a-ff12-41a4-b660-d7e2b0dcb08a",
   "metadata": {},
   "outputs": [
    {
     "name": "stderr",
     "output_type": "stream",
     "text": [
      "/Users/amoghkulkarni/.local/share/virtualenvs/gadget-spec-bot-PKdu65VV/lib/python3.9/site-packages/urllib3/__init__.py:35: NotOpenSSLWarning: urllib3 v2 only supports OpenSSL 1.1.1+, currently the 'ssl' module is compiled with 'LibreSSL 2.8.3'. See: https://github.com/urllib3/urllib3/issues/3020\n",
      "  warnings.warn(\n",
      "/Users/amoghkulkarni/.local/share/virtualenvs/gadget-spec-bot-PKdu65VV/lib/python3.9/site-packages/tqdm/auto.py:21: TqdmWarning: IProgress not found. Please update jupyter and ipywidgets. See https://ipywidgets.readthedocs.io/en/stable/user_install.html\n",
      "  from .autonotebook import tqdm as notebook_tqdm\n"
     ]
    }
   ],
   "source": [
    "import json\n",
    "from elasticsearch import Elasticsearch\n",
    "from tqdm.auto import tqdm\n",
    "import numpy as np\n",
    "import pandas as pd\n",
    "from sentence_transformers import SentenceTransformer"
   ]
  },
  {
   "cell_type": "code",
   "execution_count": 2,
   "id": "b669dcb5-7154-4e27-b7aa-a4f85ac63878",
   "metadata": {},
   "outputs": [],
   "source": [
    "index_settings = {\n",
    "    \"settings\": {\n",
    "        \"number_of_shards\": 1,\n",
    "        \"number_of_replicas\": 0\n",
    "    },\n",
    "    \"mappings\": {\n",
    "        \"properties\": {\n",
    "            \"company\": {\"type\": \"text\"},\n",
    "            \"name\": {\"type\": \"text\"},\n",
    "            \"specifications\": {\"type\": \"keyword\"} ,\n",
    "            \"name_vector\": {\"type\": \"dense_vector\", \"dims\": 768, \"index\": True, \"similarity\": \"cosine\"},\n",
    "            \"specification_vector\": {\"type\": \"dense_vector\", \"dims\": 768, \"index\": True, \"similarity\": \"cosine\"}\n",
    "        }\n",
    "    }\n",
    "}"
   ]
  },
  {
   "cell_type": "code",
   "execution_count": 3,
   "id": "bdbdb752-bf80-4e58-891b-537e4b4ac2af",
   "metadata": {},
   "outputs": [],
   "source": [
    "es_client = Elasticsearch('http://localhost:9200')"
   ]
  },
  {
   "cell_type": "code",
   "execution_count": 4,
   "id": "6aee0838-b74a-4d73-8d45-520f4b8e78df",
   "metadata": {},
   "outputs": [
    {
     "data": {
      "text/plain": [
       "ObjectApiResponse({'acknowledged': True, 'shards_acknowledged': True, 'index': 'mobile-specifications'})"
      ]
     },
     "execution_count": 4,
     "metadata": {},
     "output_type": "execute_result"
    }
   ],
   "source": [
    "index_name = \"mobile-specifications\"\n",
    "es_client.indices.delete(index=index_name)\n",
    "es_client.indices.create(index=index_name, body=index_settings)"
   ]
  },
  {
   "cell_type": "code",
   "execution_count": 5,
   "id": "78de3659-0563-4774-9d5f-645fac1c85ed",
   "metadata": {},
   "outputs": [],
   "source": [
    "import pickle"
   ]
  },
  {
   "cell_type": "code",
   "execution_count": 6,
   "id": "04205bda-e140-438d-b14c-0cc3807d019f",
   "metadata": {},
   "outputs": [],
   "source": [
    "with open('../search_build_and_eval/mobile_specs_vector_data.pkl', 'rb') as fp:\n",
    "    mobile_specs_vector_data = pickle.load(fp)"
   ]
  },
  {
   "cell_type": "code",
   "execution_count": 8,
   "id": "ef684fd0-c123-4164-81d5-71e8e9a70cef",
   "metadata": {},
   "outputs": [
    {
     "data": {
      "text/plain": [
       "2096"
      ]
     },
     "execution_count": 8,
     "metadata": {},
     "output_type": "execute_result"
    }
   ],
   "source": [
    "len(mobile_specs_vector_data)"
   ]
  },
  {
   "cell_type": "code",
   "execution_count": 7,
   "id": "503b2431-b959-41dc-9262-f5ccdb832c37",
   "metadata": {},
   "outputs": [],
   "source": [
    "with open('../data-extraction/mobile_specifications_data.json', 'r') as fp:\n",
    "    mobile_specs_data = json.load(fp)"
   ]
  },
  {
   "cell_type": "code",
   "execution_count": 10,
   "id": "46d47d6a-b51f-41e6-8820-c7bcad60cc6e",
   "metadata": {},
   "outputs": [
    {
     "data": {
      "text/plain": [
       "179"
      ]
     },
     "execution_count": 10,
     "metadata": {},
     "output_type": "execute_result"
    }
   ],
   "source": [
    "len(mobile_specs_data)"
   ]
  },
  {
   "cell_type": "code",
   "execution_count": 27,
   "id": "0bd874ce-3bdc-485a-b2e9-93dd76cdcbce",
   "metadata": {},
   "outputs": [
    {
     "name": "stdout",
     "output_type": "stream",
     "text": [
      "10.or-g2\n",
      "10.or-d2\n",
      "10.or-d\n",
      "10.or-g\n",
      "10.or-e\n"
     ]
    }
   ],
   "source": [
    "for each in mobile_specs_data['10-or-phones']:\n",
    "    print(each)"
   ]
  },
  {
   "cell_type": "code",
   "execution_count": 8,
   "id": "bc870b28-1c91-41be-a169-a74a29660668",
   "metadata": {},
   "outputs": [],
   "source": [
    "ram_combination_phones = {\n",
    "    'phone_with_one_gb': [],\n",
    "    'phone_with_two_gb': [],\n",
    "    'phone_with_four_gb': [],\n",
    "    'phone_with_six_gb': [],\n",
    "    'phone_with_eight_gb': [],\n",
    "    'phone_with_twelve_gb': [],\n",
    "    'phone_with_sixteen_gb': [],\n",
    "    'phone_with_three_gb': [],\n",
    "    'phone_with_eighteen_gb': [],\n",
    "    'phone_with_thirty_two_gb': [],\n",
    "}"
   ]
  },
  {
   "cell_type": "code",
   "execution_count": 9,
   "id": "b909a788-622c-48a0-9cc7-53aff13f4330",
   "metadata": {},
   "outputs": [],
   "source": [
    "phones_with_large_ram = []\n",
    "phones_with_no_ram = []"
   ]
  },
  {
   "cell_type": "code",
   "execution_count": 10,
   "id": "c628337b-450c-42cd-b861-a13c6369769d",
   "metadata": {},
   "outputs": [],
   "source": [
    "for each_mobile_category in mobile_specs_data:\n",
    "    for each_mobile in mobile_specs_data[each_mobile_category]:\n",
    "        mobile = mobile_specs_data[each_mobile_category][each_mobile]\n",
    "        if 'Hardware' not in mobile:\n",
    "            temp_dict = {\n",
    "                'mobile_company': each_mobile_category,\n",
    "                'mobile': each_mobile\n",
    "            }\n",
    "            phones_with_no_ram.append(temp_dict)\n",
    "        elif 'RAM' not in mobile['Hardware']:\n",
    "            temp_dict = {\n",
    "                'mobile_company': each_mobile_category,\n",
    "                'mobile': each_mobile\n",
    "            }\n",
    "            phones_with_no_ram.append(temp_dict)\n",
    "        elif '1' in mobile['Hardware']['RAM']:\n",
    "            ram_combination_phones['phone_with_one_gb'].append(each_mobile)\n",
    "        elif '2' in mobile['Hardware']['RAM']:\n",
    "            ram_combination_phones['phone_with_two_gb'].append(each_mobile)\n",
    "        elif '3' in mobile['Hardware']['RAM']:\n",
    "            ram_combination_phones['phone_with_three_gb'].append(each_mobile)\n",
    "        elif '4' in mobile['Hardware']['RAM']:\n",
    "            ram_combination_phones['phone_with_four_gb'].append(each_mobile)\n",
    "        elif '6' in mobile['Hardware']['RAM']:\n",
    "            ram_combination_phones['phone_with_six_gb'].append(each_mobile)\n",
    "        elif '8' in mobile['Hardware']['RAM']:\n",
    "            ram_combination_phones['phone_with_eight_gb'].append(each_mobile)\n",
    "        elif '12' in mobile['Hardware']['RAM']:\n",
    "            ram_combination_phones['phone_with_twelve_gb'].append(each_mobile)\n",
    "        elif '16' in mobile['Hardware']['RAM']:\n",
    "            ram_combination_phones['phone_with_sixteen_gb'].append(each_mobile)\n",
    "        elif '18' in mobile['Hardware']['RAM']:\n",
    "            ram_combination_phones['phone_with_eighteen_gb'].append(each_mobile)\n",
    "        elif '32' in mobile['Hardware']['RAM']:\n",
    "            ram_combination_phones['phone_with_thirty_two_gb'].append(each_mobile)\n",
    "        else:\n",
    "            temp_dict = {\n",
    "                'mobile_company': each_mobile_category,\n",
    "                'mobile': each_mobile\n",
    "            }\n",
    "            phones_with_large_ram.append(temp_dict)"
   ]
  },
  {
   "cell_type": "code",
   "execution_count": 13,
   "id": "ccc691b7-7caf-4a9b-a794-052238523d51",
   "metadata": {},
   "outputs": [
    {
     "data": {
      "text/plain": [
       "104"
      ]
     },
     "execution_count": 13,
     "metadata": {},
     "output_type": "execute_result"
    }
   ],
   "source": [
    "len(phones_with_no_ram)"
   ]
  },
  {
   "cell_type": "code",
   "execution_count": 11,
   "id": "3548f041-9f9a-46c9-ab28-3bf5ac75d703",
   "metadata": {},
   "outputs": [
    {
     "data": {
      "text/plain": [
       "0"
      ]
     },
     "execution_count": 11,
     "metadata": {},
     "output_type": "execute_result"
    }
   ],
   "source": [
    "len(phones_with_large_ram)"
   ]
  },
  {
   "cell_type": "code",
   "execution_count": 53,
   "id": "6056a998-ac46-4f4a-a668-878032a2baca",
   "metadata": {},
   "outputs": [
    {
     "data": {
      "text/plain": [
       "dict_keys(['company', 'name', 'specifications', 'name_vector', 'specification_vector'])"
      ]
     },
     "execution_count": 53,
     "metadata": {},
     "output_type": "execute_result"
    }
   ],
   "source": [
    "mobile_specs_vector_data[0].keys()"
   ]
  },
  {
   "cell_type": "code",
   "execution_count": 15,
   "id": "35d9f1cc-8f31-4b81-b032-f6574def7b7a",
   "metadata": {},
   "outputs": [],
   "source": [
    "import pandas as pd"
   ]
  },
  {
   "cell_type": "code",
   "execution_count": 16,
   "id": "d1b646aa-a14f-449a-86c5-b4989c3f6fd7",
   "metadata": {},
   "outputs": [],
   "source": [
    "mobile_df = pd.DataFrame(mobile_specs_vector_data)"
   ]
  },
  {
   "cell_type": "code",
   "execution_count": 17,
   "id": "ea700fc6-5e47-4c87-8a98-060a8d9d6896",
   "metadata": {},
   "outputs": [
    {
     "data": {
      "text/plain": [
       "{'General': {'Brand': '10.or',\n",
       "  'Model': 'G2',\n",
       "  'Price in India': '₹7,999',\n",
       "  'Release date': '28th June 2019',\n",
       "  'Launched in India': 'Yes',\n",
       "  'Form factor': 'Touchscreen',\n",
       "  'Battery capacity (mAh)': '5000',\n",
       "  'Fast charging': 'Proprietary',\n",
       "  'Colours': 'Charcoal Black, Twilight Blue'},\n",
       " 'Display': {'Screen size (inches)': '6.18',\n",
       "  'Touchscreen': 'Yes',\n",
       "  'Resolution': '1080x2246 pixels',\n",
       "  'Protection type': 'Gorilla Glass',\n",
       "  'Aspect ratio': '19:9'},\n",
       " 'Hardware': {'Processor': 'octa-core',\n",
       "  'Processor make': 'Qualcomm Snapdragon 636',\n",
       "  'RAM': '4GB',\n",
       "  'Internal storage': '64GB',\n",
       "  'Expandable storage': 'Yes',\n",
       "  'Expandable storage type': 'microSD',\n",
       "  'Expandable storage up to (GB)': '256',\n",
       "  'Dedicated microSD slot': 'Yes'},\n",
       " 'Camera': {'Rear camera': '16-megapixel + 5-megapixel',\n",
       "  'Rear autofocus': 'Yes',\n",
       "  'Rear flash': 'Dual LED',\n",
       "  'Front camera': '12-megapixel'},\n",
       " 'Software': {'Operating system': 'Android'},\n",
       " 'Connectivity': {'Wi-Fi': 'Yes',\n",
       "  'Wi-Fi standards supported': '802.11 b/g/n',\n",
       "  'GPS': 'Yes',\n",
       "  'Bluetooth': 'Yes',\n",
       "  'Micro-USB': 'Yes',\n",
       "  'Number of SIMs': '2',\n",
       "  'SIM Type': 'Nano-SIM',\n",
       "  'GSM/CDMA': 'GSM',\n",
       "  '3G': 'Yes',\n",
       "  '4G/ LTE': 'Yes',\n",
       "  'Supports 4G in India (Band 40)': 'Yes'},\n",
       " 'Sensors': {'Proximity sensor': 'Yes',\n",
       "  'Accelerometer': 'Yes',\n",
       "  'Ambient light sensor': 'Yes',\n",
       "  'Gyroscope': 'Yes'}}"
      ]
     },
     "execution_count": 17,
     "metadata": {},
     "output_type": "execute_result"
    }
   ],
   "source": [
    "json.loads(mobile_df.iloc[0].specifications)"
   ]
  },
  {
   "cell_type": "code",
   "execution_count": 106,
   "id": "bea31981-0b96-4fe1-9071-29e4c113294b",
   "metadata": {},
   "outputs": [
    {
     "data": {
      "text/html": [
       "<div>\n",
       "<style scoped>\n",
       "    .dataframe tbody tr th:only-of-type {\n",
       "        vertical-align: middle;\n",
       "    }\n",
       "\n",
       "    .dataframe tbody tr th {\n",
       "        vertical-align: top;\n",
       "    }\n",
       "\n",
       "    .dataframe thead th {\n",
       "        text-align: right;\n",
       "    }\n",
       "</style>\n",
       "<table border=\"1\" class=\"dataframe\">\n",
       "  <thead>\n",
       "    <tr style=\"text-align: right;\">\n",
       "      <th></th>\n",
       "      <th>company</th>\n",
       "      <th>name</th>\n",
       "      <th>specifications</th>\n",
       "      <th>name_vector</th>\n",
       "      <th>specification_vector</th>\n",
       "    </tr>\n",
       "  </thead>\n",
       "  <tbody>\n",
       "    <tr>\n",
       "      <th>0</th>\n",
       "      <td>10-or-phones</td>\n",
       "      <td>10.or-g2</td>\n",
       "      <td>{\"General\": {\"Brand\": \"10.or\", \"Model\": \"G2\", ...</td>\n",
       "      <td>[-0.012813553214073181, -0.0776914730668068, 0...</td>\n",
       "      <td>[0.04288917034864426, -0.021033886820077896, -...</td>\n",
       "    </tr>\n",
       "    <tr>\n",
       "      <th>1</th>\n",
       "      <td>10-or-phones</td>\n",
       "      <td>10.or-d2</td>\n",
       "      <td>{\"General\": {\"Brand\": \"10.or\", \"Model\": \"D2\", ...</td>\n",
       "      <td>[-0.031122317537665367, -0.07828520238399506, ...</td>\n",
       "      <td>[0.02611490711569786, -0.027373576536774635, -...</td>\n",
       "    </tr>\n",
       "    <tr>\n",
       "      <th>2</th>\n",
       "      <td>10-or-phones</td>\n",
       "      <td>10.or-d</td>\n",
       "      <td>{\"General\": {\"Brand\": \"10.or\", \"Model\": \"D\", \"...</td>\n",
       "      <td>[-0.009422365576028824, -0.02212154120206833, ...</td>\n",
       "      <td>[0.017275657504796982, -0.049797121435403824, ...</td>\n",
       "    </tr>\n",
       "    <tr>\n",
       "      <th>3</th>\n",
       "      <td>10-or-phones</td>\n",
       "      <td>10.or-g</td>\n",
       "      <td>{\"General\": {\"Brand\": \"10.or\", \"Model\": \"G\", \"...</td>\n",
       "      <td>[-0.006688821595162153, -0.07486896216869354, ...</td>\n",
       "      <td>[0.029656710103154182, -0.052758242934942245, ...</td>\n",
       "    </tr>\n",
       "    <tr>\n",
       "      <th>4</th>\n",
       "      <td>10-or-phones</td>\n",
       "      <td>10.or-e</td>\n",
       "      <td>{\"General\": {\"Brand\": \"10.or\", \"Model\": \"E\", \"...</td>\n",
       "      <td>[-0.01733524352312088, -0.06605043262243271, -...</td>\n",
       "      <td>[0.022073449566960335, -0.05600305646657944, -...</td>\n",
       "    </tr>\n",
       "    <tr>\n",
       "      <th>...</th>\n",
       "      <td>...</td>\n",
       "      <td>...</td>\n",
       "      <td>...</td>\n",
       "      <td>...</td>\n",
       "      <td>...</td>\n",
       "    </tr>\n",
       "    <tr>\n",
       "      <th>2091</th>\n",
       "      <td>zte-phones</td>\n",
       "      <td>zte-blade-v9-vita</td>\n",
       "      <td>{\"General\": {\"Brand\": \"ZTE\", \"Model\": \"Blade V...</td>\n",
       "      <td>[0.008986365981400013, -0.07202902436256409, 0...</td>\n",
       "      <td>[0.027861520648002625, -0.0832376480102539, -0...</td>\n",
       "    </tr>\n",
       "    <tr>\n",
       "      <th>2092</th>\n",
       "      <td>zte-phones</td>\n",
       "      <td>zte-tempo-go</td>\n",
       "      <td>{\"General\": {\"Brand\": \"ZTE\", \"Model\": \"Tempo G...</td>\n",
       "      <td>[-0.005515120457857847, -0.06609780341386795, ...</td>\n",
       "      <td>[0.017104269936680794, -0.039781711995601654, ...</td>\n",
       "    </tr>\n",
       "    <tr>\n",
       "      <th>2093</th>\n",
       "      <td>zte-phones</td>\n",
       "      <td>zte-blade-v9</td>\n",
       "      <td>{\"General\": {\"Brand\": \"ZTE\", \"Model\": \"Blade V...</td>\n",
       "      <td>[-0.013905730098485947, -0.09210636466741562, ...</td>\n",
       "      <td>[0.021680796518921852, -0.08901219069957733, -...</td>\n",
       "    </tr>\n",
       "    <tr>\n",
       "      <th>2094</th>\n",
       "      <td>zte-phones</td>\n",
       "      <td>zte-blade-a3</td>\n",
       "      <td>{\"General\": {\"Brand\": \"ZTE\", \"Model\": \"Blade A...</td>\n",
       "      <td>[0.01376366801559925, -0.13015377521514893, 0....</td>\n",
       "      <td>[0.03441234678030014, -0.10361833870410919, -0...</td>\n",
       "    </tr>\n",
       "    <tr>\n",
       "      <th>2095</th>\n",
       "      <td>zte-phones</td>\n",
       "      <td>zte-axon-m</td>\n",
       "      <td>{\"General\": {\"Brand\": \"ZTE\", \"Model\": \"Axon M\"...</td>\n",
       "      <td>[-0.02744131162762642, -0.06346439570188522, -...</td>\n",
       "      <td>[-0.007104981690645218, -0.052895814180374146,...</td>\n",
       "    </tr>\n",
       "  </tbody>\n",
       "</table>\n",
       "<p>2096 rows × 5 columns</p>\n",
       "</div>"
      ],
      "text/plain": [
       "           company               name  \\\n",
       "0     10-or-phones           10.or-g2   \n",
       "1     10-or-phones           10.or-d2   \n",
       "2     10-or-phones            10.or-d   \n",
       "3     10-or-phones            10.or-g   \n",
       "4     10-or-phones            10.or-e   \n",
       "...            ...                ...   \n",
       "2091    zte-phones  zte-blade-v9-vita   \n",
       "2092    zte-phones       zte-tempo-go   \n",
       "2093    zte-phones       zte-blade-v9   \n",
       "2094    zte-phones       zte-blade-a3   \n",
       "2095    zte-phones         zte-axon-m   \n",
       "\n",
       "                                         specifications  \\\n",
       "0     {\"General\": {\"Brand\": \"10.or\", \"Model\": \"G2\", ...   \n",
       "1     {\"General\": {\"Brand\": \"10.or\", \"Model\": \"D2\", ...   \n",
       "2     {\"General\": {\"Brand\": \"10.or\", \"Model\": \"D\", \"...   \n",
       "3     {\"General\": {\"Brand\": \"10.or\", \"Model\": \"G\", \"...   \n",
       "4     {\"General\": {\"Brand\": \"10.or\", \"Model\": \"E\", \"...   \n",
       "...                                                 ...   \n",
       "2091  {\"General\": {\"Brand\": \"ZTE\", \"Model\": \"Blade V...   \n",
       "2092  {\"General\": {\"Brand\": \"ZTE\", \"Model\": \"Tempo G...   \n",
       "2093  {\"General\": {\"Brand\": \"ZTE\", \"Model\": \"Blade V...   \n",
       "2094  {\"General\": {\"Brand\": \"ZTE\", \"Model\": \"Blade A...   \n",
       "2095  {\"General\": {\"Brand\": \"ZTE\", \"Model\": \"Axon M\"...   \n",
       "\n",
       "                                            name_vector  \\\n",
       "0     [-0.012813553214073181, -0.0776914730668068, 0...   \n",
       "1     [-0.031122317537665367, -0.07828520238399506, ...   \n",
       "2     [-0.009422365576028824, -0.02212154120206833, ...   \n",
       "3     [-0.006688821595162153, -0.07486896216869354, ...   \n",
       "4     [-0.01733524352312088, -0.06605043262243271, -...   \n",
       "...                                                 ...   \n",
       "2091  [0.008986365981400013, -0.07202902436256409, 0...   \n",
       "2092  [-0.005515120457857847, -0.06609780341386795, ...   \n",
       "2093  [-0.013905730098485947, -0.09210636466741562, ...   \n",
       "2094  [0.01376366801559925, -0.13015377521514893, 0....   \n",
       "2095  [-0.02744131162762642, -0.06346439570188522, -...   \n",
       "\n",
       "                                   specification_vector  \n",
       "0     [0.04288917034864426, -0.021033886820077896, -...  \n",
       "1     [0.02611490711569786, -0.027373576536774635, -...  \n",
       "2     [0.017275657504796982, -0.049797121435403824, ...  \n",
       "3     [0.029656710103154182, -0.052758242934942245, ...  \n",
       "4     [0.022073449566960335, -0.05600305646657944, -...  \n",
       "...                                                 ...  \n",
       "2091  [0.027861520648002625, -0.0832376480102539, -0...  \n",
       "2092  [0.017104269936680794, -0.039781711995601654, ...  \n",
       "2093  [0.021680796518921852, -0.08901219069957733, -...  \n",
       "2094  [0.03441234678030014, -0.10361833870410919, -0...  \n",
       "2095  [-0.007104981690645218, -0.052895814180374146,...  \n",
       "\n",
       "[2096 rows x 5 columns]"
      ]
     },
     "execution_count": 106,
     "metadata": {},
     "output_type": "execute_result"
    }
   ],
   "source": [
    "mobile_df"
   ]
  },
  {
   "cell_type": "code",
   "execution_count": 18,
   "id": "94698fd3-8f23-4d41-9c35-0ec4e87ec941",
   "metadata": {},
   "outputs": [],
   "source": [
    "phones_with_16mp_camera_values = []\n",
    "phones_with_48mp_camera_values = []"
   ]
  },
  {
   "cell_type": "code",
   "execution_count": 19,
   "id": "55e976a4-287c-4a75-9a59-e369619226ab",
   "metadata": {},
   "outputs": [],
   "source": [
    "def get_all_camera_specs(row):\n",
    "    row_dict = json.loads(row['specifications'])\n",
    "    if 'Camera' in row_dict and 'Rear camera' in row_dict['Camera']:\n",
    "        if '16' in row_dict['Camera']['Rear camera']:\n",
    "            phones_with_16mp_camera_values.append(row['name'])\n",
    "        elif '48' in row_dict['Camera']['Rear camera']:\n",
    "            phones_with_48mp_camera_values.append(row['name'])"
   ]
  },
  {
   "cell_type": "code",
   "execution_count": 20,
   "id": "eadc8386-4da1-409d-a5c8-ce06583d13f0",
   "metadata": {},
   "outputs": [
    {
     "data": {
      "text/plain": [
       "0       None\n",
       "1       None\n",
       "2       None\n",
       "3       None\n",
       "4       None\n",
       "        ... \n",
       "2091    None\n",
       "2092    None\n",
       "2093    None\n",
       "2094    None\n",
       "2095    None\n",
       "Length: 2096, dtype: object"
      ]
     },
     "execution_count": 20,
     "metadata": {},
     "output_type": "execute_result"
    }
   ],
   "source": [
    "mobile_df.apply(lambda row: get_all_camera_specs(row), axis=1)"
   ]
  },
  {
   "cell_type": "code",
   "execution_count": 21,
   "id": "ae7f4e0f-ae19-43d7-9fbe-7e4a95eff12c",
   "metadata": {},
   "outputs": [
    {
     "data": {
      "text/plain": [
       "111"
      ]
     },
     "execution_count": 21,
     "metadata": {},
     "output_type": "execute_result"
    }
   ],
   "source": [
    "phones_with_16mp_camera_values = list(set(phones_with_16mp_camera_values))\n",
    "len(phones_with_16mp_camera_values)"
   ]
  },
  {
   "cell_type": "code",
   "execution_count": 117,
   "id": "3de387fb-2c1f-496f-83a4-22403c997b14",
   "metadata": {},
   "outputs": [
    {
     "data": {
      "text/plain": [
       "114"
      ]
     },
     "execution_count": 117,
     "metadata": {},
     "output_type": "execute_result"
    }
   ],
   "source": [
    "phones_with_48mp_camera_values = list(set(phones_with_48mp_camera_values))\n",
    "len(phones_with_48mp_camera_values)"
   ]
  },
  {
   "cell_type": "code",
   "execution_count": 118,
   "id": "2e6a2cc3-af70-4794-875b-41d91431ecf4",
   "metadata": {},
   "outputs": [
    {
     "data": {
      "text/plain": [
       "['nubia-z18',\n",
       " 'gionee-s8',\n",
       " 'panasonic-eluga-ray-810',\n",
       " 'panasonic-eluga-ray-max',\n",
       " 'coolpad-cool-play-8']"
      ]
     },
     "execution_count": 118,
     "metadata": {},
     "output_type": "execute_result"
    }
   ],
   "source": [
    "phones_with_16mp_camera_values[:5]"
   ]
  },
  {
   "cell_type": "code",
   "execution_count": 119,
   "id": "3a8bf4df-c585-4911-a250-e5e1b920089b",
   "metadata": {},
   "outputs": [
    {
     "data": {
      "text/plain": [
       "['google-pixel-9-pro',\n",
       " 'google-pixel-6-pro',\n",
       " 'poco-x3-pro',\n",
       " 'meizu-16s',\n",
       " 'zte-axon-11-se']"
      ]
     },
     "execution_count": 119,
     "metadata": {},
     "output_type": "execute_result"
    }
   ],
   "source": [
    "phones_with_48mp_camera_values[:5]"
   ]
  },
  {
   "cell_type": "code",
   "execution_count": 86,
   "id": "2d24818b-0f6f-4a59-8f9b-150f011680e2",
   "metadata": {},
   "outputs": [
    {
     "data": {
      "text/plain": [
       "3255"
      ]
     },
     "execution_count": 86,
     "metadata": {},
     "output_type": "execute_result"
    }
   ],
   "source": [
    "len(camera_values)"
   ]
  },
  {
   "cell_type": "code",
   "execution_count": 87,
   "id": "0fd3e378-6d05-4f6d-ac1b-d1f34966c965",
   "metadata": {},
   "outputs": [],
   "source": [
    "unique_camera_values = set(camera_values)"
   ]
  },
  {
   "cell_type": "code",
   "execution_count": 88,
   "id": "ce184499-35ec-4ed3-96c5-349ed71318af",
   "metadata": {},
   "outputs": [
    {
     "data": {
      "text/plain": [
       "516"
      ]
     },
     "execution_count": 88,
     "metadata": {},
     "output_type": "execute_result"
    }
   ],
   "source": [
    "len(unique_camera_values)"
   ]
  },
  {
   "cell_type": "code",
   "execution_count": 90,
   "id": "977cd88b-0cf9-4208-ac5f-5a843fe4b338",
   "metadata": {},
   "outputs": [
    {
     "data": {
      "text/plain": [
       "['8-megapixel + VGA + VGA',\n",
       " '8-megapixel (f/2.2, 1.5-micron)',\n",
       " '12-megapixel (f/2.0) + 12-megapixel (f/2.4) + 12-megapixel (f/2.2)',\n",
       " '12.2-megapixel (f/1.8, 1.4-micron)',\n",
       " '50-megapixel + 48-megapixel',\n",
       " '12-megapixel (f/1.6, 1.4-micron) + 12-megapixel (f/2.4, 1-micron) + 12-megapixel (f/2.4, 1-micron)',\n",
       " '50-megapixel + 12-megapixel',\n",
       " '50-megapixel + 12-megapixel + 12-megapixel',\n",
       " '13-megapixel (f/1.8) + 2-megapixel',\n",
       " '13-megapixel (f/2.2, 1.12-micron) + 5-megapixel (f/2.2, 1.12-micron) + 2-megapixel (f/2.4, 1.75-micron)']"
      ]
     },
     "execution_count": 90,
     "metadata": {},
     "output_type": "execute_result"
    }
   ],
   "source": [
    "list(unique_camera_values)[:10]"
   ]
  },
  {
   "cell_type": "code",
   "execution_count": 91,
   "id": "033977c5-e400-46f3-a147-91deda0ddd94",
   "metadata": {},
   "outputs": [],
   "source": [
    "os_values = []"
   ]
  },
  {
   "cell_type": "code",
   "execution_count": 94,
   "id": "401f0595-eff3-4205-bb0f-7bb15c651f6c",
   "metadata": {},
   "outputs": [],
   "source": [
    "def get_all_os_specs(row):\n",
    "    row_dict = json.loads(row)\n",
    "    if 'Software' in row_dict and 'Operating system' in row_dict['Software']:\n",
    "        os_values.append(row_dict['Software']['Operating system'])"
   ]
  },
  {
   "cell_type": "markdown",
   "id": "8a075d47-3965-49bd-9cc9-0febbad07773",
   "metadata": {},
   "source": [
    "#### Above code gives me all os values and not phone names"
   ]
  },
  {
   "cell_type": "code",
   "execution_count": 22,
   "id": "88ab2fd3-f471-4e23-b510-56e68a8c7af8",
   "metadata": {},
   "outputs": [],
   "source": [
    "phones_with_android_values = []\n",
    "phones_with_ios_values = []"
   ]
  },
  {
   "cell_type": "code",
   "execution_count": 23,
   "id": "ef85f3b2-fab5-47af-b7a4-50b085850b97",
   "metadata": {},
   "outputs": [],
   "source": [
    "def get_all_os_specs(row):\n",
    "    row_dict = json.loads(row['specifications'])\n",
    "    if 'Software' in row_dict and 'Operating system' in row_dict['Software']:\n",
    "        if 'Android' in row_dict['Software']['Operating system']:\n",
    "            phones_with_android_values.append(row['name'])\n",
    "        elif 'iOS' in row_dict['Software']['Operating system']:\n",
    "            phones_with_ios_values.append(row['name'])"
   ]
  },
  {
   "cell_type": "code",
   "execution_count": 25,
   "id": "2f0e65e7-0927-49bb-ab8d-c76d31d56cc0",
   "metadata": {},
   "outputs": [
    {
     "data": {
      "text/plain": [
       "0       None\n",
       "1       None\n",
       "2       None\n",
       "3       None\n",
       "4       None\n",
       "        ... \n",
       "2091    None\n",
       "2092    None\n",
       "2093    None\n",
       "2094    None\n",
       "2095    None\n",
       "Length: 2096, dtype: object"
      ]
     },
     "execution_count": 25,
     "metadata": {},
     "output_type": "execute_result"
    }
   ],
   "source": [
    "mobile_df.apply(lambda row: get_all_os_specs(row), axis=1)"
   ]
  },
  {
   "cell_type": "code",
   "execution_count": 96,
   "id": "023bacec-b1bb-4a3c-8f82-43dffdbdb8d2",
   "metadata": {},
   "outputs": [],
   "source": [
    "os_values = list(set(os_values))"
   ]
  },
  {
   "cell_type": "code",
   "execution_count": 97,
   "id": "e62e1f2f-8bf8-4f56-8469-1e876d88cb05",
   "metadata": {},
   "outputs": [
    {
     "data": {
      "text/plain": [
       "118"
      ]
     },
     "execution_count": 97,
     "metadata": {},
     "output_type": "execute_result"
    }
   ],
   "source": [
    "len(os_values)"
   ]
  },
  {
   "cell_type": "code",
   "execution_count": 98,
   "id": "30ddb57b-8e7f-4213-8df1-de895eb0e3d2",
   "metadata": {},
   "outputs": [
    {
     "data": {
      "text/plain": [
       "['HarmonyOS HarmonyOS 4.0',\n",
       " 'Android 4.0',\n",
       " 'Android Go Edition',\n",
       " 'HarmonyOS 4.2',\n",
       " 'Firefox OS 1.4',\n",
       " 'Android 4.2.2',\n",
       " 'Android 9 pIE',\n",
       " 'Android 4.1',\n",
       " 'Android 5.1.1',\n",
       " 'Android 13 (Go Edition)']"
      ]
     },
     "execution_count": 98,
     "metadata": {},
     "output_type": "execute_result"
    }
   ],
   "source": [
    "os_values[:10]"
   ]
  },
  {
   "cell_type": "code",
   "execution_count": 26,
   "id": "3c2412ad-c31c-4cba-a5b8-f5a923732a7c",
   "metadata": {},
   "outputs": [
    {
     "data": {
      "text/plain": [
       "1861"
      ]
     },
     "execution_count": 26,
     "metadata": {},
     "output_type": "execute_result"
    }
   ],
   "source": [
    "phones_with_android_values = list(set(phones_with_android_values))\n",
    "len(phones_with_android_values)"
   ]
  },
  {
   "cell_type": "code",
   "execution_count": 27,
   "id": "c17fe912-6ee6-4ee8-9774-bc83b9506098",
   "metadata": {},
   "outputs": [
    {
     "data": {
      "text/plain": [
       "['asus-zenfone-max-m1-(zb556kl)',\n",
       " 'oneplus-8-pro',\n",
       " 'xolo-opus-hd',\n",
       " 'panasonic-p101',\n",
       " 'lg-k41s']"
      ]
     },
     "execution_count": 27,
     "metadata": {},
     "output_type": "execute_result"
    }
   ],
   "source": [
    "phones_with_android_values[:5]"
   ]
  },
  {
   "cell_type": "code",
   "execution_count": 28,
   "id": "a9880cc5-900f-4c53-a8fe-a625f4a72336",
   "metadata": {},
   "outputs": [
    {
     "data": {
      "text/plain": [
       "47"
      ]
     },
     "execution_count": 28,
     "metadata": {},
     "output_type": "execute_result"
    }
   ],
   "source": [
    "phones_with_ios_values = list(set(phones_with_ios_values))\n",
    "len(phones_with_ios_values)"
   ]
  },
  {
   "cell_type": "code",
   "execution_count": 31,
   "id": "ce4d0c9e-cdeb-4ef7-a7a2-aa980d14c58a",
   "metadata": {},
   "outputs": [
    {
     "data": {
      "text/plain": [
       "['iphone-14',\n",
       " 'iphone-14-pro',\n",
       " 'iphone-14-pro-max',\n",
       " 'iphone-14-plus',\n",
       " 'apple-iphone-x']"
      ]
     },
     "execution_count": 31,
     "metadata": {},
     "output_type": "execute_result"
    }
   ],
   "source": [
    "phones_with_ios_values[:5]"
   ]
  },
  {
   "cell_type": "code",
   "execution_count": 32,
   "id": "b30f3eed-d0c2-4485-b613-188fab151122",
   "metadata": {},
   "outputs": [],
   "source": [
    "processors = []"
   ]
  },
  {
   "cell_type": "code",
   "execution_count": 100,
   "id": "6d47df81-2b2d-43eb-8bf1-931604261d34",
   "metadata": {},
   "outputs": [],
   "source": [
    "def get_all_processors_specs(row):\n",
    "    row_dict = json.loads(row)\n",
    "    if 'Hardware' in row_dict and 'Processor make' in row_dict['Hardware']:\n",
    "        processors.append(row_dict['Hardware']['Processor make'])"
   ]
  },
  {
   "cell_type": "code",
   "execution_count": 101,
   "id": "bd2f6cee-c6e6-478e-a187-e45ae14f4eec",
   "metadata": {},
   "outputs": [
    {
     "data": {
      "text/plain": [
       "0       None\n",
       "1       None\n",
       "2       None\n",
       "3       None\n",
       "4       None\n",
       "        ... \n",
       "2091    None\n",
       "2092    None\n",
       "2093    None\n",
       "2094    None\n",
       "2095    None\n",
       "Name: specifications, Length: 2096, dtype: object"
      ]
     },
     "execution_count": 101,
     "metadata": {},
     "output_type": "execute_result"
    }
   ],
   "source": [
    "mobile_df['specifications'].apply(lambda row: get_all_processors_specs(row))"
   ]
  },
  {
   "cell_type": "code",
   "execution_count": 33,
   "id": "eb723fe0-a433-4f34-bec1-c121c463eb86",
   "metadata": {},
   "outputs": [],
   "source": [
    "phones_with_mediatek_values = []\n",
    "phones_with_snapdragon_values = []"
   ]
  },
  {
   "cell_type": "code",
   "execution_count": null,
   "id": "167fe46f-70c6-4e75-921c-1a99eba867b0",
   "metadata": {},
   "outputs": [],
   "source": []
  },
  {
   "cell_type": "code",
   "execution_count": 34,
   "id": "21ed1979-9bec-4ba3-9376-777d8922acdb",
   "metadata": {},
   "outputs": [],
   "source": [
    "def get_all_processor_specs(row):\n",
    "    row_dict = json.loads(row['specifications'])\n",
    "    if 'Hardware' in row_dict and 'Processor make' in row_dict['Hardware']:\n",
    "        if 'MediaTek' in row_dict['Hardware']['Processor make']:\n",
    "            phones_with_mediatek_values.append(row['name'])\n",
    "        elif 'Snapdragon' in row_dict['Hardware']['Processor make']:\n",
    "            phones_with_snapdragon_values.append(row['name'])"
   ]
  },
  {
   "cell_type": "code",
   "execution_count": 35,
   "id": "818f846b-42f6-4253-87d0-69c93309ad75",
   "metadata": {},
   "outputs": [
    {
     "data": {
      "text/plain": [
       "0       None\n",
       "1       None\n",
       "2       None\n",
       "3       None\n",
       "4       None\n",
       "        ... \n",
       "2091    None\n",
       "2092    None\n",
       "2093    None\n",
       "2094    None\n",
       "2095    None\n",
       "Length: 2096, dtype: object"
      ]
     },
     "execution_count": 35,
     "metadata": {},
     "output_type": "execute_result"
    }
   ],
   "source": [
    "mobile_df.apply(lambda row: get_all_processor_specs(row), axis=1)"
   ]
  },
  {
   "cell_type": "code",
   "execution_count": 36,
   "id": "96a63677-46c9-4c49-978e-43f178573a91",
   "metadata": {},
   "outputs": [
    {
     "data": {
      "text/plain": [
       "675"
      ]
     },
     "execution_count": 36,
     "metadata": {},
     "output_type": "execute_result"
    }
   ],
   "source": [
    "phones_with_mediatek_values = list(set(phones_with_mediatek_values))\n",
    "len(phones_with_mediatek_values)"
   ]
  },
  {
   "cell_type": "code",
   "execution_count": 37,
   "id": "a3eff723-deaf-4611-be4e-33f505c63614",
   "metadata": {},
   "outputs": [
    {
     "data": {
      "text/plain": [
       "['poco-c51',\n",
       " 'panasonic-p90',\n",
       " 'xolo-era-2x',\n",
       " 'micromax-bharat-go',\n",
       " 'intex-aqua-note-5.5']"
      ]
     },
     "execution_count": 37,
     "metadata": {},
     "output_type": "execute_result"
    }
   ],
   "source": [
    "phones_with_mediatek_values[:5]"
   ]
  },
  {
   "cell_type": "code",
   "execution_count": 143,
   "id": "ebaa0438-d222-46f3-8ca3-89462d32226b",
   "metadata": {},
   "outputs": [
    {
     "data": {
      "text/plain": [
       "691"
      ]
     },
     "execution_count": 143,
     "metadata": {},
     "output_type": "execute_result"
    }
   ],
   "source": [
    "phones_with_snapdragon_values = list(set(phones_with_snapdragon_values))\n",
    "len(phones_with_snapdragon_values)"
   ]
  },
  {
   "cell_type": "code",
   "execution_count": 38,
   "id": "361e5d46-5490-4135-9cfb-9816b2342551",
   "metadata": {},
   "outputs": [
    {
     "data": {
      "text/plain": [
       "['10.or-g2', '10.or-d2', '10.or-d', '10.or-g', '10.or-e']"
      ]
     },
     "execution_count": 38,
     "metadata": {},
     "output_type": "execute_result"
    }
   ],
   "source": [
    "phones_with_snapdragon_values[:5]"
   ]
  },
  {
   "cell_type": "code",
   "execution_count": null,
   "id": "bdab069d-c500-475e-ae21-017da17e45aa",
   "metadata": {},
   "outputs": [],
   "source": []
  },
  {
   "cell_type": "code",
   "execution_count": 102,
   "id": "c2a84138-8ff4-4151-94dc-48b13a19db1b",
   "metadata": {},
   "outputs": [],
   "source": [
    "processors = list(set(processors))"
   ]
  },
  {
   "cell_type": "code",
   "execution_count": 103,
   "id": "7d53c2ff-690f-47bb-ac79-daea8cab907a",
   "metadata": {},
   "outputs": [
    {
     "data": {
      "text/plain": [
       "284"
      ]
     },
     "execution_count": 103,
     "metadata": {},
     "output_type": "execute_result"
    }
   ],
   "source": [
    "len(processors)"
   ]
  },
  {
   "cell_type": "code",
   "execution_count": 104,
   "id": "5f93a6c4-b69b-411b-bb5f-f0feba2a1b2d",
   "metadata": {},
   "outputs": [
    {
     "data": {
      "text/plain": [
       "['',\n",
       " 'MediaTek Helio P10 (MT6755)',\n",
       " 'MediaTek Helio P10 M (MT6755M)',\n",
       " 'MediaTek MT6737',\n",
       " 'MediaTek Helio P70',\n",
       " 'Qualcomm Snapdragon 6s Gen 3',\n",
       " 'Qualcomm Snapdragon 778G Plus',\n",
       " 'Samsung Exynos 850',\n",
       " 'Qualcomm',\n",
       " 'Qualcomm Snapdragon 400 (MSM8926)']"
      ]
     },
     "execution_count": 104,
     "metadata": {},
     "output_type": "execute_result"
    }
   ],
   "source": [
    "processors[:10]"
   ]
  },
  {
   "cell_type": "code",
   "execution_count": 39,
   "id": "4cd06ad3-1984-47c0-b9a3-6f7a4433e1e1",
   "metadata": {},
   "outputs": [],
   "source": [
    "from huggingface_hub import login"
   ]
  },
  {
   "cell_type": "code",
   "execution_count": 40,
   "id": "0d0278e3-bfad-43c3-8ffd-d1d8321312d5",
   "metadata": {},
   "outputs": [],
   "source": [
    "import os"
   ]
  },
  {
   "cell_type": "code",
   "execution_count": 41,
   "id": "837f4dbc-e5dc-4f5c-8d68-a9a8945ccd86",
   "metadata": {},
   "outputs": [
    {
     "name": "stdout",
     "output_type": "stream",
     "text": [
      "The token has not been saved to the git credentials helper. Pass `add_to_git_credential=True` in this function directly or `--add-to-git-credential` if using via `huggingface-cli` if you want to set the git credential as well.\n",
      "Token is valid (permission: fineGrained).\n",
      "Your token has been saved to /Users/amoghkulkarni/.cache/huggingface/token\n",
      "Login successful\n"
     ]
    }
   ],
   "source": [
    "login(token=os.environ['HF_API_TOKEN'])"
   ]
  },
  {
   "cell_type": "code",
   "execution_count": 52,
   "id": "a0234f86-375a-4abc-ba3d-debe09791cea",
   "metadata": {},
   "outputs": [],
   "source": [
    "from openai import OpenAI"
   ]
  },
  {
   "cell_type": "code",
   "execution_count": 71,
   "id": "3336ac08-b8a2-4986-b021-867d7eeba42f",
   "metadata": {},
   "outputs": [],
   "source": [
    "OLLAMA_URL = os.getenv(\"OLLAMA_URL\", \"http://localhost:11434/v1/\")"
   ]
  },
  {
   "cell_type": "code",
   "execution_count": 72,
   "id": "92b108ab-43d2-4743-acf3-675b8304b514",
   "metadata": {},
   "outputs": [],
   "source": [
    "ollama_client = OpenAI(base_url=OLLAMA_URL, api_key=\"ollama\")"
   ]
  },
  {
   "cell_type": "code",
   "execution_count": 68,
   "id": "04fc4401-4d32-490c-b4ea-34b06fd5b1d1",
   "metadata": {},
   "outputs": [
    {
     "name": "stderr",
     "output_type": "stream",
     "text": [
      "/Users/amoghkulkarni/.local/share/virtualenvs/gadget-spec-bot-PKdu65VV/lib/python3.9/site-packages/transformers/tokenization_utils_base.py:1617: FutureWarning: `clean_up_tokenization_spaces` was not set. It will be set to `True` by default. This behavior will be deprecated in transformers v4.45, and will be then set to `False` by default. For more details check this issue: https://github.com/huggingface/transformers/issues/31884\n",
      "  warnings.warn(\n"
     ]
    }
   ],
   "source": [
    "model = SentenceTransformer(\"all-mpnet-base-v2\")"
   ]
  },
  {
   "cell_type": "code",
   "execution_count": 54,
   "id": "2c586ce2-5f26-4b47-8e79-867298ae857c",
   "metadata": {},
   "outputs": [],
   "source": [
    "def elastic_search_knn(vector, vector_field=\"name_vector\"):\n",
    "    \"\"\"Return elastic search results for given vector.\"\"\"\n",
    "    knn_query = {\n",
    "        \"field\": vector_field,\n",
    "        \"query_vector\": vector,\n",
    "        \"k\": 5,\n",
    "        \"num_candidates\": 10000\n",
    "    }\n",
    "\n",
    "    search_query = {\n",
    "        'knn': knn_query,\n",
    "        '_source': [\"name\", \"company\", \"specifications\"]\n",
    "    }\n",
    "\n",
    "    es_results = es_client.search(\n",
    "        index=index_name,\n",
    "        body=search_query\n",
    "    )\n",
    "\n",
    "    result_docs = []\n",
    "    \n",
    "    for hit in es_results['hits']['hits']:\n",
    "        result_docs.append(hit['_source'])\n",
    "\n",
    "    return result_docs"
   ]
  },
  {
   "cell_type": "code",
   "execution_count": 55,
   "id": "e5013dc8-be42-4202-8b73-427bb5c394fa",
   "metadata": {},
   "outputs": [],
   "source": [
    "def get_mobile_name_results(mobile_name_statement):\n",
    "    \"\"\"Return the ES results of the mobile phone asked by user.\"\"\"\n",
    "    input_vector = model.encode(mobile_name_statement)\n",
    "    mobile_context = elastic_search_knn(input_vector, 'specification_vector')\n",
    "\n",
    "    return mobile_context"
   ]
  },
  {
   "cell_type": "code",
   "execution_count": 56,
   "id": "d72dca58-39c5-4ce7-9325-c04536f8f88f",
   "metadata": {},
   "outputs": [],
   "source": [
    "def build_prompt(phone_specifications, mobile_context):\n",
    "    \"\"\"Build the context using search results and return the prompt.\"\"\"\n",
    "    prompt_template = \"\"\"\n",
    "You are mobile phone expert. Answer all the specifications of PHONE using the CONTEXT provided from SPECFICATIONS database.\n",
    "The specifications in the CONTEXT is a json string. Convert the json string to readable format before printing out the answer.\n",
    "Use only the specifications given in the context to print the specs of the device.\n",
    "Do not number the specifications passed.\n",
    "Print only the first result in a markdown format where subsections are indented in readable format.\n",
    "\n",
    "\n",
    "PHONE: {phone}\n",
    "\n",
    "CONTEXT:\n",
    "{context}\n",
    "\"\"\".strip()\n",
    "\n",
    "    context = \"\"\n",
    "\n",
    "    for each in mobile_context:\n",
    "        context = context + f\"\\n\\nname: {each['name']}\\ncompany: {each['company']}\\nspecifications: {each['specifications']}\"\n",
    "\n",
    "    prompt = prompt_template.format(phone=phone_specifications, context=context)\n",
    "    return prompt"
   ]
  },
  {
   "cell_type": "code",
   "execution_count": 62,
   "id": "7d9522e2-90f6-4316-b0c8-03ec8d9b376e",
   "metadata": {},
   "outputs": [],
   "source": [
    "def llm(model, client, prompt):\n",
    "    \"\"\"Return LLM generation based on context.\"\"\"\n",
    "    if model.startswith('ollama'):\n",
    "        response = ollama_client.chat.completions.create(\n",
    "            model='phi3',\n",
    "            messages=[{\"role\": \"user\", \"content\": prompt}]\n",
    "        )\n",
    "        answer = response.choices[0].message.content\n",
    "        tokens = {\n",
    "            'prompt_tokens': response.usage.prompt_tokens,\n",
    "            'completion_tokens': response.usage.completion_tokens,\n",
    "            'total_tokens': response.usage.total_tokens\n",
    "        }\n",
    "    else:\n",
    "        messages = [{\"role\": \"user\", \"content\": prompt}]\n",
    "        response = client.chat_completion(messages, max_tokens=1000)\n",
    "        \n",
    "    return response.choices[0].message.content"
   ]
  },
  {
   "cell_type": "code",
   "execution_count": 63,
   "id": "ed7e9653-1cde-49a5-af40-4eb6f2b87f53",
   "metadata": {},
   "outputs": [],
   "source": [
    "def rag(model, client, mobile_phone_statement):\n",
    "    \"\"\"Run the RAG flow for the given mobile phone statement.\"\"\"\n",
    "    mobile_name_context = get_mobile_name_results(mobile_phone_statement)\n",
    "    prompt = build_prompt(mobile_phone_statement, mobile_name_context)\n",
    "    answer = llm(model, client, prompt)\n",
    "\n",
    "    return answer"
   ]
  },
  {
   "cell_type": "code",
   "execution_count": 66,
   "id": "583d3e6e-9464-4c37-aebd-bd8f02b3c7cb",
   "metadata": {},
   "outputs": [],
   "source": [
    "mobile_phone_statement = 'Print the list of all iphones present.'"
   ]
  },
  {
   "cell_type": "code",
   "execution_count": 73,
   "id": "4e1bb07c-9cd9-48cb-8014-143d56e97ade",
   "metadata": {},
   "outputs": [
    {
     "data": {
      "text/plain": [
       "'```json\\n\\n{\\n\\n    \"iphone\": [\\n\\n        {\\n\\n            \"name\": \"iPhone SE (1st generation)\",\\n\\n            \"release_year\": 2016,\\n\\n            \"features\": [\"3.7-inch LCD display\", \"A9 chip\"]\\n\\n        },\\n\\n        {\\n\\n            \"name\": \"iPhone 8/SE (2nd generation)\",\\n\\n            \"release_year\": 2curentlyreleasc,\\n\\n            \"features\": [\"4.7-inch LCD screen\", \"A11 bionic chip\"]\\n\\n        }\\n\\n    ]\\n\\n}\\n\\n```'"
      ]
     },
     "execution_count": 73,
     "metadata": {},
     "output_type": "execute_result"
    }
   ],
   "source": [
    "rag('ollama', ollama_client, mobile_phone_statement)"
   ]
  },
  {
   "cell_type": "code",
   "execution_count": 74,
   "id": "2318345e-0dc3-477b-acff-ce951a84c2af",
   "metadata": {},
   "outputs": [
    {
     "name": "stdout",
     "output_type": "stream",
     "text": [
      "```json\n",
      "\n",
      "{\n",
      "\n",
      "    \"iphone\": [\n",
      "\n",
      "        {\n",
      "\n",
      "            \"name\": \"iPhone SE (1st generation)\",\n",
      "\n",
      "            \"release_year\": 2016,\n",
      "\n",
      "            \"features\": [\"3.7-inch LCD display\", \"A9 chip\"]\n",
      "\n",
      "        },\n",
      "\n",
      "        {\n",
      "\n",
      "            \"name\": \"iPhone 8/SE (2nd generation)\",\n",
      "\n",
      "            \"release_year\": 2curentlyreleasc,\n",
      "\n",
      "            \"features\": [\"4.7-inch LCD screen\", \"A11 bionic chip\"]\n",
      "\n",
      "        }\n",
      "\n",
      "    ]\n",
      "\n",
      "}\n",
      "\n",
      "```\n"
     ]
    }
   ],
   "source": [
    "print(_)"
   ]
  },
  {
   "cell_type": "code",
   "execution_count": 75,
   "id": "05a57141-7702-47c2-b980-48fd9ba0a9fa",
   "metadata": {},
   "outputs": [],
   "source": [
    "mobile_phone_statement = 'Detailed specifications of iphone 16.'"
   ]
  },
  {
   "cell_type": "code",
   "execution_count": 76,
   "id": "11114634-ce42-4784-98b2-e752d3c709d4",
   "metadata": {},
   "outputs": [
    {
     "data": {
      "text/plain": [
       "'\\n```json\\n\\n{\\n\\n    \"Brand\": [\"Apple\"],\\n\\n    \"Model Name\": [\"iPhone\", \"XS Max\", \"2024 Edition\"]\\n\\n}\\n\\n```\\n\\n---\\n\\n**Brand: Apple**  \\n\\n**Model Name: iPhone XS Max 2024 Edition**'"
      ]
     },
     "execution_count": 76,
     "metadata": {},
     "output_type": "execute_result"
    }
   ],
   "source": [
    "rag('ollama', ollama_client, mobile_phone_statement)"
   ]
  },
  {
   "cell_type": "code",
   "execution_count": 77,
   "id": "35426fc2-b639-4077-be0d-8c125fa53ca3",
   "metadata": {},
   "outputs": [
    {
     "name": "stdout",
     "output_type": "stream",
     "text": [
      "\n",
      "```json\n",
      "\n",
      "{\n",
      "\n",
      "    \"Brand\": [\"Apple\"],\n",
      "\n",
      "    \"Model Name\": [\"iPhone\", \"XS Max\", \"2024 Edition\"]\n",
      "\n",
      "}\n",
      "\n",
      "```\n",
      "\n",
      "---\n",
      "\n",
      "**Brand: Apple**  \n",
      "\n",
      "**Model Name: iPhone XS Max 2024 Edition**\n"
     ]
    }
   ],
   "source": [
    "print(_)"
   ]
  },
  {
   "cell_type": "code",
   "execution_count": 78,
   "id": "6c6481b0-ce89-4a10-8720-bceec38c7edc",
   "metadata": {},
   "outputs": [
    {
     "ename": "ValueError",
     "evalue": "Excel file format cannot be determined, you must specify an engine manually.",
     "output_type": "error",
     "traceback": [
      "\u001b[0;31m---------------------------------------------------------------------------\u001b[0m",
      "\u001b[0;31mValueError\u001b[0m                                Traceback (most recent call last)",
      "Cell \u001b[0;32mIn[78], line 1\u001b[0m\n\u001b[0;32m----> 1\u001b[0m budget_df \u001b[38;5;241m=\u001b[39m \u001b[43mpd\u001b[49m\u001b[38;5;241;43m.\u001b[39;49m\u001b[43mread_excel\u001b[49m\u001b[43m(\u001b[49m\u001b[38;5;124;43m'\u001b[39;49m\u001b[38;5;124;43m/Users/amoghkulkarni/Downloads/1727893830166VievO8p3MWcxyp7C.xls\u001b[39;49m\u001b[38;5;124;43m'\u001b[39;49m\u001b[43m)\u001b[49m\n",
      "File \u001b[0;32m~/.local/share/virtualenvs/gadget-spec-bot-PKdu65VV/lib/python3.9/site-packages/pandas/io/excel/_base.py:495\u001b[0m, in \u001b[0;36mread_excel\u001b[0;34m(io, sheet_name, header, names, index_col, usecols, dtype, engine, converters, true_values, false_values, skiprows, nrows, na_values, keep_default_na, na_filter, verbose, parse_dates, date_parser, date_format, thousands, decimal, comment, skipfooter, storage_options, dtype_backend, engine_kwargs)\u001b[0m\n\u001b[1;32m    493\u001b[0m \u001b[38;5;28;01mif\u001b[39;00m \u001b[38;5;129;01mnot\u001b[39;00m \u001b[38;5;28misinstance\u001b[39m(io, ExcelFile):\n\u001b[1;32m    494\u001b[0m     should_close \u001b[38;5;241m=\u001b[39m \u001b[38;5;28;01mTrue\u001b[39;00m\n\u001b[0;32m--> 495\u001b[0m     io \u001b[38;5;241m=\u001b[39m \u001b[43mExcelFile\u001b[49m\u001b[43m(\u001b[49m\n\u001b[1;32m    496\u001b[0m \u001b[43m        \u001b[49m\u001b[43mio\u001b[49m\u001b[43m,\u001b[49m\n\u001b[1;32m    497\u001b[0m \u001b[43m        \u001b[49m\u001b[43mstorage_options\u001b[49m\u001b[38;5;241;43m=\u001b[39;49m\u001b[43mstorage_options\u001b[49m\u001b[43m,\u001b[49m\n\u001b[1;32m    498\u001b[0m \u001b[43m        \u001b[49m\u001b[43mengine\u001b[49m\u001b[38;5;241;43m=\u001b[39;49m\u001b[43mengine\u001b[49m\u001b[43m,\u001b[49m\n\u001b[1;32m    499\u001b[0m \u001b[43m        \u001b[49m\u001b[43mengine_kwargs\u001b[49m\u001b[38;5;241;43m=\u001b[39;49m\u001b[43mengine_kwargs\u001b[49m\u001b[43m,\u001b[49m\n\u001b[1;32m    500\u001b[0m \u001b[43m    \u001b[49m\u001b[43m)\u001b[49m\n\u001b[1;32m    501\u001b[0m \u001b[38;5;28;01melif\u001b[39;00m engine \u001b[38;5;129;01mand\u001b[39;00m engine \u001b[38;5;241m!=\u001b[39m io\u001b[38;5;241m.\u001b[39mengine:\n\u001b[1;32m    502\u001b[0m     \u001b[38;5;28;01mraise\u001b[39;00m \u001b[38;5;167;01mValueError\u001b[39;00m(\n\u001b[1;32m    503\u001b[0m         \u001b[38;5;124m\"\u001b[39m\u001b[38;5;124mEngine should not be specified when passing \u001b[39m\u001b[38;5;124m\"\u001b[39m\n\u001b[1;32m    504\u001b[0m         \u001b[38;5;124m\"\u001b[39m\u001b[38;5;124man ExcelFile - ExcelFile already has the engine set\u001b[39m\u001b[38;5;124m\"\u001b[39m\n\u001b[1;32m    505\u001b[0m     )\n",
      "File \u001b[0;32m~/.local/share/virtualenvs/gadget-spec-bot-PKdu65VV/lib/python3.9/site-packages/pandas/io/excel/_base.py:1554\u001b[0m, in \u001b[0;36mExcelFile.__init__\u001b[0;34m(self, path_or_buffer, engine, storage_options, engine_kwargs)\u001b[0m\n\u001b[1;32m   1550\u001b[0m     ext \u001b[38;5;241m=\u001b[39m inspect_excel_format(\n\u001b[1;32m   1551\u001b[0m         content_or_path\u001b[38;5;241m=\u001b[39mpath_or_buffer, storage_options\u001b[38;5;241m=\u001b[39mstorage_options\n\u001b[1;32m   1552\u001b[0m     )\n\u001b[1;32m   1553\u001b[0m     \u001b[38;5;28;01mif\u001b[39;00m ext \u001b[38;5;129;01mis\u001b[39;00m \u001b[38;5;28;01mNone\u001b[39;00m:\n\u001b[0;32m-> 1554\u001b[0m         \u001b[38;5;28;01mraise\u001b[39;00m \u001b[38;5;167;01mValueError\u001b[39;00m(\n\u001b[1;32m   1555\u001b[0m             \u001b[38;5;124m\"\u001b[39m\u001b[38;5;124mExcel file format cannot be determined, you must specify \u001b[39m\u001b[38;5;124m\"\u001b[39m\n\u001b[1;32m   1556\u001b[0m             \u001b[38;5;124m\"\u001b[39m\u001b[38;5;124man engine manually.\u001b[39m\u001b[38;5;124m\"\u001b[39m\n\u001b[1;32m   1557\u001b[0m         )\n\u001b[1;32m   1559\u001b[0m engine \u001b[38;5;241m=\u001b[39m config\u001b[38;5;241m.\u001b[39mget_option(\u001b[38;5;124mf\u001b[39m\u001b[38;5;124m\"\u001b[39m\u001b[38;5;124mio.excel.\u001b[39m\u001b[38;5;132;01m{\u001b[39;00mext\u001b[38;5;132;01m}\u001b[39;00m\u001b[38;5;124m.reader\u001b[39m\u001b[38;5;124m\"\u001b[39m, silent\u001b[38;5;241m=\u001b[39m\u001b[38;5;28;01mTrue\u001b[39;00m)\n\u001b[1;32m   1560\u001b[0m \u001b[38;5;28;01mif\u001b[39;00m engine \u001b[38;5;241m==\u001b[39m \u001b[38;5;124m\"\u001b[39m\u001b[38;5;124mauto\u001b[39m\u001b[38;5;124m\"\u001b[39m:\n",
      "\u001b[0;31mValueError\u001b[0m: Excel file format cannot be determined, you must specify an engine manually."
     ]
    }
   ],
   "source": [
    "budget_df = pd.read_excel('/Users/amoghkulkarni/Downloads/1727893830166VievO8p3MWcxyp7C.xls')"
   ]
  },
  {
   "cell_type": "code",
   "execution_count": 79,
   "id": "a3693f35-8ccf-4b2f-a381-8ae24cbf27b7",
   "metadata": {},
   "outputs": [],
   "source": [
    "from pathlib import Path"
   ]
  },
  {
   "cell_type": "code",
   "execution_count": 81,
   "id": "e8c6a861-f625-45a0-928f-e23e116656bc",
   "metadata": {},
   "outputs": [
    {
     "ename": "ValueError",
     "evalue": "Excel file format cannot be determined, you must specify an engine manually.",
     "output_type": "error",
     "traceback": [
      "\u001b[0;31m---------------------------------------------------------------------------\u001b[0m",
      "\u001b[0;31mValueError\u001b[0m                                Traceback (most recent call last)",
      "Cell \u001b[0;32mIn[81], line 2\u001b[0m\n\u001b[1;32m      1\u001b[0m \u001b[38;5;28;01mwith\u001b[39;00m \u001b[38;5;28mopen\u001b[39m(\u001b[38;5;124m'\u001b[39m\u001b[38;5;124m/Users/amoghkulkarni/Downloads/1727893830166VievO8p3MWcxyp7C.xls\u001b[39m\u001b[38;5;124m'\u001b[39m, \u001b[38;5;124m'\u001b[39m\u001b[38;5;124mr\u001b[39m\u001b[38;5;124m'\u001b[39m) \u001b[38;5;28;01mas\u001b[39;00m file:\n\u001b[0;32m----> 2\u001b[0m     df_budget \u001b[38;5;241m=\u001b[39m \u001b[43mpd\u001b[49m\u001b[38;5;241;43m.\u001b[39;49m\u001b[43mread_excel\u001b[49m\u001b[43m(\u001b[49m\u001b[43mfile\u001b[49m\u001b[43m)\u001b[49m\n",
      "File \u001b[0;32m~/.local/share/virtualenvs/gadget-spec-bot-PKdu65VV/lib/python3.9/site-packages/pandas/io/excel/_base.py:495\u001b[0m, in \u001b[0;36mread_excel\u001b[0;34m(io, sheet_name, header, names, index_col, usecols, dtype, engine, converters, true_values, false_values, skiprows, nrows, na_values, keep_default_na, na_filter, verbose, parse_dates, date_parser, date_format, thousands, decimal, comment, skipfooter, storage_options, dtype_backend, engine_kwargs)\u001b[0m\n\u001b[1;32m    493\u001b[0m \u001b[38;5;28;01mif\u001b[39;00m \u001b[38;5;129;01mnot\u001b[39;00m \u001b[38;5;28misinstance\u001b[39m(io, ExcelFile):\n\u001b[1;32m    494\u001b[0m     should_close \u001b[38;5;241m=\u001b[39m \u001b[38;5;28;01mTrue\u001b[39;00m\n\u001b[0;32m--> 495\u001b[0m     io \u001b[38;5;241m=\u001b[39m \u001b[43mExcelFile\u001b[49m\u001b[43m(\u001b[49m\n\u001b[1;32m    496\u001b[0m \u001b[43m        \u001b[49m\u001b[43mio\u001b[49m\u001b[43m,\u001b[49m\n\u001b[1;32m    497\u001b[0m \u001b[43m        \u001b[49m\u001b[43mstorage_options\u001b[49m\u001b[38;5;241;43m=\u001b[39;49m\u001b[43mstorage_options\u001b[49m\u001b[43m,\u001b[49m\n\u001b[1;32m    498\u001b[0m \u001b[43m        \u001b[49m\u001b[43mengine\u001b[49m\u001b[38;5;241;43m=\u001b[39;49m\u001b[43mengine\u001b[49m\u001b[43m,\u001b[49m\n\u001b[1;32m    499\u001b[0m \u001b[43m        \u001b[49m\u001b[43mengine_kwargs\u001b[49m\u001b[38;5;241;43m=\u001b[39;49m\u001b[43mengine_kwargs\u001b[49m\u001b[43m,\u001b[49m\n\u001b[1;32m    500\u001b[0m \u001b[43m    \u001b[49m\u001b[43m)\u001b[49m\n\u001b[1;32m    501\u001b[0m \u001b[38;5;28;01melif\u001b[39;00m engine \u001b[38;5;129;01mand\u001b[39;00m engine \u001b[38;5;241m!=\u001b[39m io\u001b[38;5;241m.\u001b[39mengine:\n\u001b[1;32m    502\u001b[0m     \u001b[38;5;28;01mraise\u001b[39;00m \u001b[38;5;167;01mValueError\u001b[39;00m(\n\u001b[1;32m    503\u001b[0m         \u001b[38;5;124m\"\u001b[39m\u001b[38;5;124mEngine should not be specified when passing \u001b[39m\u001b[38;5;124m\"\u001b[39m\n\u001b[1;32m    504\u001b[0m         \u001b[38;5;124m\"\u001b[39m\u001b[38;5;124man ExcelFile - ExcelFile already has the engine set\u001b[39m\u001b[38;5;124m\"\u001b[39m\n\u001b[1;32m    505\u001b[0m     )\n",
      "File \u001b[0;32m~/.local/share/virtualenvs/gadget-spec-bot-PKdu65VV/lib/python3.9/site-packages/pandas/io/excel/_base.py:1554\u001b[0m, in \u001b[0;36mExcelFile.__init__\u001b[0;34m(self, path_or_buffer, engine, storage_options, engine_kwargs)\u001b[0m\n\u001b[1;32m   1550\u001b[0m     ext \u001b[38;5;241m=\u001b[39m inspect_excel_format(\n\u001b[1;32m   1551\u001b[0m         content_or_path\u001b[38;5;241m=\u001b[39mpath_or_buffer, storage_options\u001b[38;5;241m=\u001b[39mstorage_options\n\u001b[1;32m   1552\u001b[0m     )\n\u001b[1;32m   1553\u001b[0m     \u001b[38;5;28;01mif\u001b[39;00m ext \u001b[38;5;129;01mis\u001b[39;00m \u001b[38;5;28;01mNone\u001b[39;00m:\n\u001b[0;32m-> 1554\u001b[0m         \u001b[38;5;28;01mraise\u001b[39;00m \u001b[38;5;167;01mValueError\u001b[39;00m(\n\u001b[1;32m   1555\u001b[0m             \u001b[38;5;124m\"\u001b[39m\u001b[38;5;124mExcel file format cannot be determined, you must specify \u001b[39m\u001b[38;5;124m\"\u001b[39m\n\u001b[1;32m   1556\u001b[0m             \u001b[38;5;124m\"\u001b[39m\u001b[38;5;124man engine manually.\u001b[39m\u001b[38;5;124m\"\u001b[39m\n\u001b[1;32m   1557\u001b[0m         )\n\u001b[1;32m   1559\u001b[0m engine \u001b[38;5;241m=\u001b[39m config\u001b[38;5;241m.\u001b[39mget_option(\u001b[38;5;124mf\u001b[39m\u001b[38;5;124m\"\u001b[39m\u001b[38;5;124mio.excel.\u001b[39m\u001b[38;5;132;01m{\u001b[39;00mext\u001b[38;5;132;01m}\u001b[39;00m\u001b[38;5;124m.reader\u001b[39m\u001b[38;5;124m\"\u001b[39m, silent\u001b[38;5;241m=\u001b[39m\u001b[38;5;28;01mTrue\u001b[39;00m)\n\u001b[1;32m   1560\u001b[0m \u001b[38;5;28;01mif\u001b[39;00m engine \u001b[38;5;241m==\u001b[39m \u001b[38;5;124m\"\u001b[39m\u001b[38;5;124mauto\u001b[39m\u001b[38;5;124m\"\u001b[39m:\n",
      "\u001b[0;31mValueError\u001b[0m: Excel file format cannot be determined, you must specify an engine manually."
     ]
    }
   ],
   "source": [
    "with open('/Users/amoghkulkarni/Downloads/1727893830166VievO8p3MWcxyp7C.xls', 'r') as file:\n",
    "    df_budget = pd.read_excel(file)"
   ]
  },
  {
   "cell_type": "code",
   "execution_count": 82,
   "id": "316aee1a-bd5b-4e13-919a-8a223de27321",
   "metadata": {},
   "outputs": [
    {
     "name": "stderr",
     "output_type": "stream",
     "text": [
      "huggingface/tokenizers: The current process just got forked, after parallelism has already been used. Disabling parallelism to avoid deadlocks...\n",
      "To disable this warning, you can either:\n",
      "\t- Avoid using `tokenizers` before the fork if possible\n",
      "\t- Explicitly set the environment variable TOKENIZERS_PARALLELISM=(true | false)\n"
     ]
    },
    {
     "name": "stdout",
     "output_type": "stream",
     "text": [
      "Collecting openpyxl\n",
      "  Downloading openpyxl-3.1.5-py2.py3-none-any.whl.metadata (2.5 kB)\n",
      "Collecting et-xmlfile (from openpyxl)\n",
      "  Downloading et_xmlfile-1.1.0-py3-none-any.whl.metadata (1.8 kB)\n",
      "Downloading openpyxl-3.1.5-py2.py3-none-any.whl (250 kB)\n",
      "\u001b[2K   \u001b[38;2;114;156;31m━━━━━━━━━━━━━━━━━━━━━━━━━━━━━━━━━━━━━━━━\u001b[0m \u001b[32m250.9/250.9 kB\u001b[0m \u001b[31m1.6 MB/s\u001b[0m eta \u001b[36m0:00:00\u001b[0m[36m0:00:01\u001b[0mm eta \u001b[36m0:00:01\u001b[0mm\n",
      "\u001b[?25hDownloading et_xmlfile-1.1.0-py3-none-any.whl (4.7 kB)\n",
      "Installing collected packages: et-xmlfile, openpyxl\n",
      "Successfully installed et-xmlfile-1.1.0 openpyxl-3.1.5\n"
     ]
    }
   ],
   "source": [
    "!pip install openpyxl"
   ]
  },
  {
   "cell_type": "code",
   "execution_count": 91,
   "id": "2f894562-4353-4a6d-9fc5-4b5d7d157300",
   "metadata": {},
   "outputs": [
    {
     "ename": "XLRDError",
     "evalue": "Unsupported format, or corrupt file: Expected BOF record; found b'Account '",
     "output_type": "error",
     "traceback": [
      "\u001b[0;31m---------------------------------------------------------------------------\u001b[0m",
      "\u001b[0;31mXLRDError\u001b[0m                                 Traceback (most recent call last)",
      "Cell \u001b[0;32mIn[91], line 1\u001b[0m\n\u001b[0;32m----> 1\u001b[0m data \u001b[38;5;241m=\u001b[39m \u001b[43mpd\u001b[49m\u001b[38;5;241;43m.\u001b[39;49m\u001b[43mread_excel\u001b[49m\u001b[43m(\u001b[49m\u001b[38;5;124;43m\"\u001b[39;49m\u001b[38;5;124;43m/Users/amoghkulkarni/Downloads/1727893830166VievO8p3MWcxyp7C.xls\u001b[39;49m\u001b[38;5;124;43m\"\u001b[39;49m\u001b[43m,\u001b[49m\u001b[43m \u001b[49m\u001b[43mengine\u001b[49m\u001b[38;5;241;43m=\u001b[39;49m\u001b[38;5;124;43m'\u001b[39;49m\u001b[38;5;124;43mxlrd\u001b[39;49m\u001b[38;5;124;43m'\u001b[39;49m\u001b[43m)\u001b[49m\n",
      "File \u001b[0;32m~/.local/share/virtualenvs/gadget-spec-bot-PKdu65VV/lib/python3.9/site-packages/pandas/io/excel/_base.py:495\u001b[0m, in \u001b[0;36mread_excel\u001b[0;34m(io, sheet_name, header, names, index_col, usecols, dtype, engine, converters, true_values, false_values, skiprows, nrows, na_values, keep_default_na, na_filter, verbose, parse_dates, date_parser, date_format, thousands, decimal, comment, skipfooter, storage_options, dtype_backend, engine_kwargs)\u001b[0m\n\u001b[1;32m    493\u001b[0m \u001b[38;5;28;01mif\u001b[39;00m \u001b[38;5;129;01mnot\u001b[39;00m \u001b[38;5;28misinstance\u001b[39m(io, ExcelFile):\n\u001b[1;32m    494\u001b[0m     should_close \u001b[38;5;241m=\u001b[39m \u001b[38;5;28;01mTrue\u001b[39;00m\n\u001b[0;32m--> 495\u001b[0m     io \u001b[38;5;241m=\u001b[39m \u001b[43mExcelFile\u001b[49m\u001b[43m(\u001b[49m\n\u001b[1;32m    496\u001b[0m \u001b[43m        \u001b[49m\u001b[43mio\u001b[49m\u001b[43m,\u001b[49m\n\u001b[1;32m    497\u001b[0m \u001b[43m        \u001b[49m\u001b[43mstorage_options\u001b[49m\u001b[38;5;241;43m=\u001b[39;49m\u001b[43mstorage_options\u001b[49m\u001b[43m,\u001b[49m\n\u001b[1;32m    498\u001b[0m \u001b[43m        \u001b[49m\u001b[43mengine\u001b[49m\u001b[38;5;241;43m=\u001b[39;49m\u001b[43mengine\u001b[49m\u001b[43m,\u001b[49m\n\u001b[1;32m    499\u001b[0m \u001b[43m        \u001b[49m\u001b[43mengine_kwargs\u001b[49m\u001b[38;5;241;43m=\u001b[39;49m\u001b[43mengine_kwargs\u001b[49m\u001b[43m,\u001b[49m\n\u001b[1;32m    500\u001b[0m \u001b[43m    \u001b[49m\u001b[43m)\u001b[49m\n\u001b[1;32m    501\u001b[0m \u001b[38;5;28;01melif\u001b[39;00m engine \u001b[38;5;129;01mand\u001b[39;00m engine \u001b[38;5;241m!=\u001b[39m io\u001b[38;5;241m.\u001b[39mengine:\n\u001b[1;32m    502\u001b[0m     \u001b[38;5;28;01mraise\u001b[39;00m \u001b[38;5;167;01mValueError\u001b[39;00m(\n\u001b[1;32m    503\u001b[0m         \u001b[38;5;124m\"\u001b[39m\u001b[38;5;124mEngine should not be specified when passing \u001b[39m\u001b[38;5;124m\"\u001b[39m\n\u001b[1;32m    504\u001b[0m         \u001b[38;5;124m\"\u001b[39m\u001b[38;5;124man ExcelFile - ExcelFile already has the engine set\u001b[39m\u001b[38;5;124m\"\u001b[39m\n\u001b[1;32m    505\u001b[0m     )\n",
      "File \u001b[0;32m~/.local/share/virtualenvs/gadget-spec-bot-PKdu65VV/lib/python3.9/site-packages/pandas/io/excel/_base.py:1567\u001b[0m, in \u001b[0;36mExcelFile.__init__\u001b[0;34m(self, path_or_buffer, engine, storage_options, engine_kwargs)\u001b[0m\n\u001b[1;32m   1564\u001b[0m \u001b[38;5;28mself\u001b[39m\u001b[38;5;241m.\u001b[39mengine \u001b[38;5;241m=\u001b[39m engine\n\u001b[1;32m   1565\u001b[0m \u001b[38;5;28mself\u001b[39m\u001b[38;5;241m.\u001b[39mstorage_options \u001b[38;5;241m=\u001b[39m storage_options\n\u001b[0;32m-> 1567\u001b[0m \u001b[38;5;28mself\u001b[39m\u001b[38;5;241m.\u001b[39m_reader \u001b[38;5;241m=\u001b[39m \u001b[38;5;28;43mself\u001b[39;49m\u001b[38;5;241;43m.\u001b[39;49m\u001b[43m_engines\u001b[49m\u001b[43m[\u001b[49m\u001b[43mengine\u001b[49m\u001b[43m]\u001b[49m\u001b[43m(\u001b[49m\n\u001b[1;32m   1568\u001b[0m \u001b[43m    \u001b[49m\u001b[38;5;28;43mself\u001b[39;49m\u001b[38;5;241;43m.\u001b[39;49m\u001b[43m_io\u001b[49m\u001b[43m,\u001b[49m\n\u001b[1;32m   1569\u001b[0m \u001b[43m    \u001b[49m\u001b[43mstorage_options\u001b[49m\u001b[38;5;241;43m=\u001b[39;49m\u001b[43mstorage_options\u001b[49m\u001b[43m,\u001b[49m\n\u001b[1;32m   1570\u001b[0m \u001b[43m    \u001b[49m\u001b[43mengine_kwargs\u001b[49m\u001b[38;5;241;43m=\u001b[39;49m\u001b[43mengine_kwargs\u001b[49m\u001b[43m,\u001b[49m\n\u001b[1;32m   1571\u001b[0m \u001b[43m\u001b[49m\u001b[43m)\u001b[49m\n",
      "File \u001b[0;32m~/.local/share/virtualenvs/gadget-spec-bot-PKdu65VV/lib/python3.9/site-packages/pandas/io/excel/_xlrd.py:46\u001b[0m, in \u001b[0;36mXlrdReader.__init__\u001b[0;34m(self, filepath_or_buffer, storage_options, engine_kwargs)\u001b[0m\n\u001b[1;32m     44\u001b[0m err_msg \u001b[38;5;241m=\u001b[39m \u001b[38;5;124m\"\u001b[39m\u001b[38;5;124mInstall xlrd >= 2.0.1 for xls Excel support\u001b[39m\u001b[38;5;124m\"\u001b[39m\n\u001b[1;32m     45\u001b[0m import_optional_dependency(\u001b[38;5;124m\"\u001b[39m\u001b[38;5;124mxlrd\u001b[39m\u001b[38;5;124m\"\u001b[39m, extra\u001b[38;5;241m=\u001b[39merr_msg)\n\u001b[0;32m---> 46\u001b[0m \u001b[38;5;28;43msuper\u001b[39;49m\u001b[43m(\u001b[49m\u001b[43m)\u001b[49m\u001b[38;5;241;43m.\u001b[39;49m\u001b[38;5;21;43m__init__\u001b[39;49m\u001b[43m(\u001b[49m\n\u001b[1;32m     47\u001b[0m \u001b[43m    \u001b[49m\u001b[43mfilepath_or_buffer\u001b[49m\u001b[43m,\u001b[49m\n\u001b[1;32m     48\u001b[0m \u001b[43m    \u001b[49m\u001b[43mstorage_options\u001b[49m\u001b[38;5;241;43m=\u001b[39;49m\u001b[43mstorage_options\u001b[49m\u001b[43m,\u001b[49m\n\u001b[1;32m     49\u001b[0m \u001b[43m    \u001b[49m\u001b[43mengine_kwargs\u001b[49m\u001b[38;5;241;43m=\u001b[39;49m\u001b[43mengine_kwargs\u001b[49m\u001b[43m,\u001b[49m\n\u001b[1;32m     50\u001b[0m \u001b[43m\u001b[49m\u001b[43m)\u001b[49m\n",
      "File \u001b[0;32m~/.local/share/virtualenvs/gadget-spec-bot-PKdu65VV/lib/python3.9/site-packages/pandas/io/excel/_base.py:573\u001b[0m, in \u001b[0;36mBaseExcelReader.__init__\u001b[0;34m(self, filepath_or_buffer, storage_options, engine_kwargs)\u001b[0m\n\u001b[1;32m    571\u001b[0m \u001b[38;5;28mself\u001b[39m\u001b[38;5;241m.\u001b[39mhandles\u001b[38;5;241m.\u001b[39mhandle\u001b[38;5;241m.\u001b[39mseek(\u001b[38;5;241m0\u001b[39m)\n\u001b[1;32m    572\u001b[0m \u001b[38;5;28;01mtry\u001b[39;00m:\n\u001b[0;32m--> 573\u001b[0m     \u001b[38;5;28mself\u001b[39m\u001b[38;5;241m.\u001b[39mbook \u001b[38;5;241m=\u001b[39m \u001b[38;5;28;43mself\u001b[39;49m\u001b[38;5;241;43m.\u001b[39;49m\u001b[43mload_workbook\u001b[49m\u001b[43m(\u001b[49m\u001b[38;5;28;43mself\u001b[39;49m\u001b[38;5;241;43m.\u001b[39;49m\u001b[43mhandles\u001b[49m\u001b[38;5;241;43m.\u001b[39;49m\u001b[43mhandle\u001b[49m\u001b[43m,\u001b[49m\u001b[43m \u001b[49m\u001b[43mengine_kwargs\u001b[49m\u001b[43m)\u001b[49m\n\u001b[1;32m    574\u001b[0m \u001b[38;5;28;01mexcept\u001b[39;00m \u001b[38;5;167;01mException\u001b[39;00m:\n\u001b[1;32m    575\u001b[0m     \u001b[38;5;28mself\u001b[39m\u001b[38;5;241m.\u001b[39mclose()\n",
      "File \u001b[0;32m~/.local/share/virtualenvs/gadget-spec-bot-PKdu65VV/lib/python3.9/site-packages/pandas/io/excel/_xlrd.py:63\u001b[0m, in \u001b[0;36mXlrdReader.load_workbook\u001b[0;34m(self, filepath_or_buffer, engine_kwargs)\u001b[0m\n\u001b[1;32m     61\u001b[0m \u001b[38;5;28;01mif\u001b[39;00m \u001b[38;5;28mhasattr\u001b[39m(filepath_or_buffer, \u001b[38;5;124m\"\u001b[39m\u001b[38;5;124mread\u001b[39m\u001b[38;5;124m\"\u001b[39m):\n\u001b[1;32m     62\u001b[0m     data \u001b[38;5;241m=\u001b[39m filepath_or_buffer\u001b[38;5;241m.\u001b[39mread()\n\u001b[0;32m---> 63\u001b[0m     \u001b[38;5;28;01mreturn\u001b[39;00m \u001b[43mopen_workbook\u001b[49m\u001b[43m(\u001b[49m\u001b[43mfile_contents\u001b[49m\u001b[38;5;241;43m=\u001b[39;49m\u001b[43mdata\u001b[49m\u001b[43m,\u001b[49m\u001b[43m \u001b[49m\u001b[38;5;241;43m*\u001b[39;49m\u001b[38;5;241;43m*\u001b[39;49m\u001b[43mengine_kwargs\u001b[49m\u001b[43m)\u001b[49m\n\u001b[1;32m     64\u001b[0m \u001b[38;5;28;01melse\u001b[39;00m:\n\u001b[1;32m     65\u001b[0m     \u001b[38;5;28;01mreturn\u001b[39;00m open_workbook(filepath_or_buffer, \u001b[38;5;241m*\u001b[39m\u001b[38;5;241m*\u001b[39mengine_kwargs)\n",
      "File \u001b[0;32m~/.local/share/virtualenvs/gadget-spec-bot-PKdu65VV/lib/python3.9/site-packages/xlrd/__init__.py:172\u001b[0m, in \u001b[0;36mopen_workbook\u001b[0;34m(filename, logfile, verbosity, use_mmap, file_contents, encoding_override, formatting_info, on_demand, ragged_rows, ignore_workbook_corruption)\u001b[0m\n\u001b[1;32m    169\u001b[0m \u001b[38;5;28;01mif\u001b[39;00m file_format \u001b[38;5;129;01mand\u001b[39;00m file_format \u001b[38;5;241m!=\u001b[39m \u001b[38;5;124m'\u001b[39m\u001b[38;5;124mxls\u001b[39m\u001b[38;5;124m'\u001b[39m:\n\u001b[1;32m    170\u001b[0m     \u001b[38;5;28;01mraise\u001b[39;00m XLRDError(FILE_FORMAT_DESCRIPTIONS[file_format]\u001b[38;5;241m+\u001b[39m\u001b[38;5;124m'\u001b[39m\u001b[38;5;124m; not supported\u001b[39m\u001b[38;5;124m'\u001b[39m)\n\u001b[0;32m--> 172\u001b[0m bk \u001b[38;5;241m=\u001b[39m \u001b[43mopen_workbook_xls\u001b[49m\u001b[43m(\u001b[49m\n\u001b[1;32m    173\u001b[0m \u001b[43m    \u001b[49m\u001b[43mfilename\u001b[49m\u001b[38;5;241;43m=\u001b[39;49m\u001b[43mfilename\u001b[49m\u001b[43m,\u001b[49m\n\u001b[1;32m    174\u001b[0m \u001b[43m    \u001b[49m\u001b[43mlogfile\u001b[49m\u001b[38;5;241;43m=\u001b[39;49m\u001b[43mlogfile\u001b[49m\u001b[43m,\u001b[49m\n\u001b[1;32m    175\u001b[0m \u001b[43m    \u001b[49m\u001b[43mverbosity\u001b[49m\u001b[38;5;241;43m=\u001b[39;49m\u001b[43mverbosity\u001b[49m\u001b[43m,\u001b[49m\n\u001b[1;32m    176\u001b[0m \u001b[43m    \u001b[49m\u001b[43muse_mmap\u001b[49m\u001b[38;5;241;43m=\u001b[39;49m\u001b[43muse_mmap\u001b[49m\u001b[43m,\u001b[49m\n\u001b[1;32m    177\u001b[0m \u001b[43m    \u001b[49m\u001b[43mfile_contents\u001b[49m\u001b[38;5;241;43m=\u001b[39;49m\u001b[43mfile_contents\u001b[49m\u001b[43m,\u001b[49m\n\u001b[1;32m    178\u001b[0m \u001b[43m    \u001b[49m\u001b[43mencoding_override\u001b[49m\u001b[38;5;241;43m=\u001b[39;49m\u001b[43mencoding_override\u001b[49m\u001b[43m,\u001b[49m\n\u001b[1;32m    179\u001b[0m \u001b[43m    \u001b[49m\u001b[43mformatting_info\u001b[49m\u001b[38;5;241;43m=\u001b[39;49m\u001b[43mformatting_info\u001b[49m\u001b[43m,\u001b[49m\n\u001b[1;32m    180\u001b[0m \u001b[43m    \u001b[49m\u001b[43mon_demand\u001b[49m\u001b[38;5;241;43m=\u001b[39;49m\u001b[43mon_demand\u001b[49m\u001b[43m,\u001b[49m\n\u001b[1;32m    181\u001b[0m \u001b[43m    \u001b[49m\u001b[43mragged_rows\u001b[49m\u001b[38;5;241;43m=\u001b[39;49m\u001b[43mragged_rows\u001b[49m\u001b[43m,\u001b[49m\n\u001b[1;32m    182\u001b[0m \u001b[43m    \u001b[49m\u001b[43mignore_workbook_corruption\u001b[49m\u001b[38;5;241;43m=\u001b[39;49m\u001b[43mignore_workbook_corruption\u001b[49m\u001b[43m,\u001b[49m\n\u001b[1;32m    183\u001b[0m \u001b[43m\u001b[49m\u001b[43m)\u001b[49m\n\u001b[1;32m    185\u001b[0m \u001b[38;5;28;01mreturn\u001b[39;00m bk\n",
      "File \u001b[0;32m~/.local/share/virtualenvs/gadget-spec-bot-PKdu65VV/lib/python3.9/site-packages/xlrd/book.py:79\u001b[0m, in \u001b[0;36mopen_workbook_xls\u001b[0;34m(filename, logfile, verbosity, use_mmap, file_contents, encoding_override, formatting_info, on_demand, ragged_rows, ignore_workbook_corruption)\u001b[0m\n\u001b[1;32m     77\u001b[0m t1 \u001b[38;5;241m=\u001b[39m perf_counter()\n\u001b[1;32m     78\u001b[0m bk\u001b[38;5;241m.\u001b[39mload_time_stage_1 \u001b[38;5;241m=\u001b[39m t1 \u001b[38;5;241m-\u001b[39m t0\n\u001b[0;32m---> 79\u001b[0m biff_version \u001b[38;5;241m=\u001b[39m \u001b[43mbk\u001b[49m\u001b[38;5;241;43m.\u001b[39;49m\u001b[43mgetbof\u001b[49m\u001b[43m(\u001b[49m\u001b[43mXL_WORKBOOK_GLOBALS\u001b[49m\u001b[43m)\u001b[49m\n\u001b[1;32m     80\u001b[0m \u001b[38;5;28;01mif\u001b[39;00m \u001b[38;5;129;01mnot\u001b[39;00m biff_version:\n\u001b[1;32m     81\u001b[0m     \u001b[38;5;28;01mraise\u001b[39;00m XLRDError(\u001b[38;5;124m\"\u001b[39m\u001b[38;5;124mCan\u001b[39m\u001b[38;5;124m'\u001b[39m\u001b[38;5;124mt determine file\u001b[39m\u001b[38;5;124m'\u001b[39m\u001b[38;5;124ms BIFF version\u001b[39m\u001b[38;5;124m\"\u001b[39m)\n",
      "File \u001b[0;32m~/.local/share/virtualenvs/gadget-spec-bot-PKdu65VV/lib/python3.9/site-packages/xlrd/book.py:1284\u001b[0m, in \u001b[0;36mBook.getbof\u001b[0;34m(self, rqd_stream)\u001b[0m\n\u001b[1;32m   1282\u001b[0m     bof_error(\u001b[38;5;124m'\u001b[39m\u001b[38;5;124mExpected BOF record; met end of file\u001b[39m\u001b[38;5;124m'\u001b[39m)\n\u001b[1;32m   1283\u001b[0m \u001b[38;5;28;01mif\u001b[39;00m opcode \u001b[38;5;129;01mnot\u001b[39;00m \u001b[38;5;129;01min\u001b[39;00m bofcodes:\n\u001b[0;32m-> 1284\u001b[0m     \u001b[43mbof_error\u001b[49m\u001b[43m(\u001b[49m\u001b[38;5;124;43m'\u001b[39;49m\u001b[38;5;124;43mExpected BOF record; found \u001b[39;49m\u001b[38;5;132;43;01m%r\u001b[39;49;00m\u001b[38;5;124;43m'\u001b[39;49m\u001b[43m \u001b[49m\u001b[38;5;241;43m%\u001b[39;49m\u001b[43m \u001b[49m\u001b[38;5;28;43mself\u001b[39;49m\u001b[38;5;241;43m.\u001b[39;49m\u001b[43mmem\u001b[49m\u001b[43m[\u001b[49m\u001b[43msavpos\u001b[49m\u001b[43m:\u001b[49m\u001b[43msavpos\u001b[49m\u001b[38;5;241;43m+\u001b[39;49m\u001b[38;5;241;43m8\u001b[39;49m\u001b[43m]\u001b[49m\u001b[43m)\u001b[49m\n\u001b[1;32m   1285\u001b[0m length \u001b[38;5;241m=\u001b[39m \u001b[38;5;28mself\u001b[39m\u001b[38;5;241m.\u001b[39mget2bytes()\n\u001b[1;32m   1286\u001b[0m \u001b[38;5;28;01mif\u001b[39;00m length \u001b[38;5;241m==\u001b[39m MY_EOF:\n",
      "File \u001b[0;32m~/.local/share/virtualenvs/gadget-spec-bot-PKdu65VV/lib/python3.9/site-packages/xlrd/book.py:1278\u001b[0m, in \u001b[0;36mBook.getbof.<locals>.bof_error\u001b[0;34m(msg)\u001b[0m\n\u001b[1;32m   1277\u001b[0m \u001b[38;5;28;01mdef\u001b[39;00m \u001b[38;5;21mbof_error\u001b[39m(msg):\n\u001b[0;32m-> 1278\u001b[0m     \u001b[38;5;28;01mraise\u001b[39;00m XLRDError(\u001b[38;5;124m'\u001b[39m\u001b[38;5;124mUnsupported format, or corrupt file: \u001b[39m\u001b[38;5;124m'\u001b[39m \u001b[38;5;241m+\u001b[39m msg)\n",
      "\u001b[0;31mXLRDError\u001b[0m: Unsupported format, or corrupt file: Expected BOF record; found b'Account '"
     ]
    }
   ],
   "source": [
    "data = pd.read_excel(\"/Users/amoghkulkarni/Downloads/1727893830166VievO8p3MWcxyp7C.xls\", engine='xlrd')"
   ]
  },
  {
   "cell_type": "code",
   "execution_count": 88,
   "id": "3b03caca-b0df-4271-b1e8-3101e55c53fe",
   "metadata": {},
   "outputs": [
    {
     "name": "stderr",
     "output_type": "stream",
     "text": [
      "huggingface/tokenizers: The current process just got forked, after parallelism has already been used. Disabling parallelism to avoid deadlocks...\n",
      "To disable this warning, you can either:\n",
      "\t- Avoid using `tokenizers` before the fork if possible\n",
      "\t- Explicitly set the environment variable TOKENIZERS_PARALLELISM=(true | false)\n"
     ]
    },
    {
     "name": "stdout",
     "output_type": "stream",
     "text": [
      "Collecting html5lib\n",
      "  Downloading html5lib-1.1-py2.py3-none-any.whl.metadata (16 kB)\n",
      "Requirement already satisfied: six>=1.9 in /Users/amoghkulkarni/.local/share/virtualenvs/gadget-spec-bot-PKdu65VV/lib/python3.9/site-packages (from html5lib) (1.16.0)\n",
      "Requirement already satisfied: webencodings in /Users/amoghkulkarni/.local/share/virtualenvs/gadget-spec-bot-PKdu65VV/lib/python3.9/site-packages (from html5lib) (0.5.1)\n",
      "Downloading html5lib-1.1-py2.py3-none-any.whl (112 kB)\n",
      "\u001b[2K   \u001b[38;2;114;156;31m━━━━━━━━━━━━━━━━━━━━━━━━━━━━━━━━━━━━━━━━\u001b[0m \u001b[32m112.2/112.2 kB\u001b[0m \u001b[31m1.2 MB/s\u001b[0m eta \u001b[36m0:00:00\u001b[0m[31m1.6 MB/s\u001b[0m eta \u001b[36m0:00:01\u001b[0m\n",
      "\u001b[?25hInstalling collected packages: html5lib\n",
      "Successfully installed html5lib-1.1\n"
     ]
    }
   ],
   "source": [
    "!pip install html5lib"
   ]
  },
  {
   "cell_type": "code",
   "execution_count": 90,
   "id": "5a6551ec-fa0d-45a0-98f5-884d685f81b2",
   "metadata": {},
   "outputs": [
    {
     "name": "stderr",
     "output_type": "stream",
     "text": [
      "huggingface/tokenizers: The current process just got forked, after parallelism has already been used. Disabling parallelism to avoid deadlocks...\n",
      "To disable this warning, you can either:\n",
      "\t- Avoid using `tokenizers` before the fork if possible\n",
      "\t- Explicitly set the environment variable TOKENIZERS_PARALLELISM=(true | false)\n"
     ]
    },
    {
     "name": "stdout",
     "output_type": "stream",
     "text": [
      "Collecting xlrd\n",
      "  Downloading xlrd-2.0.1-py2.py3-none-any.whl.metadata (3.4 kB)\n",
      "Downloading xlrd-2.0.1-py2.py3-none-any.whl (96 kB)\n",
      "\u001b[2K   \u001b[38;2;114;156;31m━━━━━━━━━━━━━━━━━━━━━━━━━━━━━━━━━━━━━━━━\u001b[0m \u001b[32m96.5/96.5 kB\u001b[0m \u001b[31m1.0 MB/s\u001b[0m eta \u001b[36m0:00:00\u001b[0m MB/s\u001b[0m eta \u001b[36m0:00:01\u001b[0m:01\u001b[0m\n",
      "\u001b[?25hInstalling collected packages: xlrd\n",
      "Successfully installed xlrd-2.0.1\n"
     ]
    }
   ],
   "source": [
    "!pip install xlrd"
   ]
  },
  {
   "cell_type": "code",
   "execution_count": 94,
   "id": "960e7479-4fe4-44b2-bccd-166796541a32",
   "metadata": {},
   "outputs": [
    {
     "ename": "BadZipFile",
     "evalue": "File is not a zip file",
     "output_type": "error",
     "traceback": [
      "\u001b[0;31m---------------------------------------------------------------------------\u001b[0m",
      "\u001b[0;31mBadZipFile\u001b[0m                                Traceback (most recent call last)",
      "Cell \u001b[0;32mIn[94], line 1\u001b[0m\n\u001b[0;32m----> 1\u001b[0m data \u001b[38;5;241m=\u001b[39m \u001b[43mpd\u001b[49m\u001b[38;5;241;43m.\u001b[39;49m\u001b[43mread_excel\u001b[49m\u001b[43m(\u001b[49m\u001b[38;5;124;43m\"\u001b[39;49m\u001b[38;5;124;43m/Users/amoghkulkarni/Downloads/1727893830166VievO8p3MWcxyp7C.xlsx\u001b[39;49m\u001b[38;5;124;43m\"\u001b[39;49m\u001b[43m,\u001b[49m\u001b[43m \u001b[49m\u001b[43mengine\u001b[49m\u001b[38;5;241;43m=\u001b[39;49m\u001b[38;5;124;43m'\u001b[39;49m\u001b[38;5;124;43mopenpyxl\u001b[39;49m\u001b[38;5;124;43m'\u001b[39;49m\u001b[43m)\u001b[49m\n",
      "File \u001b[0;32m~/.local/share/virtualenvs/gadget-spec-bot-PKdu65VV/lib/python3.9/site-packages/pandas/io/excel/_base.py:495\u001b[0m, in \u001b[0;36mread_excel\u001b[0;34m(io, sheet_name, header, names, index_col, usecols, dtype, engine, converters, true_values, false_values, skiprows, nrows, na_values, keep_default_na, na_filter, verbose, parse_dates, date_parser, date_format, thousands, decimal, comment, skipfooter, storage_options, dtype_backend, engine_kwargs)\u001b[0m\n\u001b[1;32m    493\u001b[0m \u001b[38;5;28;01mif\u001b[39;00m \u001b[38;5;129;01mnot\u001b[39;00m \u001b[38;5;28misinstance\u001b[39m(io, ExcelFile):\n\u001b[1;32m    494\u001b[0m     should_close \u001b[38;5;241m=\u001b[39m \u001b[38;5;28;01mTrue\u001b[39;00m\n\u001b[0;32m--> 495\u001b[0m     io \u001b[38;5;241m=\u001b[39m \u001b[43mExcelFile\u001b[49m\u001b[43m(\u001b[49m\n\u001b[1;32m    496\u001b[0m \u001b[43m        \u001b[49m\u001b[43mio\u001b[49m\u001b[43m,\u001b[49m\n\u001b[1;32m    497\u001b[0m \u001b[43m        \u001b[49m\u001b[43mstorage_options\u001b[49m\u001b[38;5;241;43m=\u001b[39;49m\u001b[43mstorage_options\u001b[49m\u001b[43m,\u001b[49m\n\u001b[1;32m    498\u001b[0m \u001b[43m        \u001b[49m\u001b[43mengine\u001b[49m\u001b[38;5;241;43m=\u001b[39;49m\u001b[43mengine\u001b[49m\u001b[43m,\u001b[49m\n\u001b[1;32m    499\u001b[0m \u001b[43m        \u001b[49m\u001b[43mengine_kwargs\u001b[49m\u001b[38;5;241;43m=\u001b[39;49m\u001b[43mengine_kwargs\u001b[49m\u001b[43m,\u001b[49m\n\u001b[1;32m    500\u001b[0m \u001b[43m    \u001b[49m\u001b[43m)\u001b[49m\n\u001b[1;32m    501\u001b[0m \u001b[38;5;28;01melif\u001b[39;00m engine \u001b[38;5;129;01mand\u001b[39;00m engine \u001b[38;5;241m!=\u001b[39m io\u001b[38;5;241m.\u001b[39mengine:\n\u001b[1;32m    502\u001b[0m     \u001b[38;5;28;01mraise\u001b[39;00m \u001b[38;5;167;01mValueError\u001b[39;00m(\n\u001b[1;32m    503\u001b[0m         \u001b[38;5;124m\"\u001b[39m\u001b[38;5;124mEngine should not be specified when passing \u001b[39m\u001b[38;5;124m\"\u001b[39m\n\u001b[1;32m    504\u001b[0m         \u001b[38;5;124m\"\u001b[39m\u001b[38;5;124man ExcelFile - ExcelFile already has the engine set\u001b[39m\u001b[38;5;124m\"\u001b[39m\n\u001b[1;32m    505\u001b[0m     )\n",
      "File \u001b[0;32m~/.local/share/virtualenvs/gadget-spec-bot-PKdu65VV/lib/python3.9/site-packages/pandas/io/excel/_base.py:1567\u001b[0m, in \u001b[0;36mExcelFile.__init__\u001b[0;34m(self, path_or_buffer, engine, storage_options, engine_kwargs)\u001b[0m\n\u001b[1;32m   1564\u001b[0m \u001b[38;5;28mself\u001b[39m\u001b[38;5;241m.\u001b[39mengine \u001b[38;5;241m=\u001b[39m engine\n\u001b[1;32m   1565\u001b[0m \u001b[38;5;28mself\u001b[39m\u001b[38;5;241m.\u001b[39mstorage_options \u001b[38;5;241m=\u001b[39m storage_options\n\u001b[0;32m-> 1567\u001b[0m \u001b[38;5;28mself\u001b[39m\u001b[38;5;241m.\u001b[39m_reader \u001b[38;5;241m=\u001b[39m \u001b[38;5;28;43mself\u001b[39;49m\u001b[38;5;241;43m.\u001b[39;49m\u001b[43m_engines\u001b[49m\u001b[43m[\u001b[49m\u001b[43mengine\u001b[49m\u001b[43m]\u001b[49m\u001b[43m(\u001b[49m\n\u001b[1;32m   1568\u001b[0m \u001b[43m    \u001b[49m\u001b[38;5;28;43mself\u001b[39;49m\u001b[38;5;241;43m.\u001b[39;49m\u001b[43m_io\u001b[49m\u001b[43m,\u001b[49m\n\u001b[1;32m   1569\u001b[0m \u001b[43m    \u001b[49m\u001b[43mstorage_options\u001b[49m\u001b[38;5;241;43m=\u001b[39;49m\u001b[43mstorage_options\u001b[49m\u001b[43m,\u001b[49m\n\u001b[1;32m   1570\u001b[0m \u001b[43m    \u001b[49m\u001b[43mengine_kwargs\u001b[49m\u001b[38;5;241;43m=\u001b[39;49m\u001b[43mengine_kwargs\u001b[49m\u001b[43m,\u001b[49m\n\u001b[1;32m   1571\u001b[0m \u001b[43m\u001b[49m\u001b[43m)\u001b[49m\n",
      "File \u001b[0;32m~/.local/share/virtualenvs/gadget-spec-bot-PKdu65VV/lib/python3.9/site-packages/pandas/io/excel/_openpyxl.py:553\u001b[0m, in \u001b[0;36mOpenpyxlReader.__init__\u001b[0;34m(self, filepath_or_buffer, storage_options, engine_kwargs)\u001b[0m\n\u001b[1;32m    541\u001b[0m \u001b[38;5;250m\u001b[39m\u001b[38;5;124;03m\"\"\"\u001b[39;00m\n\u001b[1;32m    542\u001b[0m \u001b[38;5;124;03mReader using openpyxl engine.\u001b[39;00m\n\u001b[1;32m    543\u001b[0m \n\u001b[0;32m   (...)\u001b[0m\n\u001b[1;32m    550\u001b[0m \u001b[38;5;124;03m    Arbitrary keyword arguments passed to excel engine.\u001b[39;00m\n\u001b[1;32m    551\u001b[0m \u001b[38;5;124;03m\"\"\"\u001b[39;00m\n\u001b[1;32m    552\u001b[0m import_optional_dependency(\u001b[38;5;124m\"\u001b[39m\u001b[38;5;124mopenpyxl\u001b[39m\u001b[38;5;124m\"\u001b[39m)\n\u001b[0;32m--> 553\u001b[0m \u001b[38;5;28;43msuper\u001b[39;49m\u001b[43m(\u001b[49m\u001b[43m)\u001b[49m\u001b[38;5;241;43m.\u001b[39;49m\u001b[38;5;21;43m__init__\u001b[39;49m\u001b[43m(\u001b[49m\n\u001b[1;32m    554\u001b[0m \u001b[43m    \u001b[49m\u001b[43mfilepath_or_buffer\u001b[49m\u001b[43m,\u001b[49m\n\u001b[1;32m    555\u001b[0m \u001b[43m    \u001b[49m\u001b[43mstorage_options\u001b[49m\u001b[38;5;241;43m=\u001b[39;49m\u001b[43mstorage_options\u001b[49m\u001b[43m,\u001b[49m\n\u001b[1;32m    556\u001b[0m \u001b[43m    \u001b[49m\u001b[43mengine_kwargs\u001b[49m\u001b[38;5;241;43m=\u001b[39;49m\u001b[43mengine_kwargs\u001b[49m\u001b[43m,\u001b[49m\n\u001b[1;32m    557\u001b[0m \u001b[43m\u001b[49m\u001b[43m)\u001b[49m\n",
      "File \u001b[0;32m~/.local/share/virtualenvs/gadget-spec-bot-PKdu65VV/lib/python3.9/site-packages/pandas/io/excel/_base.py:573\u001b[0m, in \u001b[0;36mBaseExcelReader.__init__\u001b[0;34m(self, filepath_or_buffer, storage_options, engine_kwargs)\u001b[0m\n\u001b[1;32m    571\u001b[0m \u001b[38;5;28mself\u001b[39m\u001b[38;5;241m.\u001b[39mhandles\u001b[38;5;241m.\u001b[39mhandle\u001b[38;5;241m.\u001b[39mseek(\u001b[38;5;241m0\u001b[39m)\n\u001b[1;32m    572\u001b[0m \u001b[38;5;28;01mtry\u001b[39;00m:\n\u001b[0;32m--> 573\u001b[0m     \u001b[38;5;28mself\u001b[39m\u001b[38;5;241m.\u001b[39mbook \u001b[38;5;241m=\u001b[39m \u001b[38;5;28;43mself\u001b[39;49m\u001b[38;5;241;43m.\u001b[39;49m\u001b[43mload_workbook\u001b[49m\u001b[43m(\u001b[49m\u001b[38;5;28;43mself\u001b[39;49m\u001b[38;5;241;43m.\u001b[39;49m\u001b[43mhandles\u001b[49m\u001b[38;5;241;43m.\u001b[39;49m\u001b[43mhandle\u001b[49m\u001b[43m,\u001b[49m\u001b[43m \u001b[49m\u001b[43mengine_kwargs\u001b[49m\u001b[43m)\u001b[49m\n\u001b[1;32m    574\u001b[0m \u001b[38;5;28;01mexcept\u001b[39;00m \u001b[38;5;167;01mException\u001b[39;00m:\n\u001b[1;32m    575\u001b[0m     \u001b[38;5;28mself\u001b[39m\u001b[38;5;241m.\u001b[39mclose()\n",
      "File \u001b[0;32m~/.local/share/virtualenvs/gadget-spec-bot-PKdu65VV/lib/python3.9/site-packages/pandas/io/excel/_openpyxl.py:572\u001b[0m, in \u001b[0;36mOpenpyxlReader.load_workbook\u001b[0;34m(self, filepath_or_buffer, engine_kwargs)\u001b[0m\n\u001b[1;32m    568\u001b[0m \u001b[38;5;28;01mfrom\u001b[39;00m \u001b[38;5;21;01mopenpyxl\u001b[39;00m \u001b[38;5;28;01mimport\u001b[39;00m load_workbook\n\u001b[1;32m    570\u001b[0m default_kwargs \u001b[38;5;241m=\u001b[39m {\u001b[38;5;124m\"\u001b[39m\u001b[38;5;124mread_only\u001b[39m\u001b[38;5;124m\"\u001b[39m: \u001b[38;5;28;01mTrue\u001b[39;00m, \u001b[38;5;124m\"\u001b[39m\u001b[38;5;124mdata_only\u001b[39m\u001b[38;5;124m\"\u001b[39m: \u001b[38;5;28;01mTrue\u001b[39;00m, \u001b[38;5;124m\"\u001b[39m\u001b[38;5;124mkeep_links\u001b[39m\u001b[38;5;124m\"\u001b[39m: \u001b[38;5;28;01mFalse\u001b[39;00m}\n\u001b[0;32m--> 572\u001b[0m \u001b[38;5;28;01mreturn\u001b[39;00m \u001b[43mload_workbook\u001b[49m\u001b[43m(\u001b[49m\n\u001b[1;32m    573\u001b[0m \u001b[43m    \u001b[49m\u001b[43mfilepath_or_buffer\u001b[49m\u001b[43m,\u001b[49m\n\u001b[1;32m    574\u001b[0m \u001b[43m    \u001b[49m\u001b[38;5;241;43m*\u001b[39;49m\u001b[38;5;241;43m*\u001b[39;49m\u001b[43m(\u001b[49m\u001b[43mdefault_kwargs\u001b[49m\u001b[43m \u001b[49m\u001b[38;5;241;43m|\u001b[39;49m\u001b[43m \u001b[49m\u001b[43mengine_kwargs\u001b[49m\u001b[43m)\u001b[49m\u001b[43m,\u001b[49m\n\u001b[1;32m    575\u001b[0m \u001b[43m\u001b[49m\u001b[43m)\u001b[49m\n",
      "File \u001b[0;32m~/.local/share/virtualenvs/gadget-spec-bot-PKdu65VV/lib/python3.9/site-packages/openpyxl/reader/excel.py:346\u001b[0m, in \u001b[0;36mload_workbook\u001b[0;34m(filename, read_only, keep_vba, data_only, keep_links, rich_text)\u001b[0m\n\u001b[1;32m    316\u001b[0m \u001b[38;5;28;01mdef\u001b[39;00m \u001b[38;5;21mload_workbook\u001b[39m(filename, read_only\u001b[38;5;241m=\u001b[39m\u001b[38;5;28;01mFalse\u001b[39;00m, keep_vba\u001b[38;5;241m=\u001b[39mKEEP_VBA,\n\u001b[1;32m    317\u001b[0m                   data_only\u001b[38;5;241m=\u001b[39m\u001b[38;5;28;01mFalse\u001b[39;00m, keep_links\u001b[38;5;241m=\u001b[39m\u001b[38;5;28;01mTrue\u001b[39;00m, rich_text\u001b[38;5;241m=\u001b[39m\u001b[38;5;28;01mFalse\u001b[39;00m):\n\u001b[1;32m    318\u001b[0m \u001b[38;5;250m    \u001b[39m\u001b[38;5;124;03m\"\"\"Open the given filename and return the workbook\u001b[39;00m\n\u001b[1;32m    319\u001b[0m \n\u001b[1;32m    320\u001b[0m \u001b[38;5;124;03m    :param filename: the path to open or a file-like object\u001b[39;00m\n\u001b[0;32m   (...)\u001b[0m\n\u001b[1;32m    344\u001b[0m \n\u001b[1;32m    345\u001b[0m \u001b[38;5;124;03m    \"\"\"\u001b[39;00m\n\u001b[0;32m--> 346\u001b[0m     reader \u001b[38;5;241m=\u001b[39m \u001b[43mExcelReader\u001b[49m\u001b[43m(\u001b[49m\u001b[43mfilename\u001b[49m\u001b[43m,\u001b[49m\u001b[43m \u001b[49m\u001b[43mread_only\u001b[49m\u001b[43m,\u001b[49m\u001b[43m \u001b[49m\u001b[43mkeep_vba\u001b[49m\u001b[43m,\u001b[49m\n\u001b[1;32m    347\u001b[0m \u001b[43m                         \u001b[49m\u001b[43mdata_only\u001b[49m\u001b[43m,\u001b[49m\u001b[43m \u001b[49m\u001b[43mkeep_links\u001b[49m\u001b[43m,\u001b[49m\u001b[43m \u001b[49m\u001b[43mrich_text\u001b[49m\u001b[43m)\u001b[49m\n\u001b[1;32m    348\u001b[0m     reader\u001b[38;5;241m.\u001b[39mread()\n\u001b[1;32m    349\u001b[0m     \u001b[38;5;28;01mreturn\u001b[39;00m reader\u001b[38;5;241m.\u001b[39mwb\n",
      "File \u001b[0;32m~/.local/share/virtualenvs/gadget-spec-bot-PKdu65VV/lib/python3.9/site-packages/openpyxl/reader/excel.py:123\u001b[0m, in \u001b[0;36mExcelReader.__init__\u001b[0;34m(self, fn, read_only, keep_vba, data_only, keep_links, rich_text)\u001b[0m\n\u001b[1;32m    121\u001b[0m \u001b[38;5;28;01mdef\u001b[39;00m \u001b[38;5;21m__init__\u001b[39m(\u001b[38;5;28mself\u001b[39m, fn, read_only\u001b[38;5;241m=\u001b[39m\u001b[38;5;28;01mFalse\u001b[39;00m, keep_vba\u001b[38;5;241m=\u001b[39mKEEP_VBA,\n\u001b[1;32m    122\u001b[0m              data_only\u001b[38;5;241m=\u001b[39m\u001b[38;5;28;01mFalse\u001b[39;00m, keep_links\u001b[38;5;241m=\u001b[39m\u001b[38;5;28;01mTrue\u001b[39;00m, rich_text\u001b[38;5;241m=\u001b[39m\u001b[38;5;28;01mFalse\u001b[39;00m):\n\u001b[0;32m--> 123\u001b[0m     \u001b[38;5;28mself\u001b[39m\u001b[38;5;241m.\u001b[39marchive \u001b[38;5;241m=\u001b[39m \u001b[43m_validate_archive\u001b[49m\u001b[43m(\u001b[49m\u001b[43mfn\u001b[49m\u001b[43m)\u001b[49m\n\u001b[1;32m    124\u001b[0m     \u001b[38;5;28mself\u001b[39m\u001b[38;5;241m.\u001b[39mvalid_files \u001b[38;5;241m=\u001b[39m \u001b[38;5;28mself\u001b[39m\u001b[38;5;241m.\u001b[39marchive\u001b[38;5;241m.\u001b[39mnamelist()\n\u001b[1;32m    125\u001b[0m     \u001b[38;5;28mself\u001b[39m\u001b[38;5;241m.\u001b[39mread_only \u001b[38;5;241m=\u001b[39m read_only\n",
      "File \u001b[0;32m~/.local/share/virtualenvs/gadget-spec-bot-PKdu65VV/lib/python3.9/site-packages/openpyxl/reader/excel.py:95\u001b[0m, in \u001b[0;36m_validate_archive\u001b[0;34m(filename)\u001b[0m\n\u001b[1;32m     88\u001b[0m             msg \u001b[38;5;241m=\u001b[39m (\u001b[38;5;124m'\u001b[39m\u001b[38;5;124mopenpyxl does not support \u001b[39m\u001b[38;5;132;01m%s\u001b[39;00m\u001b[38;5;124m file format, \u001b[39m\u001b[38;5;124m'\u001b[39m\n\u001b[1;32m     89\u001b[0m                    \u001b[38;5;124m'\u001b[39m\u001b[38;5;124mplease check you can open \u001b[39m\u001b[38;5;124m'\u001b[39m\n\u001b[1;32m     90\u001b[0m                    \u001b[38;5;124m'\u001b[39m\u001b[38;5;124mit with Excel first. \u001b[39m\u001b[38;5;124m'\u001b[39m\n\u001b[1;32m     91\u001b[0m                    \u001b[38;5;124m'\u001b[39m\u001b[38;5;124mSupported formats are: \u001b[39m\u001b[38;5;132;01m%s\u001b[39;00m\u001b[38;5;124m'\u001b[39m) \u001b[38;5;241m%\u001b[39m (file_format,\n\u001b[1;32m     92\u001b[0m                                                    \u001b[38;5;124m'\u001b[39m\u001b[38;5;124m,\u001b[39m\u001b[38;5;124m'\u001b[39m\u001b[38;5;241m.\u001b[39mjoin(SUPPORTED_FORMATS))\n\u001b[1;32m     93\u001b[0m         \u001b[38;5;28;01mraise\u001b[39;00m InvalidFileException(msg)\n\u001b[0;32m---> 95\u001b[0m archive \u001b[38;5;241m=\u001b[39m \u001b[43mZipFile\u001b[49m\u001b[43m(\u001b[49m\u001b[43mfilename\u001b[49m\u001b[43m,\u001b[49m\u001b[43m \u001b[49m\u001b[38;5;124;43m'\u001b[39;49m\u001b[38;5;124;43mr\u001b[39;49m\u001b[38;5;124;43m'\u001b[39;49m\u001b[43m)\u001b[49m\n\u001b[1;32m     96\u001b[0m \u001b[38;5;28;01mreturn\u001b[39;00m archive\n",
      "File \u001b[0;32m/Library/Developer/CommandLineTools/Library/Frameworks/Python3.framework/Versions/3.9/lib/python3.9/zipfile.py:1257\u001b[0m, in \u001b[0;36mZipFile.__init__\u001b[0;34m(self, file, mode, compression, allowZip64, compresslevel, strict_timestamps)\u001b[0m\n\u001b[1;32m   1255\u001b[0m \u001b[38;5;28;01mtry\u001b[39;00m:\n\u001b[1;32m   1256\u001b[0m     \u001b[38;5;28;01mif\u001b[39;00m mode \u001b[38;5;241m==\u001b[39m \u001b[38;5;124m'\u001b[39m\u001b[38;5;124mr\u001b[39m\u001b[38;5;124m'\u001b[39m:\n\u001b[0;32m-> 1257\u001b[0m         \u001b[38;5;28;43mself\u001b[39;49m\u001b[38;5;241;43m.\u001b[39;49m\u001b[43m_RealGetContents\u001b[49m\u001b[43m(\u001b[49m\u001b[43m)\u001b[49m\n\u001b[1;32m   1258\u001b[0m     \u001b[38;5;28;01melif\u001b[39;00m mode \u001b[38;5;129;01min\u001b[39;00m (\u001b[38;5;124m'\u001b[39m\u001b[38;5;124mw\u001b[39m\u001b[38;5;124m'\u001b[39m, \u001b[38;5;124m'\u001b[39m\u001b[38;5;124mx\u001b[39m\u001b[38;5;124m'\u001b[39m):\n\u001b[1;32m   1259\u001b[0m         \u001b[38;5;66;03m# set the modified flag so central directory gets written\u001b[39;00m\n\u001b[1;32m   1260\u001b[0m         \u001b[38;5;66;03m# even if no files are added to the archive\u001b[39;00m\n\u001b[1;32m   1261\u001b[0m         \u001b[38;5;28mself\u001b[39m\u001b[38;5;241m.\u001b[39m_didModify \u001b[38;5;241m=\u001b[39m \u001b[38;5;28;01mTrue\u001b[39;00m\n",
      "File \u001b[0;32m/Library/Developer/CommandLineTools/Library/Frameworks/Python3.framework/Versions/3.9/lib/python3.9/zipfile.py:1324\u001b[0m, in \u001b[0;36mZipFile._RealGetContents\u001b[0;34m(self)\u001b[0m\n\u001b[1;32m   1322\u001b[0m     \u001b[38;5;28;01mraise\u001b[39;00m BadZipFile(\u001b[38;5;124m\"\u001b[39m\u001b[38;5;124mFile is not a zip file\u001b[39m\u001b[38;5;124m\"\u001b[39m)\n\u001b[1;32m   1323\u001b[0m \u001b[38;5;28;01mif\u001b[39;00m \u001b[38;5;129;01mnot\u001b[39;00m endrec:\n\u001b[0;32m-> 1324\u001b[0m     \u001b[38;5;28;01mraise\u001b[39;00m BadZipFile(\u001b[38;5;124m\"\u001b[39m\u001b[38;5;124mFile is not a zip file\u001b[39m\u001b[38;5;124m\"\u001b[39m)\n\u001b[1;32m   1325\u001b[0m \u001b[38;5;28;01mif\u001b[39;00m \u001b[38;5;28mself\u001b[39m\u001b[38;5;241m.\u001b[39mdebug \u001b[38;5;241m>\u001b[39m \u001b[38;5;241m1\u001b[39m:\n\u001b[1;32m   1326\u001b[0m     \u001b[38;5;28mprint\u001b[39m(endrec)\n",
      "\u001b[0;31mBadZipFile\u001b[0m: File is not a zip file"
     ]
    }
   ],
   "source": [
    "data = pd.read_excel(\"/Users/amoghkulkarni/Downloads/1727893830166VievO8p3MWcxyp7C.xlsx\", engine='openpyxl')"
   ]
  },
  {
   "cell_type": "code",
   "execution_count": null,
   "id": "7cb76283-54fc-4a44-b903-6a87cb35e8a3",
   "metadata": {},
   "outputs": [],
   "source": []
  }
 ],
 "metadata": {
  "kernelspec": {
   "display_name": "Python 3 (ipykernel)",
   "language": "python",
   "name": "python3"
  },
  "language_info": {
   "codemirror_mode": {
    "name": "ipython",
    "version": 3
   },
   "file_extension": ".py",
   "mimetype": "text/x-python",
   "name": "python",
   "nbconvert_exporter": "python",
   "pygments_lexer": "ipython3",
   "version": "3.9.6"
  }
 },
 "nbformat": 4,
 "nbformat_minor": 5
}
