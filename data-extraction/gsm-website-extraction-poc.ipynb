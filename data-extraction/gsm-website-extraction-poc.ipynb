{
 "cells": [
  {
   "cell_type": "code",
   "execution_count": 4,
   "id": "5867ef5f-2371-4c39-b841-167a30a95303",
   "metadata": {},
   "outputs": [
    {
     "name": "stderr",
     "output_type": "stream",
     "text": [
      "/Users/amoghkulkarni/.local/share/virtualenvs/gadget-spec-bot-PKdu65VV/lib/python3.9/site-packages/urllib3/__init__.py:35: NotOpenSSLWarning: urllib3 v2 only supports OpenSSL 1.1.1+, currently the 'ssl' module is compiled with 'LibreSSL 2.8.3'. See: https://github.com/urllib3/urllib3/issues/3020\n",
      "  warnings.warn(\n"
     ]
    }
   ],
   "source": [
    "import requests\n",
    "from bs4 import BeautifulSoup"
   ]
  },
  {
   "cell_type": "code",
   "execution_count": 16,
   "id": "90804103-0b49-462e-80d0-73e1feed7965",
   "metadata": {},
   "outputs": [],
   "source": [
    "from urllib.parse import urlparse"
   ]
  },
  {
   "cell_type": "markdown",
   "id": "e726d459-bc59-4fe6-bc0a-84a4bc8c7408",
   "metadata": {
    "jp-MarkdownHeadingCollapsed": true
   },
   "source": [
    "## Get the list of all mobile phones"
   ]
  },
  {
   "cell_type": "code",
   "execution_count": 20,
   "id": "d6ba2281-3675-419d-92b7-81ed26425150",
   "metadata": {},
   "outputs": [
    {
     "name": "stdout",
     "output_type": "stream",
     "text": [
      "<li><a href=\"acer-phones-59.php\"><strong>Acer</strong></a></li>\n",
      "Acer\n",
      "<li><a href=\"alcatel-phones-5.php\"><strong>alcatel</strong></a></li>\n",
      "alcatel\n",
      "<li><a href=\"allview-phones-88.php\"><strong>Allview</strong></a></li>\n",
      "Allview\n",
      "<li><a href=\"amazon-phones-76.php\"><strong>Amazon</strong></a></li>\n",
      "Amazon\n",
      "<li><a href=\"amoi-phones-28.php\"><strong>Amoi</strong></a></li>\n",
      "Amoi\n",
      "<li><a href=\"apple-phones-48.php\"><strong>Apple</strong></a></li>\n",
      "Apple\n",
      "<li><a href=\"archos-phones-90.php\"><strong>Archos</strong></a></li>\n",
      "Archos\n",
      "<li><a href=\"asus-phones-46.php\"><strong>Asus</strong></a></li>\n",
      "Asus\n",
      "<li><a href=\"at&amp;t-phones-57.php\"><strong>AT&amp;T</strong></a></li>\n",
      "AT&T\n",
      "<li><a href=\"benefon-phones-15.php\"><strong>Benefon</strong></a></li>\n",
      "Benefon\n",
      "<li><a href=\"benq-phones-31.php\"><strong>BenQ</strong></a></li>\n",
      "BenQ\n",
      "<li><a href=\"benq_siemens-phones-42.php\"><strong>BenQ-Siemens</strong></a></li>\n",
      "BenQ-Siemens\n",
      "<li><a href=\"bird-phones-34.php\"><strong>Bird</strong></a></li>\n",
      "Bird\n",
      "<li><a href=\"blackberry-phones-36.php\"><strong>BlackBerry</strong></a></li>\n",
      "BlackBerry\n",
      "<li><a href=\"blackview-phones-116.php\"><strong>Blackview</strong></a></li>\n",
      "Blackview\n",
      "<li><a href=\"blu-phones-67.php\"><strong>BLU</strong></a></li>\n",
      "BLU\n",
      "<li><a href=\"bosch-phones-10.php\"><strong>Bosch</strong></a></li>\n",
      "Bosch\n",
      "<li><a href=\"bq-phones-108.php\"><strong>BQ</strong></a></li>\n",
      "BQ\n",
      "<li><a href=\"casio-phones-77.php\"><strong>Casio</strong></a></li>\n",
      "Casio\n",
      "<li><a href=\"cat-phones-89.php\"><strong>Cat</strong></a></li>\n",
      "Cat\n",
      "<li><a href=\"celkon-phones-75.php\"><strong>Celkon</strong></a></li>\n",
      "Celkon\n",
      "<li><a href=\"chea-phones-24.php\"><strong>Chea</strong></a></li>\n",
      "Chea\n",
      "<li><a href=\"coolpad-phones-105.php\"><strong>Coolpad</strong></a></li>\n",
      "Coolpad\n",
      "<li><a href=\"cubot-phones-130.php\"><strong>Cubot</strong></a></li>\n",
      "Cubot\n",
      "<li><a href=\"dell-phones-61.php\"><strong>Dell</strong></a></li>\n",
      "Dell\n",
      "<li><a href=\"doogee-phones-129.php\"><strong>Doogee</strong></a></li>\n",
      "Doogee\n",
      "<li><a href=\"emporia-phones-93.php\"><strong>Emporia</strong></a></li>\n",
      "Emporia\n",
      "<li><a href=\"energizer-phones-106.php\"><strong>Energizer</strong></a></li>\n",
      "Energizer\n",
      "<li><a href=\"ericsson-phones-2.php\"><strong>Ericsson</strong></a></li>\n",
      "Ericsson\n",
      "<li><a href=\"eten-phones-40.php\"><strong>Eten</strong></a></li>\n",
      "Eten\n",
      "<li><a href=\"fairphone-phones-127.php\"><strong>Fairphone</strong></a></li>\n",
      "Fairphone\n",
      "<li><a href=\"fujitsu_siemens-phones-50.php\"><strong>Fujitsu Siemens</strong></a></li>\n",
      "Fujitsu Siemens\n",
      "<li><a href=\"garmin_asus-phones-65.php\"><strong>Garmin-Asus</strong></a></li>\n",
      "Garmin-Asus\n",
      "<li><a href=\"gigabyte-phones-47.php\"><strong>Gigabyte</strong></a></li>\n",
      "Gigabyte\n",
      "<li><a href=\"gionee-phones-92.php\"><strong>Gionee</strong></a></li>\n",
      "Gionee\n",
      "<li><a href=\"google-phones-107.php\"><strong>Google</strong></a></li>\n",
      "Google\n",
      "<li><a href=\"haier-phones-33.php\"><strong>Haier</strong></a></li>\n",
      "Haier\n",
      "<li><a href=\"hmd-phones-133.php\"><strong>HMD</strong></a></li>\n",
      "HMD\n",
      "<li><a href=\"honor-phones-121.php\"><strong>Honor</strong></a></li>\n",
      "Honor\n",
      "<li><a href=\"hp-phones-41.php\"><strong>HP</strong></a></li>\n",
      "HP\n",
      "<li><a href=\"htc-phones-45.php\"><strong>HTC</strong></a></li>\n",
      "HTC\n",
      "<li><a href=\"huawei-phones-58.php\"><strong>Huawei</strong></a></li>\n",
      "Huawei\n",
      "<li><a href=\"i_mate-phones-35.php\"><strong>i-mate</strong></a></li>\n",
      "i-mate\n",
      "<li><a href=\"i_mobile-phones-52.php\"><strong>i-mobile</strong></a></li>\n",
      "i-mobile\n",
      "<li><a href=\"icemobile-phones-69.php\"><strong>Icemobile</strong></a></li>\n",
      "Icemobile\n",
      "<li><a href=\"infinix-phones-119.php\"><strong>Infinix</strong></a></li>\n",
      "Infinix\n",
      "<li><a href=\"innostream-phones-29.php\"><strong>Innostream</strong></a></li>\n",
      "Innostream\n",
      "<li><a href=\"inq-phones-60.php\"><strong>iNQ</strong></a></li>\n",
      "iNQ\n",
      "<li><a href=\"intex-phones-102.php\"><strong>Intex</strong></a></li>\n",
      "Intex\n",
      "<li><a href=\"itel-phones-131.php\"><strong>itel</strong></a></li>\n",
      "itel\n",
      "<li><a href=\"jolla-phones-84.php\"><strong>Jolla</strong></a></li>\n",
      "Jolla\n",
      "<li><a href=\"karbonn-phones-83.php\"><strong>Karbonn</strong></a></li>\n",
      "Karbonn\n",
      "<li><a href=\"kyocera-phones-17.php\"><strong>Kyocera</strong></a></li>\n",
      "Kyocera\n",
      "<li><a href=\"lava-phones-94.php\"><strong>Lava</strong></a></li>\n",
      "Lava\n",
      "<li><a href=\"leeco-phones-109.php\"><strong>LeEco</strong></a></li>\n",
      "LeEco\n",
      "<li><a href=\"lenovo-phones-73.php\"><strong>Lenovo</strong></a></li>\n",
      "Lenovo\n",
      "<li><a href=\"lg-phones-20.php\"><strong>LG</strong></a></li>\n",
      "LG\n",
      "<li><a href=\"maxon-phones-14.php\"><strong>Maxon</strong></a></li>\n",
      "Maxon\n",
      "<li><a href=\"maxwest-phones-87.php\"><strong>Maxwest</strong></a></li>\n",
      "Maxwest\n",
      "<li><a href=\"meizu-phones-74.php\"><strong>Meizu</strong></a></li>\n",
      "Meizu\n",
      "<li><a href=\"micromax-phones-66.php\"><strong>Micromax</strong></a></li>\n",
      "Micromax\n",
      "<li><a href=\"microsoft-phones-64.php\"><strong>Microsoft</strong></a></li>\n",
      "Microsoft\n",
      "<li><a href=\"mitac-phones-25.php\"><strong>Mitac</strong></a></li>\n",
      "Mitac\n",
      "<li><a href=\"mitsubishi-phones-8.php\"><strong>Mitsubishi</strong></a></li>\n",
      "Mitsubishi\n",
      "<li><a href=\"modu-phones-63.php\"><strong>Modu</strong></a></li>\n",
      "Modu\n",
      "<li><a href=\"motorola-phones-4.php\"><strong>Motorola</strong></a></li>\n",
      "Motorola\n",
      "<li><a href=\"mwg-phones-56.php\"><strong>MWg</strong></a></li>\n",
      "MWg\n",
      "<li><a href=\"nec-phones-12.php\"><strong>NEC</strong></a></li>\n",
      "NEC\n",
      "<li><a href=\"neonode-phones-22.php\"><strong>Neonode</strong></a></li>\n",
      "Neonode\n",
      "<li><a href=\"niu-phones-79.php\"><strong>NIU</strong></a></li>\n",
      "NIU\n",
      "<li><a href=\"nokia-phones-1.php\"><strong>Nokia</strong></a></li>\n",
      "Nokia\n",
      "<li><a href=\"nothing-phones-128.php\"><strong>Nothing</strong></a></li>\n",
      "Nothing\n",
      "<li><a href=\"nvidia-phones-97.php\"><strong>Nvidia</strong></a></li>\n",
      "Nvidia\n",
      "<li><a href=\"o2-phones-30.php\"><strong>O2</strong></a></li>\n",
      "O2\n",
      "<li><a href=\"oneplus-phones-95.php\"><strong>OnePlus</strong></a></li>\n",
      "OnePlus\n",
      "<li><a href=\"oppo-phones-82.php\"><strong>Oppo</strong></a></li>\n",
      "Oppo\n",
      "<li><a href=\"orange-phones-71.php\"><strong>Orange</strong></a></li>\n",
      "Orange\n",
      "<li><a href=\"oscal-phones-134.php\"><strong>Oscal</strong></a></li>\n",
      "Oscal\n",
      "<li><a href=\"oukitel-phones-132.php\"><strong>Oukitel</strong></a></li>\n",
      "Oukitel\n",
      "<li><a href=\"palm-phones-27.php\"><strong>Palm</strong></a></li>\n",
      "Palm\n",
      "<li><a href=\"panasonic-phones-6.php\"><strong>Panasonic</strong></a></li>\n",
      "Panasonic\n",
      "<li><a href=\"pantech-phones-32.php\"><strong>Pantech</strong></a></li>\n",
      "Pantech\n",
      "<li><a href=\"parla-phones-81.php\"><strong>Parla</strong></a></li>\n",
      "Parla\n",
      "<li><a href=\"philips-phones-11.php\"><strong>Philips</strong></a></li>\n",
      "Philips\n",
      "<li><a href=\"plum-phones-72.php\"><strong>Plum</strong></a></li>\n",
      "Plum\n",
      "<li><a href=\"posh-phones-101.php\"><strong>Posh</strong></a></li>\n",
      "Posh\n",
      "<li><a href=\"prestigio-phones-86.php\"><strong>Prestigio</strong></a></li>\n",
      "Prestigio\n",
      "<li><a href=\"qmobile-phones-103.php\"><strong>QMobile</strong></a></li>\n",
      "QMobile\n",
      "<li><a href=\"qtek-phones-38.php\"><strong>Qtek</strong></a></li>\n",
      "Qtek\n",
      "<li><a href=\"razer-phones-117.php\"><strong>Razer</strong></a></li>\n",
      "Razer\n",
      "<li><a href=\"realme-phones-118.php\"><strong>Realme</strong></a></li>\n",
      "Realme\n",
      "<li><a href=\"sagem-phones-13.php\"><strong>Sagem</strong></a></li>\n",
      "Sagem\n",
      "<li><a href=\"samsung-phones-9.php\"><strong>Samsung</strong></a></li>\n",
      "Samsung\n",
      "<li><a href=\"sendo-phones-18.php\"><strong>Sendo</strong></a></li>\n",
      "Sendo\n",
      "<li><a href=\"sewon-phones-26.php\"><strong>Sewon</strong></a></li>\n",
      "Sewon\n",
      "<li><a href=\"sharp-phones-23.php\"><strong>Sharp</strong></a></li>\n",
      "Sharp\n",
      "<li><a href=\"siemens-phones-3.php\"><strong>Siemens</strong></a></li>\n",
      "Siemens\n",
      "<li><a href=\"sonim-phones-54.php\"><strong>Sonim</strong></a></li>\n",
      "Sonim\n",
      "<li><a href=\"sony-phones-7.php\"><strong>Sony</strong></a></li>\n",
      "Sony\n",
      "<li><a href=\"sony_ericsson-phones-19.php\"><strong>Sony Ericsson</strong></a></li>\n",
      "Sony Ericsson\n",
      "<li><a href=\"spice-phones-68.php\"><strong>Spice</strong></a></li>\n",
      "Spice\n",
      "<li><a href=\"t_mobile-phones-55.php\"><strong>T-Mobile</strong></a></li>\n",
      "T-Mobile\n",
      "<li><a href=\"tcl-phones-123.php\"><strong>TCL</strong></a></li>\n",
      "TCL\n",
      "<li><a href=\"tecno-phones-120.php\"><strong>Tecno</strong></a></li>\n",
      "Tecno\n",
      "<li><a href=\"tel_me_-phones-21.php\"><strong>Tel.Me.</strong></a></li>\n",
      "Tel.Me.\n",
      "<li><a href=\"telit-phones-16.php\"><strong>Telit</strong></a></li>\n",
      "Telit\n",
      "<li><a href=\"thuraya-phones-49.php\"><strong>Thuraya</strong></a></li>\n",
      "Thuraya\n",
      "<li><a href=\"toshiba-phones-44.php\"><strong>Toshiba</strong></a></li>\n",
      "Toshiba\n",
      "<li><a href=\"ulefone-phones-124.php\"><strong>Ulefone</strong></a></li>\n",
      "Ulefone\n",
      "<li><a href=\"umidigi-phones-135.php\"><strong>Umidigi</strong></a></li>\n",
      "Umidigi\n",
      "<li><a href=\"unnecto-phones-91.php\"><strong>Unnecto</strong></a></li>\n",
      "Unnecto\n",
      "<li><a href=\"vertu-phones-39.php\"><strong>Vertu</strong></a></li>\n",
      "Vertu\n",
      "<li><a href=\"verykool-phones-70.php\"><strong>verykool</strong></a></li>\n",
      "verykool\n",
      "<li><a href=\"vivo-phones-98.php\"><strong>vivo</strong></a></li>\n",
      "vivo\n",
      "<li><a href=\"vk_mobile-phones-37.php\"><strong>VK Mobile</strong></a></li>\n",
      "VK Mobile\n",
      "<li><a href=\"vodafone-phones-53.php\"><strong>Vodafone</strong></a></li>\n",
      "Vodafone\n",
      "<li><a href=\"wiko-phones-96.php\"><strong>Wiko</strong></a></li>\n",
      "Wiko\n",
      "<li><a href=\"wnd-phones-51.php\"><strong>WND</strong></a></li>\n",
      "WND\n",
      "<li><a href=\"xcute-phones-43.php\"><strong>XCute</strong></a></li>\n",
      "XCute\n",
      "<li><a href=\"xiaomi-phones-80.php\"><strong>Xiaomi</strong></a></li>\n",
      "Xiaomi\n",
      "<li><a href=\"xolo-phones-85.php\"><strong>XOLO</strong></a></li>\n",
      "XOLO\n",
      "<li><a href=\"yezz-phones-78.php\"><strong>Yezz</strong></a></li>\n",
      "Yezz\n",
      "<li><a href=\"yota-phones-99.php\"><strong>Yota</strong></a></li>\n",
      "Yota\n",
      "<li><a href=\"yu-phones-100.php\"><strong>YU</strong></a></li>\n",
      "YU\n",
      "<li><a href=\"zte-phones-62.php\"><strong>ZTE</strong></a></li>\n",
      "ZTE\n"
     ]
    }
   ],
   "source": [
    "url = \"https://m.gsmarena.com/makers.php3\"  # Replace with the target website URL\n",
    "gsm_arena_url = \"https://m.gsmarena.com/\"\n",
    "response = requests.get(url)\n",
    "\n",
    "# Step 2: Check if the request was successful\n",
    "if response.status_code == 200:\n",
    "    # Step 3: Parse the HTML content\n",
    "    soup = BeautifulSoup(response.content, 'html.parser')\n",
    "    # print(f\"soup = {soup}\")\n",
    "    \n",
    "    # Step 4: Find elements using BeautifulSoup methods\n",
    "    # For example, finding all <h1> tags\n",
    "    general_menu_tag = soup.find(\"div\", class_=\"general-menu\")\n",
    "    list_tags = general_menu_tag.find_all(\"li\")\n",
    "    for each_tag in list_tags:\n",
    "        print(each_tag)\n",
    "        \n",
    "else:\n",
    "    print(f\"Failed to retrieve the webpage. Status code: {response.status_code}\")"
   ]
  },
  {
   "cell_type": "markdown",
   "id": "bd15fe71-f05e-4924-985e-463c462089ef",
   "metadata": {},
   "source": [
    "## ---------------------------"
   ]
  },
  {
   "cell_type": "markdown",
   "id": "ff108b49-2490-4610-b7ac-45beac287ba2",
   "metadata": {
    "jp-MarkdownHeadingCollapsed": true
   },
   "source": [
    "## Get the list of mobile phones under a company"
   ]
  },
  {
   "cell_type": "code",
   "execution_count": 21,
   "id": "724c2729-aaab-48b8-9493-a5c42ed0f759",
   "metadata": {},
   "outputs": [],
   "source": [
    "gsm_arena_url = \"https://m.gsmarena.com\""
   ]
  },
  {
   "cell_type": "code",
   "execution_count": null,
   "id": "86eda51a-1974-42be-8c65-5079fbdb725e",
   "metadata": {},
   "outputs": [],
   "source": [
    "mobile_url = \"acer-phones-59.php\"\n",
    "mobile_list_url = f\"{gsm_arena_url}/{mobile_url}\"\n",
    "\n",
    "response = requests.get(mobile_list_url)\n",
    "\n",
    "if response.status_code == 200:\n",
    "    soup = BeautifulSoup(response.content, 'html.parser')\n",
    "    general_menu_tag = soup.find(\"div\", class_=\"general-menu\")\n",
    "    list_tags = general_menu_tag.find_all(\"li\")\n",
    "    for each_tag in list_tags:\n",
    "        print(each_tag)"
   ]
  },
  {
   "cell_type": "code",
   "execution_count": 25,
   "id": "8085487d-5cb4-4324-9473-377b5d85db5d",
   "metadata": {},
   "outputs": [
    {
     "name": "stdout",
     "output_type": "stream",
     "text": [
      "<li><a href=\"acer_chromebook_tab_10-9139.php\"><img src=\"https://fdn2.gsmarena.com/vv/bigpic/acer-chromebook-tab-10.jpg\"/><strong>Chromebook Tab 10</strong></a></li>\n",
      "<li><a href=\"acer_iconia_talk_s-8306.php\"><img src=\"https://fdn2.gsmarena.com/vv/bigpic/acer-iconia-talk-s.jpg\"/><strong>Iconia Talk S</strong></a></li>\n",
      "<li><a href=\"acer_liquid_z6_plus-8305.php\"><img src=\"https://fdn2.gsmarena.com/vv/bigpic/acer-liquid-z6-plus.jpg\"/><strong>Liquid Z6 Plus</strong></a></li>\n",
      "<li><a href=\"acer_liquid_z6-8304.php\"><img src=\"https://fdn2.gsmarena.com/vv/bigpic/acer-liquid-z6.jpg\"/><strong>Liquid Z6</strong></a></li>\n",
      "<li><a href=\"acer_iconia_tab_10_a3_a40-8080.php\"><img src=\"https://fdn2.gsmarena.com/vv/bigpic/acer-iconia-tab-10-a3-a40.jpg\"/><strong>Iconia Tab 10 A3-A40</strong></a></li>\n",
      "<li><a href=\"acer_liquid_x2-8034.php\"><img src=\"https://fdn2.gsmarena.com/vv/bigpic/acer-liquid-x2-1.jpg\"/><strong>Liquid X2</strong></a></li>\n",
      "<li><a href=\"acer_liquid_jade_2-7956.php\"><img src=\"https://fdn2.gsmarena.com/vv/bigpic/acer-liquid-jade-2.jpg\"/><strong>Liquid Jade 2</strong></a></li>\n",
      "<li><a href=\"acer_liquid_zest_plus-8059.php\"><img src=\"https://fdn2.gsmarena.com/vv/bigpic/acer-liquid-zest-plus-z628.jpg\"/><strong>Liquid Zest Plus</strong></a></li>\n",
      "<li><a href=\"acer_liquid_zest-7955.php\"><img src=\"https://fdn2.gsmarena.com/vv/bigpic/acer-zest.jpg\"/><strong>Liquid Zest</strong></a></li>\n",
      "<li><a href=\"acer_predator_8-7750.php\"><img src=\"https://fdn2.gsmarena.com/vv/bigpic/acer-predator-8.jpg\"/><strong>Predator 8</strong></a></li>\n",
      "<li><a href=\"acer_liquid_jade_primo-7650.php\"><img src=\"https://fdn2.gsmarena.com/vv/bigpic/acer-liquid-jade-primo-.jpg\"/><strong>Liquid Jade Primo</strong></a></li>\n",
      "<li><a href=\"acer_liquid_z330-7530.php\"><img src=\"https://fdn2.gsmarena.com/vv/bigpic/acer-liquid-z320-z330.jpg\"/><strong>Liquid Z330</strong></a></li>\n",
      "<li><a href=\"acer_liquid_z320-7531.php\"><img src=\"https://fdn2.gsmarena.com/vv/bigpic/acer-liquid-z320-z330.jpg\"/><strong>Liquid Z320</strong></a></li>\n",
      "<li><a href=\"acer_liquid_z630s-7529.php\"><img src=\"https://fdn2.gsmarena.com/vv/bigpic/acer-liquid-z630.jpg\"/><strong>Liquid Z630S</strong></a></li>\n",
      "<li><a href=\"acer_liquid_z630-7528.php\"><img src=\"https://fdn2.gsmarena.com/vv/bigpic/acer-liquid-z630.jpg\"/><strong>Liquid Z630</strong></a></li>\n",
      "<li><a href=\"acer_liquid_z530s-7527.php\"><img src=\"https://fdn2.gsmarena.com/vv/bigpic/acer-liquid-z530.jpg\"/><strong>Liquid Z530S</strong></a></li>\n",
      "<li><a href=\"acer_liquid_z530-7526.php\"><img src=\"https://fdn2.gsmarena.com/vv/bigpic/acer-liquid-z530.jpg\"/><strong>Liquid Z530</strong></a></li>\n",
      "<li><a href=\"acer_liquid_m330-7524.php\"><img src=\"https://fdn2.gsmarena.com/vv/bigpic/acer-liquid-m320-m330.jpg\"/><strong>Liquid M330</strong></a></li>\n",
      "<li><a href=\"acer_liquid_m320-7525.php\"><img src=\"https://fdn2.gsmarena.com/vv/bigpic/acer-liquid-m320-m330.jpg\"/><strong>Liquid M320</strong></a></li>\n",
      "<li><a href=\"acer_iconia_tab_10_a3_a30-7218.php\"><img src=\"https://fdn2.gsmarena.com/vv/bigpic/acer-iconia-tab-10-a3-a30-new.png\"/><strong>Iconia Tab 10 A3-A30</strong></a></li>\n",
      "<li><a href=\"acer_iconia_one_8_b1_820-7217.php\"><img src=\"https://fdn2.gsmarena.com/vv/bigpic/acer-iconia-one-8-b1-820.jpg\"/><strong>Iconia One 8 B1-820</strong></a></li>\n",
      "<li><a href=\"acer_iconia_tab_a3_a20-7136.php\"><img src=\"https://fdn2.gsmarena.com/vv/bigpic/acer-a3-20.jpg\"/><strong>Iconia Tab A3-A20</strong></a></li>\n",
      "<li><a href=\"acer_iconia_tab_a3_a20fhd-7135.php\"><img src=\"https://fdn2.gsmarena.com/vv/bigpic/acer-a3-20.jpg\"/><strong>Iconia Tab A3-A20FHD</strong></a></li>\n",
      "<li><a href=\"acer_liquid_jade_z-7072.php\"><img src=\"https://fdn2.gsmarena.com/vv/bigpic/acer-liquid-jade-z.jpg\"/><strong>Liquid Jade Z</strong></a></li>\n",
      "<li><a href=\"acer_liquid_z520-7073.php\"><img src=\"https://fdn2.gsmarena.com/vv/bigpic/acer-liquid-z520.jpg\"/><strong>Liquid Z520</strong></a></li>\n",
      "<li><a href=\"acer_liquid_z220-7074.php\"><img src=\"https://fdn2.gsmarena.com/vv/bigpic/acer-liquid-z220.jpg\"/><strong>Liquid Z220</strong></a></li>\n",
      "<li><a href=\"acer_liquid_m220-7071.php\"><img src=\"https://fdn2.gsmarena.com/vv/bigpic/acer-liquid-m220.jpg\"/><strong>Liquid M220</strong></a></li>\n",
      "<li><a href=\"acer_liquid_z410-6912.php\"><img src=\"https://fdn2.gsmarena.com/vv/bigpic/acer-liquid-z410.jpg\"/><strong>Liquid Z410</strong></a></li>\n",
      "<li><a href=\"acer_liquid_jade_s-6864.php\"><img src=\"https://fdn2.gsmarena.com/vv/bigpic/acer-liquid-jade-s-s56.jpg\"/><strong>Liquid Jade S</strong></a></li>\n",
      "<li><a href=\"acer_liquid_z500-6635.php\"><img src=\"https://fdn2.gsmarena.com/vv/bigpic/acer-liquid-z5.jpg\"/><strong>Liquid Z500</strong></a></li>\n",
      "<li><a href=\"acer_liquid_x1-6419.php\"><img src=\"https://fdn2.gsmarena.com/vv/bigpic/acer-liquid-x1.jpg\"/><strong>Liquid X1</strong></a></li>\n",
      "<li><a href=\"acer_liquid_jade-6423.php\"><img src=\"https://fdn2.gsmarena.com/vv/bigpic/acer-liquid-jade.jpg\"/><strong>Liquid Jade</strong></a></li>\n",
      "<li><a href=\"acer_liquid_e700-6420.php\"><img src=\"https://fdn2.gsmarena.com/vv/bigpic/acer-liquid-e700.jpg\"/><strong>Liquid E700</strong></a></li>\n",
      "<li><a href=\"acer_liquid_e600-6421.php\"><img src=\"https://fdn2.gsmarena.com/vv/bigpic/acer-liquid-e600-1.jpg\"/><strong>Liquid E600</strong></a></li>\n",
      "<li><a href=\"acer_liquid_z200-6422.php\"><img src=\"https://fdn2.gsmarena.com/vv/bigpic/acer-liquid-z200.jpg\"/><strong>Liquid Z200</strong></a></li>\n",
      "<li><a href=\"acer_iconia_tab_8_a1_840fhd-6424.php\"><img src=\"https://fdn2.gsmarena.com/vv/bigpic/acer-iconia-tab-8-2014-1.jpg\"/><strong>Iconia Tab 8 A1-840FHD</strong></a></li>\n",
      "<li><a href=\"acer_iconia_tab_7_a1_713-6343.php\"><img src=\"https://fdn2.gsmarena.com/vv/bigpic/acer-iconia-tab-7.jpg\"/><strong>Iconia Tab 7 A1-713</strong></a></li>\n",
      "<li><a href=\"acer_iconia_tab_7_a1_713hd-6342.php\"><img src=\"https://fdn2.gsmarena.com/vv/bigpic/acer-iconia-tab-7.jpg\"/><strong>Iconia Tab 7 A1-713HD</strong></a></li>\n",
      "<li><a href=\"acer_iconia_one_7_b1_730-6341.php\"><img src=\"https://fdn2.gsmarena.com/vv/bigpic/acer-iconia-one-7.jpg\"/><strong>Iconia One 7 B1-730</strong></a></li>\n",
      "<li><a href=\"acer_liquid_e3_duo_plus-6680.php\"><img src=\"https://fdn2.gsmarena.com/vv/bigpic/acer-liquid-e3-plus.jpg\"/><strong>Liquid E3 Duo Plus</strong></a></li>\n",
      "<li><a href=\"acer_liquid_e3-6116.php\"><img src=\"https://fdn2.gsmarena.com/vv/bigpic/acer-liquid-e3-new.jpg\"/><strong>Liquid E3</strong></a></li>\n",
      "<li><a href=\"acer_liquid_z4-6115.php\"><img src=\"https://fdn2.gsmarena.com/vv/bigpic/acer-liquid-z4.jpg\"/><strong>Liquid Z4</strong></a></li>\n",
      "<li><a href=\"acer_iconia_b1_721-5933.php\"><img src=\"https://fdn2.gsmarena.com/vv/bigpic/acer-iconia-b1-721.jpg\"/><strong>Iconia B1-721</strong></a></li>\n",
      "<li><a href=\"acer_iconia_b1_720-5932.php\"><img src=\"https://fdn2.gsmarena.com/vv/bigpic/acer-iconia-tab-b1-720.jpg\"/><strong>Iconia B1-720</strong></a></li>\n",
      "<li><a href=\"acer_iconia_a1_830-5930.php\"><img src=\"https://fdn2.gsmarena.com/vv/bigpic/Acer-Iconia-A1-830.jpg\"/><strong>Iconia A1-830</strong></a></li>\n",
      "<li><a href=\"acer_liquid_z5-5929.php\"><img src=\"https://fdn2.gsmarena.com/vv/bigpic/acer-liquid-z5.jpg\"/><strong>Liquid Z5</strong></a></li>\n",
      "<li><a href=\"acer_liquid_s2-5670.php\"><img src=\"https://fdn2.gsmarena.com/vv/bigpic/acer-liquid-s2.jpg\"/><strong>Liquid S2</strong></a></li>\n",
      "<li><a href=\"acer_liquid_z3-5624.php\"><img src=\"https://fdn2.gsmarena.com/vv/bigpic/acer-liquid-z3.jpg\"/><strong>Liquid Z3</strong></a></li>\n",
      "<li><a href=\"acer_liquid_s1-5496.php\"><img src=\"https://fdn2.gsmarena.com/vv/bigpic/acer-liquid-s1.jpg\"/><strong>Liquid S1</strong></a></li>\n",
      "<li><a href=\"acer_iconia_tab_a3-5700.php\"><img src=\"https://fdn2.gsmarena.com/vv/bigpic/acer-iconia-a3-a10.jpg\"/><strong>Iconia Tab A3</strong></a></li>\n"
     ]
    }
   ],
   "source": [
    "mobile_url = \"acer-phones-59.php\"\n",
    "mobile_list_url = f\"{gsm_arena_url}/{mobile_url}\"\n",
    "\n",
    "response = requests.get(mobile_list_url)\n",
    "\n",
    "if response.status_code == 200:\n",
    "    soup = BeautifulSoup(response.content, 'html.parser')\n",
    "    general_menu_tag = soup.find(\"div\", class_=\"general-menu\")\n",
    "    list_tags = general_menu_tag.find_all(\"li\")\n",
    "    for each_tag in list_tags:\n",
    "        print(each_tag)"
   ]
  },
  {
   "cell_type": "markdown",
   "id": "be007d37-cbc9-4fe5-85d7-9decce895f1b",
   "metadata": {
    "jp-MarkdownHeadingCollapsed": true
   },
   "source": [
    "## ----------------------------------"
   ]
  },
  {
   "cell_type": "code",
   "execution_count": 51,
   "id": "cd881d93-76a0-40f7-8ee2-39f6eb1847b6",
   "metadata": {},
   "outputs": [
    {
     "name": "stdout",
     "output_type": "stream",
     "text": [
      "429\n"
     ]
    }
   ],
   "source": [
    "individual_phone_url = \"acer_liquid_z5-5929.php\"\n",
    "web_doc_url = f\"{gsm_arena_url}/{individual_phone_url}\"\n",
    "\n",
    "response = requests.get(web_doc_url)\n",
    "print(response.status_code)\n",
    "\n",
    "if response.status_code == 200:\n",
    "    soup = BeautifulSoup(response.content, 'html.parser')\n",
    "    mobile_description = soup.select('meta[name=\"Description\"]')\n",
    "    print(mobile_description)"
   ]
  },
  {
   "cell_type": "code",
   "execution_count": 52,
   "id": "8317a104-9efb-4572-b9a6-9fa9eaa1896f",
   "metadata": {},
   "outputs": [],
   "source": [
    "html_string = \"\"\"\n",
    "<!DOCTYPE html>\n",
    "\n",
    "<html class=\"no-js\" lang=\"en\">\n",
    "<head>\n",
    "<title>Acer Liquid Z5 - Full phone specifications</title>\n",
    "<script>\n",
    "DESKTOP_BASE_URL = \"https://www.gsmarena.com/\";\n",
    "ASSETS_BASE_URL  = \"https://fdn.gsmarena.com/vv/assets12/\";\n",
    "CDN_BASE_URL = \"//fdn.gsmarena.com/\";\n",
    "CDN2_BASE_URL = \"//fdn2.gsmarena.com/\";\n",
    "MOBILE_BASE_URL = \"https://m.gsmarena.com/\";\n",
    "MOBILE_SITE = true;\n",
    "</script>\n",
    "<meta charset=\"utf-8\"/>\n",
    "<meta content=\"True\" name=\"HandheldFriendly\"/>\n",
    "<meta content=\"320\" name=\"MobileOptimized\">\n",
    "<meta content=\"width=device-width, initial-scale=1, maximum-scale=1, minimum-scale=1\" name=\"viewport\"/>\n",
    "<!-- style & grid -->\n",
    "<link href=\"https://fdn.gsmarena.com/vv/assets12/css/m/style2.css?v=126\" media=\"screen\" rel=\"stylesheet\"/>\n",
    "<link href=\"manifest.json\" rel=\"manifest\">\n",
    "<meta content=\"yes\" name=\"apple-mobile-web-app-capable\"/>\n",
    "<meta content=\"yes\" name=\"mobile-web-app-capable\"/>\n",
    "<!-- For everything else -->\n",
    "<link href=\"https://fdn.gsmarena.com/imgroot/static/favicon.ico\" rel=\"shortcut icon\"/>\n",
    "<script>\n",
    "window[\"pgGlobalSettings\"] = {\n",
    "    \"global\": {\n",
    "        \"strategy\": \"include\"\n",
    "    },\n",
    "    \"adUnits\": []\n",
    "};\n",
    "\n",
    "function addAdUnit(adUnitCode) {\n",
    "    window.pgGlobalSettings.adUnits.push({ \"adUnitCode\": adUnitCode });\n",
    "};\n",
    "\n",
    "\taddAdUnit(\"/8095840,14566801/.2_A.35014.46_gsmarena.com_tier1\");\n",
    "\taddAdUnit(\"/8095840,14566801/.2_A.34819.28_gsmarena.com_tier1\");\n",
    "\taddAdUnit(\"/8095840,14566801/.2_A.34822.4_gsmarena.com_tier1\");\n",
    "\taddAdUnit(\"/8095840,14566801/.2_A.34821.4_gsmarena.com_tier1\");\n",
    "   addAdUnit(\"/8095840,14566801/.2_A.41498.28_gsmarena.com_tier1\");\n",
    "   addAdUnit(\"/8095840,14566801/.2_A.41497.28_gsmarena.com_tier1\");\n",
    "\taddAdUnit(\"/8095840,14566801/.2_A.46955.4_gsmarena.com_tier1\");\n",
    "\n",
    "</script>\n",
    "<meta content=\"on\" http-equiv=\"cleartype\"/>\n",
    "<meta content=\"IE=edge,chrome=1\" http-equiv=\"X-UA-Compatible\"/>\n",
    "<script type=\"text/javascript\">\n",
    "\n",
    "AUTOCOMPLETE_LIST_URL = \"/quicksearch-8089.jpg\";\n",
    "\n",
    "var AUTOCOMPLETE_MAX_LINES = 3;\n",
    "NEWS_REVIEWS_URL = \"/search-json.php3\";\n",
    "\n",
    "function lazyLoadScript(src, onload) {\n",
    "\tvar s = document.createElement('script');\n",
    "\ts.onload = onload;\n",
    "\tdocument.head.appendChild(s);\n",
    "\ts.language =\"text/javascript\";\n",
    "\ts.src = src;\n",
    "}\n",
    "\n",
    "\n",
    "</script>\n",
    "<script> window.pbjs = {que: []}; </script>\n",
    "<script type=\"text/javascript\">\n",
    "!function(){var i,r,o;i=\"__tcfapiLocator\",r=[],(o=window.frames[i])||(function e(){var t=window.document,a=!!o;if(!a)if(t.body){var n=t.createElement(\"iframe\");n.style.cssText=\"display:none\",n.name=i,t.body.appendChild(n)}else setTimeout(e,5);return!a}(),window.__tcfapi=function(){for(var e,t=[],a=0;a<arguments.length;a++)t[a]=arguments[a];if(!t.length)return r;if(\"setGdprApplies\"===t[0])3<t.length&&2===parseInt(t[1],10)&&\"boolean\"==typeof t[3]&&(e=t[3],\"function\"==typeof t[2]&&t[2](\"set\",!0));else if(\"ping\"===t[0]){var n={gdprApplies:e,cmpLoaded:!1,cmpStatus:\"stub\"};\"function\"==typeof t[2]&&t[2](n,!0)}else r.push(t)},window.addEventListener(\"message\",function(n){var i=\"string\"==typeof n.data,e={};try{e=i?JSON.parse(n.data):n.data}catch(e){}var r=e.__tcfapiCall;r&&window.__tcfapi(r.command,r.version,function(e,t){var a={__tcfapiReturn:{returnValue:e,success:t,callId:r.callId}};i&&(a=JSON.stringify(a)),n.source.postMessage(a,\"*\")},r.parameter)},!1))}();\n",
    "!function(){var i,n,s;i=\"__uspapiLocator\",n=[],(s=window.frames[i])||(function a(){var e=window.document,n=!!s;if(!s)if(e.body){var t=e.createElement(\"iframe\");t.style.cssText=\"display:none\",t.name=i,e.body.appendChild(t)}else setTimeout(a,5);return!n}(),window.__uspapi=function(){for(var a=[],e=0;e<arguments.length;e++)a[e]=arguments[e];if(!a.length)return n;\"ping\"===a[0]?\"function\"==typeof a[2]&&a[2]({cmpLoaded:!1,cmpStatus:\"stub\"},!0):n.push(a)},window.addEventListener(\"message\",function(t){var i=\"string\"==typeof t.data,a={};try{a=i?JSON.parse(t.data):t.data}catch(a){}var s=a.__uspapiCall;s&&window.__uspapi(s.command,s.version,function(a,e){var n={__uspapiReturn:{returnValue:a,success:e,callId:s.callId}};i&&(n=JSON.stringify(n)),t.source.postMessage(n,\"*\")},s.parameter)},!1))}();\n",
    "window.__gpp_addFrame=function(e){if(!window.frames[e])if(document.body){var p=document.createElement(\"iframe\");p.style.cssText=\"display:none\",p.name=e,document.body.appendChild(p)}else window.setTimeout(window.__gppaddFrame,10,e)},window.__gpp_stub=function(){var e=arguments;if(__gpp.queue=__gpp.queue||[],!e.length)return __gpp.queue;var p=e[0],t=1<e.length?e[1]:null,n=2<e.length?e[2]:null;if(\"ping\"===p)return{gppVersion:\"1.0\",cmpStatus:\"stub\",cmpDisplayStatus:\"hidden\",apiSupport:[\"tcfeuv2\",\"tcfcav1\",\"uspv1\",\"uspnatv1\",\"uspcav1\",\"uspvav1\",\"uspcov1\",\"usputv1\",\"uspctv1\"],currentAPI:\"\",cmpId:68};if(\"addEventListener\"===p){__gpp.events=__gpp.events||[],\"lastId\"in __gpp||(__gpp.lastId=0),__gpp.lastId++;var a=__gpp.lastId;return __gpp.events.push({id:a,callback:t,parameter:n}),{eventName:\"listenerRegistered\",listenerId:a,data:!0}}if(\"removeEventListener\"===p){var _=!1;__gpp.events=__gpp.events||[];for(var s=0;s<__gpp.events.length;s++)if(__gpp.events[s].id==n){__gpp.events[s].splice(s,1),_=!0;break}return{eventName:\"listenerRemoved\",listenerId:n,data:_}}if(\"hasSection\"===p||\"getSection\"===p||\"getField\"===p||\"getGPPData\"===p)return null;__gpp.queue.push([].slice.apply(e))},window.__gpp_msghandler=function(n){var a=\"string\"==typeof n.data;try{var p=a?JSON.parse(n.data):n.data}catch(e){p=null}if(\"object\"==typeof p&&null!==p&&\"__gppCall\"in p){var _=p.__gppCall;window.__gpp(_.command,function(e,p){var t={__gppReturn:{returnValue:e,success:p,callId:_.callId}};n.source.postMessage(a?JSON.stringify(t):t,\"*\")},_.parameter)}},\"__gpp\"in window&&\"function\"==typeof window.__gpp||(window.__gpp=window.__gpp_stub,window.addEventListener(\"message\",window.__gpp_msghandler,!1),window.__gpp_addFrame(\"__gppLocator\"));\n",
    "</script>\n",
    "<script async=\"\" src=\"https://cmp.uniconsent.com/v2/de538b5a3a/cmp.js\"></script>\n",
    "<script type=\"text/javascript\">\n",
    "window.googletag = window.googletag || {};\n",
    "window.googletag.cmd = window.googletag.cmd || [];\n",
    "window.googletag.cmd.push(function () {\n",
    "    window.googletag.pubads().setTargeting('pageid', '1003');\n",
    "    window.googletag.pubads().setTargeting('lpe', 'low');\n",
    "\n",
    "    window.googletag.pubads().setTargeting('keyw', 'Acer');\n",
    "\n",
    "\n",
    "    window.googletag.pubads().setTargeting('visitqos', '0');\n",
    "\n",
    "    window.googletag.pubads().enableAsyncRendering();\n",
    "    window.googletag.pubads().disableInitialLoad();\n",
    "});\n",
    "(adsbygoogle = window.adsbygoogle || []).pauseAdRequests = 1;\n",
    "</script>\n",
    "<script>\n",
    "(function waitGEO() {\n",
    "    var readyGEO;\n",
    "    if (window['UnicI'] && window['UnicI'].geo && window['UnicI'].geo !== '-' ) {\n",
    "        readyGEO = true;\n",
    "        console.log(window['UnicI'].geo);\n",
    "        if (window['UnicI'].geo === 'EU') {\n",
    "            if(document.getElementById(\"unic-gdpr\")) {\n",
    "              document.getElementById(\"unic-gdpr\").style.display = 'inline';\n",
    "            }\n",
    "        }\n",
    "        if (window['UnicI'].geo === 'CA') {\n",
    "            if(document.getElementById(\"unic-ccpa\")) {\n",
    "              document.getElementById(\"unic-ccpa\").style.display = 'inline';\n",
    "            }\n",
    "        }\n",
    "    }\n",
    "    if (!readyGEO) {\n",
    "        setTimeout(waitGEO, 200);\n",
    "    }\n",
    "})();\n",
    "</script>\n",
    "<script>\n",
    "__tcfapi(\"addEventListener\", 2, function(tcData, success) {\n",
    "    if (success && tcData.unicLoad  === true) {\n",
    "        if(!window._initAds) {\n",
    "            window._initAds = true;\n",
    "            var script = document.createElement('script');\n",
    "            script.async = true;\n",
    "            script.src = '//dsh7ky7308k4b.cloudfront.net/publishers/gsmarenacom_new_m.min.js';\n",
    "            document.head.appendChild(script);\n",
    "\n",
    "        var script = document.createElement('script');\n",
    "            script.async = true;\n",
    "            script.src = '//pagead2.googlesyndication.com/pagead/js/adsbygoogle.js';\n",
    "            document.head.appendChild(script);\n",
    "\n",
    "    }\n",
    "    }\n",
    "});\n",
    "</script>\n",
    "<!-- Google tag (gtag.js) -->\n",
    "<script async=\"\" src=\"https://www.googletagmanager.com/gtag/js?id=G-T41Y7J4EWG\"></script>\n",
    "<script>\n",
    "  window.dataLayer = window.dataLayer || [];\n",
    "  function gtag(){dataLayer.push(arguments);}\n",
    "  gtag('js', new Date());\n",
    "\n",
    "  gtag('config', 'G-T41Y7J4EWG');\n",
    "</script>\n",
    "<link href=\"https://fdn.gsmarena.com/vv/assets12/css/m/specs2.css?v=53\" rel=\"stylesheet\">\n",
    "<link href=\"https://fdn.gsmarena.com/vv/assets12/css/m/comments2.css?v=18\" rel=\"stylesheet\"/>\n",
    "<meta content=\"Acer Liquid Z5 Android smartphone. Announced Jan 2014. Features 5.0″  display, MT6572 chipset, 5 MP primary camera, 2000 mAh battery, 4 GB storage, 512 MB RAM.\" name=\"Description\"/>\n",
    "<meta content=\"Acer Liquid Z5,Acer,Liquid Z5,GSM,mobile,phone,cellphone,information,info,specs,specification,opinion,review\" name=\"keywords\"/>\n",
    "<link href=\"https://www.gsmarena.com/acer_liquid_z5-5929.php\" rel=\"canonical\"/>\n",
    "<script src=\"https://fdn.gsmarena.com/vv/assets12/js/m/swiper2.js\"></script>\n",
    "</link></link></meta></head>\n",
    "<body>\n",
    "<div class=\"container_12\" data-role=\"page\" id=\"container\">\n",
    "<header data-role=\"header\" id=\"header\">\n",
    "<div class=\"header-top-bar\">\n",
    "<span class=\"menu\"><span class=\"lines\"></span></span>\n",
    "<a class=\"logo\" href=\"/\">\n",
    "<object data=\"https://fdn.gsmarena.com/vv/assets12/css/m/i/logo.svg?v=2\" type=\"image/svg+xml\"><img alt=\"GSMArena.com\" src=\"https://fdn.gsmarena.com/vv/assets12/css/m/i/logo-fallback.gif\"/></object>\n",
    "</a>\n",
    "<span class=\"user-login omega\">\n",
    "<a class=\"inactive\" href=\"#\" id=\"header-login-b\"><i class=\"head-icon icon-log-in\"></i></a> <a href=\"register.php3\"><i class=\"head-icon icon-sign-in\"></i></a>\n",
    "</span>\n",
    "<div class=\"grid_12 hide\" id=\"login_popup2\">\n",
    "<form action=\"login.php3\" method=\"post\">\n",
    "<input name=\"sSource\" type=\"Hidden\" value=\"MH58em1Ac3ZuanZ7QGUqMiomLSYxb3dv\"/>\n",
    "<p>Login</p>\n",
    "<label for=\"email\"></label>\n",
    "<input autocomplete=\"false\" id=\"email\" maxlength=\"50\" name=\"sEmail\" required=\"\" type=\"email\" value=\"\"/>\n",
    "<label for=\"upass\"></label>\n",
    "<input autocomplete=\"false\" id=\"upass\" maxlength=\"20\" name=\"sPassword\" pattern=\"\\S{6,}\" placeholder=\"Your password\" required=\"\" type=\"password\"/>\n",
    "<input class=\"red-button\" id=\"nick-submit\" type=\"submit\" value=\"Log in\"/>\n",
    "<a class=\"forgot\" href=\"forgot.php3\">I forgot my password</a>\n",
    "</form>\n",
    "</div>\n",
    "</div>\n",
    "<div class=\"drawer\">\n",
    "<ul class=\"social\">\n",
    "<li><a href=\"https://www.youtube.com/channel/UCbLq9tsbo8peV22VxbDAfXA?sub_confirmation=1\" rel=\"noopener\" target=\"_blank\"><i class=\"head-icon icon-youtube\"></i></a></li>\n",
    "<li><a href=\"https://www.instagram.com/gsmarenateam/\" rel=\"noopener\" target=\"_blank\"><i class=\"head-icon icon-instagram\"></i></a></li>\n",
    "<li><a href=\"https://m.arenaev.com/\" rel=\"noopener\" target=\"_blank\"><i class=\"head-icon icon-specs-car\"></i></a></li>\n",
    "<li><a href=\"https://merch.gsmarena.com/\" rel=\"noopener\" target=\"_blank\"><i class=\"head-icon icon-cart\"></i></a></li>\n",
    "<li><a href=\"https://play.google.com/store/apps/details?id=com.gsmarena.android\" rel=\"noopener\" target=\"_blank\"><i class=\"head-icon icon-google-play\"></i></a></li>\n",
    "</ul>\n",
    "<ul class=\"links left\">\n",
    "<li><a href=\"/\">Home</a></li>\n",
    "<li><a href=\"compare.php3\">Compare</a></li>\n",
    "<li><a href=\"tipus.php3\">Tip us</a></li>\n",
    "<li><a href=\"privacy-policy.php3\">Privacy</a></li>\n",
    "</ul>\n",
    "<ul class=\"links center\">\n",
    "<li><a href=\"news.php3\">News</a></li>\n",
    "<li><a href=\"deals.php3\">Daily deals</a></li>\n",
    "<li><a href=\"rumored.php3\">Rumor mill</a></li>\n",
    "<li><a href=\"https://merch.gsmarena.com/\" target=\"_blank\">Merch</a></li>\n",
    "</ul>\n",
    "<ul class=\"links right\">\n",
    "<li><a href=\"reviews.php3\">Reviews</a></li>\n",
    "<li><a href=\"glossary.php3\">Glossary</a></li>\n",
    "<li><a href=\"network-bands.php3\">Coverage</a></li>\n",
    "<li><a href=\"contact.php3\">Contact us</a></li>\n",
    "</ul>\n",
    "<hr class=\"spacer\"/>\n",
    "<ul class=\"links left\">\n",
    "<li><a href=\"samsung-phones-9.php\">Samsung</a></li>\n",
    "<li><a href=\"xiaomi-phones-80.php\">Xiaomi</a></li>\n",
    "<li><a href=\"oneplus-phones-95.php\">Oneplus</a></li>\n",
    "<li><a href=\"google-phones-107.php\">Google</a></li>\n",
    "</ul>\n",
    "<ul class=\"links center\">\n",
    "<li><a href=\"apple-phones-48.php\">Apple</a></li>\n",
    "<li><a href=\"sony-phones-7.php\">Sony</a></li>\n",
    "<li><a href=\"motorola-phones-4.php\">Motorola</a></li>\n",
    "<li><a href=\"vivo-phones-98.php\">vivo</a></li>\n",
    "</ul>\n",
    "<ul class=\"links right\">\n",
    "<li><a href=\"huawei-phones-58.php\">Huawei</a></li>\n",
    "<li><a href=\"honor-phones-121.php\">Honor</a></li>\n",
    "<li><a href=\"oppo-phones-82.php\">Oppo</a></li>\n",
    "<li><a href=\"makers.php3\">[...]</a></li>\n",
    "</ul>\n",
    "<div class=\"phone-finder\">\n",
    "<div class=\"red-button\"><a href=\"search.php3\"><i class=\"head-icon icon-phone_finder\"></i> Phone finder</a></div>\n",
    "<div class=\"red-button my-phone\"><a href=\"what-is-my-phone\"><i class=\"head-icon icon-mobile2\"></i> My phone</a></div>\n",
    "</div>\n",
    "<div class=\"bottom-row\">\n",
    "<a class=\"desktop-version\" href=\"#\" id=\"switch-version\">\n",
    "<i class=\"head-icon icon-desktop-version\"></i>Desktop version</a>\n",
    "<a class=\"android-app\" href=\"https://play.google.com/store/apps/details?id=com.gsmarena.android\" rel=\"noopener\" target=\"_blank\">\n",
    "<i class=\"head-icon icon-google-play\"></i>Android app</a>\n",
    "</div>\n",
    "</div>\n",
    "<nav class=\"grid_12 alpha\">\n",
    "<form action=\"resl.php3\" class=\"grid_12 hide\" id=\"site_search\">\n",
    "<table>\n",
    "<tr>\n",
    "<td><input autocomplete=\"off\" id=\"searchfield\" name=\"sSearch\" placeholder=\"Search\" results=\"5\" type=\"search\"/>\n",
    "</td>\n",
    "<td><button class=\"searchbutton\" id=\"search_button\" title=\"Submit\" type=\"submit\" value=\"Go\">Go</button></td><td><a class=\"searchbutton\" href=\"search.php3\">Advanced</a></td>\n",
    "</tr>\n",
    "</table>\n",
    "<div id=\"autocomplete1\">\n",
    "<div class=\"autocomplete-more\">\n",
    "<div>\n",
    "<a class=\"extraSearch\" href=\"#\" id=\"searchInNews\">News</a>\n",
    "<a class=\"extraSearch\" href=\"#\" id=\"searchInReviews\">Reviews</a>\n",
    "<a class=\"extraSearch\" href=\"#\" id=\"searchInPhones\">Phones</a>\n",
    "</div>\n",
    "</div>\n",
    "</div>\n",
    "</form>\n",
    "<ul>\n",
    "<li><a href=\"/\">Home</a></li>\n",
    "<li><a href=\"news.php3\">News</a></li>\n",
    "<li><a href=\"reviews.php3\">Reviews</a></li>\n",
    "<li><a href=\"videos.php3\">Videos</a></li>\n",
    "<li id=\"search-button\"><a href=\"#\" id=\"form_trigger\" onclick=\"toggleSearchForm(); return false;\"><i class=\"head-icon icon-search-left\"></i></a></li>\n",
    "</ul>\n",
    "</nav>\n",
    "<br class=\"clear\"/>\n",
    "</header>\n",
    "<script language=\"javascript\" type=\"text/javascript\">\n",
    "HISTORY_ITEM_ID = \"5929\";\n",
    "HISTORY_ITEM_NAME = \"Acer Liquid Z5\";\n",
    "HISTORY_ITEM_URL = \"acer_liquid_z5-5929.php\";\n",
    "HISTORY_ITEM_IMAGE = \"https://fdn2.gsmarena.com/vv/bigpic/acer-liquid-z5.jpg\";\n",
    "\n",
    "</script>\n",
    "<div class=\"wrapper container_12\">\n",
    "<div class=\"grid_12\" id=\"content\">\n",
    "<h1 class=\"section nobor\">Acer Liquid Z5</h1>\n",
    "<div class=\"sub-h1\">Specifications</div>\n",
    "<div class=\"grid_12\" id=\"specs-cp\" style=\"margin-bottom: 20px;\">\n",
    "<div class=\"grid_12 left material-card\" id=\"specs-cp-pic\">\n",
    "<div class=\"wrapper\">\n",
    "<script language=\"javascript\" type=\"text/javascript\">\n",
    "BECOME_FAN_URL = \"\";\n",
    "</script>\n",
    "<!-- LEFT COLUMN; IMAGE + POPULARITY + ADD FAVORITE -->\n",
    "<div class=\"specs-cp-pic-rating\">\n",
    "<a href=\"acer_liquid_z5-pictures-5929.php\"><img alt=\"Acer Liquid Z5\n",
    "MORE PICTURES\" src=\"https://fdn2.gsmarena.com/vv/bigpic/acer-liquid-z5.jpg\"/></a>\n",
    "</div>\n",
    "<!-- RIGHT COLUMN; SPECS HIGHLIGHTS -->\n",
    "<div class=\"quick-specs-swiper swiper-container\">\n",
    "<div class=\"swiper-wrapper\">\n",
    "<ul class=\"quick-specs vote swiper-slide\">\n",
    "<li class=\"head-icon icon-touch-0\">\n",
    "<strong><span data-spec=\"displaysize-hl\">5.0\"</span></strong>\n",
    "<span data-spec=\"displayres-hl\">480x854 pixels</span>\n",
    "</li>\n",
    "<li class=\"head-icon icon-camera-1\">\n",
    "<strong><span data-spec=\"camerapixels-hl\">5</span>MP</strong>\n",
    "<span data-spec=\"videopixels-hl\">Video recorder</span>\n",
    "</li>\n",
    "<li class=\"head-icon icon-cpu\">\n",
    "<strong><span data-spec=\"ramsize-hl\">512</span>MB RAM</strong>\n",
    "<span data-spec=\"chipset-hl\">MT6572</span>\n",
    "</li>\n",
    "<li class=\"head-icon icon-battery-1\">\n",
    "<strong><span data-spec=\"batsize-hl\">2000</span>mAh</strong>\n",
    "<span data-spec=\"battype-hl\"></span>\n",
    "</li>\n",
    "</ul>\n",
    "<div class=\"quick-specs vote swiper-slide\">\n",
    "<span class=\"specs-brief-accent\"><i class=\"head-icon icon-launched\"></i><span data-spec=\"released-hl\">Released 2014, January</span></span>\n",
    "<span class=\"specs-brief-accent\"><i class=\"head-icon icon-mobile2\"></i><span data-spec=\"body-hl\">150g, 8.8mm thickness</span></span>\n",
    "<span class=\"specs-brief-accent\"><i class=\"head-icon icon-os\"></i><span data-spec=\"os-hl\">Android 4.2</span></span>\n",
    "<span class=\"specs-brief-accent\"><i class=\"head-icon icon-sd-card-0\"></i><span data-spec=\"storage-hl\">4GB 512MB RAM storage, microSDHC slot</span></span>\n",
    "</div>\n",
    "</div>\n",
    "</div>\n",
    "<div class=\"quick-specs-swiper-pagination\"></div>\n",
    "<script>\n",
    "    var swiper = new Swiper('.quick-specs-swiper', {\n",
    "        spaceBetween: 10,\n",
    "        pagination: '.quick-specs-swiper-pagination',\n",
    "        uniqueNavElements: false\n",
    "    });\n",
    "\n",
    "    if (typeof ScrollDisabler !== \"undefined\") {\n",
    "    swiper.on(\"touchStart\", function (e) { ScrollDisabler.disable(); });\n",
    "    swiper.on(\"touchMove\", function (e) { ScrollDisabler.disable(); });\n",
    "    swiper.on(\"touchEnd\", function (e) { ScrollDisabler.enable(); });\n",
    "}\n",
    "</script>\n",
    "<div class=\"vote\" id=\"ranks-list\">\n",
    "<span class=\"read-review\">\n",
    "</span>\n",
    "<span class=\"head-icon\" id=\"popularity-vote\">\n",
    "<strong>N/A</strong><br/>\n",
    "\t\t1,378,730 hits\n",
    "\t</span>\n",
    "<span class=\"\" id=\"fan-vote\">\n",
    "<a href=\"#\"><strong>15</strong><br/>\n",
    "<span>Become a fan</span></a>\n",
    "</span>\n",
    "</div>\n",
    "</div>\n",
    "</div>\n",
    "</div>\n",
    "<div class=\"adv-mid\">\n",
    "<!-- Parallax Ad -->\n",
    "<div id=\"div-gpt-ad-1539158124362-1\" style=\"height:250px; width:375px;\"></div>\n",
    "</div>\n",
    "<div class=\"general-menu general-menu-specs\">\n",
    "<ul class=\"grid_12\" style=\"padding-top: 0px;\">\n",
    "<li id=\"specs-cp-read\" title=\"Acer Liquid Z5 user reviews and opinions\"><a href=\"acer_liquid_z5-reviews-5929.php\">Read opinions<span></span></a></li>\n",
    "<li id=\"specs-cp-compare\"><a href=\"compare.php3?idPhone1=5929\">Compare<span></span></a></li>\n",
    "<li id=\"specs-cp-pics\"><a href=\"acer_liquid_z5-pictures-5929.php\">Pictures<span></span></a></li>\n",
    "</ul>\n",
    "</div>\n",
    "<div class=\"grid_12 top-adv\" style=\"display: flex; justify-content: center; width: 100%;\">\n",
    "<!-- /8095840/.2_A.34820.4_gsmarena.com_tier1 -->\n",
    "<div id=\"div-gpt-ad-1532420701892-0\" style=\"height:280px; width:336px;\"></div>\n",
    "</div>\n",
    "<div class=\"grid_12\" id=\"specs-list\">\n",
    "<style type=\"text/css\"> .tr-toggle {  display:none; }  </style>\n",
    "<p class=\"specs-comment\" data-spec=\"comment\">Also known as Acer Liquid Z5 Duo</p>\n",
    "<table cellspacing=\"0\" class=\"expandable-table\">\n",
    "<tbody><tr class=\"collapse\"><th colspan=\"2\" scope=\"col\">Network</th></tr>\n",
    "<tr>\n",
    "<td class=\"ttl\"><a>Technology</a></td>\n",
    "<td class=\"nfo\" data-spec=\"nettech\" style=\"position:relative;\">GSM / HSPA</td>\n",
    "</tr>\n",
    "<tr class=\"tr-toggle\">\n",
    "<td class=\"ttl\"><a href=\"network-bands.php3\">2G bands</a></td>\n",
    "<td class=\"nfo\" data-spec=\"net2g\">GSM 850 / 900 / 1800 / 1900 - SIM 1 &amp; SIM 2</td>\n",
    "</tr><tr class=\"tr-toggle\">\n",
    "<td class=\"ttl\"><a href=\"network-bands.php3\">3G bands</a></td>\n",
    "<td class=\"nfo\" data-spec=\"net3g\">HSDPA 900 / 2100 </td>\n",
    "</tr>\n",
    "<tr class=\"tr-toggle\">\n",
    "<td class=\"ttl\"><a href=\"glossary.php3?term=3g\">Speed</a></td>\n",
    "<td class=\"nfo\" data-spec=\"speed\">HSPA</td>\n",
    "</tr>\n",
    "</tbody></table>\n",
    "<table cellspacing=\"0\">\n",
    "<tbody><tr><th colspan=\"2\" scope=\"col\">Launch</th></tr><tr>\n",
    "<tr>\n",
    "<td class=\"ttl\"><a href=\"glossary.php3?term=phone-life-cycle\">Announced</a></td>\n",
    "<td class=\"nfo\" data-spec=\"year\">2014, January. Released 2014, January</td>\n",
    "</tr><tr>\n",
    "<td class=\"ttl\"><a href=\"glossary.php3?term=phone-life-cycle\">Status</a></td>\n",
    "<td class=\"nfo\" data-spec=\"status\">Discontinued</td>\n",
    "</tr>\n",
    "</tr></tbody></table>\n",
    "<table cellspacing=\"0\">\n",
    "<tbody><tr><th colspan=\"2\" scope=\"col\">Body</th></tr><tr>\n",
    "<td class=\"ttl\"><a href=\"#\" onclick=\"helpW('h_dimens.htm');\">Dimensions</a></td>\n",
    "<td class=\"nfo\" data-spec=\"dimensions\">145.5 x 73.5 x 8.8 mm (5.73 x 2.89 x 0.35 in)</td>\n",
    "</tr><tr>\n",
    "<td class=\"ttl\"><a href=\"#\" onclick=\"helpW('h_weight.htm');\">Weight</a></td>\n",
    "<td class=\"nfo\" data-spec=\"weight\">150 g (5.29 oz)</td>\n",
    "</tr>\n",
    "<tr>\n",
    "<td class=\"ttl\"><a href=\"glossary.php3?term=sim\">SIM</a></td>\n",
    "<td class=\"nfo\" data-spec=\"sim\">Dual SIM</td>\n",
    "</tr>\n",
    "</tbody></table>\n",
    "<table cellspacing=\"0\">\n",
    "<tbody><tr><th colspan=\"2\" scope=\"col\">Display</th></tr><tr>\n",
    "<td class=\"ttl\"><a href=\"glossary.php3?term=display-type\">Type</a></td>\n",
    "<td class=\"nfo\" data-spec=\"displaytype\">TFT</td>\n",
    "</tr>\n",
    "<tr>\n",
    "<td class=\"ttl\"><a href=\"#\">Size</a></td>\n",
    "<td class=\"nfo\" data-spec=\"displaysize\">5.0 inches, 68.9 cm<sup>2</sup> (~64.4% screen-to-body ratio)</td>\n",
    "</tr>\n",
    "<tr>\n",
    "<td class=\"ttl\"><a href=\"glossary.php3?term=resolution\">Resolution</a></td>\n",
    "<td class=\"nfo\" data-spec=\"displayresolution\">480 x 854 pixels, 16:9 ratio (~196 ppi density)</td>\n",
    "</tr>\n",
    "</tbody></table>\n",
    "<table cellspacing=\"0\">\n",
    "<tbody><tr><th colspan=\"2\" scope=\"col\">Platform</th></tr><tr>\n",
    "<td class=\"ttl\"><a href=\"glossary.php3?term=os\">OS</a></td>\n",
    "<td class=\"nfo\" data-spec=\"os\">Android 4.2 (Jelly Bean)</td>\n",
    "</tr>\n",
    "<tr><td class=\"ttl\"><a href=\"glossary.php3?term=chipset\">Chipset</a></td>\n",
    "<td class=\"nfo\" data-spec=\"chipset\">Mediatek MT6572 (28 nm)</td>\n",
    "</tr>\n",
    "<tr><td class=\"ttl\"><a href=\"glossary.php3?term=cpu\">CPU</a></td>\n",
    "<td class=\"nfo\" data-spec=\"cpu\">Dual-core 1.3 GHz Cortex-A7</td>\n",
    "</tr>\n",
    "<tr><td class=\"ttl\"><a href=\"glossary.php3?term=gpu\">GPU</a></td>\n",
    "<td class=\"nfo\" data-spec=\"gpu\">Mali-400</td>\n",
    "</tr>\n",
    "</tbody></table>\n",
    "<table cellspacing=\"0\">\n",
    "<tbody><tr><th colspan=\"2\" scope=\"col\">Memory</th></tr><tr>\n",
    "<td class=\"ttl\"><a href=\"glossary.php3?term=memory-card-slot\">Card slot</a></td>\n",
    "<td class=\"nfo\" data-spec=\"memoryslot\">microSDHC (dedicated slot)</td></tr>\n",
    "<tr>\n",
    "<td class=\"ttl\"><a href=\"glossary.php3?term=dynamic-memory\">Internal</a></td>\n",
    "<td class=\"nfo\" data-spec=\"internalmemory\">4GB 512MB RAM</td>\n",
    "</tr>\n",
    "\n",
    "\n",
    "</tbody></table>\n",
    "<table cellspacing=\"0\">\n",
    "<tbody><tr><th colspan=\"2\" scope=\"col\">Main Camera</th></tr><tr>\n",
    "<td class=\"ttl\"><a href=\"glossary.php3?term=camera\">Single</a></td>\n",
    "<td class=\"nfo\" data-spec=\"cam1modules\">5 MP</td>\n",
    "</tr>\n",
    "<tr>\n",
    "<td class=\"ttl\"><a href=\"glossary.php3?term=camera\">Features</a></td>\n",
    "<td class=\"nfo\" data-spec=\"cam1features\">LED flash</td>\n",
    "</tr>\n",
    "<tr>\n",
    "<td class=\"ttl\"><a href=\"glossary.php3?term=camera\">Video</a></td>\n",
    "<td class=\"nfo\" data-spec=\"cam1video\">Yes</td>\n",
    "</tr>\n",
    "</tbody></table>\n",
    "<table cellspacing=\"0\">\n",
    "<tbody><tr><th colspan=\"2\" scope=\"col\">Selfie Camera</th></tr><tr>\n",
    "<td class=\"ttl\"><a href=\"glossary.php3?term=secondary-camera\">Single</a></td>\n",
    "<td class=\"nfo\" data-spec=\"cam2modules\">VGA</td>\n",
    "</tr>\n",
    "<tr>\n",
    "<td class=\"ttl\"><a href=\"glossary.php3?term=secondary-camera\">Video</a></td>\n",
    "<td class=\"nfo\" data-spec=\"cam2video\"></td>\n",
    "</tr>\n",
    "</tbody></table>\n",
    "<div class=\"d-flex flex-column justify-center align-center\" style=\"min-height: 310px; padding-bottom: 22px; background: var(--color-body-background, #efebe9); border-bottom: 10px solid var(--color-specs-table-separator-thick);\">\n",
    "<span class=\"ad-c-label mb-5 c-gray-600\" style=\"font-size: 11px;\">ADVERTISEMENT</span>\n",
    "<pgs-ad data-pg-ad-spot=\"gsmarenacom46955\"></pgs-ad>\n",
    "</div>\n",
    "<table cellspacing=\"0\">\n",
    "<tbody><tr><th colspan=\"2\" scope=\"col\">Sound</th></tr><tr>\n",
    "<td class=\"ttl\"><a href=\"glossary.php3?term=loudspeaker\">Loudspeaker</a> </td>\n",
    "<td class=\"nfo\">Yes</td>\n",
    "</tr>\n",
    "<tr>\n",
    "<td class=\"ttl\"><a href=\"glossary.php3?term=audio-jack\">3.5mm jack</a> </td>\n",
    "<td class=\"nfo\">Yes</td>\n",
    "</tr>\n",
    "</tbody></table>\n",
    "<table cellspacing=\"0\">\n",
    "<tbody><tr><th colspan=\"2\" scope=\"col\">Comms</th></tr><tr>\n",
    "<td class=\"ttl\"><a href=\"glossary.php3?term=wi-fi\">WLAN</a></td>\n",
    "<td class=\"nfo\" data-spec=\"wlan\">Wi-Fi 802.11 b/g/n, hotspot</td>\n",
    "</tr>\n",
    "<tr>\n",
    "<td class=\"ttl\"><a href=\"glossary.php3?term=bluetooth\">Bluetooth</a></td>\n",
    "<td class=\"nfo\" data-spec=\"bluetooth\">3.0, A2DP, EDR</td>\n",
    "</tr>\n",
    "<tr>\n",
    "<td class=\"ttl\"><a href=\"glossary.php3?term=gnss\">Positioning</a></td>\n",
    "<td class=\"nfo\" data-spec=\"gps\">GPS</td>\n",
    "</tr>\n",
    "<tr>\n",
    "<td class=\"ttl\"><a href=\"glossary.php3?term=nfc\">NFC</a></td>\n",
    "<td class=\"nfo\" data-spec=\"nfc\">No</td>\n",
    "</tr>\n",
    "<tr>\n",
    "<td class=\"ttl\"><a href=\"glossary.php3?term=fm-radio\">Radio</a></td>\n",
    "<td class=\"nfo\" data-spec=\"radio\">FM radio</td>\n",
    "</tr>\n",
    "<tr>\n",
    "<td class=\"ttl\"><a href=\"glossary.php3?term=usb\">USB</a></td>\n",
    "<td class=\"nfo\" data-spec=\"usb\">microUSB 2.0</td>\n",
    "</tr>\n",
    "</tbody></table>\n",
    "<table cellspacing=\"0\">\n",
    "<tbody><tr><th colspan=\"2\" scope=\"col\">Features</th></tr><tr>\n",
    "<td class=\"ttl\"><a href=\"glossary.php3?term=sensors\">Sensors</a></td>\n",
    "<td class=\"nfo\" data-spec=\"sensors\">Accelerometer, proximity</td>\n",
    "</tr>\n",
    "</tbody></table>\n",
    "<table cellspacing=\"0\">\n",
    "<tbody><tr><th colspan=\"2\" scope=\"col\">Battery</th></tr><tr>\n",
    "<td class=\"ttl\"><a href=\"glossary.php3?term=rechargeable-battery-types\">Type</a></td>\n",
    "<td class=\"nfo\" data-spec=\"batdescription1\">Li-Ion 2000 mAh, non-removable</td>\n",
    "</tr>\n",
    "</tbody></table>\n",
    "<table cellspacing=\"0\">\n",
    "<tbody><tr><th colspan=\"2\" scope=\"col\">Misc</th></tr><tr>\n",
    "<td class=\"ttl\"><a href=\"glossary.php3?term=build\">Colors</a></td>\n",
    "<td class=\"nfo\" data-spec=\"colors\">Essential White, Gentle Grey</td>\n",
    "</tr>\n",
    "<tr>\n",
    "<td class=\"ttl\"><a href=\"glossary.php3?term=price\">Price</a></td>\n",
    "<td class=\"nfo\" data-spec=\"price\">About 170 EUR</td>\n",
    "</tr>\n",
    "</tbody></table>\n",
    "</div>\n",
    "</div>\n",
    "</div>\n",
    "<div class=\"adv-mid\"><!-- /8095840/.2_A.34821.4_gsmarena.com_tier1 -->\n",
    "<div id=\"div-gpt-ad-1532420701892-1\"></div>\n",
    "</div>\n",
    "<h2 class=\"section\"><a href=\"acer_liquid_z5-reviews-5929.php\">User opinions and reviews <i class=\"head-icon icon-gallery-arroe-right\"></i></a></h2>\n",
    "<div id=\"all-opinions\">\n",
    "<style>.user-thread {margin-bottom: 1px;}</style>\n",
    "<div class=\"user-thread material-card\">\n",
    "<ul class=\"uinfo2\">\n",
    "<li class=\"uname2\">Anonymous</li>\n",
    "<li class=\"upost\">14 Feb 2022</li>\n",
    "<li class=\"ulocation\"><span title=\"Encoded anonymized location\">Hr2</span></li>\n",
    "</ul>\n",
    "<p class=\"uopin\">They sold 1gb ram version in Taiwan.</p>\n",
    "<ul class=\"uinfo\">\n",
    "<li class=\"ureply button-ui\"><span title=\"Reply to this post\"><a href=\"postopinion.php3?idPhone=5929&amp;idOpinion=6515442\">Reply</a></span></li>\n",
    "</ul>\n",
    "</div>\n",
    "<div class=\"user-thread material-card\">\n",
    "<ul class=\"uinfo2\">\n",
    "<li class=\"uname2\">Mark</li>\n",
    "<li class=\"upost\">17 Jan 2021</li>\n",
    "<li class=\"ulocation\"><span title=\"Encoded anonymized location\">mH4</span></li>\n",
    "</ul>\n",
    "<p class=\"uopin\">I have two of these, still. After rooting and removing a lot of apps and the Google Play Services, it's an okay phone. I use it mainly for NewPipe, Telegram, and taking photos, nothing else.\n",
    "\n",
    "It was absolutely unusable with the Google Play S...</p>\n",
    "<ul class=\"uinfo\">\n",
    "<li class=\"ureply button-ui\"><span title=\"Reply to this post\"><a href=\"postopinion.php3?idPhone=5929&amp;idOpinion=6329252\">Reply</a></span></li>\n",
    "</ul>\n",
    "</div>\n",
    "<div class=\"user-thread material-card\">\n",
    "<ul class=\"uinfo2\">\n",
    "<li class=\"uname2\">epoh frankline</li>\n",
    "<li class=\"upost\">19 Oct 2018</li>\n",
    "<li class=\"ulocation\"><span title=\"Encoded anonymized location\">CAy</span></li>\n",
    "</ul>\n",
    "<p class=\"uopin\">hello, i have an Acer Z150 phone and the camera is nt functioning. Each time i try to open it, a message appears on the screen cant connect to the camera. what should i do? </p>\n",
    "<ul class=\"uinfo\">\n",
    "<li class=\"ureply button-ui\"><span title=\"Reply to this post\"><a href=\"postopinion.php3?idPhone=5929&amp;idOpinion=5938408\">Reply</a></span></li>\n",
    "</ul>\n",
    "</div>\n",
    "</div>\n",
    "<div class=\"secondary-menu container_12\">\n",
    "<ul>\n",
    "<li>\n",
    "<a href=\"acer_liquid_z5-reviews-5929.php\">Read all (180)</a>\n",
    "</li>\n",
    "<li>\n",
    "<a class=\"post-comment-link\" href=\"postopinion.php3?idPhone=5929\">Post your opinion</a>\n",
    "</li>\n",
    "</ul>\n",
    "</div>\n",
    "<h2 class=\"section\"><a href=\"acer-phones-59.php\">More from Acer <i class=\"head-icon icon-gallery-arroe-right\"></i></a></h2>\n",
    "<div class=\"swiper-container material-card\" id=\"popular-container\">\n",
    "<div class=\"scroller-phones swiper-wrapper\">\n",
    "<div class=\"swiper-slide\">\n",
    "<div class=\"swiper-half-slide\">\n",
    "<a href=\"acer_chromebook_tab_10-9139.php\">\n",
    "<span><img src=\"https://fdn2.gsmarena.com/vv/bigpic/acer-chromebook-tab-10.jpg\"/></span>\n",
    "<strong>Acer Chromebook Tab 10</strong>\n",
    "</a>\n",
    "</div>\n",
    "<div class=\"swiper-half-slide\">\n",
    "<a href=\"acer_iconia_talk_s-8306.php\">\n",
    "<span><img src=\"https://fdn2.gsmarena.com/vv/bigpic/acer-iconia-talk-s.jpg\"/></span>\n",
    "<strong>Acer Iconia Talk S</strong>\n",
    "</a>\n",
    "</div>\n",
    "</div>\n",
    "<div class=\"swiper-slide\">\n",
    "<div class=\"swiper-half-slide\">\n",
    "<a href=\"acer_iconia_tab_8_a1_840fhd-6424.php\">\n",
    "<span><img src=\"https://fdn2.gsmarena.com/vv/bigpic/acer-iconia-tab-8-2014-1.jpg\"/></span>\n",
    "<strong>Acer Iconia Tab 8 A1-840FHD</strong>\n",
    "</a>\n",
    "</div>\n",
    "<div class=\"swiper-half-slide\">\n",
    "<a href=\"acer_liquid_z6_plus-8305.php\">\n",
    "<span><img src=\"https://fdn2.gsmarena.com/vv/bigpic/acer-liquid-z6-plus.jpg\"/></span>\n",
    "<strong>Acer Liquid Z6 Plus</strong>\n",
    "</a>\n",
    "</div>\n",
    "</div>\n",
    "<div class=\"swiper-slide\">\n",
    "<div class=\"swiper-half-slide\">\n",
    "<a href=\"acer_predator_8-7750.php\">\n",
    "<span><img src=\"https://fdn2.gsmarena.com/vv/bigpic/acer-predator-8.jpg\"/></span>\n",
    "<strong>Acer Predator 8</strong>\n",
    "</a>\n",
    "</div>\n",
    "<div class=\"swiper-half-slide\">\n",
    "<a href=\"acer_iconia_one_8_b1_820-7217.php\">\n",
    "<span><img src=\"https://fdn2.gsmarena.com/vv/bigpic/acer-iconia-one-8-b1-820.jpg\"/></span>\n",
    "<strong>Acer Iconia One 8 B1-820</strong>\n",
    "</a>\n",
    "</div>\n",
    "</div>\n",
    "<div class=\"swiper-slide empty-slide\"></div>\n",
    "</div>\n",
    "<div class=\"swiper-scrollbar\"></div>\n",
    "</div>\n",
    "<div class=\"adv-bottom\">\n",
    "<!-- /8095840/.2_A.34822.4_gsmarena.com_tier1 -->\n",
    "<div id=\"div-gpt-ad-1532420701892-2\" style=\"height:250px; width:300px;\"></div>\n",
    "</div>\n",
    "<footer class=\"grid_12\">\n",
    "<nav class=\"grid_12 alpha\">\n",
    "<ul>\n",
    "<li class=\"active\"><a href=\"/\">Home</a></li>\n",
    "<li><a href=\"news.php3\">News</a></li>\n",
    "<li><a href=\"reviews.php3\">Reviews</a></li>\n",
    "<li><a href=\"makers.php3\">All phones</a></li>\n",
    "</ul>\n",
    "</nav>\n",
    "<ul class=\"social\">\n",
    "<li><a href=\"https://www.youtube.com/channel/UCbLq9tsbo8peV22VxbDAfXA?sub_confirmation=1\" rel=\"noopener\" target=\"_blank\"><i class=\"head-icon icon-youtube\"></i></a></li>\n",
    "<li><a href=\"https://www.instagram.com/gsmarenateam/\" rel=\"noopener\" target=\"_blank\"><i class=\"head-icon icon-instagram\"></i></a></li>\n",
    "<li><a href=\"https://www.facebook.com/GSMArenacom-189627474421/\" rel=\"noopener\" target=\"_blank\"><i class=\"head-icon icon-facebook3\"></i></a></li>\n",
    "<li><a href=\"https://twitter.com/gsmarena_com\" rel=\"noopener\" target=\"_blank\"><i class=\"head-icon icon-twetter2\"></i></a></li>\n",
    "<li><a href=\"https://play.google.com/store/apps/details?id=com.gsmarena.android\" rel=\"noopener\" target=\"_blank\"><i class=\"head-icon icon-google-play\"></i></a></li>\n",
    "</ul>\n",
    "<p>\n",
    "© 2000-2024 GSMArena.com </p><p>\n",
    "<a href=\"privacy-policy.php3\">Privacy</a> |\n",
    "<a href=\"terms.php3\">Terms</a> |\n",
    "<a href=\"glossary.php3\">Glossary</a> |\n",
    "<a href=\"contact.php3\">Contact us</a>\n",
    "</p>\n",
    "<a class=\"phone-finder-button\" href=\"search.php3\"><i class=\"head-icon icon-phone_finder\"></i>PHONE FINDER</a>\n",
    "<p class=\"switch-desktop\"><a href=\"#\" id=\"switch-version\">Desktop version</a></p>\n",
    "<a id=\"unic-gdpr\" onclick='__tcfapi(\"openunic\");return false;' style=\"display:none;cursor:pointer;\">Change Ad Consent</a>\n",
    "<a id=\"unic-ccpa\" onclick=\"window.__uspapi('openunic')\" style=\"display:none;cursor:pointer;\">Do not sell my data</a>\n",
    "</footer>\n",
    "<script type=\"text/javascript\">\n",
    "AUTOCOMPLETE_SRC = 'https://fdn.gsmarena.com/vv/assets12/js/m/' + 'autocomplete.js?v=11';\n",
    "</script>\n",
    "<script src=\"https://fdn.gsmarena.com/vv/assets12/js/m/general2.js?v=38\"></script>\n",
    "</div>\n",
    "<script src=\"https://fdn.gsmarena.com/vv/assets12/js/m/specs2.js?v=7\" type=\"text/javascript\"></script>\n",
    "</body></html>\n",
    "\"\"\""
   ]
  },
  {
   "cell_type": "code",
   "execution_count": 53,
   "id": "fb55ca9f-d4d8-450e-90e6-72b7cea9496d",
   "metadata": {},
   "outputs": [],
   "source": [
    "html_doc = BeautifulSoup(html_string)"
   ]
  },
  {
   "cell_type": "code",
   "execution_count": 54,
   "id": "7eea051b-0fed-4e24-b3e2-f8d6dc8fbeec",
   "metadata": {},
   "outputs": [],
   "source": [
    "specs_list = html_doc.select(\"div#specs-list\")"
   ]
  },
  {
   "cell_type": "code",
   "execution_count": 55,
   "id": "59f009dc-5b13-44b7-9369-ea0e82033d76",
   "metadata": {},
   "outputs": [
    {
     "data": {
      "text/plain": [
       "1"
      ]
     },
     "execution_count": 55,
     "metadata": {},
     "output_type": "execute_result"
    }
   ],
   "source": [
    "len(specs_list)"
   ]
  },
  {
   "cell_type": "code",
   "execution_count": null,
   "id": "1b7650a8-978a-4175-9713-b2d982185933",
   "metadata": {},
   "outputs": [],
   "source": [
    "specs_list"
   ]
  },
  {
   "cell_type": "code",
   "execution_count": 61,
   "id": "195be035-122b-4203-ab21-e14e218e0d1a",
   "metadata": {},
   "outputs": [
    {
     "name": "stdout",
     "output_type": "stream",
     "text": [
      "mobile phone processing = apple_mobile_url\n",
      "200\n",
      "> \u001b[0;32m/var/folders/zw/mqwlds_s7ml5_fvqptkb174h0000gn/T/ipykernel_62714/3121652897.py\u001b[0m(17)\u001b[0;36m<module>\u001b[0;34m()\u001b[0m\n",
      "\u001b[0;32m     16 \u001b[0;31m        \u001b[0;32mimport\u001b[0m \u001b[0mipdb\u001b[0m\u001b[0;34m;\u001b[0m\u001b[0mipdb\u001b[0m\u001b[0;34m.\u001b[0m\u001b[0mset_trace\u001b[0m\u001b[0;34m(\u001b[0m\u001b[0;34m)\u001b[0m\u001b[0;34m\u001b[0m\u001b[0;34m\u001b[0m\u001b[0m\n",
      "\u001b[0m\u001b[0;32m---> 17 \u001b[0;31m        \u001b[0msoup\u001b[0m \u001b[0;34m=\u001b[0m \u001b[0mBeautifulSoup\u001b[0m\u001b[0;34m(\u001b[0m\u001b[0mresponse\u001b[0m\u001b[0;34m.\u001b[0m\u001b[0mcontent\u001b[0m\u001b[0;34m,\u001b[0m \u001b[0;34m'html.parser'\u001b[0m\u001b[0;34m)\u001b[0m\u001b[0;34m\u001b[0m\u001b[0;34m\u001b[0m\u001b[0m\n",
      "\u001b[0m\u001b[0;32m     18 \u001b[0;31m        \u001b[0;32mwith\u001b[0m \u001b[0mopen\u001b[0m\u001b[0;34m(\u001b[0m\u001b[0;34mf\"html_docs/{each_mobile}.txt\"\u001b[0m\u001b[0;34m,\u001b[0m \u001b[0;34m\"w+\"\u001b[0m\u001b[0;34m)\u001b[0m \u001b[0;32mas\u001b[0m \u001b[0mf_write\u001b[0m\u001b[0;34m:\u001b[0m\u001b[0;34m\u001b[0m\u001b[0;34m\u001b[0m\u001b[0m\n",
      "\u001b[0m\n"
     ]
    },
    {
     "name": "stdin",
     "output_type": "stream",
     "text": [
      "ipdb>  n\n"
     ]
    },
    {
     "name": "stdout",
     "output_type": "stream",
     "text": [
      "> \u001b[0;32m/var/folders/zw/mqwlds_s7ml5_fvqptkb174h0000gn/T/ipykernel_62714/3121652897.py\u001b[0m(18)\u001b[0;36m<module>\u001b[0;34m()\u001b[0m\n",
      "\u001b[0;32m     17 \u001b[0;31m        \u001b[0msoup\u001b[0m \u001b[0;34m=\u001b[0m \u001b[0mBeautifulSoup\u001b[0m\u001b[0;34m(\u001b[0m\u001b[0mresponse\u001b[0m\u001b[0;34m.\u001b[0m\u001b[0mcontent\u001b[0m\u001b[0;34m,\u001b[0m \u001b[0;34m'html.parser'\u001b[0m\u001b[0;34m)\u001b[0m\u001b[0;34m\u001b[0m\u001b[0;34m\u001b[0m\u001b[0m\n",
      "\u001b[0m\u001b[0;32m---> 18 \u001b[0;31m        \u001b[0;32mwith\u001b[0m \u001b[0mopen\u001b[0m\u001b[0;34m(\u001b[0m\u001b[0;34mf\"html_docs/{each_mobile}.txt\"\u001b[0m\u001b[0;34m,\u001b[0m \u001b[0;34m\"w+\"\u001b[0m\u001b[0;34m)\u001b[0m \u001b[0;32mas\u001b[0m \u001b[0mf_write\u001b[0m\u001b[0;34m:\u001b[0m\u001b[0;34m\u001b[0m\u001b[0;34m\u001b[0m\u001b[0m\n",
      "\u001b[0m\u001b[0;32m     19 \u001b[0;31m            \u001b[0mf_write\u001b[0m\u001b[0;34m.\u001b[0m\u001b[0mwrite\u001b[0m\u001b[0;34m(\u001b[0m\u001b[0msoup\u001b[0m\u001b[0;34m.\u001b[0m\u001b[0mtext\u001b[0m\u001b[0;34m)\u001b[0m\u001b[0;34m\u001b[0m\u001b[0;34m\u001b[0m\u001b[0m\n",
      "\u001b[0m\n"
     ]
    },
    {
     "name": "stdin",
     "output_type": "stream",
     "text": [
      "ipdb>  n\n"
     ]
    },
    {
     "name": "stdout",
     "output_type": "stream",
     "text": [
      "> \u001b[0;32m/var/folders/zw/mqwlds_s7ml5_fvqptkb174h0000gn/T/ipykernel_62714/3121652897.py\u001b[0m(19)\u001b[0;36m<module>\u001b[0;34m()\u001b[0m\n",
      "\u001b[0;32m     17 \u001b[0;31m        \u001b[0msoup\u001b[0m \u001b[0;34m=\u001b[0m \u001b[0mBeautifulSoup\u001b[0m\u001b[0;34m(\u001b[0m\u001b[0mresponse\u001b[0m\u001b[0;34m.\u001b[0m\u001b[0mcontent\u001b[0m\u001b[0;34m,\u001b[0m \u001b[0;34m'html.parser'\u001b[0m\u001b[0;34m)\u001b[0m\u001b[0;34m\u001b[0m\u001b[0;34m\u001b[0m\u001b[0m\n",
      "\u001b[0m\u001b[0;32m     18 \u001b[0;31m        \u001b[0;32mwith\u001b[0m \u001b[0mopen\u001b[0m\u001b[0;34m(\u001b[0m\u001b[0;34mf\"html_docs/{each_mobile}.txt\"\u001b[0m\u001b[0;34m,\u001b[0m \u001b[0;34m\"w+\"\u001b[0m\u001b[0;34m)\u001b[0m \u001b[0;32mas\u001b[0m \u001b[0mf_write\u001b[0m\u001b[0;34m:\u001b[0m\u001b[0;34m\u001b[0m\u001b[0;34m\u001b[0m\u001b[0m\n",
      "\u001b[0m\u001b[0;32m---> 19 \u001b[0;31m            \u001b[0mf_write\u001b[0m\u001b[0;34m.\u001b[0m\u001b[0mwrite\u001b[0m\u001b[0;34m(\u001b[0m\u001b[0msoup\u001b[0m\u001b[0;34m.\u001b[0m\u001b[0mtext\u001b[0m\u001b[0;34m)\u001b[0m\u001b[0;34m\u001b[0m\u001b[0;34m\u001b[0m\u001b[0m\n",
      "\u001b[0m\n"
     ]
    },
    {
     "name": "stdin",
     "output_type": "stream",
     "text": [
      "ipdb>  n\n"
     ]
    },
    {
     "name": "stdout",
     "output_type": "stream",
     "text": [
      "> \u001b[0;32m/var/folders/zw/mqwlds_s7ml5_fvqptkb174h0000gn/T/ipykernel_62714/3121652897.py\u001b[0m(8)\u001b[0;36m<module>\u001b[0;34m()\u001b[0m\n",
      "\u001b[0;32m      7 \u001b[0;31m\u001b[0;34m\u001b[0m\u001b[0m\n",
      "\u001b[0m\u001b[0;32m----> 8 \u001b[0;31m\u001b[0;32mfor\u001b[0m \u001b[0meach_mobile\u001b[0m \u001b[0;32min\u001b[0m \u001b[0mmobiles_url\u001b[0m\u001b[0;34m:\u001b[0m\u001b[0;34m\u001b[0m\u001b[0;34m\u001b[0m\u001b[0m\n",
      "\u001b[0m\u001b[0;32m      9 \u001b[0;31m    \u001b[0mprint\u001b[0m\u001b[0;34m(\u001b[0m\u001b[0;34mf'mobile phone processing = {each_mobile}'\u001b[0m\u001b[0;34m)\u001b[0m\u001b[0;34m\u001b[0m\u001b[0;34m\u001b[0m\u001b[0m\n",
      "\u001b[0m\n"
     ]
    },
    {
     "name": "stdin",
     "output_type": "stream",
     "text": [
      "ipdb>  c\n"
     ]
    },
    {
     "name": "stdout",
     "output_type": "stream",
     "text": [
      "mobile phone processing = erricson-mobile-url\n",
      "200\n",
      "> \u001b[0;32m/var/folders/zw/mqwlds_s7ml5_fvqptkb174h0000gn/T/ipykernel_62714/3121652897.py\u001b[0m(17)\u001b[0;36m<module>\u001b[0;34m()\u001b[0m\n",
      "\u001b[0;32m     16 \u001b[0;31m        \u001b[0;32mimport\u001b[0m \u001b[0mipdb\u001b[0m\u001b[0;34m;\u001b[0m\u001b[0mipdb\u001b[0m\u001b[0;34m.\u001b[0m\u001b[0mset_trace\u001b[0m\u001b[0;34m(\u001b[0m\u001b[0;34m)\u001b[0m\u001b[0;34m\u001b[0m\u001b[0;34m\u001b[0m\u001b[0m\n",
      "\u001b[0m\u001b[0;32m---> 17 \u001b[0;31m        \u001b[0msoup\u001b[0m \u001b[0;34m=\u001b[0m \u001b[0mBeautifulSoup\u001b[0m\u001b[0;34m(\u001b[0m\u001b[0mresponse\u001b[0m\u001b[0;34m.\u001b[0m\u001b[0mcontent\u001b[0m\u001b[0;34m,\u001b[0m \u001b[0;34m'html.parser'\u001b[0m\u001b[0;34m)\u001b[0m\u001b[0;34m\u001b[0m\u001b[0;34m\u001b[0m\u001b[0m\n",
      "\u001b[0m\u001b[0;32m     18 \u001b[0;31m        \u001b[0;32mwith\u001b[0m \u001b[0mopen\u001b[0m\u001b[0;34m(\u001b[0m\u001b[0;34mf\"html_docs/{each_mobile}.txt\"\u001b[0m\u001b[0;34m,\u001b[0m \u001b[0;34m\"w+\"\u001b[0m\u001b[0;34m)\u001b[0m \u001b[0;32mas\u001b[0m \u001b[0mf_write\u001b[0m\u001b[0;34m:\u001b[0m\u001b[0;34m\u001b[0m\u001b[0;34m\u001b[0m\u001b[0m\n",
      "\u001b[0m\n"
     ]
    },
    {
     "name": "stdin",
     "output_type": "stream",
     "text": [
      "ipdb>  c\n"
     ]
    },
    {
     "name": "stdout",
     "output_type": "stream",
     "text": [
      "mobile phone processing = nokia-mobile-url\n",
      "200\n",
      "> \u001b[0;32m/var/folders/zw/mqwlds_s7ml5_fvqptkb174h0000gn/T/ipykernel_62714/3121652897.py\u001b[0m(16)\u001b[0;36m<module>\u001b[0;34m()\u001b[0m\n",
      "\u001b[0;32m     15 \u001b[0;31m    \u001b[0;32mif\u001b[0m \u001b[0mresponse\u001b[0m\u001b[0;34m.\u001b[0m\u001b[0mstatus_code\u001b[0m \u001b[0;34m==\u001b[0m \u001b[0;36m200\u001b[0m\u001b[0;34m:\u001b[0m\u001b[0;34m\u001b[0m\u001b[0;34m\u001b[0m\u001b[0m\n",
      "\u001b[0m\u001b[0;32m---> 16 \u001b[0;31m        \u001b[0;32mimport\u001b[0m \u001b[0mipdb\u001b[0m\u001b[0;34m;\u001b[0m\u001b[0mipdb\u001b[0m\u001b[0;34m.\u001b[0m\u001b[0mset_trace\u001b[0m\u001b[0;34m(\u001b[0m\u001b[0;34m)\u001b[0m\u001b[0;34m\u001b[0m\u001b[0;34m\u001b[0m\u001b[0m\n",
      "\u001b[0m\u001b[0;32m     17 \u001b[0;31m        \u001b[0msoup\u001b[0m \u001b[0;34m=\u001b[0m \u001b[0mBeautifulSoup\u001b[0m\u001b[0;34m(\u001b[0m\u001b[0mresponse\u001b[0m\u001b[0;34m.\u001b[0m\u001b[0mcontent\u001b[0m\u001b[0;34m,\u001b[0m \u001b[0;34m'html.parser'\u001b[0m\u001b[0;34m)\u001b[0m\u001b[0;34m\u001b[0m\u001b[0;34m\u001b[0m\u001b[0m\n",
      "\u001b[0m\n"
     ]
    },
    {
     "name": "stdin",
     "output_type": "stream",
     "text": [
      "ipdb>  c\n"
     ]
    },
    {
     "name": "stdout",
     "output_type": "stream",
     "text": [
      "mobile phone processing = xiaomi-mobile-url\n",
      "200\n",
      "> \u001b[0;32m/var/folders/zw/mqwlds_s7ml5_fvqptkb174h0000gn/T/ipykernel_62714/3121652897.py\u001b[0m(17)\u001b[0;36m<module>\u001b[0;34m()\u001b[0m\n",
      "\u001b[0;32m     16 \u001b[0;31m        \u001b[0;32mimport\u001b[0m \u001b[0mipdb\u001b[0m\u001b[0;34m;\u001b[0m\u001b[0mipdb\u001b[0m\u001b[0;34m.\u001b[0m\u001b[0mset_trace\u001b[0m\u001b[0;34m(\u001b[0m\u001b[0;34m)\u001b[0m\u001b[0;34m\u001b[0m\u001b[0;34m\u001b[0m\u001b[0m\n",
      "\u001b[0m\u001b[0;32m---> 17 \u001b[0;31m        \u001b[0msoup\u001b[0m \u001b[0;34m=\u001b[0m \u001b[0mBeautifulSoup\u001b[0m\u001b[0;34m(\u001b[0m\u001b[0mresponse\u001b[0m\u001b[0;34m.\u001b[0m\u001b[0mcontent\u001b[0m\u001b[0;34m,\u001b[0m \u001b[0;34m'html.parser'\u001b[0m\u001b[0;34m)\u001b[0m\u001b[0;34m\u001b[0m\u001b[0;34m\u001b[0m\u001b[0m\n",
      "\u001b[0m\u001b[0;32m     18 \u001b[0;31m        \u001b[0;32mwith\u001b[0m \u001b[0mopen\u001b[0m\u001b[0;34m(\u001b[0m\u001b[0;34mf\"html_docs/{each_mobile}.txt\"\u001b[0m\u001b[0;34m,\u001b[0m \u001b[0;34m\"w+\"\u001b[0m\u001b[0;34m)\u001b[0m \u001b[0;32mas\u001b[0m \u001b[0mf_write\u001b[0m\u001b[0;34m:\u001b[0m\u001b[0;34m\u001b[0m\u001b[0;34m\u001b[0m\u001b[0m\n",
      "\u001b[0m\n"
     ]
    },
    {
     "name": "stdin",
     "output_type": "stream",
     "text": [
      "ipdb>  c\n"
     ]
    }
   ],
   "source": [
    "mobiles_url = {\n",
    "    'apple_mobile_url': \"apple-phones-48.php\",\n",
    "    'erricson-mobile-url': \"ericsson-phones-2.php\",\n",
    "    'nokia-mobile-url': \"nokia-phones-1.php\",\n",
    "    'xiaomi-mobile-url': \"xiaomi-phones-80.php\"\n",
    "}\n",
    "\n",
    "for each_mobile in mobiles_url:\n",
    "    print(f'mobile phone processing = {each_mobile}')\n",
    "    web_doc_url = f\"{gsm_arena_url}/{mobiles_url[each_mobile]}\"\n",
    "    \n",
    "    response = requests.get(web_doc_url)\n",
    "    print(response.status_code)\n",
    "    \n",
    "    if response.status_code == 200:\n",
    "        import ipdb;ipdb.set_trace()\n",
    "        soup = BeautifulSoup(response.content, 'html.parser')\n",
    "        with open(f\"html_docs/{each_mobile}.txt\", \"w+\") as f_write:\n",
    "            f_write.write(soup.text)"
   ]
  },
  {
   "cell_type": "markdown",
   "id": "3838161d-9ea4-4854-b77e-820083f9311e",
   "metadata": {
    "jp-MarkdownHeadingCollapsed": true
   },
   "source": [
    "## Getting list of all mobile phone brands"
   ]
  },
  {
   "cell_type": "code",
   "execution_count": null,
   "id": "634d4f0d-f7c8-44f6-a81d-4627178a8a3c",
   "metadata": {},
   "outputs": [],
   "source": [
    "gadgets_360_url = \"https://www.gadgets360.com/mobiles\"\n",
    "brands_url = \"all-brands\"\n",
    "\n",
    "web_doc_url = f\"{gadgets_360_url}/{brands_url}\"\n",
    "response = requests.get(web_doc_url)\n",
    "print(response.status_code)\n",
    "\n",
    "if response.status_code == 200:\n",
    "    soup = BeautifulSoup(response.content, 'html.parser')\n",
    "    print(soup)"
   ]
  },
  {
   "cell_type": "code",
   "execution_count": 64,
   "id": "6d3df67c-43c5-48c7-aa58-ee6d4456f3b9",
   "metadata": {},
   "outputs": [],
   "source": [
    "brand_list = soup.find('div', class_=\"brand_list\")"
   ]
  },
  {
   "cell_type": "code",
   "execution_count": 65,
   "id": "32226c87-f3b9-4fd9-8e4d-a2db6dbd9fa3",
   "metadata": {},
   "outputs": [
    {
     "data": {
      "text/plain": [
       "7"
      ]
     },
     "execution_count": 65,
     "metadata": {},
     "output_type": "execute_result"
    }
   ],
   "source": [
    "len(brand_list)"
   ]
  },
  {
   "cell_type": "code",
   "execution_count": 92,
   "id": "68608ee3-07da-4514-bd61-3accadf67101",
   "metadata": {},
   "outputs": [],
   "source": [
    "mobile_brand_list = brand_list.find('div', class_=\"brand\")"
   ]
  },
  {
   "cell_type": "code",
   "execution_count": 105,
   "id": "310bb91a-5a30-438a-8058-1af28947598e",
   "metadata": {},
   "outputs": [],
   "source": [
    "temp_mobile_brand_list = mobile_brand_list.find_all('a', class_=\"rvw-title\")"
   ]
  },
  {
   "cell_type": "code",
   "execution_count": 106,
   "id": "a36e5b9b-3c84-4c4e-a63b-f5d6d0f55451",
   "metadata": {},
   "outputs": [
    {
     "data": {
      "text/plain": [
       "<a class=\"rvw-title\" href=\"https://www.gadgets360.com/mobiles/acer-phones\" title=\"Acer Mobile Phones\"><h3>Acer Mobile Phones</h3></a>"
      ]
     },
     "execution_count": 106,
     "metadata": {},
     "output_type": "execute_result"
    }
   ],
   "source": [
    "temp_mobile_brand_list[1]"
   ]
  },
  {
   "cell_type": "code",
   "execution_count": 107,
   "id": "57c5551e-4e90-46b2-bf3c-9821bebfa6dc",
   "metadata": {},
   "outputs": [],
   "source": [
    "mobile_urls = []"
   ]
  },
  {
   "cell_type": "code",
   "execution_count": 108,
   "id": "d1c7b78e-56c3-45b5-a8bc-bc32ed607217",
   "metadata": {},
   "outputs": [],
   "source": [
    "for each_tag in temp_mobile_brand_list:\n",
    "    if '-phones' in each_tag['href']:\n",
    "        mobile_urls.append(each_tag['href'])"
   ]
  },
  {
   "cell_type": "code",
   "execution_count": 109,
   "id": "2e191efe-5964-4e0b-a5b9-49261839daf3",
   "metadata": {},
   "outputs": [
    {
     "data": {
      "text/plain": [
       "['https://www.gadgets360.com/mobiles/10-or-phones',\n",
       " 'https://www.gadgets360.com/mobiles/acer-phones',\n",
       " 'https://www.gadgets360.com/mobiles/adcom-phones',\n",
       " 'https://www.gadgets360.com/mobiles/airtel-phones',\n",
       " 'https://www.gadgets360.com/mobiles/alcatel-phones',\n",
       " 'https://www.gadgets360.com/mobiles/alpha-phones',\n",
       " 'https://www.gadgets360.com/mobiles/amazon-phones',\n",
       " 'https://www.gadgets360.com/mobiles/aoc-phones',\n",
       " 'https://www.gadgets360.com/mobiles/apple-phones',\n",
       " 'https://www.gadgets360.com/mobiles/aqua-phones',\n",
       " 'https://www.gadgets360.com/mobiles/archos-phones',\n",
       " 'https://www.gadgets360.com/mobiles/asus-phones',\n",
       " 'https://www.gadgets360.com/mobiles/benq-phones',\n",
       " 'https://www.gadgets360.com/mobiles/billion-phones',\n",
       " 'https://www.gadgets360.com/mobiles/black-shark-phones',\n",
       " 'https://www.gadgets360.com/mobiles/blackberry-phones',\n",
       " 'https://www.gadgets360.com/mobiles/blu-phones',\n",
       " 'https://www.gadgets360.com/mobiles/bq-phones',\n",
       " 'https://www.gadgets360.com/mobiles/byond-phones',\n",
       " 'https://www.gadgets360.com/mobiles/cat-phones',\n",
       " 'https://www.gadgets360.com/mobiles/celkon-phones',\n",
       " 'https://www.gadgets360.com/mobiles/centric-phones',\n",
       " 'https://www.gadgets360.com/mobiles/champion-computers-phones',\n",
       " 'https://www.gadgets360.com/mobiles/champone-phones',\n",
       " 'https://www.gadgets360.com/mobiles/cherry-mobile-phones',\n",
       " 'https://www.gadgets360.com/mobiles/comio-phones',\n",
       " 'https://www.gadgets360.com/mobiles/coolpad-phones',\n",
       " 'https://www.gadgets360.com/mobiles/creo-phones',\n",
       " 'https://www.gadgets360.com/mobiles/croma-phones',\n",
       " 'https://www.gadgets360.com/mobiles/datawind-phones',\n",
       " 'https://www.gadgets360.com/mobiles/detel-phones',\n",
       " 'https://www.gadgets360.com/mobiles/dizo-phones',\n",
       " 'https://www.gadgets360.com/mobiles/docoss-phones',\n",
       " 'https://www.gadgets360.com/mobiles/doogee-phones',\n",
       " 'https://www.gadgets360.com/mobiles/elari-phones',\n",
       " 'https://www.gadgets360.com/mobiles/elephone-phones',\n",
       " 'https://www.gadgets360.com/mobiles/energizer-phones',\n",
       " 'https://www.gadgets360.com/mobiles/essential-phones',\n",
       " 'https://www.gadgets360.com/mobiles/evercoss-phones',\n",
       " 'https://www.gadgets360.com/mobiles/fairphone-phones',\n",
       " 'https://www.gadgets360.com/mobiles/flash-phones',\n",
       " 'https://www.gadgets360.com/mobiles/fly-phones',\n",
       " 'https://www.gadgets360.com/mobiles/geeksphone-phones',\n",
       " 'https://www.gadgets360.com/mobiles/general-mobile-phones',\n",
       " 'https://www.gadgets360.com/mobiles/gionee-phones',\n",
       " 'https://www.gadgets360.com/mobiles/google-phones',\n",
       " 'https://www.gadgets360.com/mobiles/hisense-phones',\n",
       " 'https://www.gadgets360.com/mobiles/homtom-phones',\n",
       " 'https://www.gadgets360.com/mobiles/honor-phones',\n",
       " 'https://www.gadgets360.com/mobiles/hp-phones',\n",
       " 'https://www.gadgets360.com/mobiles/htc-phones',\n",
       " 'https://www.gadgets360.com/mobiles/huawei-phones',\n",
       " 'https://www.gadgets360.com/mobiles/hyve-phones',\n",
       " 'https://www.gadgets360.com/mobiles/i-mobiles-phones',\n",
       " 'https://www.gadgets360.com/mobiles/iball-phones',\n",
       " 'https://www.gadgets360.com/mobiles/iberry-phones',\n",
       " 'https://www.gadgets360.com/mobiles/idea-phones',\n",
       " 'https://www.gadgets360.com/mobiles/infinix-phones',\n",
       " 'https://www.gadgets360.com/mobiles/infocus-phones',\n",
       " 'https://www.gadgets360.com/mobiles/intex-phones',\n",
       " 'https://www.gadgets360.com/mobiles/iqoo-phones',\n",
       " 'https://www.gadgets360.com/mobiles/itel-phones',\n",
       " 'https://www.gadgets360.com/mobiles/ivoomi-phones',\n",
       " 'https://www.gadgets360.com/mobiles/jio-phones',\n",
       " 'https://www.gadgets360.com/mobiles/jivi-phones',\n",
       " 'https://www.gadgets360.com/mobiles/jolla-phones',\n",
       " 'https://www.gadgets360.com/mobiles/josh-mobile-phones',\n",
       " 'https://www.gadgets360.com/mobiles/karbonn-phones',\n",
       " 'https://www.gadgets360.com/mobiles/kestrel-phones',\n",
       " 'https://www.gadgets360.com/mobiles/kodak-phones',\n",
       " 'https://www.gadgets360.com/mobiles/kult-phones',\n",
       " 'https://www.gadgets360.com/mobiles/kyocera-phones',\n",
       " 'https://www.gadgets360.com/mobiles/land-rover-phones',\n",
       " 'https://www.gadgets360.com/mobiles/lava-phones',\n",
       " 'https://www.gadgets360.com/mobiles/leeco-phones',\n",
       " 'https://www.gadgets360.com/mobiles/leica-phones',\n",
       " 'https://www.gadgets360.com/mobiles/lemon-phones',\n",
       " 'https://www.gadgets360.com/mobiles/lenovo-phones',\n",
       " 'https://www.gadgets360.com/mobiles/lephone-phones',\n",
       " 'https://www.gadgets360.com/mobiles/letv-phones',\n",
       " 'https://www.gadgets360.com/mobiles/lg-phones',\n",
       " 'https://www.gadgets360.com/mobiles/lumigon-phones',\n",
       " 'https://www.gadgets360.com/mobiles/lyf-phones',\n",
       " 'https://www.gadgets360.com/mobiles/m-tech-phones',\n",
       " 'https://www.gadgets360.com/mobiles/mafe-mobile-phones',\n",
       " 'https://www.gadgets360.com/mobiles/magicon-phones',\n",
       " 'https://www.gadgets360.com/mobiles/marq-by-flipkart-phones',\n",
       " 'https://www.gadgets360.com/mobiles/marshall-phones',\n",
       " 'https://www.gadgets360.com/mobiles/maxx-mobile-phones',\n",
       " 'https://www.gadgets360.com/mobiles/meizu-phones',\n",
       " 'https://www.gadgets360.com/mobiles/mercury-phones',\n",
       " 'https://www.gadgets360.com/mobiles/micromax-phones',\n",
       " 'https://www.gadgets360.com/mobiles/microsoft-phones',\n",
       " 'https://www.gadgets360.com/mobiles/mitashi-phones',\n",
       " 'https://www.gadgets360.com/mobiles/mito-phones',\n",
       " 'https://www.gadgets360.com/mobiles/mobiistar-phones',\n",
       " 'https://www.gadgets360.com/mobiles/moto-phones',\n",
       " 'https://www.gadgets360.com/mobiles/motorola-phones',\n",
       " 'https://www.gadgets360.com/mobiles/mphone-phones',\n",
       " 'https://www.gadgets360.com/mobiles/mts-phones',\n",
       " 'https://www.gadgets360.com/mobiles/myphone-phones',\n",
       " 'https://www.gadgets360.com/mobiles/namotel-phones',\n",
       " 'https://www.gadgets360.com/mobiles/neffos-phones',\n",
       " 'https://www.gadgets360.com/mobiles/nexian-phones',\n",
       " 'https://www.gadgets360.com/mobiles/nextbit-phones',\n",
       " 'https://www.gadgets360.com/mobiles/nokia-phones',\n",
       " 'https://www.gadgets360.com/mobiles/nothing-phones',\n",
       " 'https://www.gadgets360.com/mobiles/nubia-phones',\n",
       " 'https://www.gadgets360.com/mobiles/nuu-mobile-phones',\n",
       " 'https://www.gadgets360.com/mobiles/obi-phones',\n",
       " 'https://www.gadgets360.com/mobiles/obi-worldphone-phones',\n",
       " 'https://www.gadgets360.com/mobiles/oneplus-phones',\n",
       " 'https://www.gadgets360.com/mobiles/onida-phones',\n",
       " 'https://www.gadgets360.com/mobiles/oplus-phones',\n",
       " 'https://www.gadgets360.com/mobiles/oppo-phones',\n",
       " 'https://www.gadgets360.com/mobiles/oukitel-phones',\n",
       " 'https://www.gadgets360.com/mobiles/panasonic-phones',\n",
       " 'https://www.gadgets360.com/mobiles/pantel-phones',\n",
       " 'https://www.gadgets360.com/mobiles/pepsi-phones',\n",
       " 'https://www.gadgets360.com/mobiles/phicomm-phones',\n",
       " 'https://www.gadgets360.com/mobiles/philips-phones',\n",
       " 'https://www.gadgets360.com/mobiles/poco-phones',\n",
       " 'https://www.gadgets360.com/mobiles/polaroid-phones',\n",
       " 'https://www.gadgets360.com/mobiles/porsche-design-phones',\n",
       " 'https://www.gadgets360.com/mobiles/qiku-phones',\n",
       " 'https://www.gadgets360.com/mobiles/qmobile-phones',\n",
       " 'https://www.gadgets360.com/mobiles/razer-phones',\n",
       " 'https://www.gadgets360.com/mobiles/reach-phones',\n",
       " 'https://www.gadgets360.com/mobiles/realme-phones',\n",
       " 'https://www.gadgets360.com/mobiles/redmi-phones',\n",
       " 'https://www.gadgets360.com/mobiles/reliance-phones',\n",
       " 'https://www.gadgets360.com/mobiles/ringing-bells-phones',\n",
       " 'https://www.gadgets360.com/mobiles/rio-phones',\n",
       " 'https://www.gadgets360.com/mobiles/royole-phones',\n",
       " 'https://www.gadgets360.com/mobiles/salora-phones',\n",
       " 'https://www.gadgets360.com/mobiles/samsung-phones',\n",
       " 'https://www.gadgets360.com/mobiles/sansui-phones',\n",
       " 'https://www.gadgets360.com/mobiles/saygus-phones',\n",
       " 'https://www.gadgets360.com/mobiles/sharp-phones',\n",
       " 'https://www.gadgets360.com/mobiles/sikur-phones',\n",
       " 'https://www.gadgets360.com/mobiles/silent-circle-phones',\n",
       " 'https://www.gadgets360.com/mobiles/simmtronics-phones',\n",
       " 'https://www.gadgets360.com/mobiles/sirin-phones',\n",
       " 'https://www.gadgets360.com/mobiles/smartisan-phones',\n",
       " 'https://www.gadgets360.com/mobiles/smartron-phones',\n",
       " 'https://www.gadgets360.com/mobiles/sony-phones',\n",
       " 'https://www.gadgets360.com/mobiles/spice-phones',\n",
       " 'https://www.gadgets360.com/mobiles/sunstrike-phones',\n",
       " 'https://www.gadgets360.com/mobiles/swipe-phones',\n",
       " 'https://www.gadgets360.com/mobiles/symphony-phones',\n",
       " 'https://www.gadgets360.com/mobiles/tambo-phones',\n",
       " 'https://www.gadgets360.com/mobiles/tcl-phones',\n",
       " 'https://www.gadgets360.com/mobiles/tecno-phones',\n",
       " 'https://www.gadgets360.com/mobiles/tonino-lamborghini-phones',\n",
       " 'https://www.gadgets360.com/mobiles/turing-phones',\n",
       " 'https://www.gadgets360.com/mobiles/ulefone-phones',\n",
       " 'https://www.gadgets360.com/mobiles/umi-phones',\n",
       " 'https://www.gadgets360.com/mobiles/umidigi-phones',\n",
       " 'https://www.gadgets360.com/mobiles/unihertz-phones',\n",
       " 'https://www.gadgets360.com/mobiles/vaio-phones',\n",
       " 'https://www.gadgets360.com/mobiles/vertu-phones',\n",
       " 'https://www.gadgets360.com/mobiles/viaan-phones',\n",
       " 'https://www.gadgets360.com/mobiles/videocon-phones',\n",
       " 'https://www.gadgets360.com/mobiles/vivo-phones',\n",
       " 'https://www.gadgets360.com/mobiles/vodafone-phones',\n",
       " 'https://www.gadgets360.com/mobiles/wickedleak-phones',\n",
       " 'https://www.gadgets360.com/mobiles/wiio-phones',\n",
       " 'https://www.gadgets360.com/mobiles/xiaomi-phones',\n",
       " 'https://www.gadgets360.com/mobiles/xolo-phones',\n",
       " 'https://www.gadgets360.com/mobiles/yamada-denki-phones',\n",
       " 'https://www.gadgets360.com/mobiles/yandex-phones',\n",
       " 'https://www.gadgets360.com/mobiles/yota-devices-phones',\n",
       " 'https://www.gadgets360.com/mobiles/yu-phones',\n",
       " 'https://www.gadgets360.com/mobiles/zen-phones',\n",
       " 'https://www.gadgets360.com/mobiles/ziox-phones',\n",
       " 'https://www.gadgets360.com/mobiles/zopo-phones',\n",
       " 'https://www.gadgets360.com/mobiles/zte-phones',\n",
       " 'https://www.gadgets360.com/mobiles/zuk-phones',\n",
       " 'https://www.gadgets360.com/mobiles/zync-phones']"
      ]
     },
     "execution_count": 109,
     "metadata": {},
     "output_type": "execute_result"
    }
   ],
   "source": [
    "mobile_urls"
   ]
  },
  {
   "cell_type": "markdown",
   "id": "624529eb-ba26-47a0-8b5f-acd0b3703246",
   "metadata": {
    "jp-MarkdownHeadingCollapsed": true
   },
   "source": [
    "## Getting list of mobile phones under a brand"
   ]
  },
  {
   "cell_type": "code",
   "execution_count": 110,
   "id": "f24faefe-7522-4b8d-b5b6-dcbdb1a84cc4",
   "metadata": {},
   "outputs": [],
   "source": [
    "temp_mobile_brand_url = mobile_urls[0]"
   ]
  },
  {
   "cell_type": "code",
   "execution_count": null,
   "id": "b2a76712-0281-426b-b246-b5b8d66400e2",
   "metadata": {},
   "outputs": [],
   "source": [
    "response = requests.get(temp_mobile_brand_url)\n",
    "print(response.status_code)\n",
    "\n",
    "if response.status_code == 200:\n",
    "    soup = BeautifulSoup(response.content, 'html.parser')\n",
    "    print(soup)"
   ]
  },
  {
   "cell_type": "code",
   "execution_count": 112,
   "id": "5b2e18a7-a9f8-4416-9251-9c4aabd87ff5",
   "metadata": {},
   "outputs": [],
   "source": [
    "ten_oh_html_doc = soup"
   ]
  },
  {
   "cell_type": "code",
   "execution_count": 115,
   "id": "0d27fa32-53b3-4847-b34e-5d747e7fbfd2",
   "metadata": {},
   "outputs": [],
   "source": [
    "mobile_list_element = ten_oh_html_doc.find('div', class_=\"brand_list\")"
   ]
  },
  {
   "cell_type": "code",
   "execution_count": 118,
   "id": "0e5f2a18-4b6b-4b46-b07f-17eb76a0e27e",
   "metadata": {},
   "outputs": [],
   "source": [
    "mobile_list_divs = mobile_list_element.find_all('div', class_=\"rvw-imgbox\")"
   ]
  },
  {
   "cell_type": "code",
   "execution_count": 122,
   "id": "cc06ba3c-a141-47dd-9c3b-5507032b319b",
   "metadata": {},
   "outputs": [],
   "source": [
    "mobile_list_url = []\n",
    "\n",
    "for each_div in mobile_list_divs:\n",
    "    a_tag = each_div.find('a')\n",
    "    mobile_list_url.append(a_tag['href'])"
   ]
  },
  {
   "cell_type": "code",
   "execution_count": 123,
   "id": "8fd0a41b-847a-424c-84ce-b3cc68e830e6",
   "metadata": {},
   "outputs": [
    {
     "data": {
      "text/plain": [
       "['https://www.gadgets360.com/10-or-g2-8932',\n",
       " 'https://www.gadgets360.com/10-or-d2-5601',\n",
       " 'https://www.gadgets360.com/10-or-d-4560',\n",
       " 'https://www.gadgets360.com/10-or-g-4429',\n",
       " 'https://www.gadgets360.com/10-or-e-4392']"
      ]
     },
     "execution_count": 123,
     "metadata": {},
     "output_type": "execute_result"
    }
   ],
   "source": [
    "mobile_list_url"
   ]
  },
  {
   "cell_type": "markdown",
   "id": "4509f759-a161-4b05-9db9-fcdad19eadf1",
   "metadata": {
    "jp-MarkdownHeadingCollapsed": true
   },
   "source": [
    "## Getting details of each phone under a brand"
   ]
  },
  {
   "cell_type": "code",
   "execution_count": 124,
   "id": "014e3120-8185-4ccf-b634-a9427a5191a0",
   "metadata": {},
   "outputs": [],
   "source": [
    "mobile_detail_url = mobile_list_url[0]"
   ]
  },
  {
   "cell_type": "code",
   "execution_count": 155,
   "id": "41fe404e-64e2-47bb-a8ce-a0d6cfb4c40f",
   "metadata": {},
   "outputs": [],
   "source": [
    "from urllib.parse import urlparse\n",
    "mob_url = urlparse(mobile_detail_url)"
   ]
  },
  {
   "cell_type": "code",
   "execution_count": 163,
   "id": "d42fd806-3120-4993-96fe-8b45e13ac906",
   "metadata": {},
   "outputs": [],
   "source": [
    "mobile_name = '-'.join(mob_url.path.replace('/', '').split('-')[:-1])"
   ]
  },
  {
   "cell_type": "code",
   "execution_count": 126,
   "id": "6fc41f7b-5f8e-4d92-b21d-e145f1d26e08",
   "metadata": {},
   "outputs": [
    {
     "name": "stdout",
     "output_type": "stream",
     "text": [
      "200\n"
     ]
    }
   ],
   "source": [
    "response = requests.get(mobile_detail_url)\n",
    "print(response.status_code)\n",
    "\n",
    "if response.status_code == 200:\n",
    "    mobile_detail_soup = BeautifulSoup(response.content, 'html.parser')"
   ]
  },
  {
   "cell_type": "code",
   "execution_count": 132,
   "id": "1c0e82f8-cedf-49f9-8ca8-3bd5b33d2334",
   "metadata": {},
   "outputs": [],
   "source": [
    "detail_spec_div = mobile_detail_soup.select(\"div#specs\")"
   ]
  },
  {
   "cell_type": "code",
   "execution_count": null,
   "id": "86d7b8ef-aafa-46e8-b92b-0537527c3e40",
   "metadata": {},
   "outputs": [],
   "source": [
    "detail_spec_div"
   ]
  },
  {
   "cell_type": "code",
   "execution_count": 135,
   "id": "e4c4db09-f49e-4846-a0db-7986e73e706e",
   "metadata": {},
   "outputs": [],
   "source": [
    "specs_category_divs = detail_spec_div[0].find_all('div', class_=\"_hd\")"
   ]
  },
  {
   "cell_type": "code",
   "execution_count": 152,
   "id": "6bcc55ec-23e0-4603-b409-c87e10c0ab3e",
   "metadata": {},
   "outputs": [
    {
     "data": {
      "text/plain": [
       "[<div class=\"_hd\">General</div>,\n",
       " <div class=\"_hd\">Display</div>,\n",
       " <div class=\"_hd\">Hardware</div>,\n",
       " <div class=\"_hd\">Camera</div>,\n",
       " <div class=\"_hd\">Software</div>,\n",
       " <div class=\"_hd\">Connectivity</div>,\n",
       " <div class=\"_hd\">Sensors</div>]"
      ]
     },
     "execution_count": 152,
     "metadata": {},
     "output_type": "execute_result"
    }
   ],
   "source": [
    "specs_category_divs"
   ]
  },
  {
   "cell_type": "code",
   "execution_count": 144,
   "id": "268c202b-f9a5-458e-99e2-4089fc3f0b08",
   "metadata": {},
   "outputs": [],
   "source": [
    "spec_table_tag = specs_category_divs[0].parent.parent.find('table')"
   ]
  },
  {
   "cell_type": "code",
   "execution_count": 146,
   "id": "ad1150cc-bb93-4832-af6e-f1d715303ecc",
   "metadata": {},
   "outputs": [],
   "source": [
    "spec_rows = spec_table_tag.find_all('tr')"
   ]
  },
  {
   "cell_type": "code",
   "execution_count": 150,
   "id": "2bc6708d-b965-4d31-8d07-340682889eb8",
   "metadata": {},
   "outputs": [],
   "source": [
    "key = spec_rows[0].find_all('td')[0].text\n",
    "value = spec_rows[0].find_all('td')[1].text"
   ]
  },
  {
   "cell_type": "code",
   "execution_count": 151,
   "id": "d8bf63ee-0f50-401e-93bd-10806cb04e9f",
   "metadata": {},
   "outputs": [
    {
     "data": {
      "text/plain": [
       "('Brand', '10.or')"
      ]
     },
     "execution_count": 151,
     "metadata": {},
     "output_type": "execute_result"
    }
   ],
   "source": [
    "key, value"
   ]
  },
  {
   "cell_type": "code",
   "execution_count": 175,
   "id": "0e89f7a5-3934-4186-929b-8eca5a112539",
   "metadata": {},
   "outputs": [],
   "source": [
    "mobile_specifications = {}"
   ]
  },
  {
   "cell_type": "code",
   "execution_count": 176,
   "id": "e0f2c5be-b421-4492-b7c4-ebcd859dffbb",
   "metadata": {},
   "outputs": [],
   "source": [
    "mobile_specifications.update({ mobile_name: {} })"
   ]
  },
  {
   "cell_type": "code",
   "execution_count": 179,
   "id": "0cd1bbcb-a5a3-4df0-b34b-72a4a0fd0942",
   "metadata": {
    "collapsed": true,
    "jupyter": {
     "outputs_hidden": true
    }
   },
   "outputs": [
    {
     "name": "stdout",
     "output_type": "stream",
     "text": [
      "None\n",
      "> \u001b[0;32m/var/folders/zw/mqwlds_s7ml5_fvqptkb174h0000gn/T/ipykernel_62714/1059256208.py\u001b[0m(3)\u001b[0;36m<module>\u001b[0;34m()\u001b[0m\n",
      "\u001b[0;32m      2 \u001b[0;31m    \u001b[0;32mimport\u001b[0m \u001b[0mipdb\u001b[0m\u001b[0;34m;\u001b[0m \u001b[0mipdb\u001b[0m\u001b[0;34m.\u001b[0m\u001b[0mset_trace\u001b[0m\u001b[0;34m(\u001b[0m\u001b[0;34m)\u001b[0m\u001b[0;34m\u001b[0m\u001b[0;34m\u001b[0m\u001b[0m\n",
      "\u001b[0m\u001b[0;32m----> 3 \u001b[0;31m    \u001b[0mcategory_name\u001b[0m \u001b[0;34m=\u001b[0m \u001b[0meach_category\u001b[0m\u001b[0;34m.\u001b[0m\u001b[0mtext\u001b[0m\u001b[0;34m\u001b[0m\u001b[0;34m\u001b[0m\u001b[0m\n",
      "\u001b[0m\u001b[0;32m      4 \u001b[0;31m    \u001b[0mmobile_specifications\u001b[0m\u001b[0;34m[\u001b[0m\u001b[0mmobile_name\u001b[0m\u001b[0;34m]\u001b[0m\u001b[0;34m.\u001b[0m\u001b[0mupdate\u001b[0m\u001b[0;34m(\u001b[0m\u001b[0;34m{\u001b[0m \u001b[0mcategory_name\u001b[0m\u001b[0;34m:\u001b[0m \u001b[0;34m{\u001b[0m\u001b[0;34m}\u001b[0m \u001b[0;34m}\u001b[0m\u001b[0;34m)\u001b[0m\u001b[0;34m\u001b[0m\u001b[0;34m\u001b[0m\u001b[0m\n",
      "\u001b[0m\n"
     ]
    },
    {
     "name": "stdin",
     "output_type": "stream",
     "text": [
      "ipdb>  c\n"
     ]
    },
    {
     "name": "stdout",
     "output_type": "stream",
     "text": [
      "None\n",
      "> \u001b[0;32m/var/folders/zw/mqwlds_s7ml5_fvqptkb174h0000gn/T/ipykernel_62714/1059256208.py\u001b[0m(2)\u001b[0;36m<module>\u001b[0;34m()\u001b[0m\n",
      "\u001b[0;32m      1 \u001b[0;31m\u001b[0;32mfor\u001b[0m \u001b[0meach_category\u001b[0m \u001b[0;32min\u001b[0m \u001b[0mspecs_category_divs\u001b[0m\u001b[0;34m:\u001b[0m\u001b[0;34m\u001b[0m\u001b[0;34m\u001b[0m\u001b[0m\n",
      "\u001b[0m\u001b[0;32m----> 2 \u001b[0;31m    \u001b[0;32mimport\u001b[0m \u001b[0mipdb\u001b[0m\u001b[0;34m;\u001b[0m \u001b[0mipdb\u001b[0m\u001b[0;34m.\u001b[0m\u001b[0mset_trace\u001b[0m\u001b[0;34m(\u001b[0m\u001b[0;34m)\u001b[0m\u001b[0;34m\u001b[0m\u001b[0;34m\u001b[0m\u001b[0m\n",
      "\u001b[0m\u001b[0;32m      3 \u001b[0;31m    \u001b[0mcategory_name\u001b[0m \u001b[0;34m=\u001b[0m \u001b[0meach_category\u001b[0m\u001b[0;34m.\u001b[0m\u001b[0mtext\u001b[0m\u001b[0;34m\u001b[0m\u001b[0;34m\u001b[0m\u001b[0m\n",
      "\u001b[0m\n"
     ]
    },
    {
     "name": "stdin",
     "output_type": "stream",
     "text": [
      "ipdb>  c\n"
     ]
    },
    {
     "name": "stdout",
     "output_type": "stream",
     "text": [
      "None\n",
      "> \u001b[0;32m/var/folders/zw/mqwlds_s7ml5_fvqptkb174h0000gn/T/ipykernel_62714/1059256208.py\u001b[0m(3)\u001b[0;36m<module>\u001b[0;34m()\u001b[0m\n",
      "\u001b[0;32m      2 \u001b[0;31m    \u001b[0;32mimport\u001b[0m \u001b[0mipdb\u001b[0m\u001b[0;34m;\u001b[0m \u001b[0mipdb\u001b[0m\u001b[0;34m.\u001b[0m\u001b[0mset_trace\u001b[0m\u001b[0;34m(\u001b[0m\u001b[0;34m)\u001b[0m\u001b[0;34m\u001b[0m\u001b[0;34m\u001b[0m\u001b[0m\n",
      "\u001b[0m\u001b[0;32m----> 3 \u001b[0;31m    \u001b[0mcategory_name\u001b[0m \u001b[0;34m=\u001b[0m \u001b[0meach_category\u001b[0m\u001b[0;34m.\u001b[0m\u001b[0mtext\u001b[0m\u001b[0;34m\u001b[0m\u001b[0;34m\u001b[0m\u001b[0m\n",
      "\u001b[0m\u001b[0;32m      4 \u001b[0;31m    \u001b[0mmobile_specifications\u001b[0m\u001b[0;34m[\u001b[0m\u001b[0mmobile_name\u001b[0m\u001b[0;34m]\u001b[0m\u001b[0;34m.\u001b[0m\u001b[0mupdate\u001b[0m\u001b[0;34m(\u001b[0m\u001b[0;34m{\u001b[0m \u001b[0mcategory_name\u001b[0m\u001b[0;34m:\u001b[0m \u001b[0;34m{\u001b[0m\u001b[0;34m}\u001b[0m \u001b[0;34m}\u001b[0m\u001b[0;34m)\u001b[0m\u001b[0;34m\u001b[0m\u001b[0;34m\u001b[0m\u001b[0m\n",
      "\u001b[0m\n"
     ]
    },
    {
     "name": "stdin",
     "output_type": "stream",
     "text": [
      "ipdb>  c\n"
     ]
    },
    {
     "name": "stdout",
     "output_type": "stream",
     "text": [
      "None\n",
      "> \u001b[0;32m/var/folders/zw/mqwlds_s7ml5_fvqptkb174h0000gn/T/ipykernel_62714/1059256208.py\u001b[0m(2)\u001b[0;36m<module>\u001b[0;34m()\u001b[0m\n",
      "\u001b[0;32m      1 \u001b[0;31m\u001b[0;32mfor\u001b[0m \u001b[0meach_category\u001b[0m \u001b[0;32min\u001b[0m \u001b[0mspecs_category_divs\u001b[0m\u001b[0;34m:\u001b[0m\u001b[0;34m\u001b[0m\u001b[0;34m\u001b[0m\u001b[0m\n",
      "\u001b[0m\u001b[0;32m----> 2 \u001b[0;31m    \u001b[0;32mimport\u001b[0m \u001b[0mipdb\u001b[0m\u001b[0;34m;\u001b[0m \u001b[0mipdb\u001b[0m\u001b[0;34m.\u001b[0m\u001b[0mset_trace\u001b[0m\u001b[0;34m(\u001b[0m\u001b[0;34m)\u001b[0m\u001b[0;34m\u001b[0m\u001b[0;34m\u001b[0m\u001b[0m\n",
      "\u001b[0m\u001b[0;32m      3 \u001b[0;31m    \u001b[0mcategory_name\u001b[0m \u001b[0;34m=\u001b[0m \u001b[0meach_category\u001b[0m\u001b[0;34m.\u001b[0m\u001b[0mtext\u001b[0m\u001b[0;34m\u001b[0m\u001b[0;34m\u001b[0m\u001b[0m\n",
      "\u001b[0m\n"
     ]
    },
    {
     "name": "stdin",
     "output_type": "stream",
     "text": [
      "ipdb>  c\n"
     ]
    },
    {
     "name": "stdout",
     "output_type": "stream",
     "text": [
      "None\n",
      "> \u001b[0;32m/var/folders/zw/mqwlds_s7ml5_fvqptkb174h0000gn/T/ipykernel_62714/1059256208.py\u001b[0m(3)\u001b[0;36m<module>\u001b[0;34m()\u001b[0m\n",
      "\u001b[0;32m      2 \u001b[0;31m    \u001b[0;32mimport\u001b[0m \u001b[0mipdb\u001b[0m\u001b[0;34m;\u001b[0m \u001b[0mipdb\u001b[0m\u001b[0;34m.\u001b[0m\u001b[0mset_trace\u001b[0m\u001b[0;34m(\u001b[0m\u001b[0;34m)\u001b[0m\u001b[0;34m\u001b[0m\u001b[0;34m\u001b[0m\u001b[0m\n",
      "\u001b[0m\u001b[0;32m----> 3 \u001b[0;31m    \u001b[0mcategory_name\u001b[0m \u001b[0;34m=\u001b[0m \u001b[0meach_category\u001b[0m\u001b[0;34m.\u001b[0m\u001b[0mtext\u001b[0m\u001b[0;34m\u001b[0m\u001b[0;34m\u001b[0m\u001b[0m\n",
      "\u001b[0m\u001b[0;32m      4 \u001b[0;31m    \u001b[0mmobile_specifications\u001b[0m\u001b[0;34m[\u001b[0m\u001b[0mmobile_name\u001b[0m\u001b[0;34m]\u001b[0m\u001b[0;34m.\u001b[0m\u001b[0mupdate\u001b[0m\u001b[0;34m(\u001b[0m\u001b[0;34m{\u001b[0m \u001b[0mcategory_name\u001b[0m\u001b[0;34m:\u001b[0m \u001b[0;34m{\u001b[0m\u001b[0;34m}\u001b[0m \u001b[0;34m}\u001b[0m\u001b[0;34m)\u001b[0m\u001b[0;34m\u001b[0m\u001b[0;34m\u001b[0m\u001b[0m\n",
      "\u001b[0m\n"
     ]
    },
    {
     "name": "stdin",
     "output_type": "stream",
     "text": [
      "ipdb>  c\n"
     ]
    },
    {
     "name": "stdout",
     "output_type": "stream",
     "text": [
      "None\n",
      "> \u001b[0;32m/var/folders/zw/mqwlds_s7ml5_fvqptkb174h0000gn/T/ipykernel_62714/1059256208.py\u001b[0m(2)\u001b[0;36m<module>\u001b[0;34m()\u001b[0m\n",
      "\u001b[0;32m      1 \u001b[0;31m\u001b[0;32mfor\u001b[0m \u001b[0meach_category\u001b[0m \u001b[0;32min\u001b[0m \u001b[0mspecs_category_divs\u001b[0m\u001b[0;34m:\u001b[0m\u001b[0;34m\u001b[0m\u001b[0;34m\u001b[0m\u001b[0m\n",
      "\u001b[0m\u001b[0;32m----> 2 \u001b[0;31m    \u001b[0;32mimport\u001b[0m \u001b[0mipdb\u001b[0m\u001b[0;34m;\u001b[0m \u001b[0mipdb\u001b[0m\u001b[0;34m.\u001b[0m\u001b[0mset_trace\u001b[0m\u001b[0;34m(\u001b[0m\u001b[0;34m)\u001b[0m\u001b[0;34m\u001b[0m\u001b[0;34m\u001b[0m\u001b[0m\n",
      "\u001b[0m\u001b[0;32m      3 \u001b[0;31m    \u001b[0mcategory_name\u001b[0m \u001b[0;34m=\u001b[0m \u001b[0meach_category\u001b[0m\u001b[0;34m.\u001b[0m\u001b[0mtext\u001b[0m\u001b[0;34m\u001b[0m\u001b[0;34m\u001b[0m\u001b[0m\n",
      "\u001b[0m\n"
     ]
    },
    {
     "name": "stdin",
     "output_type": "stream",
     "text": [
      "ipdb>  category_name\n"
     ]
    },
    {
     "name": "stdout",
     "output_type": "stream",
     "text": [
      "'Software'\n"
     ]
    },
    {
     "name": "stdin",
     "output_type": "stream",
     "text": [
      "ipdb>  n\n"
     ]
    },
    {
     "name": "stdout",
     "output_type": "stream",
     "text": [
      "None\n",
      "> \u001b[0;32m/var/folders/zw/mqwlds_s7ml5_fvqptkb174h0000gn/T/ipykernel_62714/1059256208.py\u001b[0m(3)\u001b[0;36m<module>\u001b[0;34m()\u001b[0m\n",
      "\u001b[0;32m      2 \u001b[0;31m    \u001b[0;32mimport\u001b[0m \u001b[0mipdb\u001b[0m\u001b[0;34m;\u001b[0m \u001b[0mipdb\u001b[0m\u001b[0;34m.\u001b[0m\u001b[0mset_trace\u001b[0m\u001b[0;34m(\u001b[0m\u001b[0;34m)\u001b[0m\u001b[0;34m\u001b[0m\u001b[0;34m\u001b[0m\u001b[0m\n",
      "\u001b[0m\u001b[0;32m----> 3 \u001b[0;31m    \u001b[0mcategory_name\u001b[0m \u001b[0;34m=\u001b[0m \u001b[0meach_category\u001b[0m\u001b[0;34m.\u001b[0m\u001b[0mtext\u001b[0m\u001b[0;34m\u001b[0m\u001b[0;34m\u001b[0m\u001b[0m\n",
      "\u001b[0m\u001b[0;32m      4 \u001b[0;31m    \u001b[0mmobile_specifications\u001b[0m\u001b[0;34m[\u001b[0m\u001b[0mmobile_name\u001b[0m\u001b[0;34m]\u001b[0m\u001b[0;34m.\u001b[0m\u001b[0mupdate\u001b[0m\u001b[0;34m(\u001b[0m\u001b[0;34m{\u001b[0m \u001b[0mcategory_name\u001b[0m\u001b[0;34m:\u001b[0m \u001b[0;34m{\u001b[0m\u001b[0;34m}\u001b[0m \u001b[0;34m}\u001b[0m\u001b[0;34m)\u001b[0m\u001b[0;34m\u001b[0m\u001b[0;34m\u001b[0m\u001b[0m\n",
      "\u001b[0m\n"
     ]
    },
    {
     "name": "stdin",
     "output_type": "stream",
     "text": [
      "ipdb>  \n"
     ]
    },
    {
     "name": "stdout",
     "output_type": "stream",
     "text": [
      "None\n",
      "> \u001b[0;32m/var/folders/zw/mqwlds_s7ml5_fvqptkb174h0000gn/T/ipykernel_62714/1059256208.py\u001b[0m(4)\u001b[0;36m<module>\u001b[0;34m()\u001b[0m\n",
      "\u001b[0;32m      3 \u001b[0;31m    \u001b[0mcategory_name\u001b[0m \u001b[0;34m=\u001b[0m \u001b[0meach_category\u001b[0m\u001b[0;34m.\u001b[0m\u001b[0mtext\u001b[0m\u001b[0;34m\u001b[0m\u001b[0;34m\u001b[0m\u001b[0m\n",
      "\u001b[0m\u001b[0;32m----> 4 \u001b[0;31m    \u001b[0mmobile_specifications\u001b[0m\u001b[0;34m[\u001b[0m\u001b[0mmobile_name\u001b[0m\u001b[0;34m]\u001b[0m\u001b[0;34m.\u001b[0m\u001b[0mupdate\u001b[0m\u001b[0;34m(\u001b[0m\u001b[0;34m{\u001b[0m \u001b[0mcategory_name\u001b[0m\u001b[0;34m:\u001b[0m \u001b[0;34m{\u001b[0m\u001b[0;34m}\u001b[0m \u001b[0;34m}\u001b[0m\u001b[0;34m)\u001b[0m\u001b[0;34m\u001b[0m\u001b[0;34m\u001b[0m\u001b[0m\n",
      "\u001b[0m\u001b[0;32m      5 \u001b[0;31m    \u001b[0mcategory_table_data\u001b[0m \u001b[0;34m=\u001b[0m \u001b[0meach_category\u001b[0m\u001b[0;34m.\u001b[0m\u001b[0mparent\u001b[0m\u001b[0;34m.\u001b[0m\u001b[0mparent\u001b[0m\u001b[0;34m.\u001b[0m\u001b[0mfind\u001b[0m\u001b[0;34m(\u001b[0m\u001b[0;34m'table'\u001b[0m\u001b[0;34m)\u001b[0m\u001b[0;34m\u001b[0m\u001b[0;34m\u001b[0m\u001b[0m\n",
      "\u001b[0m\n"
     ]
    },
    {
     "name": "stdin",
     "output_type": "stream",
     "text": [
      "ipdb>  \n"
     ]
    },
    {
     "name": "stdout",
     "output_type": "stream",
     "text": [
      "None\n",
      "> \u001b[0;32m/var/folders/zw/mqwlds_s7ml5_fvqptkb174h0000gn/T/ipykernel_62714/1059256208.py\u001b[0m(5)\u001b[0;36m<module>\u001b[0;34m()\u001b[0m\n",
      "\u001b[0;32m      4 \u001b[0;31m    \u001b[0mmobile_specifications\u001b[0m\u001b[0;34m[\u001b[0m\u001b[0mmobile_name\u001b[0m\u001b[0;34m]\u001b[0m\u001b[0;34m.\u001b[0m\u001b[0mupdate\u001b[0m\u001b[0;34m(\u001b[0m\u001b[0;34m{\u001b[0m \u001b[0mcategory_name\u001b[0m\u001b[0;34m:\u001b[0m \u001b[0;34m{\u001b[0m\u001b[0;34m}\u001b[0m \u001b[0;34m}\u001b[0m\u001b[0;34m)\u001b[0m\u001b[0;34m\u001b[0m\u001b[0;34m\u001b[0m\u001b[0m\n",
      "\u001b[0m\u001b[0;32m----> 5 \u001b[0;31m    \u001b[0mcategory_table_data\u001b[0m \u001b[0;34m=\u001b[0m \u001b[0meach_category\u001b[0m\u001b[0;34m.\u001b[0m\u001b[0mparent\u001b[0m\u001b[0;34m.\u001b[0m\u001b[0mparent\u001b[0m\u001b[0;34m.\u001b[0m\u001b[0mfind\u001b[0m\u001b[0;34m(\u001b[0m\u001b[0;34m'table'\u001b[0m\u001b[0;34m)\u001b[0m\u001b[0;34m\u001b[0m\u001b[0;34m\u001b[0m\u001b[0m\n",
      "\u001b[0m\u001b[0;32m      6 \u001b[0;31m    \u001b[0mtable_rows\u001b[0m \u001b[0;34m=\u001b[0m \u001b[0mcategory_table_data\u001b[0m\u001b[0;34m.\u001b[0m\u001b[0mfind_all\u001b[0m\u001b[0;34m(\u001b[0m\u001b[0;34m'tr'\u001b[0m\u001b[0;34m)\u001b[0m\u001b[0;34m\u001b[0m\u001b[0;34m\u001b[0m\u001b[0m\n",
      "\u001b[0m\n"
     ]
    },
    {
     "name": "stdin",
     "output_type": "stream",
     "text": [
      "ipdb>  n\n"
     ]
    },
    {
     "name": "stdout",
     "output_type": "stream",
     "text": [
      "None\n",
      "> \u001b[0;32m/var/folders/zw/mqwlds_s7ml5_fvqptkb174h0000gn/T/ipykernel_62714/1059256208.py\u001b[0m(6)\u001b[0;36m<module>\u001b[0;34m()\u001b[0m\n",
      "\u001b[0;32m      5 \u001b[0;31m    \u001b[0mcategory_table_data\u001b[0m \u001b[0;34m=\u001b[0m \u001b[0meach_category\u001b[0m\u001b[0;34m.\u001b[0m\u001b[0mparent\u001b[0m\u001b[0;34m.\u001b[0m\u001b[0mparent\u001b[0m\u001b[0;34m.\u001b[0m\u001b[0mfind\u001b[0m\u001b[0;34m(\u001b[0m\u001b[0;34m'table'\u001b[0m\u001b[0;34m)\u001b[0m\u001b[0;34m\u001b[0m\u001b[0;34m\u001b[0m\u001b[0m\n",
      "\u001b[0m\u001b[0;32m----> 6 \u001b[0;31m    \u001b[0mtable_rows\u001b[0m \u001b[0;34m=\u001b[0m \u001b[0mcategory_table_data\u001b[0m\u001b[0;34m.\u001b[0m\u001b[0mfind_all\u001b[0m\u001b[0;34m(\u001b[0m\u001b[0;34m'tr'\u001b[0m\u001b[0;34m)\u001b[0m\u001b[0;34m\u001b[0m\u001b[0;34m\u001b[0m\u001b[0m\n",
      "\u001b[0m\u001b[0;32m      7 \u001b[0;31m    \u001b[0;32mfor\u001b[0m \u001b[0meach_table_row\u001b[0m \u001b[0;32min\u001b[0m \u001b[0mtable_rows\u001b[0m\u001b[0;34m:\u001b[0m\u001b[0;34m\u001b[0m\u001b[0;34m\u001b[0m\u001b[0m\n",
      "\u001b[0m\n"
     ]
    },
    {
     "name": "stdin",
     "output_type": "stream",
     "text": [
      "ipdb>  \n"
     ]
    },
    {
     "name": "stdout",
     "output_type": "stream",
     "text": [
      "None\n",
      "> \u001b[0;32m/var/folders/zw/mqwlds_s7ml5_fvqptkb174h0000gn/T/ipykernel_62714/1059256208.py\u001b[0m(7)\u001b[0;36m<module>\u001b[0;34m()\u001b[0m\n",
      "\u001b[0;32m      6 \u001b[0;31m    \u001b[0mtable_rows\u001b[0m \u001b[0;34m=\u001b[0m \u001b[0mcategory_table_data\u001b[0m\u001b[0;34m.\u001b[0m\u001b[0mfind_all\u001b[0m\u001b[0;34m(\u001b[0m\u001b[0;34m'tr'\u001b[0m\u001b[0;34m)\u001b[0m\u001b[0;34m\u001b[0m\u001b[0;34m\u001b[0m\u001b[0m\n",
      "\u001b[0m\u001b[0;32m----> 7 \u001b[0;31m    \u001b[0;32mfor\u001b[0m \u001b[0meach_table_row\u001b[0m \u001b[0;32min\u001b[0m \u001b[0mtable_rows\u001b[0m\u001b[0;34m:\u001b[0m\u001b[0;34m\u001b[0m\u001b[0;34m\u001b[0m\u001b[0m\n",
      "\u001b[0m\u001b[0;32m      8 \u001b[0;31m        \u001b[0mtable_data\u001b[0m \u001b[0;34m=\u001b[0m \u001b[0meach_table_row\u001b[0m\u001b[0;34m.\u001b[0m\u001b[0mfind_all\u001b[0m\u001b[0;34m(\u001b[0m\u001b[0;34m'td'\u001b[0m\u001b[0;34m)\u001b[0m\u001b[0;34m\u001b[0m\u001b[0;34m\u001b[0m\u001b[0m\n",
      "\u001b[0m\n"
     ]
    },
    {
     "name": "stdin",
     "output_type": "stream",
     "text": [
      "ipdb>  \n"
     ]
    },
    {
     "name": "stdout",
     "output_type": "stream",
     "text": [
      "None\n",
      "> \u001b[0;32m/var/folders/zw/mqwlds_s7ml5_fvqptkb174h0000gn/T/ipykernel_62714/1059256208.py\u001b[0m(8)\u001b[0;36m<module>\u001b[0;34m()\u001b[0m\n",
      "\u001b[0;32m      7 \u001b[0;31m    \u001b[0;32mfor\u001b[0m \u001b[0meach_table_row\u001b[0m \u001b[0;32min\u001b[0m \u001b[0mtable_rows\u001b[0m\u001b[0;34m:\u001b[0m\u001b[0;34m\u001b[0m\u001b[0;34m\u001b[0m\u001b[0m\n",
      "\u001b[0m\u001b[0;32m----> 8 \u001b[0;31m        \u001b[0mtable_data\u001b[0m \u001b[0;34m=\u001b[0m \u001b[0meach_table_row\u001b[0m\u001b[0;34m.\u001b[0m\u001b[0mfind_all\u001b[0m\u001b[0;34m(\u001b[0m\u001b[0;34m'td'\u001b[0m\u001b[0;34m)\u001b[0m\u001b[0;34m\u001b[0m\u001b[0;34m\u001b[0m\u001b[0m\n",
      "\u001b[0m\u001b[0;32m      9 \u001b[0;31m        \u001b[0;32mif\u001b[0m \u001b[0mlen\u001b[0m\u001b[0;34m(\u001b[0m\u001b[0mtable_data\u001b[0m\u001b[0;34m)\u001b[0m \u001b[0;34m>\u001b[0m \u001b[0;36m1\u001b[0m\u001b[0;34m:\u001b[0m\u001b[0;34m\u001b[0m\u001b[0;34m\u001b[0m\u001b[0m\n",
      "\u001b[0m\n"
     ]
    },
    {
     "name": "stdin",
     "output_type": "stream",
     "text": [
      "ipdb>  \n"
     ]
    },
    {
     "name": "stdout",
     "output_type": "stream",
     "text": [
      "None\n",
      "> \u001b[0;32m/var/folders/zw/mqwlds_s7ml5_fvqptkb174h0000gn/T/ipykernel_62714/1059256208.py\u001b[0m(9)\u001b[0;36m<module>\u001b[0;34m()\u001b[0m\n",
      "\u001b[0;32m      8 \u001b[0;31m        \u001b[0mtable_data\u001b[0m \u001b[0;34m=\u001b[0m \u001b[0meach_table_row\u001b[0m\u001b[0;34m.\u001b[0m\u001b[0mfind_all\u001b[0m\u001b[0;34m(\u001b[0m\u001b[0;34m'td'\u001b[0m\u001b[0;34m)\u001b[0m\u001b[0;34m\u001b[0m\u001b[0;34m\u001b[0m\u001b[0m\n",
      "\u001b[0m\u001b[0;32m----> 9 \u001b[0;31m        \u001b[0;32mif\u001b[0m \u001b[0mlen\u001b[0m\u001b[0;34m(\u001b[0m\u001b[0mtable_data\u001b[0m\u001b[0;34m)\u001b[0m \u001b[0;34m>\u001b[0m \u001b[0;36m1\u001b[0m\u001b[0;34m:\u001b[0m\u001b[0;34m\u001b[0m\u001b[0;34m\u001b[0m\u001b[0m\n",
      "\u001b[0m\u001b[0;32m     10 \u001b[0;31m            \u001b[0mkey\u001b[0m \u001b[0;34m=\u001b[0m \u001b[0meach_table_row\u001b[0m\u001b[0;34m.\u001b[0m\u001b[0mfind_all\u001b[0m\u001b[0;34m(\u001b[0m\u001b[0;34m'td'\u001b[0m\u001b[0;34m)\u001b[0m\u001b[0;34m[\u001b[0m\u001b[0;36m0\u001b[0m\u001b[0;34m]\u001b[0m\u001b[0;34m.\u001b[0m\u001b[0mtext\u001b[0m\u001b[0;34m\u001b[0m\u001b[0;34m\u001b[0m\u001b[0m\n",
      "\u001b[0m\n"
     ]
    },
    {
     "name": "stdin",
     "output_type": "stream",
     "text": [
      "ipdb>  \n"
     ]
    },
    {
     "name": "stdout",
     "output_type": "stream",
     "text": [
      "None\n",
      "> \u001b[0;32m/var/folders/zw/mqwlds_s7ml5_fvqptkb174h0000gn/T/ipykernel_62714/1059256208.py\u001b[0m(10)\u001b[0;36m<module>\u001b[0;34m()\u001b[0m\n",
      "\u001b[0;32m      9 \u001b[0;31m        \u001b[0;32mif\u001b[0m \u001b[0mlen\u001b[0m\u001b[0;34m(\u001b[0m\u001b[0mtable_data\u001b[0m\u001b[0;34m)\u001b[0m \u001b[0;34m>\u001b[0m \u001b[0;36m1\u001b[0m\u001b[0;34m:\u001b[0m\u001b[0;34m\u001b[0m\u001b[0;34m\u001b[0m\u001b[0m\n",
      "\u001b[0m\u001b[0;32m---> 10 \u001b[0;31m            \u001b[0mkey\u001b[0m \u001b[0;34m=\u001b[0m \u001b[0meach_table_row\u001b[0m\u001b[0;34m.\u001b[0m\u001b[0mfind_all\u001b[0m\u001b[0;34m(\u001b[0m\u001b[0;34m'td'\u001b[0m\u001b[0;34m)\u001b[0m\u001b[0;34m[\u001b[0m\u001b[0;36m0\u001b[0m\u001b[0;34m]\u001b[0m\u001b[0;34m.\u001b[0m\u001b[0mtext\u001b[0m\u001b[0;34m\u001b[0m\u001b[0;34m\u001b[0m\u001b[0m\n",
      "\u001b[0m\u001b[0;32m     11 \u001b[0;31m            \u001b[0mvalue\u001b[0m \u001b[0;34m=\u001b[0m \u001b[0meach_table_row\u001b[0m\u001b[0;34m.\u001b[0m\u001b[0mfind_all\u001b[0m\u001b[0;34m(\u001b[0m\u001b[0;34m'td'\u001b[0m\u001b[0;34m)\u001b[0m\u001b[0;34m[\u001b[0m\u001b[0;36m1\u001b[0m\u001b[0;34m]\u001b[0m\u001b[0;34m.\u001b[0m\u001b[0mtext\u001b[0m\u001b[0;34m\u001b[0m\u001b[0;34m\u001b[0m\u001b[0m\n",
      "\u001b[0m\n"
     ]
    },
    {
     "name": "stdin",
     "output_type": "stream",
     "text": [
      "ipdb>  \n"
     ]
    },
    {
     "name": "stdout",
     "output_type": "stream",
     "text": [
      "None\n",
      "> \u001b[0;32m/var/folders/zw/mqwlds_s7ml5_fvqptkb174h0000gn/T/ipykernel_62714/1059256208.py\u001b[0m(11)\u001b[0;36m<module>\u001b[0;34m()\u001b[0m\n",
      "\u001b[0;32m     10 \u001b[0;31m            \u001b[0mkey\u001b[0m \u001b[0;34m=\u001b[0m \u001b[0meach_table_row\u001b[0m\u001b[0;34m.\u001b[0m\u001b[0mfind_all\u001b[0m\u001b[0;34m(\u001b[0m\u001b[0;34m'td'\u001b[0m\u001b[0;34m)\u001b[0m\u001b[0;34m[\u001b[0m\u001b[0;36m0\u001b[0m\u001b[0;34m]\u001b[0m\u001b[0;34m.\u001b[0m\u001b[0mtext\u001b[0m\u001b[0;34m\u001b[0m\u001b[0;34m\u001b[0m\u001b[0m\n",
      "\u001b[0m\u001b[0;32m---> 11 \u001b[0;31m            \u001b[0mvalue\u001b[0m \u001b[0;34m=\u001b[0m \u001b[0meach_table_row\u001b[0m\u001b[0;34m.\u001b[0m\u001b[0mfind_all\u001b[0m\u001b[0;34m(\u001b[0m\u001b[0;34m'td'\u001b[0m\u001b[0;34m)\u001b[0m\u001b[0;34m[\u001b[0m\u001b[0;36m1\u001b[0m\u001b[0;34m]\u001b[0m\u001b[0;34m.\u001b[0m\u001b[0mtext\u001b[0m\u001b[0;34m\u001b[0m\u001b[0;34m\u001b[0m\u001b[0m\n",
      "\u001b[0m\u001b[0;32m     12 \u001b[0;31m            \u001b[0mmobile_specifications\u001b[0m\u001b[0;34m[\u001b[0m\u001b[0mmobile_name\u001b[0m\u001b[0;34m]\u001b[0m\u001b[0;34m[\u001b[0m\u001b[0mcategory_name\u001b[0m\u001b[0;34m]\u001b[0m\u001b[0;34m.\u001b[0m\u001b[0mupdate\u001b[0m\u001b[0;34m(\u001b[0m\u001b[0;34m{\u001b[0m \u001b[0mkey\u001b[0m\u001b[0;34m:\u001b[0m \u001b[0mvalue\u001b[0m\u001b[0;34m}\u001b[0m\u001b[0;34m)\u001b[0m\u001b[0;34m\u001b[0m\u001b[0;34m\u001b[0m\u001b[0m\n",
      "\u001b[0m\n"
     ]
    },
    {
     "name": "stdin",
     "output_type": "stream",
     "text": [
      "ipdb>  \n"
     ]
    },
    {
     "name": "stdout",
     "output_type": "stream",
     "text": [
      "None\n",
      "> \u001b[0;32m/var/folders/zw/mqwlds_s7ml5_fvqptkb174h0000gn/T/ipykernel_62714/1059256208.py\u001b[0m(12)\u001b[0;36m<module>\u001b[0;34m()\u001b[0m\n",
      "\u001b[0;32m     10 \u001b[0;31m            \u001b[0mkey\u001b[0m \u001b[0;34m=\u001b[0m \u001b[0meach_table_row\u001b[0m\u001b[0;34m.\u001b[0m\u001b[0mfind_all\u001b[0m\u001b[0;34m(\u001b[0m\u001b[0;34m'td'\u001b[0m\u001b[0;34m)\u001b[0m\u001b[0;34m[\u001b[0m\u001b[0;36m0\u001b[0m\u001b[0;34m]\u001b[0m\u001b[0;34m.\u001b[0m\u001b[0mtext\u001b[0m\u001b[0;34m\u001b[0m\u001b[0;34m\u001b[0m\u001b[0m\n",
      "\u001b[0m\u001b[0;32m     11 \u001b[0;31m            \u001b[0mvalue\u001b[0m \u001b[0;34m=\u001b[0m \u001b[0meach_table_row\u001b[0m\u001b[0;34m.\u001b[0m\u001b[0mfind_all\u001b[0m\u001b[0;34m(\u001b[0m\u001b[0;34m'td'\u001b[0m\u001b[0;34m)\u001b[0m\u001b[0;34m[\u001b[0m\u001b[0;36m1\u001b[0m\u001b[0;34m]\u001b[0m\u001b[0;34m.\u001b[0m\u001b[0mtext\u001b[0m\u001b[0;34m\u001b[0m\u001b[0;34m\u001b[0m\u001b[0m\n",
      "\u001b[0m\u001b[0;32m---> 12 \u001b[0;31m            \u001b[0mmobile_specifications\u001b[0m\u001b[0;34m[\u001b[0m\u001b[0mmobile_name\u001b[0m\u001b[0;34m]\u001b[0m\u001b[0;34m[\u001b[0m\u001b[0mcategory_name\u001b[0m\u001b[0;34m]\u001b[0m\u001b[0;34m.\u001b[0m\u001b[0mupdate\u001b[0m\u001b[0;34m(\u001b[0m\u001b[0;34m{\u001b[0m \u001b[0mkey\u001b[0m\u001b[0;34m:\u001b[0m \u001b[0mvalue\u001b[0m\u001b[0;34m}\u001b[0m\u001b[0;34m)\u001b[0m\u001b[0;34m\u001b[0m\u001b[0;34m\u001b[0m\u001b[0m\n",
      "\u001b[0m\n"
     ]
    },
    {
     "name": "stdin",
     "output_type": "stream",
     "text": [
      "ipdb>  \n"
     ]
    },
    {
     "name": "stdout",
     "output_type": "stream",
     "text": [
      "None\n",
      "> \u001b[0;32m/var/folders/zw/mqwlds_s7ml5_fvqptkb174h0000gn/T/ipykernel_62714/1059256208.py\u001b[0m(7)\u001b[0;36m<module>\u001b[0;34m()\u001b[0m\n",
      "\u001b[0;32m      6 \u001b[0;31m    \u001b[0mtable_rows\u001b[0m \u001b[0;34m=\u001b[0m \u001b[0mcategory_table_data\u001b[0m\u001b[0;34m.\u001b[0m\u001b[0mfind_all\u001b[0m\u001b[0;34m(\u001b[0m\u001b[0;34m'tr'\u001b[0m\u001b[0;34m)\u001b[0m\u001b[0;34m\u001b[0m\u001b[0;34m\u001b[0m\u001b[0m\n",
      "\u001b[0m\u001b[0;32m----> 7 \u001b[0;31m    \u001b[0;32mfor\u001b[0m \u001b[0meach_table_row\u001b[0m \u001b[0;32min\u001b[0m \u001b[0mtable_rows\u001b[0m\u001b[0;34m:\u001b[0m\u001b[0;34m\u001b[0m\u001b[0;34m\u001b[0m\u001b[0m\n",
      "\u001b[0m\u001b[0;32m      8 \u001b[0;31m        \u001b[0mtable_data\u001b[0m \u001b[0;34m=\u001b[0m \u001b[0meach_table_row\u001b[0m\u001b[0;34m.\u001b[0m\u001b[0mfind_all\u001b[0m\u001b[0;34m(\u001b[0m\u001b[0;34m'td'\u001b[0m\u001b[0;34m)\u001b[0m\u001b[0;34m\u001b[0m\u001b[0;34m\u001b[0m\u001b[0m\n",
      "\u001b[0m\n"
     ]
    },
    {
     "name": "stdin",
     "output_type": "stream",
     "text": [
      "ipdb>  n\n"
     ]
    },
    {
     "name": "stdout",
     "output_type": "stream",
     "text": [
      "None\n",
      "> \u001b[0;32m/var/folders/zw/mqwlds_s7ml5_fvqptkb174h0000gn/T/ipykernel_62714/1059256208.py\u001b[0m(8)\u001b[0;36m<module>\u001b[0;34m()\u001b[0m\n",
      "\u001b[0;32m      7 \u001b[0;31m    \u001b[0;32mfor\u001b[0m \u001b[0meach_table_row\u001b[0m \u001b[0;32min\u001b[0m \u001b[0mtable_rows\u001b[0m\u001b[0;34m:\u001b[0m\u001b[0;34m\u001b[0m\u001b[0;34m\u001b[0m\u001b[0m\n",
      "\u001b[0m\u001b[0;32m----> 8 \u001b[0;31m        \u001b[0mtable_data\u001b[0m \u001b[0;34m=\u001b[0m \u001b[0meach_table_row\u001b[0m\u001b[0;34m.\u001b[0m\u001b[0mfind_all\u001b[0m\u001b[0;34m(\u001b[0m\u001b[0;34m'td'\u001b[0m\u001b[0;34m)\u001b[0m\u001b[0;34m\u001b[0m\u001b[0;34m\u001b[0m\u001b[0m\n",
      "\u001b[0m\u001b[0;32m      9 \u001b[0;31m        \u001b[0;32mif\u001b[0m \u001b[0mlen\u001b[0m\u001b[0;34m(\u001b[0m\u001b[0mtable_data\u001b[0m\u001b[0;34m)\u001b[0m \u001b[0;34m>\u001b[0m \u001b[0;36m1\u001b[0m\u001b[0;34m:\u001b[0m\u001b[0;34m\u001b[0m\u001b[0;34m\u001b[0m\u001b[0m\n",
      "\u001b[0m\n"
     ]
    },
    {
     "name": "stdin",
     "output_type": "stream",
     "text": [
      "ipdb>  each_table_row\n"
     ]
    },
    {
     "name": "stdout",
     "output_type": "stream",
     "text": [
      "<tr>\n",
      "<td>Wi-Fi standards supported</td>\n",
      "<td>802.11 b/g/n</td>\n",
      "</tr>\n"
     ]
    },
    {
     "name": "stdin",
     "output_type": "stream",
     "text": [
      "ipdb>  n\n"
     ]
    },
    {
     "name": "stdout",
     "output_type": "stream",
     "text": [
      "None\n",
      "> \u001b[0;32m/var/folders/zw/mqwlds_s7ml5_fvqptkb174h0000gn/T/ipykernel_62714/1059256208.py\u001b[0m(9)\u001b[0;36m<module>\u001b[0;34m()\u001b[0m\n",
      "\u001b[0;32m      8 \u001b[0;31m        \u001b[0mtable_data\u001b[0m \u001b[0;34m=\u001b[0m \u001b[0meach_table_row\u001b[0m\u001b[0;34m.\u001b[0m\u001b[0mfind_all\u001b[0m\u001b[0;34m(\u001b[0m\u001b[0;34m'td'\u001b[0m\u001b[0;34m)\u001b[0m\u001b[0;34m\u001b[0m\u001b[0;34m\u001b[0m\u001b[0m\n",
      "\u001b[0m\u001b[0;32m----> 9 \u001b[0;31m        \u001b[0;32mif\u001b[0m \u001b[0mlen\u001b[0m\u001b[0;34m(\u001b[0m\u001b[0mtable_data\u001b[0m\u001b[0;34m)\u001b[0m \u001b[0;34m>\u001b[0m \u001b[0;36m1\u001b[0m\u001b[0;34m:\u001b[0m\u001b[0;34m\u001b[0m\u001b[0;34m\u001b[0m\u001b[0m\n",
      "\u001b[0m\u001b[0;32m     10 \u001b[0;31m            \u001b[0mkey\u001b[0m \u001b[0;34m=\u001b[0m \u001b[0meach_table_row\u001b[0m\u001b[0;34m.\u001b[0m\u001b[0mfind_all\u001b[0m\u001b[0;34m(\u001b[0m\u001b[0;34m'td'\u001b[0m\u001b[0;34m)\u001b[0m\u001b[0;34m[\u001b[0m\u001b[0;36m0\u001b[0m\u001b[0;34m]\u001b[0m\u001b[0;34m.\u001b[0m\u001b[0mtext\u001b[0m\u001b[0;34m\u001b[0m\u001b[0;34m\u001b[0m\u001b[0m\n",
      "\u001b[0m\n"
     ]
    },
    {
     "name": "stdin",
     "output_type": "stream",
     "text": [
      "ipdb>  \n"
     ]
    },
    {
     "name": "stdout",
     "output_type": "stream",
     "text": [
      "None\n",
      "> \u001b[0;32m/var/folders/zw/mqwlds_s7ml5_fvqptkb174h0000gn/T/ipykernel_62714/1059256208.py\u001b[0m(10)\u001b[0;36m<module>\u001b[0;34m()\u001b[0m\n",
      "\u001b[0;32m      9 \u001b[0;31m        \u001b[0;32mif\u001b[0m \u001b[0mlen\u001b[0m\u001b[0;34m(\u001b[0m\u001b[0mtable_data\u001b[0m\u001b[0;34m)\u001b[0m \u001b[0;34m>\u001b[0m \u001b[0;36m1\u001b[0m\u001b[0;34m:\u001b[0m\u001b[0;34m\u001b[0m\u001b[0;34m\u001b[0m\u001b[0m\n",
      "\u001b[0m\u001b[0;32m---> 10 \u001b[0;31m            \u001b[0mkey\u001b[0m \u001b[0;34m=\u001b[0m \u001b[0meach_table_row\u001b[0m\u001b[0;34m.\u001b[0m\u001b[0mfind_all\u001b[0m\u001b[0;34m(\u001b[0m\u001b[0;34m'td'\u001b[0m\u001b[0;34m)\u001b[0m\u001b[0;34m[\u001b[0m\u001b[0;36m0\u001b[0m\u001b[0;34m]\u001b[0m\u001b[0;34m.\u001b[0m\u001b[0mtext\u001b[0m\u001b[0;34m\u001b[0m\u001b[0;34m\u001b[0m\u001b[0m\n",
      "\u001b[0m\u001b[0;32m     11 \u001b[0;31m            \u001b[0mvalue\u001b[0m \u001b[0;34m=\u001b[0m \u001b[0meach_table_row\u001b[0m\u001b[0;34m.\u001b[0m\u001b[0mfind_all\u001b[0m\u001b[0;34m(\u001b[0m\u001b[0;34m'td'\u001b[0m\u001b[0;34m)\u001b[0m\u001b[0;34m[\u001b[0m\u001b[0;36m1\u001b[0m\u001b[0;34m]\u001b[0m\u001b[0;34m.\u001b[0m\u001b[0mtext\u001b[0m\u001b[0;34m\u001b[0m\u001b[0;34m\u001b[0m\u001b[0m\n",
      "\u001b[0m\n"
     ]
    },
    {
     "name": "stdin",
     "output_type": "stream",
     "text": [
      "ipdb>  \n"
     ]
    },
    {
     "name": "stdout",
     "output_type": "stream",
     "text": [
      "None\n",
      "> \u001b[0;32m/var/folders/zw/mqwlds_s7ml5_fvqptkb174h0000gn/T/ipykernel_62714/1059256208.py\u001b[0m(11)\u001b[0;36m<module>\u001b[0;34m()\u001b[0m\n",
      "\u001b[0;32m     10 \u001b[0;31m            \u001b[0mkey\u001b[0m \u001b[0;34m=\u001b[0m \u001b[0meach_table_row\u001b[0m\u001b[0;34m.\u001b[0m\u001b[0mfind_all\u001b[0m\u001b[0;34m(\u001b[0m\u001b[0;34m'td'\u001b[0m\u001b[0;34m)\u001b[0m\u001b[0;34m[\u001b[0m\u001b[0;36m0\u001b[0m\u001b[0;34m]\u001b[0m\u001b[0;34m.\u001b[0m\u001b[0mtext\u001b[0m\u001b[0;34m\u001b[0m\u001b[0;34m\u001b[0m\u001b[0m\n",
      "\u001b[0m\u001b[0;32m---> 11 \u001b[0;31m            \u001b[0mvalue\u001b[0m \u001b[0;34m=\u001b[0m \u001b[0meach_table_row\u001b[0m\u001b[0;34m.\u001b[0m\u001b[0mfind_all\u001b[0m\u001b[0;34m(\u001b[0m\u001b[0;34m'td'\u001b[0m\u001b[0;34m)\u001b[0m\u001b[0;34m[\u001b[0m\u001b[0;36m1\u001b[0m\u001b[0;34m]\u001b[0m\u001b[0;34m.\u001b[0m\u001b[0mtext\u001b[0m\u001b[0;34m\u001b[0m\u001b[0;34m\u001b[0m\u001b[0m\n",
      "\u001b[0m\u001b[0;32m     12 \u001b[0;31m            \u001b[0mmobile_specifications\u001b[0m\u001b[0;34m[\u001b[0m\u001b[0mmobile_name\u001b[0m\u001b[0;34m]\u001b[0m\u001b[0;34m[\u001b[0m\u001b[0mcategory_name\u001b[0m\u001b[0;34m]\u001b[0m\u001b[0;34m.\u001b[0m\u001b[0mupdate\u001b[0m\u001b[0;34m(\u001b[0m\u001b[0;34m{\u001b[0m \u001b[0mkey\u001b[0m\u001b[0;34m:\u001b[0m \u001b[0mvalue\u001b[0m\u001b[0;34m}\u001b[0m\u001b[0;34m)\u001b[0m\u001b[0;34m\u001b[0m\u001b[0;34m\u001b[0m\u001b[0m\n",
      "\u001b[0m\n"
     ]
    },
    {
     "name": "stdin",
     "output_type": "stream",
     "text": [
      "ipdb>  \n"
     ]
    },
    {
     "name": "stdout",
     "output_type": "stream",
     "text": [
      "None\n",
      "> \u001b[0;32m/var/folders/zw/mqwlds_s7ml5_fvqptkb174h0000gn/T/ipykernel_62714/1059256208.py\u001b[0m(12)\u001b[0;36m<module>\u001b[0;34m()\u001b[0m\n",
      "\u001b[0;32m     10 \u001b[0;31m            \u001b[0mkey\u001b[0m \u001b[0;34m=\u001b[0m \u001b[0meach_table_row\u001b[0m\u001b[0;34m.\u001b[0m\u001b[0mfind_all\u001b[0m\u001b[0;34m(\u001b[0m\u001b[0;34m'td'\u001b[0m\u001b[0;34m)\u001b[0m\u001b[0;34m[\u001b[0m\u001b[0;36m0\u001b[0m\u001b[0;34m]\u001b[0m\u001b[0;34m.\u001b[0m\u001b[0mtext\u001b[0m\u001b[0;34m\u001b[0m\u001b[0;34m\u001b[0m\u001b[0m\n",
      "\u001b[0m\u001b[0;32m     11 \u001b[0;31m            \u001b[0mvalue\u001b[0m \u001b[0;34m=\u001b[0m \u001b[0meach_table_row\u001b[0m\u001b[0;34m.\u001b[0m\u001b[0mfind_all\u001b[0m\u001b[0;34m(\u001b[0m\u001b[0;34m'td'\u001b[0m\u001b[0;34m)\u001b[0m\u001b[0;34m[\u001b[0m\u001b[0;36m1\u001b[0m\u001b[0;34m]\u001b[0m\u001b[0;34m.\u001b[0m\u001b[0mtext\u001b[0m\u001b[0;34m\u001b[0m\u001b[0;34m\u001b[0m\u001b[0m\n",
      "\u001b[0m\u001b[0;32m---> 12 \u001b[0;31m            \u001b[0mmobile_specifications\u001b[0m\u001b[0;34m[\u001b[0m\u001b[0mmobile_name\u001b[0m\u001b[0;34m]\u001b[0m\u001b[0;34m[\u001b[0m\u001b[0mcategory_name\u001b[0m\u001b[0;34m]\u001b[0m\u001b[0;34m.\u001b[0m\u001b[0mupdate\u001b[0m\u001b[0;34m(\u001b[0m\u001b[0;34m{\u001b[0m \u001b[0mkey\u001b[0m\u001b[0;34m:\u001b[0m \u001b[0mvalue\u001b[0m\u001b[0;34m}\u001b[0m\u001b[0;34m)\u001b[0m\u001b[0;34m\u001b[0m\u001b[0;34m\u001b[0m\u001b[0m\n",
      "\u001b[0m\n"
     ]
    },
    {
     "name": "stdin",
     "output_type": "stream",
     "text": [
      "ipdb>  \n"
     ]
    },
    {
     "name": "stdout",
     "output_type": "stream",
     "text": [
      "None\n",
      "> \u001b[0;32m/var/folders/zw/mqwlds_s7ml5_fvqptkb174h0000gn/T/ipykernel_62714/1059256208.py\u001b[0m(7)\u001b[0;36m<module>\u001b[0;34m()\u001b[0m\n",
      "\u001b[0;32m      6 \u001b[0;31m    \u001b[0mtable_rows\u001b[0m \u001b[0;34m=\u001b[0m \u001b[0mcategory_table_data\u001b[0m\u001b[0;34m.\u001b[0m\u001b[0mfind_all\u001b[0m\u001b[0;34m(\u001b[0m\u001b[0;34m'tr'\u001b[0m\u001b[0;34m)\u001b[0m\u001b[0;34m\u001b[0m\u001b[0;34m\u001b[0m\u001b[0m\n",
      "\u001b[0m\u001b[0;32m----> 7 \u001b[0;31m    \u001b[0;32mfor\u001b[0m \u001b[0meach_table_row\u001b[0m \u001b[0;32min\u001b[0m \u001b[0mtable_rows\u001b[0m\u001b[0;34m:\u001b[0m\u001b[0;34m\u001b[0m\u001b[0;34m\u001b[0m\u001b[0m\n",
      "\u001b[0m\u001b[0;32m      8 \u001b[0;31m        \u001b[0mtable_data\u001b[0m \u001b[0;34m=\u001b[0m \u001b[0meach_table_row\u001b[0m\u001b[0;34m.\u001b[0m\u001b[0mfind_all\u001b[0m\u001b[0;34m(\u001b[0m\u001b[0;34m'td'\u001b[0m\u001b[0;34m)\u001b[0m\u001b[0;34m\u001b[0m\u001b[0;34m\u001b[0m\u001b[0m\n",
      "\u001b[0m\n"
     ]
    },
    {
     "name": "stdin",
     "output_type": "stream",
     "text": [
      "ipdb>  \n"
     ]
    },
    {
     "name": "stdout",
     "output_type": "stream",
     "text": [
      "None\n",
      "> \u001b[0;32m/var/folders/zw/mqwlds_s7ml5_fvqptkb174h0000gn/T/ipykernel_62714/1059256208.py\u001b[0m(8)\u001b[0;36m<module>\u001b[0;34m()\u001b[0m\n",
      "\u001b[0;32m      7 \u001b[0;31m    \u001b[0;32mfor\u001b[0m \u001b[0meach_table_row\u001b[0m \u001b[0;32min\u001b[0m \u001b[0mtable_rows\u001b[0m\u001b[0;34m:\u001b[0m\u001b[0;34m\u001b[0m\u001b[0;34m\u001b[0m\u001b[0m\n",
      "\u001b[0m\u001b[0;32m----> 8 \u001b[0;31m        \u001b[0mtable_data\u001b[0m \u001b[0;34m=\u001b[0m \u001b[0meach_table_row\u001b[0m\u001b[0;34m.\u001b[0m\u001b[0mfind_all\u001b[0m\u001b[0;34m(\u001b[0m\u001b[0;34m'td'\u001b[0m\u001b[0;34m)\u001b[0m\u001b[0;34m\u001b[0m\u001b[0;34m\u001b[0m\u001b[0m\n",
      "\u001b[0m\u001b[0;32m      9 \u001b[0;31m        \u001b[0;32mif\u001b[0m \u001b[0mlen\u001b[0m\u001b[0;34m(\u001b[0m\u001b[0mtable_data\u001b[0m\u001b[0;34m)\u001b[0m \u001b[0;34m>\u001b[0m \u001b[0;36m1\u001b[0m\u001b[0;34m:\u001b[0m\u001b[0;34m\u001b[0m\u001b[0;34m\u001b[0m\u001b[0m\n",
      "\u001b[0m\n"
     ]
    },
    {
     "name": "stdin",
     "output_type": "stream",
     "text": [
      "ipdb>  \n"
     ]
    },
    {
     "name": "stdout",
     "output_type": "stream",
     "text": [
      "None\n",
      "> \u001b[0;32m/var/folders/zw/mqwlds_s7ml5_fvqptkb174h0000gn/T/ipykernel_62714/1059256208.py\u001b[0m(9)\u001b[0;36m<module>\u001b[0;34m()\u001b[0m\n",
      "\u001b[0;32m      8 \u001b[0;31m        \u001b[0mtable_data\u001b[0m \u001b[0;34m=\u001b[0m \u001b[0meach_table_row\u001b[0m\u001b[0;34m.\u001b[0m\u001b[0mfind_all\u001b[0m\u001b[0;34m(\u001b[0m\u001b[0;34m'td'\u001b[0m\u001b[0;34m)\u001b[0m\u001b[0;34m\u001b[0m\u001b[0;34m\u001b[0m\u001b[0m\n",
      "\u001b[0m\u001b[0;32m----> 9 \u001b[0;31m        \u001b[0;32mif\u001b[0m \u001b[0mlen\u001b[0m\u001b[0;34m(\u001b[0m\u001b[0mtable_data\u001b[0m\u001b[0;34m)\u001b[0m \u001b[0;34m>\u001b[0m \u001b[0;36m1\u001b[0m\u001b[0;34m:\u001b[0m\u001b[0;34m\u001b[0m\u001b[0;34m\u001b[0m\u001b[0m\n",
      "\u001b[0m\u001b[0;32m     10 \u001b[0;31m            \u001b[0mkey\u001b[0m \u001b[0;34m=\u001b[0m \u001b[0meach_table_row\u001b[0m\u001b[0;34m.\u001b[0m\u001b[0mfind_all\u001b[0m\u001b[0;34m(\u001b[0m\u001b[0;34m'td'\u001b[0m\u001b[0;34m)\u001b[0m\u001b[0;34m[\u001b[0m\u001b[0;36m0\u001b[0m\u001b[0;34m]\u001b[0m\u001b[0;34m.\u001b[0m\u001b[0mtext\u001b[0m\u001b[0;34m\u001b[0m\u001b[0;34m\u001b[0m\u001b[0m\n",
      "\u001b[0m\n"
     ]
    },
    {
     "name": "stdin",
     "output_type": "stream",
     "text": [
      "ipdb>  \n"
     ]
    },
    {
     "name": "stdout",
     "output_type": "stream",
     "text": [
      "None\n",
      "> \u001b[0;32m/var/folders/zw/mqwlds_s7ml5_fvqptkb174h0000gn/T/ipykernel_62714/1059256208.py\u001b[0m(10)\u001b[0;36m<module>\u001b[0;34m()\u001b[0m\n",
      "\u001b[0;32m      9 \u001b[0;31m        \u001b[0;32mif\u001b[0m \u001b[0mlen\u001b[0m\u001b[0;34m(\u001b[0m\u001b[0mtable_data\u001b[0m\u001b[0;34m)\u001b[0m \u001b[0;34m>\u001b[0m \u001b[0;36m1\u001b[0m\u001b[0;34m:\u001b[0m\u001b[0;34m\u001b[0m\u001b[0;34m\u001b[0m\u001b[0m\n",
      "\u001b[0m\u001b[0;32m---> 10 \u001b[0;31m            \u001b[0mkey\u001b[0m \u001b[0;34m=\u001b[0m \u001b[0meach_table_row\u001b[0m\u001b[0;34m.\u001b[0m\u001b[0mfind_all\u001b[0m\u001b[0;34m(\u001b[0m\u001b[0;34m'td'\u001b[0m\u001b[0;34m)\u001b[0m\u001b[0;34m[\u001b[0m\u001b[0;36m0\u001b[0m\u001b[0;34m]\u001b[0m\u001b[0;34m.\u001b[0m\u001b[0mtext\u001b[0m\u001b[0;34m\u001b[0m\u001b[0;34m\u001b[0m\u001b[0m\n",
      "\u001b[0m\u001b[0;32m     11 \u001b[0;31m            \u001b[0mvalue\u001b[0m \u001b[0;34m=\u001b[0m \u001b[0meach_table_row\u001b[0m\u001b[0;34m.\u001b[0m\u001b[0mfind_all\u001b[0m\u001b[0;34m(\u001b[0m\u001b[0;34m'td'\u001b[0m\u001b[0;34m)\u001b[0m\u001b[0;34m[\u001b[0m\u001b[0;36m1\u001b[0m\u001b[0;34m]\u001b[0m\u001b[0;34m.\u001b[0m\u001b[0mtext\u001b[0m\u001b[0;34m\u001b[0m\u001b[0;34m\u001b[0m\u001b[0m\n",
      "\u001b[0m\n"
     ]
    },
    {
     "name": "stdin",
     "output_type": "stream",
     "text": [
      "ipdb>  \n"
     ]
    },
    {
     "name": "stdout",
     "output_type": "stream",
     "text": [
      "None\n",
      "> \u001b[0;32m/var/folders/zw/mqwlds_s7ml5_fvqptkb174h0000gn/T/ipykernel_62714/1059256208.py\u001b[0m(11)\u001b[0;36m<module>\u001b[0;34m()\u001b[0m\n",
      "\u001b[0;32m     10 \u001b[0;31m            \u001b[0mkey\u001b[0m \u001b[0;34m=\u001b[0m \u001b[0meach_table_row\u001b[0m\u001b[0;34m.\u001b[0m\u001b[0mfind_all\u001b[0m\u001b[0;34m(\u001b[0m\u001b[0;34m'td'\u001b[0m\u001b[0;34m)\u001b[0m\u001b[0;34m[\u001b[0m\u001b[0;36m0\u001b[0m\u001b[0;34m]\u001b[0m\u001b[0;34m.\u001b[0m\u001b[0mtext\u001b[0m\u001b[0;34m\u001b[0m\u001b[0;34m\u001b[0m\u001b[0m\n",
      "\u001b[0m\u001b[0;32m---> 11 \u001b[0;31m            \u001b[0mvalue\u001b[0m \u001b[0;34m=\u001b[0m \u001b[0meach_table_row\u001b[0m\u001b[0;34m.\u001b[0m\u001b[0mfind_all\u001b[0m\u001b[0;34m(\u001b[0m\u001b[0;34m'td'\u001b[0m\u001b[0;34m)\u001b[0m\u001b[0;34m[\u001b[0m\u001b[0;36m1\u001b[0m\u001b[0;34m]\u001b[0m\u001b[0;34m.\u001b[0m\u001b[0mtext\u001b[0m\u001b[0;34m\u001b[0m\u001b[0;34m\u001b[0m\u001b[0m\n",
      "\u001b[0m\u001b[0;32m     12 \u001b[0;31m            \u001b[0mmobile_specifications\u001b[0m\u001b[0;34m[\u001b[0m\u001b[0mmobile_name\u001b[0m\u001b[0;34m]\u001b[0m\u001b[0;34m[\u001b[0m\u001b[0mcategory_name\u001b[0m\u001b[0;34m]\u001b[0m\u001b[0;34m.\u001b[0m\u001b[0mupdate\u001b[0m\u001b[0;34m(\u001b[0m\u001b[0;34m{\u001b[0m \u001b[0mkey\u001b[0m\u001b[0;34m:\u001b[0m \u001b[0mvalue\u001b[0m\u001b[0;34m}\u001b[0m\u001b[0;34m)\u001b[0m\u001b[0;34m\u001b[0m\u001b[0;34m\u001b[0m\u001b[0m\n",
      "\u001b[0m\n"
     ]
    },
    {
     "name": "stdin",
     "output_type": "stream",
     "text": [
      "ipdb>  \n"
     ]
    },
    {
     "name": "stdout",
     "output_type": "stream",
     "text": [
      "None\n",
      "> \u001b[0;32m/var/folders/zw/mqwlds_s7ml5_fvqptkb174h0000gn/T/ipykernel_62714/1059256208.py\u001b[0m(12)\u001b[0;36m<module>\u001b[0;34m()\u001b[0m\n",
      "\u001b[0;32m     10 \u001b[0;31m            \u001b[0mkey\u001b[0m \u001b[0;34m=\u001b[0m \u001b[0meach_table_row\u001b[0m\u001b[0;34m.\u001b[0m\u001b[0mfind_all\u001b[0m\u001b[0;34m(\u001b[0m\u001b[0;34m'td'\u001b[0m\u001b[0;34m)\u001b[0m\u001b[0;34m[\u001b[0m\u001b[0;36m0\u001b[0m\u001b[0;34m]\u001b[0m\u001b[0;34m.\u001b[0m\u001b[0mtext\u001b[0m\u001b[0;34m\u001b[0m\u001b[0;34m\u001b[0m\u001b[0m\n",
      "\u001b[0m\u001b[0;32m     11 \u001b[0;31m            \u001b[0mvalue\u001b[0m \u001b[0;34m=\u001b[0m \u001b[0meach_table_row\u001b[0m\u001b[0;34m.\u001b[0m\u001b[0mfind_all\u001b[0m\u001b[0;34m(\u001b[0m\u001b[0;34m'td'\u001b[0m\u001b[0;34m)\u001b[0m\u001b[0;34m[\u001b[0m\u001b[0;36m1\u001b[0m\u001b[0;34m]\u001b[0m\u001b[0;34m.\u001b[0m\u001b[0mtext\u001b[0m\u001b[0;34m\u001b[0m\u001b[0;34m\u001b[0m\u001b[0m\n",
      "\u001b[0m\u001b[0;32m---> 12 \u001b[0;31m            \u001b[0mmobile_specifications\u001b[0m\u001b[0;34m[\u001b[0m\u001b[0mmobile_name\u001b[0m\u001b[0;34m]\u001b[0m\u001b[0;34m[\u001b[0m\u001b[0mcategory_name\u001b[0m\u001b[0;34m]\u001b[0m\u001b[0;34m.\u001b[0m\u001b[0mupdate\u001b[0m\u001b[0;34m(\u001b[0m\u001b[0;34m{\u001b[0m \u001b[0mkey\u001b[0m\u001b[0;34m:\u001b[0m \u001b[0mvalue\u001b[0m\u001b[0;34m}\u001b[0m\u001b[0;34m)\u001b[0m\u001b[0;34m\u001b[0m\u001b[0;34m\u001b[0m\u001b[0m\n",
      "\u001b[0m\n"
     ]
    },
    {
     "name": "stdin",
     "output_type": "stream",
     "text": [
      "ipdb>  \n"
     ]
    },
    {
     "name": "stdout",
     "output_type": "stream",
     "text": [
      "None\n",
      "> \u001b[0;32m/var/folders/zw/mqwlds_s7ml5_fvqptkb174h0000gn/T/ipykernel_62714/1059256208.py\u001b[0m(7)\u001b[0;36m<module>\u001b[0;34m()\u001b[0m\n",
      "\u001b[0;32m      6 \u001b[0;31m    \u001b[0mtable_rows\u001b[0m \u001b[0;34m=\u001b[0m \u001b[0mcategory_table_data\u001b[0m\u001b[0;34m.\u001b[0m\u001b[0mfind_all\u001b[0m\u001b[0;34m(\u001b[0m\u001b[0;34m'tr'\u001b[0m\u001b[0;34m)\u001b[0m\u001b[0;34m\u001b[0m\u001b[0;34m\u001b[0m\u001b[0m\n",
      "\u001b[0m\u001b[0;32m----> 7 \u001b[0;31m    \u001b[0;32mfor\u001b[0m \u001b[0meach_table_row\u001b[0m \u001b[0;32min\u001b[0m \u001b[0mtable_rows\u001b[0m\u001b[0;34m:\u001b[0m\u001b[0;34m\u001b[0m\u001b[0;34m\u001b[0m\u001b[0m\n",
      "\u001b[0m\u001b[0;32m      8 \u001b[0;31m        \u001b[0mtable_data\u001b[0m \u001b[0;34m=\u001b[0m \u001b[0meach_table_row\u001b[0m\u001b[0;34m.\u001b[0m\u001b[0mfind_all\u001b[0m\u001b[0;34m(\u001b[0m\u001b[0;34m'td'\u001b[0m\u001b[0;34m)\u001b[0m\u001b[0;34m\u001b[0m\u001b[0;34m\u001b[0m\u001b[0m\n",
      "\u001b[0m\n"
     ]
    },
    {
     "name": "stdin",
     "output_type": "stream",
     "text": [
      "ipdb>  \n"
     ]
    },
    {
     "name": "stdout",
     "output_type": "stream",
     "text": [
      "None\n",
      "> \u001b[0;32m/var/folders/zw/mqwlds_s7ml5_fvqptkb174h0000gn/T/ipykernel_62714/1059256208.py\u001b[0m(8)\u001b[0;36m<module>\u001b[0;34m()\u001b[0m\n",
      "\u001b[0;32m      7 \u001b[0;31m    \u001b[0;32mfor\u001b[0m \u001b[0meach_table_row\u001b[0m \u001b[0;32min\u001b[0m \u001b[0mtable_rows\u001b[0m\u001b[0;34m:\u001b[0m\u001b[0;34m\u001b[0m\u001b[0;34m\u001b[0m\u001b[0m\n",
      "\u001b[0m\u001b[0;32m----> 8 \u001b[0;31m        \u001b[0mtable_data\u001b[0m \u001b[0;34m=\u001b[0m \u001b[0meach_table_row\u001b[0m\u001b[0;34m.\u001b[0m\u001b[0mfind_all\u001b[0m\u001b[0;34m(\u001b[0m\u001b[0;34m'td'\u001b[0m\u001b[0;34m)\u001b[0m\u001b[0;34m\u001b[0m\u001b[0;34m\u001b[0m\u001b[0m\n",
      "\u001b[0m\u001b[0;32m      9 \u001b[0;31m        \u001b[0;32mif\u001b[0m \u001b[0mlen\u001b[0m\u001b[0;34m(\u001b[0m\u001b[0mtable_data\u001b[0m\u001b[0;34m)\u001b[0m \u001b[0;34m>\u001b[0m \u001b[0;36m1\u001b[0m\u001b[0;34m:\u001b[0m\u001b[0;34m\u001b[0m\u001b[0;34m\u001b[0m\u001b[0m\n",
      "\u001b[0m\n"
     ]
    },
    {
     "name": "stdin",
     "output_type": "stream",
     "text": [
      "ipdb>  \n"
     ]
    },
    {
     "name": "stdout",
     "output_type": "stream",
     "text": [
      "None\n",
      "> \u001b[0;32m/var/folders/zw/mqwlds_s7ml5_fvqptkb174h0000gn/T/ipykernel_62714/1059256208.py\u001b[0m(9)\u001b[0;36m<module>\u001b[0;34m()\u001b[0m\n",
      "\u001b[0;32m      8 \u001b[0;31m        \u001b[0mtable_data\u001b[0m \u001b[0;34m=\u001b[0m \u001b[0meach_table_row\u001b[0m\u001b[0;34m.\u001b[0m\u001b[0mfind_all\u001b[0m\u001b[0;34m(\u001b[0m\u001b[0;34m'td'\u001b[0m\u001b[0;34m)\u001b[0m\u001b[0;34m\u001b[0m\u001b[0;34m\u001b[0m\u001b[0m\n",
      "\u001b[0m\u001b[0;32m----> 9 \u001b[0;31m        \u001b[0;32mif\u001b[0m \u001b[0mlen\u001b[0m\u001b[0;34m(\u001b[0m\u001b[0mtable_data\u001b[0m\u001b[0;34m)\u001b[0m \u001b[0;34m>\u001b[0m \u001b[0;36m1\u001b[0m\u001b[0;34m:\u001b[0m\u001b[0;34m\u001b[0m\u001b[0;34m\u001b[0m\u001b[0m\n",
      "\u001b[0m\u001b[0;32m     10 \u001b[0;31m            \u001b[0mkey\u001b[0m \u001b[0;34m=\u001b[0m \u001b[0meach_table_row\u001b[0m\u001b[0;34m.\u001b[0m\u001b[0mfind_all\u001b[0m\u001b[0;34m(\u001b[0m\u001b[0;34m'td'\u001b[0m\u001b[0;34m)\u001b[0m\u001b[0;34m[\u001b[0m\u001b[0;36m0\u001b[0m\u001b[0;34m]\u001b[0m\u001b[0;34m.\u001b[0m\u001b[0mtext\u001b[0m\u001b[0;34m\u001b[0m\u001b[0;34m\u001b[0m\u001b[0m\n",
      "\u001b[0m\n"
     ]
    },
    {
     "name": "stdin",
     "output_type": "stream",
     "text": [
      "ipdb>  \n"
     ]
    },
    {
     "name": "stdout",
     "output_type": "stream",
     "text": [
      "None\n",
      "> \u001b[0;32m/var/folders/zw/mqwlds_s7ml5_fvqptkb174h0000gn/T/ipykernel_62714/1059256208.py\u001b[0m(10)\u001b[0;36m<module>\u001b[0;34m()\u001b[0m\n",
      "\u001b[0;32m      9 \u001b[0;31m        \u001b[0;32mif\u001b[0m \u001b[0mlen\u001b[0m\u001b[0;34m(\u001b[0m\u001b[0mtable_data\u001b[0m\u001b[0;34m)\u001b[0m \u001b[0;34m>\u001b[0m \u001b[0;36m1\u001b[0m\u001b[0;34m:\u001b[0m\u001b[0;34m\u001b[0m\u001b[0;34m\u001b[0m\u001b[0m\n",
      "\u001b[0m\u001b[0;32m---> 10 \u001b[0;31m            \u001b[0mkey\u001b[0m \u001b[0;34m=\u001b[0m \u001b[0meach_table_row\u001b[0m\u001b[0;34m.\u001b[0m\u001b[0mfind_all\u001b[0m\u001b[0;34m(\u001b[0m\u001b[0;34m'td'\u001b[0m\u001b[0;34m)\u001b[0m\u001b[0;34m[\u001b[0m\u001b[0;36m0\u001b[0m\u001b[0;34m]\u001b[0m\u001b[0;34m.\u001b[0m\u001b[0mtext\u001b[0m\u001b[0;34m\u001b[0m\u001b[0;34m\u001b[0m\u001b[0m\n",
      "\u001b[0m\u001b[0;32m     11 \u001b[0;31m            \u001b[0mvalue\u001b[0m \u001b[0;34m=\u001b[0m \u001b[0meach_table_row\u001b[0m\u001b[0;34m.\u001b[0m\u001b[0mfind_all\u001b[0m\u001b[0;34m(\u001b[0m\u001b[0;34m'td'\u001b[0m\u001b[0;34m)\u001b[0m\u001b[0;34m[\u001b[0m\u001b[0;36m1\u001b[0m\u001b[0;34m]\u001b[0m\u001b[0;34m.\u001b[0m\u001b[0mtext\u001b[0m\u001b[0;34m\u001b[0m\u001b[0;34m\u001b[0m\u001b[0m\n",
      "\u001b[0m\n"
     ]
    },
    {
     "name": "stdin",
     "output_type": "stream",
     "text": [
      "ipdb>  \n"
     ]
    },
    {
     "name": "stdout",
     "output_type": "stream",
     "text": [
      "None\n",
      "> \u001b[0;32m/var/folders/zw/mqwlds_s7ml5_fvqptkb174h0000gn/T/ipykernel_62714/1059256208.py\u001b[0m(11)\u001b[0;36m<module>\u001b[0;34m()\u001b[0m\n",
      "\u001b[0;32m     10 \u001b[0;31m            \u001b[0mkey\u001b[0m \u001b[0;34m=\u001b[0m \u001b[0meach_table_row\u001b[0m\u001b[0;34m.\u001b[0m\u001b[0mfind_all\u001b[0m\u001b[0;34m(\u001b[0m\u001b[0;34m'td'\u001b[0m\u001b[0;34m)\u001b[0m\u001b[0;34m[\u001b[0m\u001b[0;36m0\u001b[0m\u001b[0;34m]\u001b[0m\u001b[0;34m.\u001b[0m\u001b[0mtext\u001b[0m\u001b[0;34m\u001b[0m\u001b[0;34m\u001b[0m\u001b[0m\n",
      "\u001b[0m\u001b[0;32m---> 11 \u001b[0;31m            \u001b[0mvalue\u001b[0m \u001b[0;34m=\u001b[0m \u001b[0meach_table_row\u001b[0m\u001b[0;34m.\u001b[0m\u001b[0mfind_all\u001b[0m\u001b[0;34m(\u001b[0m\u001b[0;34m'td'\u001b[0m\u001b[0;34m)\u001b[0m\u001b[0;34m[\u001b[0m\u001b[0;36m1\u001b[0m\u001b[0;34m]\u001b[0m\u001b[0;34m.\u001b[0m\u001b[0mtext\u001b[0m\u001b[0;34m\u001b[0m\u001b[0;34m\u001b[0m\u001b[0m\n",
      "\u001b[0m\u001b[0;32m     12 \u001b[0;31m            \u001b[0mmobile_specifications\u001b[0m\u001b[0;34m[\u001b[0m\u001b[0mmobile_name\u001b[0m\u001b[0;34m]\u001b[0m\u001b[0;34m[\u001b[0m\u001b[0mcategory_name\u001b[0m\u001b[0;34m]\u001b[0m\u001b[0;34m.\u001b[0m\u001b[0mupdate\u001b[0m\u001b[0;34m(\u001b[0m\u001b[0;34m{\u001b[0m \u001b[0mkey\u001b[0m\u001b[0;34m:\u001b[0m \u001b[0mvalue\u001b[0m\u001b[0;34m}\u001b[0m\u001b[0;34m)\u001b[0m\u001b[0;34m\u001b[0m\u001b[0;34m\u001b[0m\u001b[0m\n",
      "\u001b[0m\n"
     ]
    },
    {
     "name": "stdin",
     "output_type": "stream",
     "text": [
      "ipdb>  \n"
     ]
    },
    {
     "name": "stdout",
     "output_type": "stream",
     "text": [
      "None\n",
      "> \u001b[0;32m/var/folders/zw/mqwlds_s7ml5_fvqptkb174h0000gn/T/ipykernel_62714/1059256208.py\u001b[0m(12)\u001b[0;36m<module>\u001b[0;34m()\u001b[0m\n",
      "\u001b[0;32m     10 \u001b[0;31m            \u001b[0mkey\u001b[0m \u001b[0;34m=\u001b[0m \u001b[0meach_table_row\u001b[0m\u001b[0;34m.\u001b[0m\u001b[0mfind_all\u001b[0m\u001b[0;34m(\u001b[0m\u001b[0;34m'td'\u001b[0m\u001b[0;34m)\u001b[0m\u001b[0;34m[\u001b[0m\u001b[0;36m0\u001b[0m\u001b[0;34m]\u001b[0m\u001b[0;34m.\u001b[0m\u001b[0mtext\u001b[0m\u001b[0;34m\u001b[0m\u001b[0;34m\u001b[0m\u001b[0m\n",
      "\u001b[0m\u001b[0;32m     11 \u001b[0;31m            \u001b[0mvalue\u001b[0m \u001b[0;34m=\u001b[0m \u001b[0meach_table_row\u001b[0m\u001b[0;34m.\u001b[0m\u001b[0mfind_all\u001b[0m\u001b[0;34m(\u001b[0m\u001b[0;34m'td'\u001b[0m\u001b[0;34m)\u001b[0m\u001b[0;34m[\u001b[0m\u001b[0;36m1\u001b[0m\u001b[0;34m]\u001b[0m\u001b[0;34m.\u001b[0m\u001b[0mtext\u001b[0m\u001b[0;34m\u001b[0m\u001b[0;34m\u001b[0m\u001b[0m\n",
      "\u001b[0m\u001b[0;32m---> 12 \u001b[0;31m            \u001b[0mmobile_specifications\u001b[0m\u001b[0;34m[\u001b[0m\u001b[0mmobile_name\u001b[0m\u001b[0;34m]\u001b[0m\u001b[0;34m[\u001b[0m\u001b[0mcategory_name\u001b[0m\u001b[0;34m]\u001b[0m\u001b[0;34m.\u001b[0m\u001b[0mupdate\u001b[0m\u001b[0;34m(\u001b[0m\u001b[0;34m{\u001b[0m \u001b[0mkey\u001b[0m\u001b[0;34m:\u001b[0m \u001b[0mvalue\u001b[0m\u001b[0;34m}\u001b[0m\u001b[0;34m)\u001b[0m\u001b[0;34m\u001b[0m\u001b[0;34m\u001b[0m\u001b[0m\n",
      "\u001b[0m\n"
     ]
    },
    {
     "name": "stdin",
     "output_type": "stream",
     "text": [
      "ipdb>  \n"
     ]
    },
    {
     "name": "stdout",
     "output_type": "stream",
     "text": [
      "None\n",
      "> \u001b[0;32m/var/folders/zw/mqwlds_s7ml5_fvqptkb174h0000gn/T/ipykernel_62714/1059256208.py\u001b[0m(7)\u001b[0;36m<module>\u001b[0;34m()\u001b[0m\n",
      "\u001b[0;32m      6 \u001b[0;31m    \u001b[0mtable_rows\u001b[0m \u001b[0;34m=\u001b[0m \u001b[0mcategory_table_data\u001b[0m\u001b[0;34m.\u001b[0m\u001b[0mfind_all\u001b[0m\u001b[0;34m(\u001b[0m\u001b[0;34m'tr'\u001b[0m\u001b[0;34m)\u001b[0m\u001b[0;34m\u001b[0m\u001b[0;34m\u001b[0m\u001b[0m\n",
      "\u001b[0m\u001b[0;32m----> 7 \u001b[0;31m    \u001b[0;32mfor\u001b[0m \u001b[0meach_table_row\u001b[0m \u001b[0;32min\u001b[0m \u001b[0mtable_rows\u001b[0m\u001b[0;34m:\u001b[0m\u001b[0;34m\u001b[0m\u001b[0;34m\u001b[0m\u001b[0m\n",
      "\u001b[0m\u001b[0;32m      8 \u001b[0;31m        \u001b[0mtable_data\u001b[0m \u001b[0;34m=\u001b[0m \u001b[0meach_table_row\u001b[0m\u001b[0;34m.\u001b[0m\u001b[0mfind_all\u001b[0m\u001b[0;34m(\u001b[0m\u001b[0;34m'td'\u001b[0m\u001b[0;34m)\u001b[0m\u001b[0;34m\u001b[0m\u001b[0;34m\u001b[0m\u001b[0m\n",
      "\u001b[0m\n"
     ]
    },
    {
     "name": "stdin",
     "output_type": "stream",
     "text": [
      "ipdb>  \n"
     ]
    },
    {
     "name": "stdout",
     "output_type": "stream",
     "text": [
      "None\n",
      "> \u001b[0;32m/var/folders/zw/mqwlds_s7ml5_fvqptkb174h0000gn/T/ipykernel_62714/1059256208.py\u001b[0m(8)\u001b[0;36m<module>\u001b[0;34m()\u001b[0m\n",
      "\u001b[0;32m      7 \u001b[0;31m    \u001b[0;32mfor\u001b[0m \u001b[0meach_table_row\u001b[0m \u001b[0;32min\u001b[0m \u001b[0mtable_rows\u001b[0m\u001b[0;34m:\u001b[0m\u001b[0;34m\u001b[0m\u001b[0;34m\u001b[0m\u001b[0m\n",
      "\u001b[0m\u001b[0;32m----> 8 \u001b[0;31m        \u001b[0mtable_data\u001b[0m \u001b[0;34m=\u001b[0m \u001b[0meach_table_row\u001b[0m\u001b[0;34m.\u001b[0m\u001b[0mfind_all\u001b[0m\u001b[0;34m(\u001b[0m\u001b[0;34m'td'\u001b[0m\u001b[0;34m)\u001b[0m\u001b[0;34m\u001b[0m\u001b[0;34m\u001b[0m\u001b[0m\n",
      "\u001b[0m\u001b[0;32m      9 \u001b[0;31m        \u001b[0;32mif\u001b[0m \u001b[0mlen\u001b[0m\u001b[0;34m(\u001b[0m\u001b[0mtable_data\u001b[0m\u001b[0;34m)\u001b[0m \u001b[0;34m>\u001b[0m \u001b[0;36m1\u001b[0m\u001b[0;34m:\u001b[0m\u001b[0;34m\u001b[0m\u001b[0;34m\u001b[0m\u001b[0m\n",
      "\u001b[0m\n"
     ]
    },
    {
     "name": "stdin",
     "output_type": "stream",
     "text": [
      "ipdb>  \n"
     ]
    },
    {
     "name": "stdout",
     "output_type": "stream",
     "text": [
      "None\n",
      "> \u001b[0;32m/var/folders/zw/mqwlds_s7ml5_fvqptkb174h0000gn/T/ipykernel_62714/1059256208.py\u001b[0m(9)\u001b[0;36m<module>\u001b[0;34m()\u001b[0m\n",
      "\u001b[0;32m      8 \u001b[0;31m        \u001b[0mtable_data\u001b[0m \u001b[0;34m=\u001b[0m \u001b[0meach_table_row\u001b[0m\u001b[0;34m.\u001b[0m\u001b[0mfind_all\u001b[0m\u001b[0;34m(\u001b[0m\u001b[0;34m'td'\u001b[0m\u001b[0;34m)\u001b[0m\u001b[0;34m\u001b[0m\u001b[0;34m\u001b[0m\u001b[0m\n",
      "\u001b[0m\u001b[0;32m----> 9 \u001b[0;31m        \u001b[0;32mif\u001b[0m \u001b[0mlen\u001b[0m\u001b[0;34m(\u001b[0m\u001b[0mtable_data\u001b[0m\u001b[0;34m)\u001b[0m \u001b[0;34m>\u001b[0m \u001b[0;36m1\u001b[0m\u001b[0;34m:\u001b[0m\u001b[0;34m\u001b[0m\u001b[0;34m\u001b[0m\u001b[0m\n",
      "\u001b[0m\u001b[0;32m     10 \u001b[0;31m            \u001b[0mkey\u001b[0m \u001b[0;34m=\u001b[0m \u001b[0meach_table_row\u001b[0m\u001b[0;34m.\u001b[0m\u001b[0mfind_all\u001b[0m\u001b[0;34m(\u001b[0m\u001b[0;34m'td'\u001b[0m\u001b[0;34m)\u001b[0m\u001b[0;34m[\u001b[0m\u001b[0;36m0\u001b[0m\u001b[0;34m]\u001b[0m\u001b[0;34m.\u001b[0m\u001b[0mtext\u001b[0m\u001b[0;34m\u001b[0m\u001b[0;34m\u001b[0m\u001b[0m\n",
      "\u001b[0m\n"
     ]
    },
    {
     "name": "stdin",
     "output_type": "stream",
     "text": [
      "ipdb>  \n"
     ]
    },
    {
     "name": "stdout",
     "output_type": "stream",
     "text": [
      "None\n",
      "> \u001b[0;32m/var/folders/zw/mqwlds_s7ml5_fvqptkb174h0000gn/T/ipykernel_62714/1059256208.py\u001b[0m(10)\u001b[0;36m<module>\u001b[0;34m()\u001b[0m\n",
      "\u001b[0;32m      9 \u001b[0;31m        \u001b[0;32mif\u001b[0m \u001b[0mlen\u001b[0m\u001b[0;34m(\u001b[0m\u001b[0mtable_data\u001b[0m\u001b[0;34m)\u001b[0m \u001b[0;34m>\u001b[0m \u001b[0;36m1\u001b[0m\u001b[0;34m:\u001b[0m\u001b[0;34m\u001b[0m\u001b[0;34m\u001b[0m\u001b[0m\n",
      "\u001b[0m\u001b[0;32m---> 10 \u001b[0;31m            \u001b[0mkey\u001b[0m \u001b[0;34m=\u001b[0m \u001b[0meach_table_row\u001b[0m\u001b[0;34m.\u001b[0m\u001b[0mfind_all\u001b[0m\u001b[0;34m(\u001b[0m\u001b[0;34m'td'\u001b[0m\u001b[0;34m)\u001b[0m\u001b[0;34m[\u001b[0m\u001b[0;36m0\u001b[0m\u001b[0;34m]\u001b[0m\u001b[0;34m.\u001b[0m\u001b[0mtext\u001b[0m\u001b[0;34m\u001b[0m\u001b[0;34m\u001b[0m\u001b[0m\n",
      "\u001b[0m\u001b[0;32m     11 \u001b[0;31m            \u001b[0mvalue\u001b[0m \u001b[0;34m=\u001b[0m \u001b[0meach_table_row\u001b[0m\u001b[0;34m.\u001b[0m\u001b[0mfind_all\u001b[0m\u001b[0;34m(\u001b[0m\u001b[0;34m'td'\u001b[0m\u001b[0;34m)\u001b[0m\u001b[0;34m[\u001b[0m\u001b[0;36m1\u001b[0m\u001b[0;34m]\u001b[0m\u001b[0;34m.\u001b[0m\u001b[0mtext\u001b[0m\u001b[0;34m\u001b[0m\u001b[0;34m\u001b[0m\u001b[0m\n",
      "\u001b[0m\n"
     ]
    },
    {
     "name": "stdin",
     "output_type": "stream",
     "text": [
      "ipdb>  \n"
     ]
    },
    {
     "name": "stdout",
     "output_type": "stream",
     "text": [
      "None\n",
      "> \u001b[0;32m/var/folders/zw/mqwlds_s7ml5_fvqptkb174h0000gn/T/ipykernel_62714/1059256208.py\u001b[0m(11)\u001b[0;36m<module>\u001b[0;34m()\u001b[0m\n",
      "\u001b[0;32m     10 \u001b[0;31m            \u001b[0mkey\u001b[0m \u001b[0;34m=\u001b[0m \u001b[0meach_table_row\u001b[0m\u001b[0;34m.\u001b[0m\u001b[0mfind_all\u001b[0m\u001b[0;34m(\u001b[0m\u001b[0;34m'td'\u001b[0m\u001b[0;34m)\u001b[0m\u001b[0;34m[\u001b[0m\u001b[0;36m0\u001b[0m\u001b[0;34m]\u001b[0m\u001b[0;34m.\u001b[0m\u001b[0mtext\u001b[0m\u001b[0;34m\u001b[0m\u001b[0;34m\u001b[0m\u001b[0m\n",
      "\u001b[0m\u001b[0;32m---> 11 \u001b[0;31m            \u001b[0mvalue\u001b[0m \u001b[0;34m=\u001b[0m \u001b[0meach_table_row\u001b[0m\u001b[0;34m.\u001b[0m\u001b[0mfind_all\u001b[0m\u001b[0;34m(\u001b[0m\u001b[0;34m'td'\u001b[0m\u001b[0;34m)\u001b[0m\u001b[0;34m[\u001b[0m\u001b[0;36m1\u001b[0m\u001b[0;34m]\u001b[0m\u001b[0;34m.\u001b[0m\u001b[0mtext\u001b[0m\u001b[0;34m\u001b[0m\u001b[0;34m\u001b[0m\u001b[0m\n",
      "\u001b[0m\u001b[0;32m     12 \u001b[0;31m            \u001b[0mmobile_specifications\u001b[0m\u001b[0;34m[\u001b[0m\u001b[0mmobile_name\u001b[0m\u001b[0;34m]\u001b[0m\u001b[0;34m[\u001b[0m\u001b[0mcategory_name\u001b[0m\u001b[0;34m]\u001b[0m\u001b[0;34m.\u001b[0m\u001b[0mupdate\u001b[0m\u001b[0;34m(\u001b[0m\u001b[0;34m{\u001b[0m \u001b[0mkey\u001b[0m\u001b[0;34m:\u001b[0m \u001b[0mvalue\u001b[0m\u001b[0;34m}\u001b[0m\u001b[0;34m)\u001b[0m\u001b[0;34m\u001b[0m\u001b[0;34m\u001b[0m\u001b[0m\n",
      "\u001b[0m\n"
     ]
    },
    {
     "name": "stdin",
     "output_type": "stream",
     "text": [
      "ipdb>  \n"
     ]
    },
    {
     "name": "stdout",
     "output_type": "stream",
     "text": [
      "None\n",
      "> \u001b[0;32m/var/folders/zw/mqwlds_s7ml5_fvqptkb174h0000gn/T/ipykernel_62714/1059256208.py\u001b[0m(12)\u001b[0;36m<module>\u001b[0;34m()\u001b[0m\n",
      "\u001b[0;32m     10 \u001b[0;31m            \u001b[0mkey\u001b[0m \u001b[0;34m=\u001b[0m \u001b[0meach_table_row\u001b[0m\u001b[0;34m.\u001b[0m\u001b[0mfind_all\u001b[0m\u001b[0;34m(\u001b[0m\u001b[0;34m'td'\u001b[0m\u001b[0;34m)\u001b[0m\u001b[0;34m[\u001b[0m\u001b[0;36m0\u001b[0m\u001b[0;34m]\u001b[0m\u001b[0;34m.\u001b[0m\u001b[0mtext\u001b[0m\u001b[0;34m\u001b[0m\u001b[0;34m\u001b[0m\u001b[0m\n",
      "\u001b[0m\u001b[0;32m     11 \u001b[0;31m            \u001b[0mvalue\u001b[0m \u001b[0;34m=\u001b[0m \u001b[0meach_table_row\u001b[0m\u001b[0;34m.\u001b[0m\u001b[0mfind_all\u001b[0m\u001b[0;34m(\u001b[0m\u001b[0;34m'td'\u001b[0m\u001b[0;34m)\u001b[0m\u001b[0;34m[\u001b[0m\u001b[0;36m1\u001b[0m\u001b[0;34m]\u001b[0m\u001b[0;34m.\u001b[0m\u001b[0mtext\u001b[0m\u001b[0;34m\u001b[0m\u001b[0;34m\u001b[0m\u001b[0m\n",
      "\u001b[0m\u001b[0;32m---> 12 \u001b[0;31m            \u001b[0mmobile_specifications\u001b[0m\u001b[0;34m[\u001b[0m\u001b[0mmobile_name\u001b[0m\u001b[0;34m]\u001b[0m\u001b[0;34m[\u001b[0m\u001b[0mcategory_name\u001b[0m\u001b[0;34m]\u001b[0m\u001b[0;34m.\u001b[0m\u001b[0mupdate\u001b[0m\u001b[0;34m(\u001b[0m\u001b[0;34m{\u001b[0m \u001b[0mkey\u001b[0m\u001b[0;34m:\u001b[0m \u001b[0mvalue\u001b[0m\u001b[0;34m}\u001b[0m\u001b[0;34m)\u001b[0m\u001b[0;34m\u001b[0m\u001b[0;34m\u001b[0m\u001b[0m\n",
      "\u001b[0m\n"
     ]
    },
    {
     "name": "stdin",
     "output_type": "stream",
     "text": [
      "ipdb>  \n"
     ]
    },
    {
     "name": "stdout",
     "output_type": "stream",
     "text": [
      "None\n",
      "> \u001b[0;32m/var/folders/zw/mqwlds_s7ml5_fvqptkb174h0000gn/T/ipykernel_62714/1059256208.py\u001b[0m(7)\u001b[0;36m<module>\u001b[0;34m()\u001b[0m\n",
      "\u001b[0;32m      6 \u001b[0;31m    \u001b[0mtable_rows\u001b[0m \u001b[0;34m=\u001b[0m \u001b[0mcategory_table_data\u001b[0m\u001b[0;34m.\u001b[0m\u001b[0mfind_all\u001b[0m\u001b[0;34m(\u001b[0m\u001b[0;34m'tr'\u001b[0m\u001b[0;34m)\u001b[0m\u001b[0;34m\u001b[0m\u001b[0;34m\u001b[0m\u001b[0m\n",
      "\u001b[0m\u001b[0;32m----> 7 \u001b[0;31m    \u001b[0;32mfor\u001b[0m \u001b[0meach_table_row\u001b[0m \u001b[0;32min\u001b[0m \u001b[0mtable_rows\u001b[0m\u001b[0;34m:\u001b[0m\u001b[0;34m\u001b[0m\u001b[0;34m\u001b[0m\u001b[0m\n",
      "\u001b[0m\u001b[0;32m      8 \u001b[0;31m        \u001b[0mtable_data\u001b[0m \u001b[0;34m=\u001b[0m \u001b[0meach_table_row\u001b[0m\u001b[0;34m.\u001b[0m\u001b[0mfind_all\u001b[0m\u001b[0;34m(\u001b[0m\u001b[0;34m'td'\u001b[0m\u001b[0;34m)\u001b[0m\u001b[0;34m\u001b[0m\u001b[0;34m\u001b[0m\u001b[0m\n",
      "\u001b[0m\n"
     ]
    },
    {
     "name": "stdin",
     "output_type": "stream",
     "text": [
      "ipdb>  \n"
     ]
    },
    {
     "name": "stdout",
     "output_type": "stream",
     "text": [
      "None\n",
      "> \u001b[0;32m/var/folders/zw/mqwlds_s7ml5_fvqptkb174h0000gn/T/ipykernel_62714/1059256208.py\u001b[0m(8)\u001b[0;36m<module>\u001b[0;34m()\u001b[0m\n",
      "\u001b[0;32m      7 \u001b[0;31m    \u001b[0;32mfor\u001b[0m \u001b[0meach_table_row\u001b[0m \u001b[0;32min\u001b[0m \u001b[0mtable_rows\u001b[0m\u001b[0;34m:\u001b[0m\u001b[0;34m\u001b[0m\u001b[0;34m\u001b[0m\u001b[0m\n",
      "\u001b[0m\u001b[0;32m----> 8 \u001b[0;31m        \u001b[0mtable_data\u001b[0m \u001b[0;34m=\u001b[0m \u001b[0meach_table_row\u001b[0m\u001b[0;34m.\u001b[0m\u001b[0mfind_all\u001b[0m\u001b[0;34m(\u001b[0m\u001b[0;34m'td'\u001b[0m\u001b[0;34m)\u001b[0m\u001b[0;34m\u001b[0m\u001b[0;34m\u001b[0m\u001b[0m\n",
      "\u001b[0m\u001b[0;32m      9 \u001b[0;31m        \u001b[0;32mif\u001b[0m \u001b[0mlen\u001b[0m\u001b[0;34m(\u001b[0m\u001b[0mtable_data\u001b[0m\u001b[0;34m)\u001b[0m \u001b[0;34m>\u001b[0m \u001b[0;36m1\u001b[0m\u001b[0;34m:\u001b[0m\u001b[0;34m\u001b[0m\u001b[0;34m\u001b[0m\u001b[0m\n",
      "\u001b[0m\n"
     ]
    },
    {
     "name": "stdin",
     "output_type": "stream",
     "text": [
      "ipdb>  \n"
     ]
    },
    {
     "name": "stdout",
     "output_type": "stream",
     "text": [
      "None\n",
      "> \u001b[0;32m/var/folders/zw/mqwlds_s7ml5_fvqptkb174h0000gn/T/ipykernel_62714/1059256208.py\u001b[0m(9)\u001b[0;36m<module>\u001b[0;34m()\u001b[0m\n",
      "\u001b[0;32m      8 \u001b[0;31m        \u001b[0mtable_data\u001b[0m \u001b[0;34m=\u001b[0m \u001b[0meach_table_row\u001b[0m\u001b[0;34m.\u001b[0m\u001b[0mfind_all\u001b[0m\u001b[0;34m(\u001b[0m\u001b[0;34m'td'\u001b[0m\u001b[0;34m)\u001b[0m\u001b[0;34m\u001b[0m\u001b[0;34m\u001b[0m\u001b[0m\n",
      "\u001b[0m\u001b[0;32m----> 9 \u001b[0;31m        \u001b[0;32mif\u001b[0m \u001b[0mlen\u001b[0m\u001b[0;34m(\u001b[0m\u001b[0mtable_data\u001b[0m\u001b[0;34m)\u001b[0m \u001b[0;34m>\u001b[0m \u001b[0;36m1\u001b[0m\u001b[0;34m:\u001b[0m\u001b[0;34m\u001b[0m\u001b[0;34m\u001b[0m\u001b[0m\n",
      "\u001b[0m\u001b[0;32m     10 \u001b[0;31m            \u001b[0mkey\u001b[0m \u001b[0;34m=\u001b[0m \u001b[0meach_table_row\u001b[0m\u001b[0;34m.\u001b[0m\u001b[0mfind_all\u001b[0m\u001b[0;34m(\u001b[0m\u001b[0;34m'td'\u001b[0m\u001b[0;34m)\u001b[0m\u001b[0;34m[\u001b[0m\u001b[0;36m0\u001b[0m\u001b[0;34m]\u001b[0m\u001b[0;34m.\u001b[0m\u001b[0mtext\u001b[0m\u001b[0;34m\u001b[0m\u001b[0;34m\u001b[0m\u001b[0m\n",
      "\u001b[0m\n"
     ]
    },
    {
     "name": "stdin",
     "output_type": "stream",
     "text": [
      "ipdb>  \n"
     ]
    },
    {
     "name": "stdout",
     "output_type": "stream",
     "text": [
      "None\n",
      "> \u001b[0;32m/var/folders/zw/mqwlds_s7ml5_fvqptkb174h0000gn/T/ipykernel_62714/1059256208.py\u001b[0m(10)\u001b[0;36m<module>\u001b[0;34m()\u001b[0m\n",
      "\u001b[0;32m      9 \u001b[0;31m        \u001b[0;32mif\u001b[0m \u001b[0mlen\u001b[0m\u001b[0;34m(\u001b[0m\u001b[0mtable_data\u001b[0m\u001b[0;34m)\u001b[0m \u001b[0;34m>\u001b[0m \u001b[0;36m1\u001b[0m\u001b[0;34m:\u001b[0m\u001b[0;34m\u001b[0m\u001b[0;34m\u001b[0m\u001b[0m\n",
      "\u001b[0m\u001b[0;32m---> 10 \u001b[0;31m            \u001b[0mkey\u001b[0m \u001b[0;34m=\u001b[0m \u001b[0meach_table_row\u001b[0m\u001b[0;34m.\u001b[0m\u001b[0mfind_all\u001b[0m\u001b[0;34m(\u001b[0m\u001b[0;34m'td'\u001b[0m\u001b[0;34m)\u001b[0m\u001b[0;34m[\u001b[0m\u001b[0;36m0\u001b[0m\u001b[0;34m]\u001b[0m\u001b[0;34m.\u001b[0m\u001b[0mtext\u001b[0m\u001b[0;34m\u001b[0m\u001b[0;34m\u001b[0m\u001b[0m\n",
      "\u001b[0m\u001b[0;32m     11 \u001b[0;31m            \u001b[0mvalue\u001b[0m \u001b[0;34m=\u001b[0m \u001b[0meach_table_row\u001b[0m\u001b[0;34m.\u001b[0m\u001b[0mfind_all\u001b[0m\u001b[0;34m(\u001b[0m\u001b[0;34m'td'\u001b[0m\u001b[0;34m)\u001b[0m\u001b[0;34m[\u001b[0m\u001b[0;36m1\u001b[0m\u001b[0;34m]\u001b[0m\u001b[0;34m.\u001b[0m\u001b[0mtext\u001b[0m\u001b[0;34m\u001b[0m\u001b[0;34m\u001b[0m\u001b[0m\n",
      "\u001b[0m\n"
     ]
    },
    {
     "name": "stdin",
     "output_type": "stream",
     "text": [
      "ipdb>  \n"
     ]
    },
    {
     "name": "stdout",
     "output_type": "stream",
     "text": [
      "None\n",
      "> \u001b[0;32m/var/folders/zw/mqwlds_s7ml5_fvqptkb174h0000gn/T/ipykernel_62714/1059256208.py\u001b[0m(11)\u001b[0;36m<module>\u001b[0;34m()\u001b[0m\n",
      "\u001b[0;32m     10 \u001b[0;31m            \u001b[0mkey\u001b[0m \u001b[0;34m=\u001b[0m \u001b[0meach_table_row\u001b[0m\u001b[0;34m.\u001b[0m\u001b[0mfind_all\u001b[0m\u001b[0;34m(\u001b[0m\u001b[0;34m'td'\u001b[0m\u001b[0;34m)\u001b[0m\u001b[0;34m[\u001b[0m\u001b[0;36m0\u001b[0m\u001b[0;34m]\u001b[0m\u001b[0;34m.\u001b[0m\u001b[0mtext\u001b[0m\u001b[0;34m\u001b[0m\u001b[0;34m\u001b[0m\u001b[0m\n",
      "\u001b[0m\u001b[0;32m---> 11 \u001b[0;31m            \u001b[0mvalue\u001b[0m \u001b[0;34m=\u001b[0m \u001b[0meach_table_row\u001b[0m\u001b[0;34m.\u001b[0m\u001b[0mfind_all\u001b[0m\u001b[0;34m(\u001b[0m\u001b[0;34m'td'\u001b[0m\u001b[0;34m)\u001b[0m\u001b[0;34m[\u001b[0m\u001b[0;36m1\u001b[0m\u001b[0;34m]\u001b[0m\u001b[0;34m.\u001b[0m\u001b[0mtext\u001b[0m\u001b[0;34m\u001b[0m\u001b[0;34m\u001b[0m\u001b[0m\n",
      "\u001b[0m\u001b[0;32m     12 \u001b[0;31m            \u001b[0mmobile_specifications\u001b[0m\u001b[0;34m[\u001b[0m\u001b[0mmobile_name\u001b[0m\u001b[0;34m]\u001b[0m\u001b[0;34m[\u001b[0m\u001b[0mcategory_name\u001b[0m\u001b[0;34m]\u001b[0m\u001b[0;34m.\u001b[0m\u001b[0mupdate\u001b[0m\u001b[0;34m(\u001b[0m\u001b[0;34m{\u001b[0m \u001b[0mkey\u001b[0m\u001b[0;34m:\u001b[0m \u001b[0mvalue\u001b[0m\u001b[0;34m}\u001b[0m\u001b[0;34m)\u001b[0m\u001b[0;34m\u001b[0m\u001b[0;34m\u001b[0m\u001b[0m\n",
      "\u001b[0m\n"
     ]
    },
    {
     "name": "stdin",
     "output_type": "stream",
     "text": [
      "ipdb>  \n"
     ]
    },
    {
     "name": "stdout",
     "output_type": "stream",
     "text": [
      "None\n",
      "> \u001b[0;32m/var/folders/zw/mqwlds_s7ml5_fvqptkb174h0000gn/T/ipykernel_62714/1059256208.py\u001b[0m(12)\u001b[0;36m<module>\u001b[0;34m()\u001b[0m\n",
      "\u001b[0;32m     10 \u001b[0;31m            \u001b[0mkey\u001b[0m \u001b[0;34m=\u001b[0m \u001b[0meach_table_row\u001b[0m\u001b[0;34m.\u001b[0m\u001b[0mfind_all\u001b[0m\u001b[0;34m(\u001b[0m\u001b[0;34m'td'\u001b[0m\u001b[0;34m)\u001b[0m\u001b[0;34m[\u001b[0m\u001b[0;36m0\u001b[0m\u001b[0;34m]\u001b[0m\u001b[0;34m.\u001b[0m\u001b[0mtext\u001b[0m\u001b[0;34m\u001b[0m\u001b[0;34m\u001b[0m\u001b[0m\n",
      "\u001b[0m\u001b[0;32m     11 \u001b[0;31m            \u001b[0mvalue\u001b[0m \u001b[0;34m=\u001b[0m \u001b[0meach_table_row\u001b[0m\u001b[0;34m.\u001b[0m\u001b[0mfind_all\u001b[0m\u001b[0;34m(\u001b[0m\u001b[0;34m'td'\u001b[0m\u001b[0;34m)\u001b[0m\u001b[0;34m[\u001b[0m\u001b[0;36m1\u001b[0m\u001b[0;34m]\u001b[0m\u001b[0;34m.\u001b[0m\u001b[0mtext\u001b[0m\u001b[0;34m\u001b[0m\u001b[0;34m\u001b[0m\u001b[0m\n",
      "\u001b[0m\u001b[0;32m---> 12 \u001b[0;31m            \u001b[0mmobile_specifications\u001b[0m\u001b[0;34m[\u001b[0m\u001b[0mmobile_name\u001b[0m\u001b[0;34m]\u001b[0m\u001b[0;34m[\u001b[0m\u001b[0mcategory_name\u001b[0m\u001b[0;34m]\u001b[0m\u001b[0;34m.\u001b[0m\u001b[0mupdate\u001b[0m\u001b[0;34m(\u001b[0m\u001b[0;34m{\u001b[0m \u001b[0mkey\u001b[0m\u001b[0;34m:\u001b[0m \u001b[0mvalue\u001b[0m\u001b[0;34m}\u001b[0m\u001b[0;34m)\u001b[0m\u001b[0;34m\u001b[0m\u001b[0;34m\u001b[0m\u001b[0m\n",
      "\u001b[0m\n"
     ]
    },
    {
     "name": "stdin",
     "output_type": "stream",
     "text": [
      "ipdb>  \n"
     ]
    },
    {
     "name": "stdout",
     "output_type": "stream",
     "text": [
      "None\n",
      "> \u001b[0;32m/var/folders/zw/mqwlds_s7ml5_fvqptkb174h0000gn/T/ipykernel_62714/1059256208.py\u001b[0m(7)\u001b[0;36m<module>\u001b[0;34m()\u001b[0m\n",
      "\u001b[0;32m      6 \u001b[0;31m    \u001b[0mtable_rows\u001b[0m \u001b[0;34m=\u001b[0m \u001b[0mcategory_table_data\u001b[0m\u001b[0;34m.\u001b[0m\u001b[0mfind_all\u001b[0m\u001b[0;34m(\u001b[0m\u001b[0;34m'tr'\u001b[0m\u001b[0;34m)\u001b[0m\u001b[0;34m\u001b[0m\u001b[0;34m\u001b[0m\u001b[0m\n",
      "\u001b[0m\u001b[0;32m----> 7 \u001b[0;31m    \u001b[0;32mfor\u001b[0m \u001b[0meach_table_row\u001b[0m \u001b[0;32min\u001b[0m \u001b[0mtable_rows\u001b[0m\u001b[0;34m:\u001b[0m\u001b[0;34m\u001b[0m\u001b[0;34m\u001b[0m\u001b[0m\n",
      "\u001b[0m\u001b[0;32m      8 \u001b[0;31m        \u001b[0mtable_data\u001b[0m \u001b[0;34m=\u001b[0m \u001b[0meach_table_row\u001b[0m\u001b[0;34m.\u001b[0m\u001b[0mfind_all\u001b[0m\u001b[0;34m(\u001b[0m\u001b[0;34m'td'\u001b[0m\u001b[0;34m)\u001b[0m\u001b[0;34m\u001b[0m\u001b[0;34m\u001b[0m\u001b[0m\n",
      "\u001b[0m\n"
     ]
    },
    {
     "name": "stdin",
     "output_type": "stream",
     "text": [
      "ipdb>  \n"
     ]
    },
    {
     "name": "stdout",
     "output_type": "stream",
     "text": [
      "None\n",
      "> \u001b[0;32m/var/folders/zw/mqwlds_s7ml5_fvqptkb174h0000gn/T/ipykernel_62714/1059256208.py\u001b[0m(8)\u001b[0;36m<module>\u001b[0;34m()\u001b[0m\n",
      "\u001b[0;32m      7 \u001b[0;31m    \u001b[0;32mfor\u001b[0m \u001b[0meach_table_row\u001b[0m \u001b[0;32min\u001b[0m \u001b[0mtable_rows\u001b[0m\u001b[0;34m:\u001b[0m\u001b[0;34m\u001b[0m\u001b[0;34m\u001b[0m\u001b[0m\n",
      "\u001b[0m\u001b[0;32m----> 8 \u001b[0;31m        \u001b[0mtable_data\u001b[0m \u001b[0;34m=\u001b[0m \u001b[0meach_table_row\u001b[0m\u001b[0;34m.\u001b[0m\u001b[0mfind_all\u001b[0m\u001b[0;34m(\u001b[0m\u001b[0;34m'td'\u001b[0m\u001b[0;34m)\u001b[0m\u001b[0;34m\u001b[0m\u001b[0;34m\u001b[0m\u001b[0m\n",
      "\u001b[0m\u001b[0;32m      9 \u001b[0;31m        \u001b[0;32mif\u001b[0m \u001b[0mlen\u001b[0m\u001b[0;34m(\u001b[0m\u001b[0mtable_data\u001b[0m\u001b[0;34m)\u001b[0m \u001b[0;34m>\u001b[0m \u001b[0;36m1\u001b[0m\u001b[0;34m:\u001b[0m\u001b[0;34m\u001b[0m\u001b[0;34m\u001b[0m\u001b[0m\n",
      "\u001b[0m\n"
     ]
    },
    {
     "name": "stdin",
     "output_type": "stream",
     "text": [
      "ipdb>  \n"
     ]
    },
    {
     "name": "stdout",
     "output_type": "stream",
     "text": [
      "None\n",
      "> \u001b[0;32m/var/folders/zw/mqwlds_s7ml5_fvqptkb174h0000gn/T/ipykernel_62714/1059256208.py\u001b[0m(9)\u001b[0;36m<module>\u001b[0;34m()\u001b[0m\n",
      "\u001b[0;32m      8 \u001b[0;31m        \u001b[0mtable_data\u001b[0m \u001b[0;34m=\u001b[0m \u001b[0meach_table_row\u001b[0m\u001b[0;34m.\u001b[0m\u001b[0mfind_all\u001b[0m\u001b[0;34m(\u001b[0m\u001b[0;34m'td'\u001b[0m\u001b[0;34m)\u001b[0m\u001b[0;34m\u001b[0m\u001b[0;34m\u001b[0m\u001b[0m\n",
      "\u001b[0m\u001b[0;32m----> 9 \u001b[0;31m        \u001b[0;32mif\u001b[0m \u001b[0mlen\u001b[0m\u001b[0;34m(\u001b[0m\u001b[0mtable_data\u001b[0m\u001b[0;34m)\u001b[0m \u001b[0;34m>\u001b[0m \u001b[0;36m1\u001b[0m\u001b[0;34m:\u001b[0m\u001b[0;34m\u001b[0m\u001b[0;34m\u001b[0m\u001b[0m\n",
      "\u001b[0m\u001b[0;32m     10 \u001b[0;31m            \u001b[0mkey\u001b[0m \u001b[0;34m=\u001b[0m \u001b[0meach_table_row\u001b[0m\u001b[0;34m.\u001b[0m\u001b[0mfind_all\u001b[0m\u001b[0;34m(\u001b[0m\u001b[0;34m'td'\u001b[0m\u001b[0;34m)\u001b[0m\u001b[0;34m[\u001b[0m\u001b[0;36m0\u001b[0m\u001b[0;34m]\u001b[0m\u001b[0;34m.\u001b[0m\u001b[0mtext\u001b[0m\u001b[0;34m\u001b[0m\u001b[0;34m\u001b[0m\u001b[0m\n",
      "\u001b[0m\n"
     ]
    },
    {
     "name": "stdin",
     "output_type": "stream",
     "text": [
      "ipdb>  \n"
     ]
    },
    {
     "name": "stdout",
     "output_type": "stream",
     "text": [
      "None\n",
      "> \u001b[0;32m/var/folders/zw/mqwlds_s7ml5_fvqptkb174h0000gn/T/ipykernel_62714/1059256208.py\u001b[0m(7)\u001b[0;36m<module>\u001b[0;34m()\u001b[0m\n",
      "\u001b[0;32m      6 \u001b[0;31m    \u001b[0mtable_rows\u001b[0m \u001b[0;34m=\u001b[0m \u001b[0mcategory_table_data\u001b[0m\u001b[0;34m.\u001b[0m\u001b[0mfind_all\u001b[0m\u001b[0;34m(\u001b[0m\u001b[0;34m'tr'\u001b[0m\u001b[0;34m)\u001b[0m\u001b[0;34m\u001b[0m\u001b[0;34m\u001b[0m\u001b[0m\n",
      "\u001b[0m\u001b[0;32m----> 7 \u001b[0;31m    \u001b[0;32mfor\u001b[0m \u001b[0meach_table_row\u001b[0m \u001b[0;32min\u001b[0m \u001b[0mtable_rows\u001b[0m\u001b[0;34m:\u001b[0m\u001b[0;34m\u001b[0m\u001b[0;34m\u001b[0m\u001b[0m\n",
      "\u001b[0m\u001b[0;32m      8 \u001b[0;31m        \u001b[0mtable_data\u001b[0m \u001b[0;34m=\u001b[0m \u001b[0meach_table_row\u001b[0m\u001b[0;34m.\u001b[0m\u001b[0mfind_all\u001b[0m\u001b[0;34m(\u001b[0m\u001b[0;34m'td'\u001b[0m\u001b[0;34m)\u001b[0m\u001b[0;34m\u001b[0m\u001b[0;34m\u001b[0m\u001b[0m\n",
      "\u001b[0m\n"
     ]
    },
    {
     "name": "stdin",
     "output_type": "stream",
     "text": [
      "ipdb>  each_table_row\n"
     ]
    },
    {
     "name": "stdout",
     "output_type": "stream",
     "text": [
      "<tr>\n",
      "<td class=\"_sim\" colspan=\"2\">SIM 1</td>\n",
      "</tr>\n"
     ]
    },
    {
     "name": "stdin",
     "output_type": "stream",
     "text": [
      "ipdb>  n\n"
     ]
    },
    {
     "name": "stdout",
     "output_type": "stream",
     "text": [
      "None\n",
      "> \u001b[0;32m/var/folders/zw/mqwlds_s7ml5_fvqptkb174h0000gn/T/ipykernel_62714/1059256208.py\u001b[0m(8)\u001b[0;36m<module>\u001b[0;34m()\u001b[0m\n",
      "\u001b[0;32m      7 \u001b[0;31m    \u001b[0;32mfor\u001b[0m \u001b[0meach_table_row\u001b[0m \u001b[0;32min\u001b[0m \u001b[0mtable_rows\u001b[0m\u001b[0;34m:\u001b[0m\u001b[0;34m\u001b[0m\u001b[0;34m\u001b[0m\u001b[0m\n",
      "\u001b[0m\u001b[0;32m----> 8 \u001b[0;31m        \u001b[0mtable_data\u001b[0m \u001b[0;34m=\u001b[0m \u001b[0meach_table_row\u001b[0m\u001b[0;34m.\u001b[0m\u001b[0mfind_all\u001b[0m\u001b[0;34m(\u001b[0m\u001b[0;34m'td'\u001b[0m\u001b[0;34m)\u001b[0m\u001b[0;34m\u001b[0m\u001b[0;34m\u001b[0m\u001b[0m\n",
      "\u001b[0m\u001b[0;32m      9 \u001b[0;31m        \u001b[0;32mif\u001b[0m \u001b[0mlen\u001b[0m\u001b[0;34m(\u001b[0m\u001b[0mtable_data\u001b[0m\u001b[0;34m)\u001b[0m \u001b[0;34m>\u001b[0m \u001b[0;36m1\u001b[0m\u001b[0;34m:\u001b[0m\u001b[0;34m\u001b[0m\u001b[0;34m\u001b[0m\u001b[0m\n",
      "\u001b[0m\n"
     ]
    },
    {
     "name": "stdin",
     "output_type": "stream",
     "text": [
      "ipdb>  \n"
     ]
    },
    {
     "name": "stdout",
     "output_type": "stream",
     "text": [
      "None\n",
      "> \u001b[0;32m/var/folders/zw/mqwlds_s7ml5_fvqptkb174h0000gn/T/ipykernel_62714/1059256208.py\u001b[0m(9)\u001b[0;36m<module>\u001b[0;34m()\u001b[0m\n",
      "\u001b[0;32m      8 \u001b[0;31m        \u001b[0mtable_data\u001b[0m \u001b[0;34m=\u001b[0m \u001b[0meach_table_row\u001b[0m\u001b[0;34m.\u001b[0m\u001b[0mfind_all\u001b[0m\u001b[0;34m(\u001b[0m\u001b[0;34m'td'\u001b[0m\u001b[0;34m)\u001b[0m\u001b[0;34m\u001b[0m\u001b[0;34m\u001b[0m\u001b[0m\n",
      "\u001b[0m\u001b[0;32m----> 9 \u001b[0;31m        \u001b[0;32mif\u001b[0m \u001b[0mlen\u001b[0m\u001b[0;34m(\u001b[0m\u001b[0mtable_data\u001b[0m\u001b[0;34m)\u001b[0m \u001b[0;34m>\u001b[0m \u001b[0;36m1\u001b[0m\u001b[0;34m:\u001b[0m\u001b[0;34m\u001b[0m\u001b[0;34m\u001b[0m\u001b[0m\n",
      "\u001b[0m\u001b[0;32m     10 \u001b[0;31m            \u001b[0mkey\u001b[0m \u001b[0;34m=\u001b[0m \u001b[0meach_table_row\u001b[0m\u001b[0;34m.\u001b[0m\u001b[0mfind_all\u001b[0m\u001b[0;34m(\u001b[0m\u001b[0;34m'td'\u001b[0m\u001b[0;34m)\u001b[0m\u001b[0;34m[\u001b[0m\u001b[0;36m0\u001b[0m\u001b[0;34m]\u001b[0m\u001b[0;34m.\u001b[0m\u001b[0mtext\u001b[0m\u001b[0;34m\u001b[0m\u001b[0;34m\u001b[0m\u001b[0m\n",
      "\u001b[0m\n"
     ]
    },
    {
     "name": "stdin",
     "output_type": "stream",
     "text": [
      "ipdb>  \n"
     ]
    },
    {
     "name": "stdout",
     "output_type": "stream",
     "text": [
      "None\n",
      "> \u001b[0;32m/var/folders/zw/mqwlds_s7ml5_fvqptkb174h0000gn/T/ipykernel_62714/1059256208.py\u001b[0m(10)\u001b[0;36m<module>\u001b[0;34m()\u001b[0m\n",
      "\u001b[0;32m      9 \u001b[0;31m        \u001b[0;32mif\u001b[0m \u001b[0mlen\u001b[0m\u001b[0;34m(\u001b[0m\u001b[0mtable_data\u001b[0m\u001b[0;34m)\u001b[0m \u001b[0;34m>\u001b[0m \u001b[0;36m1\u001b[0m\u001b[0;34m:\u001b[0m\u001b[0;34m\u001b[0m\u001b[0;34m\u001b[0m\u001b[0m\n",
      "\u001b[0m\u001b[0;32m---> 10 \u001b[0;31m            \u001b[0mkey\u001b[0m \u001b[0;34m=\u001b[0m \u001b[0meach_table_row\u001b[0m\u001b[0;34m.\u001b[0m\u001b[0mfind_all\u001b[0m\u001b[0;34m(\u001b[0m\u001b[0;34m'td'\u001b[0m\u001b[0;34m)\u001b[0m\u001b[0;34m[\u001b[0m\u001b[0;36m0\u001b[0m\u001b[0;34m]\u001b[0m\u001b[0;34m.\u001b[0m\u001b[0mtext\u001b[0m\u001b[0;34m\u001b[0m\u001b[0;34m\u001b[0m\u001b[0m\n",
      "\u001b[0m\u001b[0;32m     11 \u001b[0;31m            \u001b[0mvalue\u001b[0m \u001b[0;34m=\u001b[0m \u001b[0meach_table_row\u001b[0m\u001b[0;34m.\u001b[0m\u001b[0mfind_all\u001b[0m\u001b[0;34m(\u001b[0m\u001b[0;34m'td'\u001b[0m\u001b[0;34m)\u001b[0m\u001b[0;34m[\u001b[0m\u001b[0;36m1\u001b[0m\u001b[0;34m]\u001b[0m\u001b[0;34m.\u001b[0m\u001b[0mtext\u001b[0m\u001b[0;34m\u001b[0m\u001b[0;34m\u001b[0m\u001b[0m\n",
      "\u001b[0m\n"
     ]
    },
    {
     "name": "stdin",
     "output_type": "stream",
     "text": [
      "ipdb>  \n"
     ]
    },
    {
     "name": "stdout",
     "output_type": "stream",
     "text": [
      "None\n",
      "> \u001b[0;32m/var/folders/zw/mqwlds_s7ml5_fvqptkb174h0000gn/T/ipykernel_62714/1059256208.py\u001b[0m(11)\u001b[0;36m<module>\u001b[0;34m()\u001b[0m\n",
      "\u001b[0;32m     10 \u001b[0;31m            \u001b[0mkey\u001b[0m \u001b[0;34m=\u001b[0m \u001b[0meach_table_row\u001b[0m\u001b[0;34m.\u001b[0m\u001b[0mfind_all\u001b[0m\u001b[0;34m(\u001b[0m\u001b[0;34m'td'\u001b[0m\u001b[0;34m)\u001b[0m\u001b[0;34m[\u001b[0m\u001b[0;36m0\u001b[0m\u001b[0;34m]\u001b[0m\u001b[0;34m.\u001b[0m\u001b[0mtext\u001b[0m\u001b[0;34m\u001b[0m\u001b[0;34m\u001b[0m\u001b[0m\n",
      "\u001b[0m\u001b[0;32m---> 11 \u001b[0;31m            \u001b[0mvalue\u001b[0m \u001b[0;34m=\u001b[0m \u001b[0meach_table_row\u001b[0m\u001b[0;34m.\u001b[0m\u001b[0mfind_all\u001b[0m\u001b[0;34m(\u001b[0m\u001b[0;34m'td'\u001b[0m\u001b[0;34m)\u001b[0m\u001b[0;34m[\u001b[0m\u001b[0;36m1\u001b[0m\u001b[0;34m]\u001b[0m\u001b[0;34m.\u001b[0m\u001b[0mtext\u001b[0m\u001b[0;34m\u001b[0m\u001b[0;34m\u001b[0m\u001b[0m\n",
      "\u001b[0m\u001b[0;32m     12 \u001b[0;31m            \u001b[0mmobile_specifications\u001b[0m\u001b[0;34m[\u001b[0m\u001b[0mmobile_name\u001b[0m\u001b[0;34m]\u001b[0m\u001b[0;34m[\u001b[0m\u001b[0mcategory_name\u001b[0m\u001b[0;34m]\u001b[0m\u001b[0;34m.\u001b[0m\u001b[0mupdate\u001b[0m\u001b[0;34m(\u001b[0m\u001b[0;34m{\u001b[0m \u001b[0mkey\u001b[0m\u001b[0;34m:\u001b[0m \u001b[0mvalue\u001b[0m\u001b[0;34m}\u001b[0m\u001b[0;34m)\u001b[0m\u001b[0;34m\u001b[0m\u001b[0;34m\u001b[0m\u001b[0m\n",
      "\u001b[0m\n"
     ]
    },
    {
     "name": "stdin",
     "output_type": "stream",
     "text": [
      "ipdb>  \n"
     ]
    },
    {
     "name": "stdout",
     "output_type": "stream",
     "text": [
      "None\n",
      "> \u001b[0;32m/var/folders/zw/mqwlds_s7ml5_fvqptkb174h0000gn/T/ipykernel_62714/1059256208.py\u001b[0m(12)\u001b[0;36m<module>\u001b[0;34m()\u001b[0m\n",
      "\u001b[0;32m     10 \u001b[0;31m            \u001b[0mkey\u001b[0m \u001b[0;34m=\u001b[0m \u001b[0meach_table_row\u001b[0m\u001b[0;34m.\u001b[0m\u001b[0mfind_all\u001b[0m\u001b[0;34m(\u001b[0m\u001b[0;34m'td'\u001b[0m\u001b[0;34m)\u001b[0m\u001b[0;34m[\u001b[0m\u001b[0;36m0\u001b[0m\u001b[0;34m]\u001b[0m\u001b[0;34m.\u001b[0m\u001b[0mtext\u001b[0m\u001b[0;34m\u001b[0m\u001b[0;34m\u001b[0m\u001b[0m\n",
      "\u001b[0m\u001b[0;32m     11 \u001b[0;31m            \u001b[0mvalue\u001b[0m \u001b[0;34m=\u001b[0m \u001b[0meach_table_row\u001b[0m\u001b[0;34m.\u001b[0m\u001b[0mfind_all\u001b[0m\u001b[0;34m(\u001b[0m\u001b[0;34m'td'\u001b[0m\u001b[0;34m)\u001b[0m\u001b[0;34m[\u001b[0m\u001b[0;36m1\u001b[0m\u001b[0;34m]\u001b[0m\u001b[0;34m.\u001b[0m\u001b[0mtext\u001b[0m\u001b[0;34m\u001b[0m\u001b[0;34m\u001b[0m\u001b[0m\n",
      "\u001b[0m\u001b[0;32m---> 12 \u001b[0;31m            \u001b[0mmobile_specifications\u001b[0m\u001b[0;34m[\u001b[0m\u001b[0mmobile_name\u001b[0m\u001b[0;34m]\u001b[0m\u001b[0;34m[\u001b[0m\u001b[0mcategory_name\u001b[0m\u001b[0;34m]\u001b[0m\u001b[0;34m.\u001b[0m\u001b[0mupdate\u001b[0m\u001b[0;34m(\u001b[0m\u001b[0;34m{\u001b[0m \u001b[0mkey\u001b[0m\u001b[0;34m:\u001b[0m \u001b[0mvalue\u001b[0m\u001b[0;34m}\u001b[0m\u001b[0;34m)\u001b[0m\u001b[0;34m\u001b[0m\u001b[0;34m\u001b[0m\u001b[0m\n",
      "\u001b[0m\n"
     ]
    },
    {
     "name": "stdin",
     "output_type": "stream",
     "text": [
      "ipdb>  \n"
     ]
    },
    {
     "name": "stdout",
     "output_type": "stream",
     "text": [
      "None\n",
      "> \u001b[0;32m/var/folders/zw/mqwlds_s7ml5_fvqptkb174h0000gn/T/ipykernel_62714/1059256208.py\u001b[0m(7)\u001b[0;36m<module>\u001b[0;34m()\u001b[0m\n",
      "\u001b[0;32m      6 \u001b[0;31m    \u001b[0mtable_rows\u001b[0m \u001b[0;34m=\u001b[0m \u001b[0mcategory_table_data\u001b[0m\u001b[0;34m.\u001b[0m\u001b[0mfind_all\u001b[0m\u001b[0;34m(\u001b[0m\u001b[0;34m'tr'\u001b[0m\u001b[0;34m)\u001b[0m\u001b[0;34m\u001b[0m\u001b[0;34m\u001b[0m\u001b[0m\n",
      "\u001b[0m\u001b[0;32m----> 7 \u001b[0;31m    \u001b[0;32mfor\u001b[0m \u001b[0meach_table_row\u001b[0m \u001b[0;32min\u001b[0m \u001b[0mtable_rows\u001b[0m\u001b[0;34m:\u001b[0m\u001b[0;34m\u001b[0m\u001b[0;34m\u001b[0m\u001b[0m\n",
      "\u001b[0m\u001b[0;32m      8 \u001b[0;31m        \u001b[0mtable_data\u001b[0m \u001b[0;34m=\u001b[0m \u001b[0meach_table_row\u001b[0m\u001b[0;34m.\u001b[0m\u001b[0mfind_all\u001b[0m\u001b[0;34m(\u001b[0m\u001b[0;34m'td'\u001b[0m\u001b[0;34m)\u001b[0m\u001b[0;34m\u001b[0m\u001b[0;34m\u001b[0m\u001b[0m\n",
      "\u001b[0m\n"
     ]
    },
    {
     "name": "stdin",
     "output_type": "stream",
     "text": [
      "ipdb>  \n"
     ]
    },
    {
     "name": "stdout",
     "output_type": "stream",
     "text": [
      "None\n",
      "> \u001b[0;32m/var/folders/zw/mqwlds_s7ml5_fvqptkb174h0000gn/T/ipykernel_62714/1059256208.py\u001b[0m(8)\u001b[0;36m<module>\u001b[0;34m()\u001b[0m\n",
      "\u001b[0;32m      7 \u001b[0;31m    \u001b[0;32mfor\u001b[0m \u001b[0meach_table_row\u001b[0m \u001b[0;32min\u001b[0m \u001b[0mtable_rows\u001b[0m\u001b[0;34m:\u001b[0m\u001b[0;34m\u001b[0m\u001b[0;34m\u001b[0m\u001b[0m\n",
      "\u001b[0m\u001b[0;32m----> 8 \u001b[0;31m        \u001b[0mtable_data\u001b[0m \u001b[0;34m=\u001b[0m \u001b[0meach_table_row\u001b[0m\u001b[0;34m.\u001b[0m\u001b[0mfind_all\u001b[0m\u001b[0;34m(\u001b[0m\u001b[0;34m'td'\u001b[0m\u001b[0;34m)\u001b[0m\u001b[0;34m\u001b[0m\u001b[0;34m\u001b[0m\u001b[0m\n",
      "\u001b[0m\u001b[0;32m      9 \u001b[0;31m        \u001b[0;32mif\u001b[0m \u001b[0mlen\u001b[0m\u001b[0;34m(\u001b[0m\u001b[0mtable_data\u001b[0m\u001b[0;34m)\u001b[0m \u001b[0;34m>\u001b[0m \u001b[0;36m1\u001b[0m\u001b[0;34m:\u001b[0m\u001b[0;34m\u001b[0m\u001b[0;34m\u001b[0m\u001b[0m\n",
      "\u001b[0m\n"
     ]
    },
    {
     "name": "stdin",
     "output_type": "stream",
     "text": [
      "ipdb>  \n"
     ]
    },
    {
     "name": "stdout",
     "output_type": "stream",
     "text": [
      "None\n",
      "> \u001b[0;32m/var/folders/zw/mqwlds_s7ml5_fvqptkb174h0000gn/T/ipykernel_62714/1059256208.py\u001b[0m(9)\u001b[0;36m<module>\u001b[0;34m()\u001b[0m\n",
      "\u001b[0;32m      8 \u001b[0;31m        \u001b[0mtable_data\u001b[0m \u001b[0;34m=\u001b[0m \u001b[0meach_table_row\u001b[0m\u001b[0;34m.\u001b[0m\u001b[0mfind_all\u001b[0m\u001b[0;34m(\u001b[0m\u001b[0;34m'td'\u001b[0m\u001b[0;34m)\u001b[0m\u001b[0;34m\u001b[0m\u001b[0;34m\u001b[0m\u001b[0m\n",
      "\u001b[0m\u001b[0;32m----> 9 \u001b[0;31m        \u001b[0;32mif\u001b[0m \u001b[0mlen\u001b[0m\u001b[0;34m(\u001b[0m\u001b[0mtable_data\u001b[0m\u001b[0;34m)\u001b[0m \u001b[0;34m>\u001b[0m \u001b[0;36m1\u001b[0m\u001b[0;34m:\u001b[0m\u001b[0;34m\u001b[0m\u001b[0;34m\u001b[0m\u001b[0m\n",
      "\u001b[0m\u001b[0;32m     10 \u001b[0;31m            \u001b[0mkey\u001b[0m \u001b[0;34m=\u001b[0m \u001b[0meach_table_row\u001b[0m\u001b[0;34m.\u001b[0m\u001b[0mfind_all\u001b[0m\u001b[0;34m(\u001b[0m\u001b[0;34m'td'\u001b[0m\u001b[0;34m)\u001b[0m\u001b[0;34m[\u001b[0m\u001b[0;36m0\u001b[0m\u001b[0;34m]\u001b[0m\u001b[0;34m.\u001b[0m\u001b[0mtext\u001b[0m\u001b[0;34m\u001b[0m\u001b[0;34m\u001b[0m\u001b[0m\n",
      "\u001b[0m\n"
     ]
    },
    {
     "name": "stdin",
     "output_type": "stream",
     "text": [
      "ipdb>  \n"
     ]
    },
    {
     "name": "stdout",
     "output_type": "stream",
     "text": [
      "None\n",
      "> \u001b[0;32m/var/folders/zw/mqwlds_s7ml5_fvqptkb174h0000gn/T/ipykernel_62714/1059256208.py\u001b[0m(10)\u001b[0;36m<module>\u001b[0;34m()\u001b[0m\n",
      "\u001b[0;32m      9 \u001b[0;31m        \u001b[0;32mif\u001b[0m \u001b[0mlen\u001b[0m\u001b[0;34m(\u001b[0m\u001b[0mtable_data\u001b[0m\u001b[0;34m)\u001b[0m \u001b[0;34m>\u001b[0m \u001b[0;36m1\u001b[0m\u001b[0;34m:\u001b[0m\u001b[0;34m\u001b[0m\u001b[0;34m\u001b[0m\u001b[0m\n",
      "\u001b[0m\u001b[0;32m---> 10 \u001b[0;31m            \u001b[0mkey\u001b[0m \u001b[0;34m=\u001b[0m \u001b[0meach_table_row\u001b[0m\u001b[0;34m.\u001b[0m\u001b[0mfind_all\u001b[0m\u001b[0;34m(\u001b[0m\u001b[0;34m'td'\u001b[0m\u001b[0;34m)\u001b[0m\u001b[0;34m[\u001b[0m\u001b[0;36m0\u001b[0m\u001b[0;34m]\u001b[0m\u001b[0;34m.\u001b[0m\u001b[0mtext\u001b[0m\u001b[0;34m\u001b[0m\u001b[0;34m\u001b[0m\u001b[0m\n",
      "\u001b[0m\u001b[0;32m     11 \u001b[0;31m            \u001b[0mvalue\u001b[0m \u001b[0;34m=\u001b[0m \u001b[0meach_table_row\u001b[0m\u001b[0;34m.\u001b[0m\u001b[0mfind_all\u001b[0m\u001b[0;34m(\u001b[0m\u001b[0;34m'td'\u001b[0m\u001b[0;34m)\u001b[0m\u001b[0;34m[\u001b[0m\u001b[0;36m1\u001b[0m\u001b[0;34m]\u001b[0m\u001b[0;34m.\u001b[0m\u001b[0mtext\u001b[0m\u001b[0;34m\u001b[0m\u001b[0;34m\u001b[0m\u001b[0m\n",
      "\u001b[0m\n"
     ]
    },
    {
     "name": "stdin",
     "output_type": "stream",
     "text": [
      "ipdb>  \n"
     ]
    },
    {
     "name": "stdout",
     "output_type": "stream",
     "text": [
      "None\n",
      "> \u001b[0;32m/var/folders/zw/mqwlds_s7ml5_fvqptkb174h0000gn/T/ipykernel_62714/1059256208.py\u001b[0m(11)\u001b[0;36m<module>\u001b[0;34m()\u001b[0m\n",
      "\u001b[0;32m     10 \u001b[0;31m            \u001b[0mkey\u001b[0m \u001b[0;34m=\u001b[0m \u001b[0meach_table_row\u001b[0m\u001b[0;34m.\u001b[0m\u001b[0mfind_all\u001b[0m\u001b[0;34m(\u001b[0m\u001b[0;34m'td'\u001b[0m\u001b[0;34m)\u001b[0m\u001b[0;34m[\u001b[0m\u001b[0;36m0\u001b[0m\u001b[0;34m]\u001b[0m\u001b[0;34m.\u001b[0m\u001b[0mtext\u001b[0m\u001b[0;34m\u001b[0m\u001b[0;34m\u001b[0m\u001b[0m\n",
      "\u001b[0m\u001b[0;32m---> 11 \u001b[0;31m            \u001b[0mvalue\u001b[0m \u001b[0;34m=\u001b[0m \u001b[0meach_table_row\u001b[0m\u001b[0;34m.\u001b[0m\u001b[0mfind_all\u001b[0m\u001b[0;34m(\u001b[0m\u001b[0;34m'td'\u001b[0m\u001b[0;34m)\u001b[0m\u001b[0;34m[\u001b[0m\u001b[0;36m1\u001b[0m\u001b[0;34m]\u001b[0m\u001b[0;34m.\u001b[0m\u001b[0mtext\u001b[0m\u001b[0;34m\u001b[0m\u001b[0;34m\u001b[0m\u001b[0m\n",
      "\u001b[0m\u001b[0;32m     12 \u001b[0;31m            \u001b[0mmobile_specifications\u001b[0m\u001b[0;34m[\u001b[0m\u001b[0mmobile_name\u001b[0m\u001b[0;34m]\u001b[0m\u001b[0;34m[\u001b[0m\u001b[0mcategory_name\u001b[0m\u001b[0;34m]\u001b[0m\u001b[0;34m.\u001b[0m\u001b[0mupdate\u001b[0m\u001b[0;34m(\u001b[0m\u001b[0;34m{\u001b[0m \u001b[0mkey\u001b[0m\u001b[0;34m:\u001b[0m \u001b[0mvalue\u001b[0m\u001b[0;34m}\u001b[0m\u001b[0;34m)\u001b[0m\u001b[0;34m\u001b[0m\u001b[0;34m\u001b[0m\u001b[0m\n",
      "\u001b[0m\n"
     ]
    },
    {
     "name": "stdin",
     "output_type": "stream",
     "text": [
      "ipdb>  \n"
     ]
    },
    {
     "name": "stdout",
     "output_type": "stream",
     "text": [
      "None\n",
      "> \u001b[0;32m/var/folders/zw/mqwlds_s7ml5_fvqptkb174h0000gn/T/ipykernel_62714/1059256208.py\u001b[0m(12)\u001b[0;36m<module>\u001b[0;34m()\u001b[0m\n",
      "\u001b[0;32m     10 \u001b[0;31m            \u001b[0mkey\u001b[0m \u001b[0;34m=\u001b[0m \u001b[0meach_table_row\u001b[0m\u001b[0;34m.\u001b[0m\u001b[0mfind_all\u001b[0m\u001b[0;34m(\u001b[0m\u001b[0;34m'td'\u001b[0m\u001b[0;34m)\u001b[0m\u001b[0;34m[\u001b[0m\u001b[0;36m0\u001b[0m\u001b[0;34m]\u001b[0m\u001b[0;34m.\u001b[0m\u001b[0mtext\u001b[0m\u001b[0;34m\u001b[0m\u001b[0;34m\u001b[0m\u001b[0m\n",
      "\u001b[0m\u001b[0;32m     11 \u001b[0;31m            \u001b[0mvalue\u001b[0m \u001b[0;34m=\u001b[0m \u001b[0meach_table_row\u001b[0m\u001b[0;34m.\u001b[0m\u001b[0mfind_all\u001b[0m\u001b[0;34m(\u001b[0m\u001b[0;34m'td'\u001b[0m\u001b[0;34m)\u001b[0m\u001b[0;34m[\u001b[0m\u001b[0;36m1\u001b[0m\u001b[0;34m]\u001b[0m\u001b[0;34m.\u001b[0m\u001b[0mtext\u001b[0m\u001b[0;34m\u001b[0m\u001b[0;34m\u001b[0m\u001b[0m\n",
      "\u001b[0m\u001b[0;32m---> 12 \u001b[0;31m            \u001b[0mmobile_specifications\u001b[0m\u001b[0;34m[\u001b[0m\u001b[0mmobile_name\u001b[0m\u001b[0;34m]\u001b[0m\u001b[0;34m[\u001b[0m\u001b[0mcategory_name\u001b[0m\u001b[0;34m]\u001b[0m\u001b[0;34m.\u001b[0m\u001b[0mupdate\u001b[0m\u001b[0;34m(\u001b[0m\u001b[0;34m{\u001b[0m \u001b[0mkey\u001b[0m\u001b[0;34m:\u001b[0m \u001b[0mvalue\u001b[0m\u001b[0;34m}\u001b[0m\u001b[0;34m)\u001b[0m\u001b[0;34m\u001b[0m\u001b[0;34m\u001b[0m\u001b[0m\n",
      "\u001b[0m\n"
     ]
    },
    {
     "name": "stdin",
     "output_type": "stream",
     "text": [
      "ipdb>  \n"
     ]
    },
    {
     "name": "stdout",
     "output_type": "stream",
     "text": [
      "None\n",
      "> \u001b[0;32m/var/folders/zw/mqwlds_s7ml5_fvqptkb174h0000gn/T/ipykernel_62714/1059256208.py\u001b[0m(7)\u001b[0;36m<module>\u001b[0;34m()\u001b[0m\n",
      "\u001b[0;32m      6 \u001b[0;31m    \u001b[0mtable_rows\u001b[0m \u001b[0;34m=\u001b[0m \u001b[0mcategory_table_data\u001b[0m\u001b[0;34m.\u001b[0m\u001b[0mfind_all\u001b[0m\u001b[0;34m(\u001b[0m\u001b[0;34m'tr'\u001b[0m\u001b[0;34m)\u001b[0m\u001b[0;34m\u001b[0m\u001b[0;34m\u001b[0m\u001b[0m\n",
      "\u001b[0m\u001b[0;32m----> 7 \u001b[0;31m    \u001b[0;32mfor\u001b[0m \u001b[0meach_table_row\u001b[0m \u001b[0;32min\u001b[0m \u001b[0mtable_rows\u001b[0m\u001b[0;34m:\u001b[0m\u001b[0;34m\u001b[0m\u001b[0;34m\u001b[0m\u001b[0m\n",
      "\u001b[0m\u001b[0;32m      8 \u001b[0;31m        \u001b[0mtable_data\u001b[0m \u001b[0;34m=\u001b[0m \u001b[0meach_table_row\u001b[0m\u001b[0;34m.\u001b[0m\u001b[0mfind_all\u001b[0m\u001b[0;34m(\u001b[0m\u001b[0;34m'td'\u001b[0m\u001b[0;34m)\u001b[0m\u001b[0;34m\u001b[0m\u001b[0;34m\u001b[0m\u001b[0m\n",
      "\u001b[0m\n"
     ]
    },
    {
     "name": "stdin",
     "output_type": "stream",
     "text": [
      "ipdb>  \n"
     ]
    },
    {
     "name": "stdout",
     "output_type": "stream",
     "text": [
      "None\n",
      "> \u001b[0;32m/var/folders/zw/mqwlds_s7ml5_fvqptkb174h0000gn/T/ipykernel_62714/1059256208.py\u001b[0m(8)\u001b[0;36m<module>\u001b[0;34m()\u001b[0m\n",
      "\u001b[0;32m      7 \u001b[0;31m    \u001b[0;32mfor\u001b[0m \u001b[0meach_table_row\u001b[0m \u001b[0;32min\u001b[0m \u001b[0mtable_rows\u001b[0m\u001b[0;34m:\u001b[0m\u001b[0;34m\u001b[0m\u001b[0;34m\u001b[0m\u001b[0m\n",
      "\u001b[0m\u001b[0;32m----> 8 \u001b[0;31m        \u001b[0mtable_data\u001b[0m \u001b[0;34m=\u001b[0m \u001b[0meach_table_row\u001b[0m\u001b[0;34m.\u001b[0m\u001b[0mfind_all\u001b[0m\u001b[0;34m(\u001b[0m\u001b[0;34m'td'\u001b[0m\u001b[0;34m)\u001b[0m\u001b[0;34m\u001b[0m\u001b[0;34m\u001b[0m\u001b[0m\n",
      "\u001b[0m\u001b[0;32m      9 \u001b[0;31m        \u001b[0;32mif\u001b[0m \u001b[0mlen\u001b[0m\u001b[0;34m(\u001b[0m\u001b[0mtable_data\u001b[0m\u001b[0;34m)\u001b[0m \u001b[0;34m>\u001b[0m \u001b[0;36m1\u001b[0m\u001b[0;34m:\u001b[0m\u001b[0;34m\u001b[0m\u001b[0;34m\u001b[0m\u001b[0m\n",
      "\u001b[0m\n"
     ]
    },
    {
     "name": "stdin",
     "output_type": "stream",
     "text": [
      "ipdb>  \n"
     ]
    },
    {
     "name": "stdout",
     "output_type": "stream",
     "text": [
      "None\n",
      "> \u001b[0;32m/var/folders/zw/mqwlds_s7ml5_fvqptkb174h0000gn/T/ipykernel_62714/1059256208.py\u001b[0m(9)\u001b[0;36m<module>\u001b[0;34m()\u001b[0m\n",
      "\u001b[0;32m      8 \u001b[0;31m        \u001b[0mtable_data\u001b[0m \u001b[0;34m=\u001b[0m \u001b[0meach_table_row\u001b[0m\u001b[0;34m.\u001b[0m\u001b[0mfind_all\u001b[0m\u001b[0;34m(\u001b[0m\u001b[0;34m'td'\u001b[0m\u001b[0;34m)\u001b[0m\u001b[0;34m\u001b[0m\u001b[0;34m\u001b[0m\u001b[0m\n",
      "\u001b[0m\u001b[0;32m----> 9 \u001b[0;31m        \u001b[0;32mif\u001b[0m \u001b[0mlen\u001b[0m\u001b[0;34m(\u001b[0m\u001b[0mtable_data\u001b[0m\u001b[0;34m)\u001b[0m \u001b[0;34m>\u001b[0m \u001b[0;36m1\u001b[0m\u001b[0;34m:\u001b[0m\u001b[0;34m\u001b[0m\u001b[0;34m\u001b[0m\u001b[0m\n",
      "\u001b[0m\u001b[0;32m     10 \u001b[0;31m            \u001b[0mkey\u001b[0m \u001b[0;34m=\u001b[0m \u001b[0meach_table_row\u001b[0m\u001b[0;34m.\u001b[0m\u001b[0mfind_all\u001b[0m\u001b[0;34m(\u001b[0m\u001b[0;34m'td'\u001b[0m\u001b[0;34m)\u001b[0m\u001b[0;34m[\u001b[0m\u001b[0;36m0\u001b[0m\u001b[0;34m]\u001b[0m\u001b[0;34m.\u001b[0m\u001b[0mtext\u001b[0m\u001b[0;34m\u001b[0m\u001b[0;34m\u001b[0m\u001b[0m\n",
      "\u001b[0m\n"
     ]
    },
    {
     "name": "stdin",
     "output_type": "stream",
     "text": [
      "ipdb>  \n"
     ]
    },
    {
     "name": "stdout",
     "output_type": "stream",
     "text": [
      "None\n",
      "> \u001b[0;32m/var/folders/zw/mqwlds_s7ml5_fvqptkb174h0000gn/T/ipykernel_62714/1059256208.py\u001b[0m(10)\u001b[0;36m<module>\u001b[0;34m()\u001b[0m\n",
      "\u001b[0;32m      9 \u001b[0;31m        \u001b[0;32mif\u001b[0m \u001b[0mlen\u001b[0m\u001b[0;34m(\u001b[0m\u001b[0mtable_data\u001b[0m\u001b[0;34m)\u001b[0m \u001b[0;34m>\u001b[0m \u001b[0;36m1\u001b[0m\u001b[0;34m:\u001b[0m\u001b[0;34m\u001b[0m\u001b[0;34m\u001b[0m\u001b[0m\n",
      "\u001b[0m\u001b[0;32m---> 10 \u001b[0;31m            \u001b[0mkey\u001b[0m \u001b[0;34m=\u001b[0m \u001b[0meach_table_row\u001b[0m\u001b[0;34m.\u001b[0m\u001b[0mfind_all\u001b[0m\u001b[0;34m(\u001b[0m\u001b[0;34m'td'\u001b[0m\u001b[0;34m)\u001b[0m\u001b[0;34m[\u001b[0m\u001b[0;36m0\u001b[0m\u001b[0;34m]\u001b[0m\u001b[0;34m.\u001b[0m\u001b[0mtext\u001b[0m\u001b[0;34m\u001b[0m\u001b[0;34m\u001b[0m\u001b[0m\n",
      "\u001b[0m\u001b[0;32m     11 \u001b[0;31m            \u001b[0mvalue\u001b[0m \u001b[0;34m=\u001b[0m \u001b[0meach_table_row\u001b[0m\u001b[0;34m.\u001b[0m\u001b[0mfind_all\u001b[0m\u001b[0;34m(\u001b[0m\u001b[0;34m'td'\u001b[0m\u001b[0;34m)\u001b[0m\u001b[0;34m[\u001b[0m\u001b[0;36m1\u001b[0m\u001b[0;34m]\u001b[0m\u001b[0;34m.\u001b[0m\u001b[0mtext\u001b[0m\u001b[0;34m\u001b[0m\u001b[0;34m\u001b[0m\u001b[0m\n",
      "\u001b[0m\n"
     ]
    },
    {
     "name": "stdin",
     "output_type": "stream",
     "text": [
      "ipdb>  \n"
     ]
    },
    {
     "name": "stdout",
     "output_type": "stream",
     "text": [
      "None\n",
      "> \u001b[0;32m/var/folders/zw/mqwlds_s7ml5_fvqptkb174h0000gn/T/ipykernel_62714/1059256208.py\u001b[0m(11)\u001b[0;36m<module>\u001b[0;34m()\u001b[0m\n",
      "\u001b[0;32m     10 \u001b[0;31m            \u001b[0mkey\u001b[0m \u001b[0;34m=\u001b[0m \u001b[0meach_table_row\u001b[0m\u001b[0;34m.\u001b[0m\u001b[0mfind_all\u001b[0m\u001b[0;34m(\u001b[0m\u001b[0;34m'td'\u001b[0m\u001b[0;34m)\u001b[0m\u001b[0;34m[\u001b[0m\u001b[0;36m0\u001b[0m\u001b[0;34m]\u001b[0m\u001b[0;34m.\u001b[0m\u001b[0mtext\u001b[0m\u001b[0;34m\u001b[0m\u001b[0;34m\u001b[0m\u001b[0m\n",
      "\u001b[0m\u001b[0;32m---> 11 \u001b[0;31m            \u001b[0mvalue\u001b[0m \u001b[0;34m=\u001b[0m \u001b[0meach_table_row\u001b[0m\u001b[0;34m.\u001b[0m\u001b[0mfind_all\u001b[0m\u001b[0;34m(\u001b[0m\u001b[0;34m'td'\u001b[0m\u001b[0;34m)\u001b[0m\u001b[0;34m[\u001b[0m\u001b[0;36m1\u001b[0m\u001b[0;34m]\u001b[0m\u001b[0;34m.\u001b[0m\u001b[0mtext\u001b[0m\u001b[0;34m\u001b[0m\u001b[0;34m\u001b[0m\u001b[0m\n",
      "\u001b[0m\u001b[0;32m     12 \u001b[0;31m            \u001b[0mmobile_specifications\u001b[0m\u001b[0;34m[\u001b[0m\u001b[0mmobile_name\u001b[0m\u001b[0;34m]\u001b[0m\u001b[0;34m[\u001b[0m\u001b[0mcategory_name\u001b[0m\u001b[0;34m]\u001b[0m\u001b[0;34m.\u001b[0m\u001b[0mupdate\u001b[0m\u001b[0;34m(\u001b[0m\u001b[0;34m{\u001b[0m \u001b[0mkey\u001b[0m\u001b[0;34m:\u001b[0m \u001b[0mvalue\u001b[0m\u001b[0;34m}\u001b[0m\u001b[0;34m)\u001b[0m\u001b[0;34m\u001b[0m\u001b[0;34m\u001b[0m\u001b[0m\n",
      "\u001b[0m\n"
     ]
    },
    {
     "name": "stdin",
     "output_type": "stream",
     "text": [
      "ipdb>  \n"
     ]
    },
    {
     "name": "stdout",
     "output_type": "stream",
     "text": [
      "None\n",
      "> \u001b[0;32m/var/folders/zw/mqwlds_s7ml5_fvqptkb174h0000gn/T/ipykernel_62714/1059256208.py\u001b[0m(12)\u001b[0;36m<module>\u001b[0;34m()\u001b[0m\n",
      "\u001b[0;32m     10 \u001b[0;31m            \u001b[0mkey\u001b[0m \u001b[0;34m=\u001b[0m \u001b[0meach_table_row\u001b[0m\u001b[0;34m.\u001b[0m\u001b[0mfind_all\u001b[0m\u001b[0;34m(\u001b[0m\u001b[0;34m'td'\u001b[0m\u001b[0;34m)\u001b[0m\u001b[0;34m[\u001b[0m\u001b[0;36m0\u001b[0m\u001b[0;34m]\u001b[0m\u001b[0;34m.\u001b[0m\u001b[0mtext\u001b[0m\u001b[0;34m\u001b[0m\u001b[0;34m\u001b[0m\u001b[0m\n",
      "\u001b[0m\u001b[0;32m     11 \u001b[0;31m            \u001b[0mvalue\u001b[0m \u001b[0;34m=\u001b[0m \u001b[0meach_table_row\u001b[0m\u001b[0;34m.\u001b[0m\u001b[0mfind_all\u001b[0m\u001b[0;34m(\u001b[0m\u001b[0;34m'td'\u001b[0m\u001b[0;34m)\u001b[0m\u001b[0;34m[\u001b[0m\u001b[0;36m1\u001b[0m\u001b[0;34m]\u001b[0m\u001b[0;34m.\u001b[0m\u001b[0mtext\u001b[0m\u001b[0;34m\u001b[0m\u001b[0;34m\u001b[0m\u001b[0m\n",
      "\u001b[0m\u001b[0;32m---> 12 \u001b[0;31m            \u001b[0mmobile_specifications\u001b[0m\u001b[0;34m[\u001b[0m\u001b[0mmobile_name\u001b[0m\u001b[0;34m]\u001b[0m\u001b[0;34m[\u001b[0m\u001b[0mcategory_name\u001b[0m\u001b[0;34m]\u001b[0m\u001b[0;34m.\u001b[0m\u001b[0mupdate\u001b[0m\u001b[0;34m(\u001b[0m\u001b[0;34m{\u001b[0m \u001b[0mkey\u001b[0m\u001b[0;34m:\u001b[0m \u001b[0mvalue\u001b[0m\u001b[0;34m}\u001b[0m\u001b[0;34m)\u001b[0m\u001b[0;34m\u001b[0m\u001b[0;34m\u001b[0m\u001b[0m\n",
      "\u001b[0m\n"
     ]
    },
    {
     "name": "stdin",
     "output_type": "stream",
     "text": [
      "ipdb>  \n"
     ]
    },
    {
     "name": "stdout",
     "output_type": "stream",
     "text": [
      "None\n",
      "> \u001b[0;32m/var/folders/zw/mqwlds_s7ml5_fvqptkb174h0000gn/T/ipykernel_62714/1059256208.py\u001b[0m(7)\u001b[0;36m<module>\u001b[0;34m()\u001b[0m\n",
      "\u001b[0;32m      6 \u001b[0;31m    \u001b[0mtable_rows\u001b[0m \u001b[0;34m=\u001b[0m \u001b[0mcategory_table_data\u001b[0m\u001b[0;34m.\u001b[0m\u001b[0mfind_all\u001b[0m\u001b[0;34m(\u001b[0m\u001b[0;34m'tr'\u001b[0m\u001b[0;34m)\u001b[0m\u001b[0;34m\u001b[0m\u001b[0;34m\u001b[0m\u001b[0m\n",
      "\u001b[0m\u001b[0;32m----> 7 \u001b[0;31m    \u001b[0;32mfor\u001b[0m \u001b[0meach_table_row\u001b[0m \u001b[0;32min\u001b[0m \u001b[0mtable_rows\u001b[0m\u001b[0;34m:\u001b[0m\u001b[0;34m\u001b[0m\u001b[0;34m\u001b[0m\u001b[0m\n",
      "\u001b[0m\u001b[0;32m      8 \u001b[0;31m        \u001b[0mtable_data\u001b[0m \u001b[0;34m=\u001b[0m \u001b[0meach_table_row\u001b[0m\u001b[0;34m.\u001b[0m\u001b[0mfind_all\u001b[0m\u001b[0;34m(\u001b[0m\u001b[0;34m'td'\u001b[0m\u001b[0;34m)\u001b[0m\u001b[0;34m\u001b[0m\u001b[0;34m\u001b[0m\u001b[0m\n",
      "\u001b[0m\n"
     ]
    },
    {
     "name": "stdin",
     "output_type": "stream",
     "text": [
      "ipdb>  \n"
     ]
    },
    {
     "name": "stdout",
     "output_type": "stream",
     "text": [
      "None\n",
      "> \u001b[0;32m/var/folders/zw/mqwlds_s7ml5_fvqptkb174h0000gn/T/ipykernel_62714/1059256208.py\u001b[0m(8)\u001b[0;36m<module>\u001b[0;34m()\u001b[0m\n",
      "\u001b[0;32m      7 \u001b[0;31m    \u001b[0;32mfor\u001b[0m \u001b[0meach_table_row\u001b[0m \u001b[0;32min\u001b[0m \u001b[0mtable_rows\u001b[0m\u001b[0;34m:\u001b[0m\u001b[0;34m\u001b[0m\u001b[0;34m\u001b[0m\u001b[0m\n",
      "\u001b[0m\u001b[0;32m----> 8 \u001b[0;31m        \u001b[0mtable_data\u001b[0m \u001b[0;34m=\u001b[0m \u001b[0meach_table_row\u001b[0m\u001b[0;34m.\u001b[0m\u001b[0mfind_all\u001b[0m\u001b[0;34m(\u001b[0m\u001b[0;34m'td'\u001b[0m\u001b[0;34m)\u001b[0m\u001b[0;34m\u001b[0m\u001b[0;34m\u001b[0m\u001b[0m\n",
      "\u001b[0m\u001b[0;32m      9 \u001b[0;31m        \u001b[0;32mif\u001b[0m \u001b[0mlen\u001b[0m\u001b[0;34m(\u001b[0m\u001b[0mtable_data\u001b[0m\u001b[0;34m)\u001b[0m \u001b[0;34m>\u001b[0m \u001b[0;36m1\u001b[0m\u001b[0;34m:\u001b[0m\u001b[0;34m\u001b[0m\u001b[0;34m\u001b[0m\u001b[0m\n",
      "\u001b[0m\n"
     ]
    },
    {
     "name": "stdin",
     "output_type": "stream",
     "text": [
      "ipdb>  \n"
     ]
    },
    {
     "name": "stdout",
     "output_type": "stream",
     "text": [
      "None\n",
      "> \u001b[0;32m/var/folders/zw/mqwlds_s7ml5_fvqptkb174h0000gn/T/ipykernel_62714/1059256208.py\u001b[0m(9)\u001b[0;36m<module>\u001b[0;34m()\u001b[0m\n",
      "\u001b[0;32m      8 \u001b[0;31m        \u001b[0mtable_data\u001b[0m \u001b[0;34m=\u001b[0m \u001b[0meach_table_row\u001b[0m\u001b[0;34m.\u001b[0m\u001b[0mfind_all\u001b[0m\u001b[0;34m(\u001b[0m\u001b[0;34m'td'\u001b[0m\u001b[0;34m)\u001b[0m\u001b[0;34m\u001b[0m\u001b[0;34m\u001b[0m\u001b[0m\n",
      "\u001b[0m\u001b[0;32m----> 9 \u001b[0;31m        \u001b[0;32mif\u001b[0m \u001b[0mlen\u001b[0m\u001b[0;34m(\u001b[0m\u001b[0mtable_data\u001b[0m\u001b[0;34m)\u001b[0m \u001b[0;34m>\u001b[0m \u001b[0;36m1\u001b[0m\u001b[0;34m:\u001b[0m\u001b[0;34m\u001b[0m\u001b[0;34m\u001b[0m\u001b[0m\n",
      "\u001b[0m\u001b[0;32m     10 \u001b[0;31m            \u001b[0mkey\u001b[0m \u001b[0;34m=\u001b[0m \u001b[0meach_table_row\u001b[0m\u001b[0;34m.\u001b[0m\u001b[0mfind_all\u001b[0m\u001b[0;34m(\u001b[0m\u001b[0;34m'td'\u001b[0m\u001b[0;34m)\u001b[0m\u001b[0;34m[\u001b[0m\u001b[0;36m0\u001b[0m\u001b[0;34m]\u001b[0m\u001b[0;34m.\u001b[0m\u001b[0mtext\u001b[0m\u001b[0;34m\u001b[0m\u001b[0;34m\u001b[0m\u001b[0m\n",
      "\u001b[0m\n"
     ]
    },
    {
     "name": "stdin",
     "output_type": "stream",
     "text": [
      "ipdb>  \n"
     ]
    },
    {
     "name": "stdout",
     "output_type": "stream",
     "text": [
      "None\n",
      "> \u001b[0;32m/var/folders/zw/mqwlds_s7ml5_fvqptkb174h0000gn/T/ipykernel_62714/1059256208.py\u001b[0m(10)\u001b[0;36m<module>\u001b[0;34m()\u001b[0m\n",
      "\u001b[0;32m      9 \u001b[0;31m        \u001b[0;32mif\u001b[0m \u001b[0mlen\u001b[0m\u001b[0;34m(\u001b[0m\u001b[0mtable_data\u001b[0m\u001b[0;34m)\u001b[0m \u001b[0;34m>\u001b[0m \u001b[0;36m1\u001b[0m\u001b[0;34m:\u001b[0m\u001b[0;34m\u001b[0m\u001b[0;34m\u001b[0m\u001b[0m\n",
      "\u001b[0m\u001b[0;32m---> 10 \u001b[0;31m            \u001b[0mkey\u001b[0m \u001b[0;34m=\u001b[0m \u001b[0meach_table_row\u001b[0m\u001b[0;34m.\u001b[0m\u001b[0mfind_all\u001b[0m\u001b[0;34m(\u001b[0m\u001b[0;34m'td'\u001b[0m\u001b[0;34m)\u001b[0m\u001b[0;34m[\u001b[0m\u001b[0;36m0\u001b[0m\u001b[0;34m]\u001b[0m\u001b[0;34m.\u001b[0m\u001b[0mtext\u001b[0m\u001b[0;34m\u001b[0m\u001b[0;34m\u001b[0m\u001b[0m\n",
      "\u001b[0m\u001b[0;32m     11 \u001b[0;31m            \u001b[0mvalue\u001b[0m \u001b[0;34m=\u001b[0m \u001b[0meach_table_row\u001b[0m\u001b[0;34m.\u001b[0m\u001b[0mfind_all\u001b[0m\u001b[0;34m(\u001b[0m\u001b[0;34m'td'\u001b[0m\u001b[0;34m)\u001b[0m\u001b[0;34m[\u001b[0m\u001b[0;36m1\u001b[0m\u001b[0;34m]\u001b[0m\u001b[0;34m.\u001b[0m\u001b[0mtext\u001b[0m\u001b[0;34m\u001b[0m\u001b[0;34m\u001b[0m\u001b[0m\n",
      "\u001b[0m\n"
     ]
    },
    {
     "name": "stdin",
     "output_type": "stream",
     "text": [
      "ipdb>  \n"
     ]
    },
    {
     "name": "stdout",
     "output_type": "stream",
     "text": [
      "None\n",
      "> \u001b[0;32m/var/folders/zw/mqwlds_s7ml5_fvqptkb174h0000gn/T/ipykernel_62714/1059256208.py\u001b[0m(11)\u001b[0;36m<module>\u001b[0;34m()\u001b[0m\n",
      "\u001b[0;32m     10 \u001b[0;31m            \u001b[0mkey\u001b[0m \u001b[0;34m=\u001b[0m \u001b[0meach_table_row\u001b[0m\u001b[0;34m.\u001b[0m\u001b[0mfind_all\u001b[0m\u001b[0;34m(\u001b[0m\u001b[0;34m'td'\u001b[0m\u001b[0;34m)\u001b[0m\u001b[0;34m[\u001b[0m\u001b[0;36m0\u001b[0m\u001b[0;34m]\u001b[0m\u001b[0;34m.\u001b[0m\u001b[0mtext\u001b[0m\u001b[0;34m\u001b[0m\u001b[0;34m\u001b[0m\u001b[0m\n",
      "\u001b[0m\u001b[0;32m---> 11 \u001b[0;31m            \u001b[0mvalue\u001b[0m \u001b[0;34m=\u001b[0m \u001b[0meach_table_row\u001b[0m\u001b[0;34m.\u001b[0m\u001b[0mfind_all\u001b[0m\u001b[0;34m(\u001b[0m\u001b[0;34m'td'\u001b[0m\u001b[0;34m)\u001b[0m\u001b[0;34m[\u001b[0m\u001b[0;36m1\u001b[0m\u001b[0;34m]\u001b[0m\u001b[0;34m.\u001b[0m\u001b[0mtext\u001b[0m\u001b[0;34m\u001b[0m\u001b[0;34m\u001b[0m\u001b[0m\n",
      "\u001b[0m\u001b[0;32m     12 \u001b[0;31m            \u001b[0mmobile_specifications\u001b[0m\u001b[0;34m[\u001b[0m\u001b[0mmobile_name\u001b[0m\u001b[0;34m]\u001b[0m\u001b[0;34m[\u001b[0m\u001b[0mcategory_name\u001b[0m\u001b[0;34m]\u001b[0m\u001b[0;34m.\u001b[0m\u001b[0mupdate\u001b[0m\u001b[0;34m(\u001b[0m\u001b[0;34m{\u001b[0m \u001b[0mkey\u001b[0m\u001b[0;34m:\u001b[0m \u001b[0mvalue\u001b[0m\u001b[0;34m}\u001b[0m\u001b[0;34m)\u001b[0m\u001b[0;34m\u001b[0m\u001b[0;34m\u001b[0m\u001b[0m\n",
      "\u001b[0m\n"
     ]
    },
    {
     "name": "stdin",
     "output_type": "stream",
     "text": [
      "ipdb>  \n"
     ]
    },
    {
     "name": "stdout",
     "output_type": "stream",
     "text": [
      "None\n",
      "> \u001b[0;32m/var/folders/zw/mqwlds_s7ml5_fvqptkb174h0000gn/T/ipykernel_62714/1059256208.py\u001b[0m(12)\u001b[0;36m<module>\u001b[0;34m()\u001b[0m\n",
      "\u001b[0;32m     10 \u001b[0;31m            \u001b[0mkey\u001b[0m \u001b[0;34m=\u001b[0m \u001b[0meach_table_row\u001b[0m\u001b[0;34m.\u001b[0m\u001b[0mfind_all\u001b[0m\u001b[0;34m(\u001b[0m\u001b[0;34m'td'\u001b[0m\u001b[0;34m)\u001b[0m\u001b[0;34m[\u001b[0m\u001b[0;36m0\u001b[0m\u001b[0;34m]\u001b[0m\u001b[0;34m.\u001b[0m\u001b[0mtext\u001b[0m\u001b[0;34m\u001b[0m\u001b[0;34m\u001b[0m\u001b[0m\n",
      "\u001b[0m\u001b[0;32m     11 \u001b[0;31m            \u001b[0mvalue\u001b[0m \u001b[0;34m=\u001b[0m \u001b[0meach_table_row\u001b[0m\u001b[0;34m.\u001b[0m\u001b[0mfind_all\u001b[0m\u001b[0;34m(\u001b[0m\u001b[0;34m'td'\u001b[0m\u001b[0;34m)\u001b[0m\u001b[0;34m[\u001b[0m\u001b[0;36m1\u001b[0m\u001b[0;34m]\u001b[0m\u001b[0;34m.\u001b[0m\u001b[0mtext\u001b[0m\u001b[0;34m\u001b[0m\u001b[0;34m\u001b[0m\u001b[0m\n",
      "\u001b[0m\u001b[0;32m---> 12 \u001b[0;31m            \u001b[0mmobile_specifications\u001b[0m\u001b[0;34m[\u001b[0m\u001b[0mmobile_name\u001b[0m\u001b[0;34m]\u001b[0m\u001b[0;34m[\u001b[0m\u001b[0mcategory_name\u001b[0m\u001b[0;34m]\u001b[0m\u001b[0;34m.\u001b[0m\u001b[0mupdate\u001b[0m\u001b[0;34m(\u001b[0m\u001b[0;34m{\u001b[0m \u001b[0mkey\u001b[0m\u001b[0;34m:\u001b[0m \u001b[0mvalue\u001b[0m\u001b[0;34m}\u001b[0m\u001b[0;34m)\u001b[0m\u001b[0;34m\u001b[0m\u001b[0;34m\u001b[0m\u001b[0m\n",
      "\u001b[0m\n"
     ]
    },
    {
     "name": "stdin",
     "output_type": "stream",
     "text": [
      "ipdb>  \n"
     ]
    },
    {
     "name": "stdout",
     "output_type": "stream",
     "text": [
      "None\n",
      "> \u001b[0;32m/var/folders/zw/mqwlds_s7ml5_fvqptkb174h0000gn/T/ipykernel_62714/1059256208.py\u001b[0m(7)\u001b[0;36m<module>\u001b[0;34m()\u001b[0m\n",
      "\u001b[0;32m      6 \u001b[0;31m    \u001b[0mtable_rows\u001b[0m \u001b[0;34m=\u001b[0m \u001b[0mcategory_table_data\u001b[0m\u001b[0;34m.\u001b[0m\u001b[0mfind_all\u001b[0m\u001b[0;34m(\u001b[0m\u001b[0;34m'tr'\u001b[0m\u001b[0;34m)\u001b[0m\u001b[0;34m\u001b[0m\u001b[0;34m\u001b[0m\u001b[0m\n",
      "\u001b[0m\u001b[0;32m----> 7 \u001b[0;31m    \u001b[0;32mfor\u001b[0m \u001b[0meach_table_row\u001b[0m \u001b[0;32min\u001b[0m \u001b[0mtable_rows\u001b[0m\u001b[0;34m:\u001b[0m\u001b[0;34m\u001b[0m\u001b[0;34m\u001b[0m\u001b[0m\n",
      "\u001b[0m\u001b[0;32m      8 \u001b[0;31m        \u001b[0mtable_data\u001b[0m \u001b[0;34m=\u001b[0m \u001b[0meach_table_row\u001b[0m\u001b[0;34m.\u001b[0m\u001b[0mfind_all\u001b[0m\u001b[0;34m(\u001b[0m\u001b[0;34m'td'\u001b[0m\u001b[0;34m)\u001b[0m\u001b[0;34m\u001b[0m\u001b[0;34m\u001b[0m\u001b[0m\n",
      "\u001b[0m\n"
     ]
    },
    {
     "name": "stdin",
     "output_type": "stream",
     "text": [
      "ipdb>  \n"
     ]
    },
    {
     "name": "stdout",
     "output_type": "stream",
     "text": [
      "None\n",
      "> \u001b[0;32m/var/folders/zw/mqwlds_s7ml5_fvqptkb174h0000gn/T/ipykernel_62714/1059256208.py\u001b[0m(8)\u001b[0;36m<module>\u001b[0;34m()\u001b[0m\n",
      "\u001b[0;32m      7 \u001b[0;31m    \u001b[0;32mfor\u001b[0m \u001b[0meach_table_row\u001b[0m \u001b[0;32min\u001b[0m \u001b[0mtable_rows\u001b[0m\u001b[0;34m:\u001b[0m\u001b[0;34m\u001b[0m\u001b[0;34m\u001b[0m\u001b[0m\n",
      "\u001b[0m\u001b[0;32m----> 8 \u001b[0;31m        \u001b[0mtable_data\u001b[0m \u001b[0;34m=\u001b[0m \u001b[0meach_table_row\u001b[0m\u001b[0;34m.\u001b[0m\u001b[0mfind_all\u001b[0m\u001b[0;34m(\u001b[0m\u001b[0;34m'td'\u001b[0m\u001b[0;34m)\u001b[0m\u001b[0;34m\u001b[0m\u001b[0;34m\u001b[0m\u001b[0m\n",
      "\u001b[0m\u001b[0;32m      9 \u001b[0;31m        \u001b[0;32mif\u001b[0m \u001b[0mlen\u001b[0m\u001b[0;34m(\u001b[0m\u001b[0mtable_data\u001b[0m\u001b[0;34m)\u001b[0m \u001b[0;34m>\u001b[0m \u001b[0;36m1\u001b[0m\u001b[0;34m:\u001b[0m\u001b[0;34m\u001b[0m\u001b[0;34m\u001b[0m\u001b[0m\n",
      "\u001b[0m\n"
     ]
    },
    {
     "name": "stdin",
     "output_type": "stream",
     "text": [
      "ipdb>  \n"
     ]
    },
    {
     "name": "stdout",
     "output_type": "stream",
     "text": [
      "None\n",
      "> \u001b[0;32m/var/folders/zw/mqwlds_s7ml5_fvqptkb174h0000gn/T/ipykernel_62714/1059256208.py\u001b[0m(9)\u001b[0;36m<module>\u001b[0;34m()\u001b[0m\n",
      "\u001b[0;32m      8 \u001b[0;31m        \u001b[0mtable_data\u001b[0m \u001b[0;34m=\u001b[0m \u001b[0meach_table_row\u001b[0m\u001b[0;34m.\u001b[0m\u001b[0mfind_all\u001b[0m\u001b[0;34m(\u001b[0m\u001b[0;34m'td'\u001b[0m\u001b[0;34m)\u001b[0m\u001b[0;34m\u001b[0m\u001b[0;34m\u001b[0m\u001b[0m\n",
      "\u001b[0m\u001b[0;32m----> 9 \u001b[0;31m        \u001b[0;32mif\u001b[0m \u001b[0mlen\u001b[0m\u001b[0;34m(\u001b[0m\u001b[0mtable_data\u001b[0m\u001b[0;34m)\u001b[0m \u001b[0;34m>\u001b[0m \u001b[0;36m1\u001b[0m\u001b[0;34m:\u001b[0m\u001b[0;34m\u001b[0m\u001b[0;34m\u001b[0m\u001b[0m\n",
      "\u001b[0m\u001b[0;32m     10 \u001b[0;31m            \u001b[0mkey\u001b[0m \u001b[0;34m=\u001b[0m \u001b[0meach_table_row\u001b[0m\u001b[0;34m.\u001b[0m\u001b[0mfind_all\u001b[0m\u001b[0;34m(\u001b[0m\u001b[0;34m'td'\u001b[0m\u001b[0;34m)\u001b[0m\u001b[0;34m[\u001b[0m\u001b[0;36m0\u001b[0m\u001b[0;34m]\u001b[0m\u001b[0;34m.\u001b[0m\u001b[0mtext\u001b[0m\u001b[0;34m\u001b[0m\u001b[0;34m\u001b[0m\u001b[0m\n",
      "\u001b[0m\n"
     ]
    },
    {
     "name": "stdin",
     "output_type": "stream",
     "text": [
      "ipdb>  \n"
     ]
    },
    {
     "name": "stdout",
     "output_type": "stream",
     "text": [
      "None\n",
      "> \u001b[0;32m/var/folders/zw/mqwlds_s7ml5_fvqptkb174h0000gn/T/ipykernel_62714/1059256208.py\u001b[0m(10)\u001b[0;36m<module>\u001b[0;34m()\u001b[0m\n",
      "\u001b[0;32m      9 \u001b[0;31m        \u001b[0;32mif\u001b[0m \u001b[0mlen\u001b[0m\u001b[0;34m(\u001b[0m\u001b[0mtable_data\u001b[0m\u001b[0;34m)\u001b[0m \u001b[0;34m>\u001b[0m \u001b[0;36m1\u001b[0m\u001b[0;34m:\u001b[0m\u001b[0;34m\u001b[0m\u001b[0;34m\u001b[0m\u001b[0m\n",
      "\u001b[0m\u001b[0;32m---> 10 \u001b[0;31m            \u001b[0mkey\u001b[0m \u001b[0;34m=\u001b[0m \u001b[0meach_table_row\u001b[0m\u001b[0;34m.\u001b[0m\u001b[0mfind_all\u001b[0m\u001b[0;34m(\u001b[0m\u001b[0;34m'td'\u001b[0m\u001b[0;34m)\u001b[0m\u001b[0;34m[\u001b[0m\u001b[0;36m0\u001b[0m\u001b[0;34m]\u001b[0m\u001b[0;34m.\u001b[0m\u001b[0mtext\u001b[0m\u001b[0;34m\u001b[0m\u001b[0;34m\u001b[0m\u001b[0m\n",
      "\u001b[0m\u001b[0;32m     11 \u001b[0;31m            \u001b[0mvalue\u001b[0m \u001b[0;34m=\u001b[0m \u001b[0meach_table_row\u001b[0m\u001b[0;34m.\u001b[0m\u001b[0mfind_all\u001b[0m\u001b[0;34m(\u001b[0m\u001b[0;34m'td'\u001b[0m\u001b[0;34m)\u001b[0m\u001b[0;34m[\u001b[0m\u001b[0;36m1\u001b[0m\u001b[0;34m]\u001b[0m\u001b[0;34m.\u001b[0m\u001b[0mtext\u001b[0m\u001b[0;34m\u001b[0m\u001b[0;34m\u001b[0m\u001b[0m\n",
      "\u001b[0m\n"
     ]
    },
    {
     "name": "stdin",
     "output_type": "stream",
     "text": [
      "ipdb>  \n"
     ]
    },
    {
     "name": "stdout",
     "output_type": "stream",
     "text": [
      "None\n",
      "> \u001b[0;32m/var/folders/zw/mqwlds_s7ml5_fvqptkb174h0000gn/T/ipykernel_62714/1059256208.py\u001b[0m(11)\u001b[0;36m<module>\u001b[0;34m()\u001b[0m\n",
      "\u001b[0;32m     10 \u001b[0;31m            \u001b[0mkey\u001b[0m \u001b[0;34m=\u001b[0m \u001b[0meach_table_row\u001b[0m\u001b[0;34m.\u001b[0m\u001b[0mfind_all\u001b[0m\u001b[0;34m(\u001b[0m\u001b[0;34m'td'\u001b[0m\u001b[0;34m)\u001b[0m\u001b[0;34m[\u001b[0m\u001b[0;36m0\u001b[0m\u001b[0;34m]\u001b[0m\u001b[0;34m.\u001b[0m\u001b[0mtext\u001b[0m\u001b[0;34m\u001b[0m\u001b[0;34m\u001b[0m\u001b[0m\n",
      "\u001b[0m\u001b[0;32m---> 11 \u001b[0;31m            \u001b[0mvalue\u001b[0m \u001b[0;34m=\u001b[0m \u001b[0meach_table_row\u001b[0m\u001b[0;34m.\u001b[0m\u001b[0mfind_all\u001b[0m\u001b[0;34m(\u001b[0m\u001b[0;34m'td'\u001b[0m\u001b[0;34m)\u001b[0m\u001b[0;34m[\u001b[0m\u001b[0;36m1\u001b[0m\u001b[0;34m]\u001b[0m\u001b[0;34m.\u001b[0m\u001b[0mtext\u001b[0m\u001b[0;34m\u001b[0m\u001b[0;34m\u001b[0m\u001b[0m\n",
      "\u001b[0m\u001b[0;32m     12 \u001b[0;31m            \u001b[0mmobile_specifications\u001b[0m\u001b[0;34m[\u001b[0m\u001b[0mmobile_name\u001b[0m\u001b[0;34m]\u001b[0m\u001b[0;34m[\u001b[0m\u001b[0mcategory_name\u001b[0m\u001b[0;34m]\u001b[0m\u001b[0;34m.\u001b[0m\u001b[0mupdate\u001b[0m\u001b[0;34m(\u001b[0m\u001b[0;34m{\u001b[0m \u001b[0mkey\u001b[0m\u001b[0;34m:\u001b[0m \u001b[0mvalue\u001b[0m\u001b[0;34m}\u001b[0m\u001b[0;34m)\u001b[0m\u001b[0;34m\u001b[0m\u001b[0;34m\u001b[0m\u001b[0m\n",
      "\u001b[0m\n"
     ]
    },
    {
     "name": "stdin",
     "output_type": "stream",
     "text": [
      "ipdb>  \n"
     ]
    },
    {
     "name": "stdout",
     "output_type": "stream",
     "text": [
      "None\n",
      "> \u001b[0;32m/var/folders/zw/mqwlds_s7ml5_fvqptkb174h0000gn/T/ipykernel_62714/1059256208.py\u001b[0m(12)\u001b[0;36m<module>\u001b[0;34m()\u001b[0m\n",
      "\u001b[0;32m     10 \u001b[0;31m            \u001b[0mkey\u001b[0m \u001b[0;34m=\u001b[0m \u001b[0meach_table_row\u001b[0m\u001b[0;34m.\u001b[0m\u001b[0mfind_all\u001b[0m\u001b[0;34m(\u001b[0m\u001b[0;34m'td'\u001b[0m\u001b[0;34m)\u001b[0m\u001b[0;34m[\u001b[0m\u001b[0;36m0\u001b[0m\u001b[0;34m]\u001b[0m\u001b[0;34m.\u001b[0m\u001b[0mtext\u001b[0m\u001b[0;34m\u001b[0m\u001b[0;34m\u001b[0m\u001b[0m\n",
      "\u001b[0m\u001b[0;32m     11 \u001b[0;31m            \u001b[0mvalue\u001b[0m \u001b[0;34m=\u001b[0m \u001b[0meach_table_row\u001b[0m\u001b[0;34m.\u001b[0m\u001b[0mfind_all\u001b[0m\u001b[0;34m(\u001b[0m\u001b[0;34m'td'\u001b[0m\u001b[0;34m)\u001b[0m\u001b[0;34m[\u001b[0m\u001b[0;36m1\u001b[0m\u001b[0;34m]\u001b[0m\u001b[0;34m.\u001b[0m\u001b[0mtext\u001b[0m\u001b[0;34m\u001b[0m\u001b[0;34m\u001b[0m\u001b[0m\n",
      "\u001b[0m\u001b[0;32m---> 12 \u001b[0;31m            \u001b[0mmobile_specifications\u001b[0m\u001b[0;34m[\u001b[0m\u001b[0mmobile_name\u001b[0m\u001b[0;34m]\u001b[0m\u001b[0;34m[\u001b[0m\u001b[0mcategory_name\u001b[0m\u001b[0;34m]\u001b[0m\u001b[0;34m.\u001b[0m\u001b[0mupdate\u001b[0m\u001b[0;34m(\u001b[0m\u001b[0;34m{\u001b[0m \u001b[0mkey\u001b[0m\u001b[0;34m:\u001b[0m \u001b[0mvalue\u001b[0m\u001b[0;34m}\u001b[0m\u001b[0;34m)\u001b[0m\u001b[0;34m\u001b[0m\u001b[0;34m\u001b[0m\u001b[0m\n",
      "\u001b[0m\n"
     ]
    },
    {
     "name": "stdin",
     "output_type": "stream",
     "text": [
      "ipdb>  \n"
     ]
    },
    {
     "name": "stdout",
     "output_type": "stream",
     "text": [
      "None\n",
      "> \u001b[0;32m/var/folders/zw/mqwlds_s7ml5_fvqptkb174h0000gn/T/ipykernel_62714/1059256208.py\u001b[0m(7)\u001b[0;36m<module>\u001b[0;34m()\u001b[0m\n",
      "\u001b[0;32m      6 \u001b[0;31m    \u001b[0mtable_rows\u001b[0m \u001b[0;34m=\u001b[0m \u001b[0mcategory_table_data\u001b[0m\u001b[0;34m.\u001b[0m\u001b[0mfind_all\u001b[0m\u001b[0;34m(\u001b[0m\u001b[0;34m'tr'\u001b[0m\u001b[0;34m)\u001b[0m\u001b[0;34m\u001b[0m\u001b[0;34m\u001b[0m\u001b[0m\n",
      "\u001b[0m\u001b[0;32m----> 7 \u001b[0;31m    \u001b[0;32mfor\u001b[0m \u001b[0meach_table_row\u001b[0m \u001b[0;32min\u001b[0m \u001b[0mtable_rows\u001b[0m\u001b[0;34m:\u001b[0m\u001b[0;34m\u001b[0m\u001b[0;34m\u001b[0m\u001b[0m\n",
      "\u001b[0m\u001b[0;32m      8 \u001b[0;31m        \u001b[0mtable_data\u001b[0m \u001b[0;34m=\u001b[0m \u001b[0meach_table_row\u001b[0m\u001b[0;34m.\u001b[0m\u001b[0mfind_all\u001b[0m\u001b[0;34m(\u001b[0m\u001b[0;34m'td'\u001b[0m\u001b[0;34m)\u001b[0m\u001b[0;34m\u001b[0m\u001b[0;34m\u001b[0m\u001b[0m\n",
      "\u001b[0m\n"
     ]
    },
    {
     "name": "stdin",
     "output_type": "stream",
     "text": [
      "ipdb>  each_table_row\n"
     ]
    },
    {
     "name": "stdout",
     "output_type": "stream",
     "text": [
      "<tr>\n",
      "<td>Supports 4G in India (Band 40)</td>\n",
      "<td>Yes</td>\n",
      "</tr>\n"
     ]
    },
    {
     "name": "stdin",
     "output_type": "stream",
     "text": [
      "ipdb>  n\n"
     ]
    },
    {
     "name": "stdout",
     "output_type": "stream",
     "text": [
      "None\n",
      "> \u001b[0;32m/var/folders/zw/mqwlds_s7ml5_fvqptkb174h0000gn/T/ipykernel_62714/1059256208.py\u001b[0m(8)\u001b[0;36m<module>\u001b[0;34m()\u001b[0m\n",
      "\u001b[0;32m      7 \u001b[0;31m    \u001b[0;32mfor\u001b[0m \u001b[0meach_table_row\u001b[0m \u001b[0;32min\u001b[0m \u001b[0mtable_rows\u001b[0m\u001b[0;34m:\u001b[0m\u001b[0;34m\u001b[0m\u001b[0;34m\u001b[0m\u001b[0m\n",
      "\u001b[0m\u001b[0;32m----> 8 \u001b[0;31m        \u001b[0mtable_data\u001b[0m \u001b[0;34m=\u001b[0m \u001b[0meach_table_row\u001b[0m\u001b[0;34m.\u001b[0m\u001b[0mfind_all\u001b[0m\u001b[0;34m(\u001b[0m\u001b[0;34m'td'\u001b[0m\u001b[0;34m)\u001b[0m\u001b[0;34m\u001b[0m\u001b[0;34m\u001b[0m\u001b[0m\n",
      "\u001b[0m\u001b[0;32m      9 \u001b[0;31m        \u001b[0;32mif\u001b[0m \u001b[0mlen\u001b[0m\u001b[0;34m(\u001b[0m\u001b[0mtable_data\u001b[0m\u001b[0;34m)\u001b[0m \u001b[0;34m>\u001b[0m \u001b[0;36m1\u001b[0m\u001b[0;34m:\u001b[0m\u001b[0;34m\u001b[0m\u001b[0;34m\u001b[0m\u001b[0m\n",
      "\u001b[0m\n"
     ]
    },
    {
     "name": "stdin",
     "output_type": "stream",
     "text": [
      "ipdb>  \n"
     ]
    },
    {
     "name": "stdout",
     "output_type": "stream",
     "text": [
      "None\n",
      "> \u001b[0;32m/var/folders/zw/mqwlds_s7ml5_fvqptkb174h0000gn/T/ipykernel_62714/1059256208.py\u001b[0m(9)\u001b[0;36m<module>\u001b[0;34m()\u001b[0m\n",
      "\u001b[0;32m      8 \u001b[0;31m        \u001b[0mtable_data\u001b[0m \u001b[0;34m=\u001b[0m \u001b[0meach_table_row\u001b[0m\u001b[0;34m.\u001b[0m\u001b[0mfind_all\u001b[0m\u001b[0;34m(\u001b[0m\u001b[0;34m'td'\u001b[0m\u001b[0;34m)\u001b[0m\u001b[0;34m\u001b[0m\u001b[0;34m\u001b[0m\u001b[0m\n",
      "\u001b[0m\u001b[0;32m----> 9 \u001b[0;31m        \u001b[0;32mif\u001b[0m \u001b[0mlen\u001b[0m\u001b[0;34m(\u001b[0m\u001b[0mtable_data\u001b[0m\u001b[0;34m)\u001b[0m \u001b[0;34m>\u001b[0m \u001b[0;36m1\u001b[0m\u001b[0;34m:\u001b[0m\u001b[0;34m\u001b[0m\u001b[0;34m\u001b[0m\u001b[0m\n",
      "\u001b[0m\u001b[0;32m     10 \u001b[0;31m            \u001b[0mkey\u001b[0m \u001b[0;34m=\u001b[0m \u001b[0meach_table_row\u001b[0m\u001b[0;34m.\u001b[0m\u001b[0mfind_all\u001b[0m\u001b[0;34m(\u001b[0m\u001b[0;34m'td'\u001b[0m\u001b[0;34m)\u001b[0m\u001b[0;34m[\u001b[0m\u001b[0;36m0\u001b[0m\u001b[0;34m]\u001b[0m\u001b[0;34m.\u001b[0m\u001b[0mtext\u001b[0m\u001b[0;34m\u001b[0m\u001b[0;34m\u001b[0m\u001b[0m\n",
      "\u001b[0m\n"
     ]
    },
    {
     "name": "stdin",
     "output_type": "stream",
     "text": [
      "ipdb>  \n"
     ]
    },
    {
     "name": "stdout",
     "output_type": "stream",
     "text": [
      "None\n",
      "> \u001b[0;32m/var/folders/zw/mqwlds_s7ml5_fvqptkb174h0000gn/T/ipykernel_62714/1059256208.py\u001b[0m(7)\u001b[0;36m<module>\u001b[0;34m()\u001b[0m\n",
      "\u001b[0;32m      6 \u001b[0;31m    \u001b[0mtable_rows\u001b[0m \u001b[0;34m=\u001b[0m \u001b[0mcategory_table_data\u001b[0m\u001b[0;34m.\u001b[0m\u001b[0mfind_all\u001b[0m\u001b[0;34m(\u001b[0m\u001b[0;34m'tr'\u001b[0m\u001b[0;34m)\u001b[0m\u001b[0;34m\u001b[0m\u001b[0;34m\u001b[0m\u001b[0m\n",
      "\u001b[0m\u001b[0;32m----> 7 \u001b[0;31m    \u001b[0;32mfor\u001b[0m \u001b[0meach_table_row\u001b[0m \u001b[0;32min\u001b[0m \u001b[0mtable_rows\u001b[0m\u001b[0;34m:\u001b[0m\u001b[0;34m\u001b[0m\u001b[0;34m\u001b[0m\u001b[0m\n",
      "\u001b[0m\u001b[0;32m      8 \u001b[0;31m        \u001b[0mtable_data\u001b[0m \u001b[0;34m=\u001b[0m \u001b[0meach_table_row\u001b[0m\u001b[0;34m.\u001b[0m\u001b[0mfind_all\u001b[0m\u001b[0;34m(\u001b[0m\u001b[0;34m'td'\u001b[0m\u001b[0;34m)\u001b[0m\u001b[0;34m\u001b[0m\u001b[0;34m\u001b[0m\u001b[0m\n",
      "\u001b[0m\n"
     ]
    },
    {
     "name": "stdin",
     "output_type": "stream",
     "text": [
      "ipdb>  \n"
     ]
    },
    {
     "name": "stdout",
     "output_type": "stream",
     "text": [
      "None\n",
      "> \u001b[0;32m/var/folders/zw/mqwlds_s7ml5_fvqptkb174h0000gn/T/ipykernel_62714/1059256208.py\u001b[0m(8)\u001b[0;36m<module>\u001b[0;34m()\u001b[0m\n",
      "\u001b[0;32m      7 \u001b[0;31m    \u001b[0;32mfor\u001b[0m \u001b[0meach_table_row\u001b[0m \u001b[0;32min\u001b[0m \u001b[0mtable_rows\u001b[0m\u001b[0;34m:\u001b[0m\u001b[0;34m\u001b[0m\u001b[0;34m\u001b[0m\u001b[0m\n",
      "\u001b[0m\u001b[0;32m----> 8 \u001b[0;31m        \u001b[0mtable_data\u001b[0m \u001b[0;34m=\u001b[0m \u001b[0meach_table_row\u001b[0m\u001b[0;34m.\u001b[0m\u001b[0mfind_all\u001b[0m\u001b[0;34m(\u001b[0m\u001b[0;34m'td'\u001b[0m\u001b[0;34m)\u001b[0m\u001b[0;34m\u001b[0m\u001b[0;34m\u001b[0m\u001b[0m\n",
      "\u001b[0m\u001b[0;32m      9 \u001b[0;31m        \u001b[0;32mif\u001b[0m \u001b[0mlen\u001b[0m\u001b[0;34m(\u001b[0m\u001b[0mtable_data\u001b[0m\u001b[0;34m)\u001b[0m \u001b[0;34m>\u001b[0m \u001b[0;36m1\u001b[0m\u001b[0;34m:\u001b[0m\u001b[0;34m\u001b[0m\u001b[0;34m\u001b[0m\u001b[0m\n",
      "\u001b[0m\n"
     ]
    },
    {
     "name": "stdin",
     "output_type": "stream",
     "text": [
      "ipdb>  \n"
     ]
    },
    {
     "name": "stdout",
     "output_type": "stream",
     "text": [
      "None\n",
      "> \u001b[0;32m/var/folders/zw/mqwlds_s7ml5_fvqptkb174h0000gn/T/ipykernel_62714/1059256208.py\u001b[0m(9)\u001b[0;36m<module>\u001b[0;34m()\u001b[0m\n",
      "\u001b[0;32m      8 \u001b[0;31m        \u001b[0mtable_data\u001b[0m \u001b[0;34m=\u001b[0m \u001b[0meach_table_row\u001b[0m\u001b[0;34m.\u001b[0m\u001b[0mfind_all\u001b[0m\u001b[0;34m(\u001b[0m\u001b[0;34m'td'\u001b[0m\u001b[0;34m)\u001b[0m\u001b[0;34m\u001b[0m\u001b[0;34m\u001b[0m\u001b[0m\n",
      "\u001b[0m\u001b[0;32m----> 9 \u001b[0;31m        \u001b[0;32mif\u001b[0m \u001b[0mlen\u001b[0m\u001b[0;34m(\u001b[0m\u001b[0mtable_data\u001b[0m\u001b[0;34m)\u001b[0m \u001b[0;34m>\u001b[0m \u001b[0;36m1\u001b[0m\u001b[0;34m:\u001b[0m\u001b[0;34m\u001b[0m\u001b[0;34m\u001b[0m\u001b[0m\n",
      "\u001b[0m\u001b[0;32m     10 \u001b[0;31m            \u001b[0mkey\u001b[0m \u001b[0;34m=\u001b[0m \u001b[0meach_table_row\u001b[0m\u001b[0;34m.\u001b[0m\u001b[0mfind_all\u001b[0m\u001b[0;34m(\u001b[0m\u001b[0;34m'td'\u001b[0m\u001b[0;34m)\u001b[0m\u001b[0;34m[\u001b[0m\u001b[0;36m0\u001b[0m\u001b[0;34m]\u001b[0m\u001b[0;34m.\u001b[0m\u001b[0mtext\u001b[0m\u001b[0;34m\u001b[0m\u001b[0;34m\u001b[0m\u001b[0m\n",
      "\u001b[0m\n"
     ]
    },
    {
     "name": "stdin",
     "output_type": "stream",
     "text": [
      "ipdb>  \n"
     ]
    },
    {
     "name": "stdout",
     "output_type": "stream",
     "text": [
      "None\n",
      "> \u001b[0;32m/var/folders/zw/mqwlds_s7ml5_fvqptkb174h0000gn/T/ipykernel_62714/1059256208.py\u001b[0m(10)\u001b[0;36m<module>\u001b[0;34m()\u001b[0m\n",
      "\u001b[0;32m      9 \u001b[0;31m        \u001b[0;32mif\u001b[0m \u001b[0mlen\u001b[0m\u001b[0;34m(\u001b[0m\u001b[0mtable_data\u001b[0m\u001b[0;34m)\u001b[0m \u001b[0;34m>\u001b[0m \u001b[0;36m1\u001b[0m\u001b[0;34m:\u001b[0m\u001b[0;34m\u001b[0m\u001b[0;34m\u001b[0m\u001b[0m\n",
      "\u001b[0m\u001b[0;32m---> 10 \u001b[0;31m            \u001b[0mkey\u001b[0m \u001b[0;34m=\u001b[0m \u001b[0meach_table_row\u001b[0m\u001b[0;34m.\u001b[0m\u001b[0mfind_all\u001b[0m\u001b[0;34m(\u001b[0m\u001b[0;34m'td'\u001b[0m\u001b[0;34m)\u001b[0m\u001b[0;34m[\u001b[0m\u001b[0;36m0\u001b[0m\u001b[0;34m]\u001b[0m\u001b[0;34m.\u001b[0m\u001b[0mtext\u001b[0m\u001b[0;34m\u001b[0m\u001b[0;34m\u001b[0m\u001b[0m\n",
      "\u001b[0m\u001b[0;32m     11 \u001b[0;31m            \u001b[0mvalue\u001b[0m \u001b[0;34m=\u001b[0m \u001b[0meach_table_row\u001b[0m\u001b[0;34m.\u001b[0m\u001b[0mfind_all\u001b[0m\u001b[0;34m(\u001b[0m\u001b[0;34m'td'\u001b[0m\u001b[0;34m)\u001b[0m\u001b[0;34m[\u001b[0m\u001b[0;36m1\u001b[0m\u001b[0;34m]\u001b[0m\u001b[0;34m.\u001b[0m\u001b[0mtext\u001b[0m\u001b[0;34m\u001b[0m\u001b[0;34m\u001b[0m\u001b[0m\n",
      "\u001b[0m\n"
     ]
    },
    {
     "name": "stdin",
     "output_type": "stream",
     "text": [
      "ipdb>  \n"
     ]
    },
    {
     "name": "stdout",
     "output_type": "stream",
     "text": [
      "None\n",
      "> \u001b[0;32m/var/folders/zw/mqwlds_s7ml5_fvqptkb174h0000gn/T/ipykernel_62714/1059256208.py\u001b[0m(11)\u001b[0;36m<module>\u001b[0;34m()\u001b[0m\n",
      "\u001b[0;32m     10 \u001b[0;31m            \u001b[0mkey\u001b[0m \u001b[0;34m=\u001b[0m \u001b[0meach_table_row\u001b[0m\u001b[0;34m.\u001b[0m\u001b[0mfind_all\u001b[0m\u001b[0;34m(\u001b[0m\u001b[0;34m'td'\u001b[0m\u001b[0;34m)\u001b[0m\u001b[0;34m[\u001b[0m\u001b[0;36m0\u001b[0m\u001b[0;34m]\u001b[0m\u001b[0;34m.\u001b[0m\u001b[0mtext\u001b[0m\u001b[0;34m\u001b[0m\u001b[0;34m\u001b[0m\u001b[0m\n",
      "\u001b[0m\u001b[0;32m---> 11 \u001b[0;31m            \u001b[0mvalue\u001b[0m \u001b[0;34m=\u001b[0m \u001b[0meach_table_row\u001b[0m\u001b[0;34m.\u001b[0m\u001b[0mfind_all\u001b[0m\u001b[0;34m(\u001b[0m\u001b[0;34m'td'\u001b[0m\u001b[0;34m)\u001b[0m\u001b[0;34m[\u001b[0m\u001b[0;36m1\u001b[0m\u001b[0;34m]\u001b[0m\u001b[0;34m.\u001b[0m\u001b[0mtext\u001b[0m\u001b[0;34m\u001b[0m\u001b[0;34m\u001b[0m\u001b[0m\n",
      "\u001b[0m\u001b[0;32m     12 \u001b[0;31m            \u001b[0mmobile_specifications\u001b[0m\u001b[0;34m[\u001b[0m\u001b[0mmobile_name\u001b[0m\u001b[0;34m]\u001b[0m\u001b[0;34m[\u001b[0m\u001b[0mcategory_name\u001b[0m\u001b[0;34m]\u001b[0m\u001b[0;34m.\u001b[0m\u001b[0mupdate\u001b[0m\u001b[0;34m(\u001b[0m\u001b[0;34m{\u001b[0m \u001b[0mkey\u001b[0m\u001b[0;34m:\u001b[0m \u001b[0mvalue\u001b[0m\u001b[0;34m}\u001b[0m\u001b[0;34m)\u001b[0m\u001b[0;34m\u001b[0m\u001b[0;34m\u001b[0m\u001b[0m\n",
      "\u001b[0m\n"
     ]
    },
    {
     "name": "stdin",
     "output_type": "stream",
     "text": [
      "ipdb>  \n"
     ]
    },
    {
     "name": "stdout",
     "output_type": "stream",
     "text": [
      "None\n",
      "> \u001b[0;32m/var/folders/zw/mqwlds_s7ml5_fvqptkb174h0000gn/T/ipykernel_62714/1059256208.py\u001b[0m(12)\u001b[0;36m<module>\u001b[0;34m()\u001b[0m\n",
      "\u001b[0;32m     10 \u001b[0;31m            \u001b[0mkey\u001b[0m \u001b[0;34m=\u001b[0m \u001b[0meach_table_row\u001b[0m\u001b[0;34m.\u001b[0m\u001b[0mfind_all\u001b[0m\u001b[0;34m(\u001b[0m\u001b[0;34m'td'\u001b[0m\u001b[0;34m)\u001b[0m\u001b[0;34m[\u001b[0m\u001b[0;36m0\u001b[0m\u001b[0;34m]\u001b[0m\u001b[0;34m.\u001b[0m\u001b[0mtext\u001b[0m\u001b[0;34m\u001b[0m\u001b[0;34m\u001b[0m\u001b[0m\n",
      "\u001b[0m\u001b[0;32m     11 \u001b[0;31m            \u001b[0mvalue\u001b[0m \u001b[0;34m=\u001b[0m \u001b[0meach_table_row\u001b[0m\u001b[0;34m.\u001b[0m\u001b[0mfind_all\u001b[0m\u001b[0;34m(\u001b[0m\u001b[0;34m'td'\u001b[0m\u001b[0;34m)\u001b[0m\u001b[0;34m[\u001b[0m\u001b[0;36m1\u001b[0m\u001b[0;34m]\u001b[0m\u001b[0;34m.\u001b[0m\u001b[0mtext\u001b[0m\u001b[0;34m\u001b[0m\u001b[0;34m\u001b[0m\u001b[0m\n",
      "\u001b[0m\u001b[0;32m---> 12 \u001b[0;31m            \u001b[0mmobile_specifications\u001b[0m\u001b[0;34m[\u001b[0m\u001b[0mmobile_name\u001b[0m\u001b[0;34m]\u001b[0m\u001b[0;34m[\u001b[0m\u001b[0mcategory_name\u001b[0m\u001b[0;34m]\u001b[0m\u001b[0;34m.\u001b[0m\u001b[0mupdate\u001b[0m\u001b[0;34m(\u001b[0m\u001b[0;34m{\u001b[0m \u001b[0mkey\u001b[0m\u001b[0;34m:\u001b[0m \u001b[0mvalue\u001b[0m\u001b[0;34m}\u001b[0m\u001b[0;34m)\u001b[0m\u001b[0;34m\u001b[0m\u001b[0;34m\u001b[0m\u001b[0m\n",
      "\u001b[0m\n"
     ]
    },
    {
     "name": "stdin",
     "output_type": "stream",
     "text": [
      "ipdb>  \n"
     ]
    },
    {
     "name": "stdout",
     "output_type": "stream",
     "text": [
      "None\n",
      "> \u001b[0;32m/var/folders/zw/mqwlds_s7ml5_fvqptkb174h0000gn/T/ipykernel_62714/1059256208.py\u001b[0m(7)\u001b[0;36m<module>\u001b[0;34m()\u001b[0m\n",
      "\u001b[0;32m      6 \u001b[0;31m    \u001b[0mtable_rows\u001b[0m \u001b[0;34m=\u001b[0m \u001b[0mcategory_table_data\u001b[0m\u001b[0;34m.\u001b[0m\u001b[0mfind_all\u001b[0m\u001b[0;34m(\u001b[0m\u001b[0;34m'tr'\u001b[0m\u001b[0;34m)\u001b[0m\u001b[0;34m\u001b[0m\u001b[0;34m\u001b[0m\u001b[0m\n",
      "\u001b[0m\u001b[0;32m----> 7 \u001b[0;31m    \u001b[0;32mfor\u001b[0m \u001b[0meach_table_row\u001b[0m \u001b[0;32min\u001b[0m \u001b[0mtable_rows\u001b[0m\u001b[0;34m:\u001b[0m\u001b[0;34m\u001b[0m\u001b[0;34m\u001b[0m\u001b[0m\n",
      "\u001b[0m\u001b[0;32m      8 \u001b[0;31m        \u001b[0mtable_data\u001b[0m \u001b[0;34m=\u001b[0m \u001b[0meach_table_row\u001b[0m\u001b[0;34m.\u001b[0m\u001b[0mfind_all\u001b[0m\u001b[0;34m(\u001b[0m\u001b[0;34m'td'\u001b[0m\u001b[0;34m)\u001b[0m\u001b[0;34m\u001b[0m\u001b[0;34m\u001b[0m\u001b[0m\n",
      "\u001b[0m\n"
     ]
    },
    {
     "name": "stdin",
     "output_type": "stream",
     "text": [
      "ipdb>  \n"
     ]
    },
    {
     "name": "stdout",
     "output_type": "stream",
     "text": [
      "None\n",
      "> \u001b[0;32m/var/folders/zw/mqwlds_s7ml5_fvqptkb174h0000gn/T/ipykernel_62714/1059256208.py\u001b[0m(8)\u001b[0;36m<module>\u001b[0;34m()\u001b[0m\n",
      "\u001b[0;32m      7 \u001b[0;31m    \u001b[0;32mfor\u001b[0m \u001b[0meach_table_row\u001b[0m \u001b[0;32min\u001b[0m \u001b[0mtable_rows\u001b[0m\u001b[0;34m:\u001b[0m\u001b[0;34m\u001b[0m\u001b[0;34m\u001b[0m\u001b[0m\n",
      "\u001b[0m\u001b[0;32m----> 8 \u001b[0;31m        \u001b[0mtable_data\u001b[0m \u001b[0;34m=\u001b[0m \u001b[0meach_table_row\u001b[0m\u001b[0;34m.\u001b[0m\u001b[0mfind_all\u001b[0m\u001b[0;34m(\u001b[0m\u001b[0;34m'td'\u001b[0m\u001b[0;34m)\u001b[0m\u001b[0;34m\u001b[0m\u001b[0;34m\u001b[0m\u001b[0m\n",
      "\u001b[0m\u001b[0;32m      9 \u001b[0;31m        \u001b[0;32mif\u001b[0m \u001b[0mlen\u001b[0m\u001b[0;34m(\u001b[0m\u001b[0mtable_data\u001b[0m\u001b[0;34m)\u001b[0m \u001b[0;34m>\u001b[0m \u001b[0;36m1\u001b[0m\u001b[0;34m:\u001b[0m\u001b[0;34m\u001b[0m\u001b[0;34m\u001b[0m\u001b[0m\n",
      "\u001b[0m\n"
     ]
    },
    {
     "name": "stdin",
     "output_type": "stream",
     "text": [
      "ipdb>  \n"
     ]
    },
    {
     "name": "stdout",
     "output_type": "stream",
     "text": [
      "None\n",
      "> \u001b[0;32m/var/folders/zw/mqwlds_s7ml5_fvqptkb174h0000gn/T/ipykernel_62714/1059256208.py\u001b[0m(9)\u001b[0;36m<module>\u001b[0;34m()\u001b[0m\n",
      "\u001b[0;32m      8 \u001b[0;31m        \u001b[0mtable_data\u001b[0m \u001b[0;34m=\u001b[0m \u001b[0meach_table_row\u001b[0m\u001b[0;34m.\u001b[0m\u001b[0mfind_all\u001b[0m\u001b[0;34m(\u001b[0m\u001b[0;34m'td'\u001b[0m\u001b[0;34m)\u001b[0m\u001b[0;34m\u001b[0m\u001b[0;34m\u001b[0m\u001b[0m\n",
      "\u001b[0m\u001b[0;32m----> 9 \u001b[0;31m        \u001b[0;32mif\u001b[0m \u001b[0mlen\u001b[0m\u001b[0;34m(\u001b[0m\u001b[0mtable_data\u001b[0m\u001b[0;34m)\u001b[0m \u001b[0;34m>\u001b[0m \u001b[0;36m1\u001b[0m\u001b[0;34m:\u001b[0m\u001b[0;34m\u001b[0m\u001b[0;34m\u001b[0m\u001b[0m\n",
      "\u001b[0m\u001b[0;32m     10 \u001b[0;31m            \u001b[0mkey\u001b[0m \u001b[0;34m=\u001b[0m \u001b[0meach_table_row\u001b[0m\u001b[0;34m.\u001b[0m\u001b[0mfind_all\u001b[0m\u001b[0;34m(\u001b[0m\u001b[0;34m'td'\u001b[0m\u001b[0;34m)\u001b[0m\u001b[0;34m[\u001b[0m\u001b[0;36m0\u001b[0m\u001b[0;34m]\u001b[0m\u001b[0;34m.\u001b[0m\u001b[0mtext\u001b[0m\u001b[0;34m\u001b[0m\u001b[0;34m\u001b[0m\u001b[0m\n",
      "\u001b[0m\n"
     ]
    },
    {
     "name": "stdin",
     "output_type": "stream",
     "text": [
      "ipdb>  \n"
     ]
    },
    {
     "name": "stdout",
     "output_type": "stream",
     "text": [
      "None\n",
      "> \u001b[0;32m/var/folders/zw/mqwlds_s7ml5_fvqptkb174h0000gn/T/ipykernel_62714/1059256208.py\u001b[0m(10)\u001b[0;36m<module>\u001b[0;34m()\u001b[0m\n",
      "\u001b[0;32m      9 \u001b[0;31m        \u001b[0;32mif\u001b[0m \u001b[0mlen\u001b[0m\u001b[0;34m(\u001b[0m\u001b[0mtable_data\u001b[0m\u001b[0;34m)\u001b[0m \u001b[0;34m>\u001b[0m \u001b[0;36m1\u001b[0m\u001b[0;34m:\u001b[0m\u001b[0;34m\u001b[0m\u001b[0;34m\u001b[0m\u001b[0m\n",
      "\u001b[0m\u001b[0;32m---> 10 \u001b[0;31m            \u001b[0mkey\u001b[0m \u001b[0;34m=\u001b[0m \u001b[0meach_table_row\u001b[0m\u001b[0;34m.\u001b[0m\u001b[0mfind_all\u001b[0m\u001b[0;34m(\u001b[0m\u001b[0;34m'td'\u001b[0m\u001b[0;34m)\u001b[0m\u001b[0;34m[\u001b[0m\u001b[0;36m0\u001b[0m\u001b[0;34m]\u001b[0m\u001b[0;34m.\u001b[0m\u001b[0mtext\u001b[0m\u001b[0;34m\u001b[0m\u001b[0;34m\u001b[0m\u001b[0m\n",
      "\u001b[0m\u001b[0;32m     11 \u001b[0;31m            \u001b[0mvalue\u001b[0m \u001b[0;34m=\u001b[0m \u001b[0meach_table_row\u001b[0m\u001b[0;34m.\u001b[0m\u001b[0mfind_all\u001b[0m\u001b[0;34m(\u001b[0m\u001b[0;34m'td'\u001b[0m\u001b[0;34m)\u001b[0m\u001b[0;34m[\u001b[0m\u001b[0;36m1\u001b[0m\u001b[0;34m]\u001b[0m\u001b[0;34m.\u001b[0m\u001b[0mtext\u001b[0m\u001b[0;34m\u001b[0m\u001b[0;34m\u001b[0m\u001b[0m\n",
      "\u001b[0m\n"
     ]
    },
    {
     "name": "stdin",
     "output_type": "stream",
     "text": [
      "ipdb>  \n"
     ]
    },
    {
     "name": "stdout",
     "output_type": "stream",
     "text": [
      "None\n",
      "> \u001b[0;32m/var/folders/zw/mqwlds_s7ml5_fvqptkb174h0000gn/T/ipykernel_62714/1059256208.py\u001b[0m(11)\u001b[0;36m<module>\u001b[0;34m()\u001b[0m\n",
      "\u001b[0;32m     10 \u001b[0;31m            \u001b[0mkey\u001b[0m \u001b[0;34m=\u001b[0m \u001b[0meach_table_row\u001b[0m\u001b[0;34m.\u001b[0m\u001b[0mfind_all\u001b[0m\u001b[0;34m(\u001b[0m\u001b[0;34m'td'\u001b[0m\u001b[0;34m)\u001b[0m\u001b[0;34m[\u001b[0m\u001b[0;36m0\u001b[0m\u001b[0;34m]\u001b[0m\u001b[0;34m.\u001b[0m\u001b[0mtext\u001b[0m\u001b[0;34m\u001b[0m\u001b[0;34m\u001b[0m\u001b[0m\n",
      "\u001b[0m\u001b[0;32m---> 11 \u001b[0;31m            \u001b[0mvalue\u001b[0m \u001b[0;34m=\u001b[0m \u001b[0meach_table_row\u001b[0m\u001b[0;34m.\u001b[0m\u001b[0mfind_all\u001b[0m\u001b[0;34m(\u001b[0m\u001b[0;34m'td'\u001b[0m\u001b[0;34m)\u001b[0m\u001b[0;34m[\u001b[0m\u001b[0;36m1\u001b[0m\u001b[0;34m]\u001b[0m\u001b[0;34m.\u001b[0m\u001b[0mtext\u001b[0m\u001b[0;34m\u001b[0m\u001b[0;34m\u001b[0m\u001b[0m\n",
      "\u001b[0m\u001b[0;32m     12 \u001b[0;31m            \u001b[0mmobile_specifications\u001b[0m\u001b[0;34m[\u001b[0m\u001b[0mmobile_name\u001b[0m\u001b[0;34m]\u001b[0m\u001b[0;34m[\u001b[0m\u001b[0mcategory_name\u001b[0m\u001b[0;34m]\u001b[0m\u001b[0;34m.\u001b[0m\u001b[0mupdate\u001b[0m\u001b[0;34m(\u001b[0m\u001b[0;34m{\u001b[0m \u001b[0mkey\u001b[0m\u001b[0;34m:\u001b[0m \u001b[0mvalue\u001b[0m\u001b[0;34m}\u001b[0m\u001b[0;34m)\u001b[0m\u001b[0;34m\u001b[0m\u001b[0;34m\u001b[0m\u001b[0m\n",
      "\u001b[0m\n"
     ]
    },
    {
     "name": "stdin",
     "output_type": "stream",
     "text": [
      "ipdb>  \n"
     ]
    },
    {
     "name": "stdout",
     "output_type": "stream",
     "text": [
      "None\n",
      "> \u001b[0;32m/var/folders/zw/mqwlds_s7ml5_fvqptkb174h0000gn/T/ipykernel_62714/1059256208.py\u001b[0m(12)\u001b[0;36m<module>\u001b[0;34m()\u001b[0m\n",
      "\u001b[0;32m     10 \u001b[0;31m            \u001b[0mkey\u001b[0m \u001b[0;34m=\u001b[0m \u001b[0meach_table_row\u001b[0m\u001b[0;34m.\u001b[0m\u001b[0mfind_all\u001b[0m\u001b[0;34m(\u001b[0m\u001b[0;34m'td'\u001b[0m\u001b[0;34m)\u001b[0m\u001b[0;34m[\u001b[0m\u001b[0;36m0\u001b[0m\u001b[0;34m]\u001b[0m\u001b[0;34m.\u001b[0m\u001b[0mtext\u001b[0m\u001b[0;34m\u001b[0m\u001b[0;34m\u001b[0m\u001b[0m\n",
      "\u001b[0m\u001b[0;32m     11 \u001b[0;31m            \u001b[0mvalue\u001b[0m \u001b[0;34m=\u001b[0m \u001b[0meach_table_row\u001b[0m\u001b[0;34m.\u001b[0m\u001b[0mfind_all\u001b[0m\u001b[0;34m(\u001b[0m\u001b[0;34m'td'\u001b[0m\u001b[0;34m)\u001b[0m\u001b[0;34m[\u001b[0m\u001b[0;36m1\u001b[0m\u001b[0;34m]\u001b[0m\u001b[0;34m.\u001b[0m\u001b[0mtext\u001b[0m\u001b[0;34m\u001b[0m\u001b[0;34m\u001b[0m\u001b[0m\n",
      "\u001b[0m\u001b[0;32m---> 12 \u001b[0;31m            \u001b[0mmobile_specifications\u001b[0m\u001b[0;34m[\u001b[0m\u001b[0mmobile_name\u001b[0m\u001b[0;34m]\u001b[0m\u001b[0;34m[\u001b[0m\u001b[0mcategory_name\u001b[0m\u001b[0;34m]\u001b[0m\u001b[0;34m.\u001b[0m\u001b[0mupdate\u001b[0m\u001b[0;34m(\u001b[0m\u001b[0;34m{\u001b[0m \u001b[0mkey\u001b[0m\u001b[0;34m:\u001b[0m \u001b[0mvalue\u001b[0m\u001b[0;34m}\u001b[0m\u001b[0;34m)\u001b[0m\u001b[0;34m\u001b[0m\u001b[0;34m\u001b[0m\u001b[0m\n",
      "\u001b[0m\n"
     ]
    },
    {
     "name": "stdin",
     "output_type": "stream",
     "text": [
      "ipdb>  \n"
     ]
    },
    {
     "name": "stdout",
     "output_type": "stream",
     "text": [
      "None\n",
      "> \u001b[0;32m/var/folders/zw/mqwlds_s7ml5_fvqptkb174h0000gn/T/ipykernel_62714/1059256208.py\u001b[0m(7)\u001b[0;36m<module>\u001b[0;34m()\u001b[0m\n",
      "\u001b[0;32m      6 \u001b[0;31m    \u001b[0mtable_rows\u001b[0m \u001b[0;34m=\u001b[0m \u001b[0mcategory_table_data\u001b[0m\u001b[0;34m.\u001b[0m\u001b[0mfind_all\u001b[0m\u001b[0;34m(\u001b[0m\u001b[0;34m'tr'\u001b[0m\u001b[0;34m)\u001b[0m\u001b[0;34m\u001b[0m\u001b[0;34m\u001b[0m\u001b[0m\n",
      "\u001b[0m\u001b[0;32m----> 7 \u001b[0;31m    \u001b[0;32mfor\u001b[0m \u001b[0meach_table_row\u001b[0m \u001b[0;32min\u001b[0m \u001b[0mtable_rows\u001b[0m\u001b[0;34m:\u001b[0m\u001b[0;34m\u001b[0m\u001b[0;34m\u001b[0m\u001b[0m\n",
      "\u001b[0m\u001b[0;32m      8 \u001b[0;31m        \u001b[0mtable_data\u001b[0m \u001b[0;34m=\u001b[0m \u001b[0meach_table_row\u001b[0m\u001b[0;34m.\u001b[0m\u001b[0mfind_all\u001b[0m\u001b[0;34m(\u001b[0m\u001b[0;34m'td'\u001b[0m\u001b[0;34m)\u001b[0m\u001b[0;34m\u001b[0m\u001b[0;34m\u001b[0m\u001b[0m\n",
      "\u001b[0m\n"
     ]
    },
    {
     "name": "stdin",
     "output_type": "stream",
     "text": [
      "ipdb>  \n"
     ]
    },
    {
     "name": "stdout",
     "output_type": "stream",
     "text": [
      "None\n",
      "> \u001b[0;32m/var/folders/zw/mqwlds_s7ml5_fvqptkb174h0000gn/T/ipykernel_62714/1059256208.py\u001b[0m(8)\u001b[0;36m<module>\u001b[0;34m()\u001b[0m\n",
      "\u001b[0;32m      7 \u001b[0;31m    \u001b[0;32mfor\u001b[0m \u001b[0meach_table_row\u001b[0m \u001b[0;32min\u001b[0m \u001b[0mtable_rows\u001b[0m\u001b[0;34m:\u001b[0m\u001b[0;34m\u001b[0m\u001b[0;34m\u001b[0m\u001b[0m\n",
      "\u001b[0m\u001b[0;32m----> 8 \u001b[0;31m        \u001b[0mtable_data\u001b[0m \u001b[0;34m=\u001b[0m \u001b[0meach_table_row\u001b[0m\u001b[0;34m.\u001b[0m\u001b[0mfind_all\u001b[0m\u001b[0;34m(\u001b[0m\u001b[0;34m'td'\u001b[0m\u001b[0;34m)\u001b[0m\u001b[0;34m\u001b[0m\u001b[0;34m\u001b[0m\u001b[0m\n",
      "\u001b[0m\u001b[0;32m      9 \u001b[0;31m        \u001b[0;32mif\u001b[0m \u001b[0mlen\u001b[0m\u001b[0;34m(\u001b[0m\u001b[0mtable_data\u001b[0m\u001b[0;34m)\u001b[0m \u001b[0;34m>\u001b[0m \u001b[0;36m1\u001b[0m\u001b[0;34m:\u001b[0m\u001b[0;34m\u001b[0m\u001b[0;34m\u001b[0m\u001b[0m\n",
      "\u001b[0m\n"
     ]
    },
    {
     "name": "stdin",
     "output_type": "stream",
     "text": [
      "ipdb>  \n"
     ]
    },
    {
     "name": "stdout",
     "output_type": "stream",
     "text": [
      "None\n",
      "> \u001b[0;32m/var/folders/zw/mqwlds_s7ml5_fvqptkb174h0000gn/T/ipykernel_62714/1059256208.py\u001b[0m(9)\u001b[0;36m<module>\u001b[0;34m()\u001b[0m\n",
      "\u001b[0;32m      8 \u001b[0;31m        \u001b[0mtable_data\u001b[0m \u001b[0;34m=\u001b[0m \u001b[0meach_table_row\u001b[0m\u001b[0;34m.\u001b[0m\u001b[0mfind_all\u001b[0m\u001b[0;34m(\u001b[0m\u001b[0;34m'td'\u001b[0m\u001b[0;34m)\u001b[0m\u001b[0;34m\u001b[0m\u001b[0;34m\u001b[0m\u001b[0m\n",
      "\u001b[0m\u001b[0;32m----> 9 \u001b[0;31m        \u001b[0;32mif\u001b[0m \u001b[0mlen\u001b[0m\u001b[0;34m(\u001b[0m\u001b[0mtable_data\u001b[0m\u001b[0;34m)\u001b[0m \u001b[0;34m>\u001b[0m \u001b[0;36m1\u001b[0m\u001b[0;34m:\u001b[0m\u001b[0;34m\u001b[0m\u001b[0;34m\u001b[0m\u001b[0m\n",
      "\u001b[0m\u001b[0;32m     10 \u001b[0;31m            \u001b[0mkey\u001b[0m \u001b[0;34m=\u001b[0m \u001b[0meach_table_row\u001b[0m\u001b[0;34m.\u001b[0m\u001b[0mfind_all\u001b[0m\u001b[0;34m(\u001b[0m\u001b[0;34m'td'\u001b[0m\u001b[0;34m)\u001b[0m\u001b[0;34m[\u001b[0m\u001b[0;36m0\u001b[0m\u001b[0;34m]\u001b[0m\u001b[0;34m.\u001b[0m\u001b[0mtext\u001b[0m\u001b[0;34m\u001b[0m\u001b[0;34m\u001b[0m\u001b[0m\n",
      "\u001b[0m\n"
     ]
    },
    {
     "name": "stdin",
     "output_type": "stream",
     "text": [
      "ipdb>  \n"
     ]
    },
    {
     "name": "stdout",
     "output_type": "stream",
     "text": [
      "None\n",
      "> \u001b[0;32m/var/folders/zw/mqwlds_s7ml5_fvqptkb174h0000gn/T/ipykernel_62714/1059256208.py\u001b[0m(10)\u001b[0;36m<module>\u001b[0;34m()\u001b[0m\n",
      "\u001b[0;32m      9 \u001b[0;31m        \u001b[0;32mif\u001b[0m \u001b[0mlen\u001b[0m\u001b[0;34m(\u001b[0m\u001b[0mtable_data\u001b[0m\u001b[0;34m)\u001b[0m \u001b[0;34m>\u001b[0m \u001b[0;36m1\u001b[0m\u001b[0;34m:\u001b[0m\u001b[0;34m\u001b[0m\u001b[0;34m\u001b[0m\u001b[0m\n",
      "\u001b[0m\u001b[0;32m---> 10 \u001b[0;31m            \u001b[0mkey\u001b[0m \u001b[0;34m=\u001b[0m \u001b[0meach_table_row\u001b[0m\u001b[0;34m.\u001b[0m\u001b[0mfind_all\u001b[0m\u001b[0;34m(\u001b[0m\u001b[0;34m'td'\u001b[0m\u001b[0;34m)\u001b[0m\u001b[0;34m[\u001b[0m\u001b[0;36m0\u001b[0m\u001b[0;34m]\u001b[0m\u001b[0;34m.\u001b[0m\u001b[0mtext\u001b[0m\u001b[0;34m\u001b[0m\u001b[0;34m\u001b[0m\u001b[0m\n",
      "\u001b[0m\u001b[0;32m     11 \u001b[0;31m            \u001b[0mvalue\u001b[0m \u001b[0;34m=\u001b[0m \u001b[0meach_table_row\u001b[0m\u001b[0;34m.\u001b[0m\u001b[0mfind_all\u001b[0m\u001b[0;34m(\u001b[0m\u001b[0;34m'td'\u001b[0m\u001b[0;34m)\u001b[0m\u001b[0;34m[\u001b[0m\u001b[0;36m1\u001b[0m\u001b[0;34m]\u001b[0m\u001b[0;34m.\u001b[0m\u001b[0mtext\u001b[0m\u001b[0;34m\u001b[0m\u001b[0;34m\u001b[0m\u001b[0m\n",
      "\u001b[0m\n"
     ]
    },
    {
     "name": "stdin",
     "output_type": "stream",
     "text": [
      "ipdb>  \n"
     ]
    },
    {
     "name": "stdout",
     "output_type": "stream",
     "text": [
      "None\n",
      "> \u001b[0;32m/var/folders/zw/mqwlds_s7ml5_fvqptkb174h0000gn/T/ipykernel_62714/1059256208.py\u001b[0m(11)\u001b[0;36m<module>\u001b[0;34m()\u001b[0m\n",
      "\u001b[0;32m     10 \u001b[0;31m            \u001b[0mkey\u001b[0m \u001b[0;34m=\u001b[0m \u001b[0meach_table_row\u001b[0m\u001b[0;34m.\u001b[0m\u001b[0mfind_all\u001b[0m\u001b[0;34m(\u001b[0m\u001b[0;34m'td'\u001b[0m\u001b[0;34m)\u001b[0m\u001b[0;34m[\u001b[0m\u001b[0;36m0\u001b[0m\u001b[0;34m]\u001b[0m\u001b[0;34m.\u001b[0m\u001b[0mtext\u001b[0m\u001b[0;34m\u001b[0m\u001b[0;34m\u001b[0m\u001b[0m\n",
      "\u001b[0m\u001b[0;32m---> 11 \u001b[0;31m            \u001b[0mvalue\u001b[0m \u001b[0;34m=\u001b[0m \u001b[0meach_table_row\u001b[0m\u001b[0;34m.\u001b[0m\u001b[0mfind_all\u001b[0m\u001b[0;34m(\u001b[0m\u001b[0;34m'td'\u001b[0m\u001b[0;34m)\u001b[0m\u001b[0;34m[\u001b[0m\u001b[0;36m1\u001b[0m\u001b[0;34m]\u001b[0m\u001b[0;34m.\u001b[0m\u001b[0mtext\u001b[0m\u001b[0;34m\u001b[0m\u001b[0;34m\u001b[0m\u001b[0m\n",
      "\u001b[0m\u001b[0;32m     12 \u001b[0;31m            \u001b[0mmobile_specifications\u001b[0m\u001b[0;34m[\u001b[0m\u001b[0mmobile_name\u001b[0m\u001b[0;34m]\u001b[0m\u001b[0;34m[\u001b[0m\u001b[0mcategory_name\u001b[0m\u001b[0;34m]\u001b[0m\u001b[0;34m.\u001b[0m\u001b[0mupdate\u001b[0m\u001b[0;34m(\u001b[0m\u001b[0;34m{\u001b[0m \u001b[0mkey\u001b[0m\u001b[0;34m:\u001b[0m \u001b[0mvalue\u001b[0m\u001b[0;34m}\u001b[0m\u001b[0;34m)\u001b[0m\u001b[0;34m\u001b[0m\u001b[0;34m\u001b[0m\u001b[0m\n",
      "\u001b[0m\n"
     ]
    },
    {
     "name": "stdin",
     "output_type": "stream",
     "text": [
      "ipdb>  \n"
     ]
    },
    {
     "name": "stdout",
     "output_type": "stream",
     "text": [
      "None\n",
      "> \u001b[0;32m/var/folders/zw/mqwlds_s7ml5_fvqptkb174h0000gn/T/ipykernel_62714/1059256208.py\u001b[0m(12)\u001b[0;36m<module>\u001b[0;34m()\u001b[0m\n",
      "\u001b[0;32m     10 \u001b[0;31m            \u001b[0mkey\u001b[0m \u001b[0;34m=\u001b[0m \u001b[0meach_table_row\u001b[0m\u001b[0;34m.\u001b[0m\u001b[0mfind_all\u001b[0m\u001b[0;34m(\u001b[0m\u001b[0;34m'td'\u001b[0m\u001b[0;34m)\u001b[0m\u001b[0;34m[\u001b[0m\u001b[0;36m0\u001b[0m\u001b[0;34m]\u001b[0m\u001b[0;34m.\u001b[0m\u001b[0mtext\u001b[0m\u001b[0;34m\u001b[0m\u001b[0;34m\u001b[0m\u001b[0m\n",
      "\u001b[0m\u001b[0;32m     11 \u001b[0;31m            \u001b[0mvalue\u001b[0m \u001b[0;34m=\u001b[0m \u001b[0meach_table_row\u001b[0m\u001b[0;34m.\u001b[0m\u001b[0mfind_all\u001b[0m\u001b[0;34m(\u001b[0m\u001b[0;34m'td'\u001b[0m\u001b[0;34m)\u001b[0m\u001b[0;34m[\u001b[0m\u001b[0;36m1\u001b[0m\u001b[0;34m]\u001b[0m\u001b[0;34m.\u001b[0m\u001b[0mtext\u001b[0m\u001b[0;34m\u001b[0m\u001b[0;34m\u001b[0m\u001b[0m\n",
      "\u001b[0m\u001b[0;32m---> 12 \u001b[0;31m            \u001b[0mmobile_specifications\u001b[0m\u001b[0;34m[\u001b[0m\u001b[0mmobile_name\u001b[0m\u001b[0;34m]\u001b[0m\u001b[0;34m[\u001b[0m\u001b[0mcategory_name\u001b[0m\u001b[0;34m]\u001b[0m\u001b[0;34m.\u001b[0m\u001b[0mupdate\u001b[0m\u001b[0;34m(\u001b[0m\u001b[0;34m{\u001b[0m \u001b[0mkey\u001b[0m\u001b[0;34m:\u001b[0m \u001b[0mvalue\u001b[0m\u001b[0;34m}\u001b[0m\u001b[0;34m)\u001b[0m\u001b[0;34m\u001b[0m\u001b[0;34m\u001b[0m\u001b[0m\n",
      "\u001b[0m\n"
     ]
    },
    {
     "name": "stdin",
     "output_type": "stream",
     "text": [
      "ipdb>  \n"
     ]
    },
    {
     "name": "stdout",
     "output_type": "stream",
     "text": [
      "None\n",
      "> \u001b[0;32m/var/folders/zw/mqwlds_s7ml5_fvqptkb174h0000gn/T/ipykernel_62714/1059256208.py\u001b[0m(7)\u001b[0;36m<module>\u001b[0;34m()\u001b[0m\n",
      "\u001b[0;32m      6 \u001b[0;31m    \u001b[0mtable_rows\u001b[0m \u001b[0;34m=\u001b[0m \u001b[0mcategory_table_data\u001b[0m\u001b[0;34m.\u001b[0m\u001b[0mfind_all\u001b[0m\u001b[0;34m(\u001b[0m\u001b[0;34m'tr'\u001b[0m\u001b[0;34m)\u001b[0m\u001b[0;34m\u001b[0m\u001b[0;34m\u001b[0m\u001b[0m\n",
      "\u001b[0m\u001b[0;32m----> 7 \u001b[0;31m    \u001b[0;32mfor\u001b[0m \u001b[0meach_table_row\u001b[0m \u001b[0;32min\u001b[0m \u001b[0mtable_rows\u001b[0m\u001b[0;34m:\u001b[0m\u001b[0;34m\u001b[0m\u001b[0;34m\u001b[0m\u001b[0m\n",
      "\u001b[0m\u001b[0;32m      8 \u001b[0;31m        \u001b[0mtable_data\u001b[0m \u001b[0;34m=\u001b[0m \u001b[0meach_table_row\u001b[0m\u001b[0;34m.\u001b[0m\u001b[0mfind_all\u001b[0m\u001b[0;34m(\u001b[0m\u001b[0;34m'td'\u001b[0m\u001b[0;34m)\u001b[0m\u001b[0;34m\u001b[0m\u001b[0;34m\u001b[0m\u001b[0m\n",
      "\u001b[0m\n"
     ]
    },
    {
     "name": "stdin",
     "output_type": "stream",
     "text": [
      "ipdb>  \n"
     ]
    },
    {
     "name": "stdout",
     "output_type": "stream",
     "text": [
      "None\n",
      "> \u001b[0;32m/var/folders/zw/mqwlds_s7ml5_fvqptkb174h0000gn/T/ipykernel_62714/1059256208.py\u001b[0m(8)\u001b[0;36m<module>\u001b[0;34m()\u001b[0m\n",
      "\u001b[0;32m      7 \u001b[0;31m    \u001b[0;32mfor\u001b[0m \u001b[0meach_table_row\u001b[0m \u001b[0;32min\u001b[0m \u001b[0mtable_rows\u001b[0m\u001b[0;34m:\u001b[0m\u001b[0;34m\u001b[0m\u001b[0;34m\u001b[0m\u001b[0m\n",
      "\u001b[0m\u001b[0;32m----> 8 \u001b[0;31m        \u001b[0mtable_data\u001b[0m \u001b[0;34m=\u001b[0m \u001b[0meach_table_row\u001b[0m\u001b[0;34m.\u001b[0m\u001b[0mfind_all\u001b[0m\u001b[0;34m(\u001b[0m\u001b[0;34m'td'\u001b[0m\u001b[0;34m)\u001b[0m\u001b[0;34m\u001b[0m\u001b[0;34m\u001b[0m\u001b[0m\n",
      "\u001b[0m\u001b[0;32m      9 \u001b[0;31m        \u001b[0;32mif\u001b[0m \u001b[0mlen\u001b[0m\u001b[0;34m(\u001b[0m\u001b[0mtable_data\u001b[0m\u001b[0;34m)\u001b[0m \u001b[0;34m>\u001b[0m \u001b[0;36m1\u001b[0m\u001b[0;34m:\u001b[0m\u001b[0;34m\u001b[0m\u001b[0;34m\u001b[0m\u001b[0m\n",
      "\u001b[0m\n"
     ]
    },
    {
     "name": "stdin",
     "output_type": "stream",
     "text": [
      "ipdb>  \n"
     ]
    },
    {
     "name": "stdout",
     "output_type": "stream",
     "text": [
      "None\n",
      "> \u001b[0;32m/var/folders/zw/mqwlds_s7ml5_fvqptkb174h0000gn/T/ipykernel_62714/1059256208.py\u001b[0m(9)\u001b[0;36m<module>\u001b[0;34m()\u001b[0m\n",
      "\u001b[0;32m      8 \u001b[0;31m        \u001b[0mtable_data\u001b[0m \u001b[0;34m=\u001b[0m \u001b[0meach_table_row\u001b[0m\u001b[0;34m.\u001b[0m\u001b[0mfind_all\u001b[0m\u001b[0;34m(\u001b[0m\u001b[0;34m'td'\u001b[0m\u001b[0;34m)\u001b[0m\u001b[0;34m\u001b[0m\u001b[0;34m\u001b[0m\u001b[0m\n",
      "\u001b[0m\u001b[0;32m----> 9 \u001b[0;31m        \u001b[0;32mif\u001b[0m \u001b[0mlen\u001b[0m\u001b[0;34m(\u001b[0m\u001b[0mtable_data\u001b[0m\u001b[0;34m)\u001b[0m \u001b[0;34m>\u001b[0m \u001b[0;36m1\u001b[0m\u001b[0;34m:\u001b[0m\u001b[0;34m\u001b[0m\u001b[0;34m\u001b[0m\u001b[0m\n",
      "\u001b[0m\u001b[0;32m     10 \u001b[0;31m            \u001b[0mkey\u001b[0m \u001b[0;34m=\u001b[0m \u001b[0meach_table_row\u001b[0m\u001b[0;34m.\u001b[0m\u001b[0mfind_all\u001b[0m\u001b[0;34m(\u001b[0m\u001b[0;34m'td'\u001b[0m\u001b[0;34m)\u001b[0m\u001b[0;34m[\u001b[0m\u001b[0;36m0\u001b[0m\u001b[0;34m]\u001b[0m\u001b[0;34m.\u001b[0m\u001b[0mtext\u001b[0m\u001b[0;34m\u001b[0m\u001b[0;34m\u001b[0m\u001b[0m\n",
      "\u001b[0m\n"
     ]
    },
    {
     "name": "stdin",
     "output_type": "stream",
     "text": [
      "ipdb>  \n"
     ]
    },
    {
     "name": "stdout",
     "output_type": "stream",
     "text": [
      "None\n",
      "> \u001b[0;32m/var/folders/zw/mqwlds_s7ml5_fvqptkb174h0000gn/T/ipykernel_62714/1059256208.py\u001b[0m(10)\u001b[0;36m<module>\u001b[0;34m()\u001b[0m\n",
      "\u001b[0;32m      9 \u001b[0;31m        \u001b[0;32mif\u001b[0m \u001b[0mlen\u001b[0m\u001b[0;34m(\u001b[0m\u001b[0mtable_data\u001b[0m\u001b[0;34m)\u001b[0m \u001b[0;34m>\u001b[0m \u001b[0;36m1\u001b[0m\u001b[0;34m:\u001b[0m\u001b[0;34m\u001b[0m\u001b[0;34m\u001b[0m\u001b[0m\n",
      "\u001b[0m\u001b[0;32m---> 10 \u001b[0;31m            \u001b[0mkey\u001b[0m \u001b[0;34m=\u001b[0m \u001b[0meach_table_row\u001b[0m\u001b[0;34m.\u001b[0m\u001b[0mfind_all\u001b[0m\u001b[0;34m(\u001b[0m\u001b[0;34m'td'\u001b[0m\u001b[0;34m)\u001b[0m\u001b[0;34m[\u001b[0m\u001b[0;36m0\u001b[0m\u001b[0;34m]\u001b[0m\u001b[0;34m.\u001b[0m\u001b[0mtext\u001b[0m\u001b[0;34m\u001b[0m\u001b[0;34m\u001b[0m\u001b[0m\n",
      "\u001b[0m\u001b[0;32m     11 \u001b[0;31m            \u001b[0mvalue\u001b[0m \u001b[0;34m=\u001b[0m \u001b[0meach_table_row\u001b[0m\u001b[0;34m.\u001b[0m\u001b[0mfind_all\u001b[0m\u001b[0;34m(\u001b[0m\u001b[0;34m'td'\u001b[0m\u001b[0;34m)\u001b[0m\u001b[0;34m[\u001b[0m\u001b[0;36m1\u001b[0m\u001b[0;34m]\u001b[0m\u001b[0;34m.\u001b[0m\u001b[0mtext\u001b[0m\u001b[0;34m\u001b[0m\u001b[0;34m\u001b[0m\u001b[0m\n",
      "\u001b[0m\n"
     ]
    },
    {
     "name": "stdin",
     "output_type": "stream",
     "text": [
      "ipdb>  c\n"
     ]
    },
    {
     "name": "stdout",
     "output_type": "stream",
     "text": [
      "None\n",
      "> \u001b[0;32m/var/folders/zw/mqwlds_s7ml5_fvqptkb174h0000gn/T/ipykernel_62714/1059256208.py\u001b[0m(2)\u001b[0;36m<module>\u001b[0;34m()\u001b[0m\n",
      "\u001b[0;32m      1 \u001b[0;31m\u001b[0;32mfor\u001b[0m \u001b[0meach_category\u001b[0m \u001b[0;32min\u001b[0m \u001b[0mspecs_category_divs\u001b[0m\u001b[0;34m:\u001b[0m\u001b[0;34m\u001b[0m\u001b[0;34m\u001b[0m\u001b[0m\n",
      "\u001b[0m\u001b[0;32m----> 2 \u001b[0;31m    \u001b[0;32mimport\u001b[0m \u001b[0mipdb\u001b[0m\u001b[0;34m;\u001b[0m \u001b[0mipdb\u001b[0m\u001b[0;34m.\u001b[0m\u001b[0mset_trace\u001b[0m\u001b[0;34m(\u001b[0m\u001b[0;34m)\u001b[0m\u001b[0;34m\u001b[0m\u001b[0;34m\u001b[0m\u001b[0m\n",
      "\u001b[0m\u001b[0;32m      3 \u001b[0;31m    \u001b[0mcategory_name\u001b[0m \u001b[0;34m=\u001b[0m \u001b[0meach_category\u001b[0m\u001b[0;34m.\u001b[0m\u001b[0mtext\u001b[0m\u001b[0;34m\u001b[0m\u001b[0;34m\u001b[0m\u001b[0m\n",
      "\u001b[0m\n"
     ]
    },
    {
     "name": "stdin",
     "output_type": "stream",
     "text": [
      "ipdb>  c\n"
     ]
    }
   ],
   "source": [
    "for each_category in specs_category_divs:\n",
    "    category_name = each_category.text\n",
    "    mobile_specifications[mobile_name].update({ category_name: {} })\n",
    "    category_table_data = each_category.parent.parent.find('table')\n",
    "    table_rows = category_table_data.find_all('tr')\n",
    "    for each_table_row in table_rows:\n",
    "        table_data = each_table_row.find_all('td')\n",
    "        if len(table_data) > 1:\n",
    "            key = each_table_row.find_all('td')[0].text\n",
    "            value = each_table_row.find_all('td')[1].text\n",
    "            mobile_specifications[mobile_name][category_name].update({ key: value})"
   ]
  },
  {
   "cell_type": "code",
   "execution_count": 180,
   "id": "2085a79d-209e-4652-b112-f4a71599a3b4",
   "metadata": {},
   "outputs": [
    {
     "data": {
      "text/plain": [
       "{'10-or-g2': {'General': {'Brand': '10.or',\n",
       "   'Model': 'G2',\n",
       "   'Price in India': '₹7,999',\n",
       "   'Release date': '28th June 2019',\n",
       "   'Launched in India': 'Yes',\n",
       "   'Form factor': 'Touchscreen',\n",
       "   'Battery capacity (mAh)': '5000',\n",
       "   'Fast charging': 'Proprietary',\n",
       "   'Colours': 'Charcoal Black, Twilight Blue'},\n",
       "  'Display': {'Screen size (inches)': '6.18',\n",
       "   'Touchscreen': 'Yes',\n",
       "   'Resolution': '1080x2246 pixels',\n",
       "   'Protection type': 'Gorilla Glass',\n",
       "   'Aspect ratio': '19:9'},\n",
       "  'Hardware': {'Processor': 'octa-core',\n",
       "   'Processor make': 'Qualcomm Snapdragon 636',\n",
       "   'RAM': '4GB',\n",
       "   'Internal storage': '64GB',\n",
       "   'Expandable storage': 'Yes',\n",
       "   'Expandable storage type': 'microSD',\n",
       "   'Expandable storage up to (GB)': '256',\n",
       "   'Dedicated microSD slot': 'Yes'},\n",
       "  'Camera': {'Rear camera': '16-megapixel + 5-megapixel',\n",
       "   'Rear autofocus': 'Yes',\n",
       "   'Rear flash': 'Dual LED',\n",
       "   'Front camera': '12-megapixel'},\n",
       "  'Software': {'Operating system': 'Android'},\n",
       "  'Connectivity': {'Wi-Fi': 'Yes',\n",
       "   'Wi-Fi standards supported': '802.11 b/g/n',\n",
       "   'GPS': 'Yes',\n",
       "   'Bluetooth': 'Yes',\n",
       "   'Micro-USB': 'Yes',\n",
       "   'Number of SIMs': '2',\n",
       "   'SIM Type': 'Nano-SIM',\n",
       "   'GSM/CDMA': 'GSM',\n",
       "   '3G': 'Yes',\n",
       "   '4G/ LTE': 'Yes',\n",
       "   'Supports 4G in India (Band 40)': 'Yes'},\n",
       "  'Sensors': {'Proximity sensor': 'Yes',\n",
       "   'Accelerometer': 'Yes',\n",
       "   'Ambient light sensor': 'Yes',\n",
       "   'Gyroscope': 'Yes'}}}"
      ]
     },
     "execution_count": 180,
     "metadata": {},
     "output_type": "execute_result"
    }
   ],
   "source": [
    "mobile_specifications"
   ]
  },
  {
   "cell_type": "markdown",
   "id": "53be5614-7bf8-468a-8d78-03ee2fae8ba1",
   "metadata": {
    "jp-MarkdownHeadingCollapsed": true
   },
   "source": [
    "## Consolidating the scraping logic"
   ]
  },
  {
   "cell_type": "markdown",
   "id": "d4558e60-13ae-4483-aa92-7b613f7ff430",
   "metadata": {},
   "source": [
    "### Access the gadgets360 website to get all brands of mobile phone available.\n",
    "gadgets_360_url = \"https://www.gadgets360.com/mobiles\"\n",
    "\n",
    "brands_url = \"all-brands\"\n",
    "\n",
    "web_doc_url = f\"{gadgets_360_url}/{brands_url}\"\n",
    "\n",
    "response = requests.get(web_doc_url)\n",
    "\n",
    "print(response.status_code)\n",
    "\n",
    "if response.status_code == 200:\n",
    "    soup = BeautifulSoup(response.content, 'html.parser')\n",
    "\n",
    "brand_list = soup.find('div', class_=\"brand_list\")\n",
    "\n",
    "### Get the URLs of all the mobile phone brands listed on page.\n",
    "mobile_brand_list = brand_list.find('div', class_=\"brand\")\n",
    "temp_mobile_brand_list = mobile_brand_list.find_all('a', class_=\"rvw-title\")\n",
    "\n",
    "### Create a list of all brands of mobile phones.\n",
    "mobile_urls = []\n",
    "for each_tag in temp_mobile_brand_list:\n",
    "    if '-phones' in each_tag['href']:\n",
    "        mobile_urls.append(each_tag['href'])\n",
    "\n",
    "### Loop through mobile urls to access the listing page of each mobile brand.\n",
    "temp_mobile_brand_url = mobile_urls[0]\n",
    "\n",
    "### Access the listing page of each mobile phone brand\n",
    "response = requests.get(temp_mobile_brand_url)\n",
    "print(response.status_code)\n",
    "\n",
    "if response.status_code == 200:\n",
    "    ten_oh_html_doc = BeautifulSoup(response.content, 'html.parser')\n",
    "\n",
    "### Add an if condition to the below statement. Move forward only if brand_list classname is present in html doc.\n",
    "mobile_list_element = ten_oh_html_doc.find('div', class_=\"brand_list\")\n",
    "mobile_list_divs = mobile_list_element.find_all('div', class_=\"rvw-imgbox\")\n",
    "\n",
    "mobile_list_url = []\n",
    "\n",
    "for each_div in mobile_list_divs:\n",
    "    a_tag = each_div.find('a')\n",
    "    mobile_list_url.append(a_tag['href'])\n",
    "\n",
    "### Need to loop through the mobile_detail_url to get the data of each brand of mobile phones.\n",
    "mobile_detail_url = mobile_list_url[0]\n",
    "\n",
    "### Get the name of the mobile whose details are being extracted.\n",
    "mob_url = urlparse(mobile_detail_url)\n",
    "mobile_name = '-'.join(mob_url.path.replace('/', '').split('-')[:-1])\n",
    "\n",
    "### Get the list of all the mobile phones under a single brand.\n",
    "response = requests.get(mobile_detail_url)\n",
    "print(response.status_code)\n",
    "\n",
    "if response.status_code == 200:\n",
    "    mobile_detail_soup = BeautifulSoup(response.content, 'html.parser')\n",
    "\n",
    "\n",
    "### find all the categories of specs defined for the mobile phone.\n",
    "detail_spec_div = mobile_detail_soup.select(\"div#specs\")\n",
    "specs_category_divs = detail_spec_div[0].find_all('div', class_=\"_hd\")\n",
    "\n",
    "### Define a dictionary to collect all the details of mobile phones.\n",
    "mobile_specifications = {}\n",
    "mobile_specifications.update({ mobile_name: {} })\n",
    "\n",
    "### Find details of the mobile phone and update it to a dictionary.\n",
    "for each_category in specs_category_divs:\n",
    "    category_name = each_category.text\n",
    "    mobile_specifications[mobile_name].update({ category_name: {} })\n",
    "\n",
    "    #### Since the table of specs does not have any class to find, Traverse 2 parents up to find the right tag.\n",
    "    category_table_data = each_category.parent.parent.find('table')\n",
    "    table_rows = category_table_data.find_all('tr')\n",
    "\n",
    "    for each_table_row in table_rows:\n",
    "        table_data = each_table_row.find_all('td')\n",
    "        if len(table_data) > 1:\n",
    "            key = each_table_row.find_all('td')[0].text\n",
    "            value = each_table_row.find_all('td')[1].text\n",
    "            mobile_specifications[mobile_name][category_name].update({ key: value })"
   ]
  },
  {
   "cell_type": "code",
   "execution_count": 1,
   "id": "b98a467f-3540-4424-a840-b68c25a55d34",
   "metadata": {},
   "outputs": [],
   "source": [
    "GADGETS_360_URL = \"https://www.gadgets360.com/mobiles\"\n",
    "BRANDS_URL = \"all-brands\""
   ]
  },
  {
   "cell_type": "code",
   "execution_count": 37,
   "id": "e7af0ef1-f7ba-49af-9d0f-5e37b4de220c",
   "metadata": {},
   "outputs": [],
   "source": [
    "\n",
    "def get_url_list_of_all_mobile_phone_brands():\n",
    "    \"\"\"Get the list of all URLs of all mobile phone brands.\"\"\"\n",
    "    \n",
    "    web_doc_url = f\"{GADGETS_360_URL}/{BRANDS_URL}\"\n",
    "    response = requests.get(web_doc_url)\n",
    "    \n",
    "    if response.status_code == 200:\n",
    "        soup = BeautifulSoup(response.content, 'html.parser')\n",
    "    else:\n",
    "        print(f'get_url_list_of_all_mobile_phone_brands:Response received = {response.status_code}')\n",
    "    \n",
    "    brand_list = soup.find('div', class_=\"brand_list\")\n",
    "    \n",
    "    ### Get the URLs of all the mobile phone brands listed on page.\n",
    "    mobile_brand_list = brand_list.find('div', class_=\"brand\")\n",
    "    temp_mobile_brand_list = mobile_brand_list.find_all('a', class_=\"rvw-title\")\n",
    "    \n",
    "    ### Create a list of all brands of mobile phones.\n",
    "    mobile_urls = []\n",
    "    for each_tag in temp_mobile_brand_list:\n",
    "        if '-phones' in each_tag['href']:\n",
    "            mobile_urls.append(each_tag['href'])\n",
    "    \n",
    "    return mobile_urls"
   ]
  },
  {
   "cell_type": "code",
   "execution_count": 5,
   "id": "d9b491b2-ea85-46b8-bd41-662e0438617e",
   "metadata": {},
   "outputs": [
    {
     "name": "stdout",
     "output_type": "stream",
     "text": [
      "200\n"
     ]
    }
   ],
   "source": [
    "mobile_brand_url_list = get_url_list_of_all_mobile_phone_brands()"
   ]
  },
  {
   "cell_type": "code",
   "execution_count": 47,
   "id": "1f7ffd97-eae5-4bc4-bedf-70a41ef0546b",
   "metadata": {},
   "outputs": [],
   "source": [
    "def get_all_mobile_phones_under_a_brand(mobile_brand_url, errored_mobile_urls):\n",
    "    \"\"\"Get all URLs of phones under a brand URL.\"\"\"\n",
    "    response = requests.get(mobile_brand_url)\n",
    "    \n",
    "    if response.status_code == 200:\n",
    "        ten_oh_html_doc = BeautifulSoup(response.content, 'html.parser')\n",
    "    else:\n",
    "        print(f'get_all_mobile_phones_under_a_brand:Response received = {response.status_code}')\n",
    "    \n",
    "    ### Add an if condition to the below statement. Move forward only if brand_list classname is present in html doc.\n",
    "    mobile_list_element = ten_oh_html_doc.find('div', class_=\"brand_list\")\n",
    "    if mobile_list_element:\n",
    "        mobile_list_divs = mobile_list_element.find_all('div', class_=\"rvw-imgbox\")\n",
    "        \n",
    "        mobile_list_url = []\n",
    "        \n",
    "        for each_div in mobile_list_divs:\n",
    "            a_tag = each_div.find('a')\n",
    "            mobile_list_url.append(a_tag['href'])\n",
    "        return mobile_list_url\n",
    "    else:\n",
    "        errored_mobile_urls.append(mobile_brand_url)\n",
    "        return []"
   ]
  },
  {
   "cell_type": "code",
   "execution_count": 31,
   "id": "a7d0d04a-52ae-4063-8313-3972565d4a35",
   "metadata": {},
   "outputs": [
    {
     "data": {
      "text/plain": [
       "'acer-phones'"
      ]
     },
     "execution_count": 31,
     "metadata": {},
     "output_type": "execute_result"
    }
   ],
   "source": [
    "url_obj = urlparse(mobile_brand_url_list[1])\n",
    "url_obj.path.split('/')[-1]"
   ]
  },
  {
   "cell_type": "code",
   "execution_count": 13,
   "id": "2ad36a56-db76-4f28-8338-62a1b377493c",
   "metadata": {},
   "outputs": [
    {
     "name": "stdout",
     "output_type": "stream",
     "text": [
      "200\n"
     ]
    }
   ],
   "source": [
    "mobile_phones_url_list = get_all_mobile_phones_under_a_brand(mobile_brand_url_list[1])"
   ]
  },
  {
   "cell_type": "code",
   "execution_count": 14,
   "id": "e238abe3-a608-49eb-ad0b-ab4228cd4512",
   "metadata": {},
   "outputs": [
    {
     "data": {
      "text/plain": [
       "33"
      ]
     },
     "execution_count": 14,
     "metadata": {},
     "output_type": "execute_result"
    }
   ],
   "source": [
    "len(mobile_phones_url_list)"
   ]
  },
  {
   "cell_type": "code",
   "execution_count": 62,
   "id": "ea08f43d-0e0b-4a95-a28c-e4e76f36d563",
   "metadata": {},
   "outputs": [],
   "source": [
    "def get_mobile_specs(mobile_detail_url, mobile_specifications):\n",
    "    \"\"\"Get specifications of mobile phones\"\"\"\n",
    "    ### Get the name of the mobile whose details are being extracted.\n",
    "    mob_url = urlparse(mobile_detail_url)\n",
    "    # mobile_name = '-'.join(mob_url.path.replace('/', '').split('-')[:-1])\n",
    "    \n",
    "    ### Get the list of all the mobile phones under a single brand.\n",
    "    response = requests.get(mobile_detail_url)\n",
    "    \n",
    "    if response.status_code == 200:\n",
    "        mobile_detail_soup = BeautifulSoup(response.content, 'html.parser')\n",
    "    else:\n",
    "        print(f'get_mobile_specs:Response received = {response.status_code}')\n",
    "\n",
    "    # Find the mobile name in the document    \n",
    "    mobile_detail_soup.find('div', class_=\"_lhs\").find('h1').text.lower().replace(' ', '-')\n",
    "\n",
    "    ### find all the categories of specs defined for the mobile phone.\n",
    "    detail_spec_div = mobile_detail_soup.select(\"div#specs\")\n",
    "    specs_category_divs = detail_spec_div[0].find_all('div', class_=\"_hd\")\n",
    "    \n",
    "    ### Define a dictionary to collect all the details of mobile phones.\n",
    "    mobile_specifications.update({ mobile_name: {} })\n",
    "    \n",
    "    ### Find details of the mobile phone and update it to a dictionary.\n",
    "    for each_category in specs_category_divs:\n",
    "        category_name = each_category.text\n",
    "        mobile_specifications[mobile_name].update({ category_name: {} })\n",
    "    \n",
    "        #### Since the table of specs does not have any class to find, Traverse 2 parents up to find the right tag.\n",
    "        category_table_data = each_category.parent.parent.find('table')\n",
    "        table_rows = category_table_data.find_all('tr')\n",
    "    \n",
    "        for each_table_row in table_rows:\n",
    "            table_data = each_table_row.find_all('td')\n",
    "            if len(table_data) > 1:\n",
    "                key = each_table_row.find_all('td')[0].text\n",
    "                value = each_table_row.find_all('td')[1].text\n",
    "                mobile_specifications[mobile_name][category_name].update({ key: value })\n",
    "\n",
    "    return mobile_specifications"
   ]
  },
  {
   "cell_type": "code",
   "execution_count": 22,
   "id": "bdfa0ed3-5842-4906-9c41-3a0cbcf85116",
   "metadata": {},
   "outputs": [
    {
     "name": "stdout",
     "output_type": "stream",
     "text": [
      "200\n"
     ]
    }
   ],
   "source": [
    "mobile_specifications = {}\n",
    "mobile_specifications = get_mobile_specs(mobile_phones_url_list[0], mobile_specifications)"
   ]
  },
  {
   "cell_type": "code",
   "execution_count": 24,
   "id": "921ab164-a1d6-4502-a315-b92eced12cc0",
   "metadata": {},
   "outputs": [
    {
     "name": "stdout",
     "output_type": "stream",
     "text": [
      "200\n"
     ]
    }
   ],
   "source": [
    "mobile_specifications = get_mobile_specs(mobile_phones_url_list[1], mobile_specifications)"
   ]
  },
  {
   "cell_type": "code",
   "execution_count": 25,
   "id": "31f50ad7-80ca-4c62-92b3-2b0ba15eaa75",
   "metadata": {},
   "outputs": [
    {
     "data": {
      "text/plain": [
       "{'acer-liquid-z6-plus': {'General': {'Brand': 'Acer',\n",
       "   'Model': 'Liquid Z6 Plus',\n",
       "   'Release date': 'August 2016',\n",
       "   'Form factor': 'Touchscreen',\n",
       "   'Dimensions (mm)': '153.60 x 75.40 x 8.50',\n",
       "   'Weight (g)': '168.00',\n",
       "   'Battery capacity (mAh)': '4080',\n",
       "   'Removable battery': 'No'},\n",
       "  'Display': {'Screen size (inches)': '5.50',\n",
       "   'Touchscreen': 'Yes',\n",
       "   'Resolution': '1920x1080 pixels'},\n",
       "  'Hardware': {'Processor': '1.3GHz octa-core',\n",
       "   'Processor make': 'MediaTek MT6753',\n",
       "   'RAM': '3GB',\n",
       "   'Internal storage': '32GB',\n",
       "   'Expandable storage': 'Yes',\n",
       "   'Expandable storage type': 'microSD',\n",
       "   'Expandable storage up to (GB)': '128'},\n",
       "  'Camera': {'Rear camera': '13-megapixel',\n",
       "   'Rear flash': 'LED',\n",
       "   'Front camera': '5-megapixel'},\n",
       "  'Software': {'Operating system': 'Android 6.0'},\n",
       "  'Connectivity': {'Wi-Fi': 'Yes',\n",
       "   'Wi-Fi standards supported': '802.11 b/g/n',\n",
       "   'GPS': 'No',\n",
       "   'Bluetooth': 'Yes',\n",
       "   'NFC': 'No',\n",
       "   'Infrared': 'No',\n",
       "   'USB OTG': 'No',\n",
       "   'Headphones': '3.5mm',\n",
       "   'FM': 'Yes',\n",
       "   'Number of SIMs': '1',\n",
       "   'Wi-Fi Direct': 'No',\n",
       "   'Mobile High-Definition Link (MHL)': 'No',\n",
       "   'GSM/CDMA': 'GSM',\n",
       "   '3G': 'No',\n",
       "   '4G/ LTE': 'Yes',\n",
       "   'Supports 4G in India (Band 40)': 'No'},\n",
       "  'Sensors': {'Compass/ Magnetometer': 'No',\n",
       "   'Proximity sensor': 'Yes',\n",
       "   'Accelerometer': 'Yes',\n",
       "   'Ambient light sensor': 'Yes',\n",
       "   'Gyroscope': 'No',\n",
       "   'Barometer': 'No',\n",
       "   'Temperature sensor': 'No'}},\n",
       " 'acer-liquid-z6': {'General': {'Brand': 'Acer',\n",
       "   'Model': 'Liquid Z6',\n",
       "   'Release date': 'August 2016',\n",
       "   'Form factor': 'Touchscreen',\n",
       "   'Dimensions (mm)': '145.50 x 72.50 x 8.50',\n",
       "   'Battery capacity (mAh)': '2000',\n",
       "   'Removable battery': 'No'},\n",
       "  'Display': {'Screen size (inches)': '5.00',\n",
       "   'Touchscreen': 'Yes',\n",
       "   'Resolution': '1280x720 pixels'},\n",
       "  'Hardware': {'Processor': '1.25GHz quad-core',\n",
       "   'Processor make': 'MediaTek MT6737',\n",
       "   'RAM': '1GB',\n",
       "   'Internal storage': '8GB',\n",
       "   'Expandable storage': 'Yes',\n",
       "   'Expandable storage type': 'microSD'},\n",
       "  'Camera': {'Rear camera': '8-megapixel', 'Front camera': '2-megapixel'},\n",
       "  'Software': {'Operating system': 'Android 6.0'},\n",
       "  'Connectivity': {'Wi-Fi': 'Yes',\n",
       "   'Wi-Fi standards supported': '802.11 b/g/n',\n",
       "   'GPS': 'No',\n",
       "   'Bluetooth': 'Yes',\n",
       "   'NFC': 'No',\n",
       "   'Infrared': 'No',\n",
       "   'USB OTG': 'No',\n",
       "   'Headphones': '3.5mm',\n",
       "   'FM': 'No',\n",
       "   'Number of SIMs': '1',\n",
       "   'Wi-Fi Direct': 'No',\n",
       "   'Mobile High-Definition Link (MHL)': 'No',\n",
       "   'GSM/CDMA': 'GSM',\n",
       "   '3G': 'No',\n",
       "   '4G/ LTE': 'Yes',\n",
       "   'Supports 4G in India (Band 40)': 'No'},\n",
       "  'Sensors': {'Compass/ Magnetometer': 'No',\n",
       "   'Proximity sensor': 'Yes',\n",
       "   'Accelerometer': 'Yes',\n",
       "   'Ambient light sensor': 'Yes',\n",
       "   'Gyroscope': 'No',\n",
       "   'Barometer': 'No',\n",
       "   'Temperature sensor': 'No'}}}"
      ]
     },
     "execution_count": 25,
     "metadata": {},
     "output_type": "execute_result"
    }
   ],
   "source": [
    "mobile_specifications"
   ]
  },
  {
   "cell_type": "code",
   "execution_count": 32,
   "id": "047b498d-0507-4e6b-9add-06e33505444c",
   "metadata": {},
   "outputs": [
    {
     "name": "stderr",
     "output_type": "stream",
     "text": [
      "/Users/amoghkulkarni/.local/share/virtualenvs/gadget-spec-bot-PKdu65VV/lib/python3.9/site-packages/tqdm/auto.py:21: TqdmWarning: IProgress not found. Please update jupyter and ipywidgets. See https://ipywidgets.readthedocs.io/en/stable/user_install.html\n",
      "  from .autonotebook import tqdm as notebook_tqdm\n"
     ]
    }
   ],
   "source": [
    "from tqdm.auto import tqdm"
   ]
  },
  {
   "cell_type": "code",
   "execution_count": 48,
   "id": "bf53bde7-aacb-45be-aa15-cf03b4c41c94",
   "metadata": {},
   "outputs": [],
   "source": [
    "def get_all_mobile_specifications():\n",
    "    \"\"\"Get specifications of all mobile phones.\"\"\"\n",
    "    mobile_brand_url_list = get_url_list_of_all_mobile_phone_brands()\n",
    "    mobile_specs_data_by_brand = {}\n",
    "    errored_mobile_urls = []\n",
    "\n",
    "    for each_mobile_brand_url in tqdm(mobile_brand_url_list):\n",
    "        url_obj = urlparse(each_mobile_brand_url)\n",
    "        brand_name = url_obj.path.split('/')[-1]\n",
    "        mobile_phones_url_list = get_all_mobile_phones_under_a_brand(each_mobile_brand_url, errored_mobile_urls)\n",
    "        temp_mobile_specifications = {}\n",
    "\n",
    "        for each_mobile_phone in mobile_phones_url_list:        \n",
    "            temp_mobile_specifications = get_mobile_specs(each_mobile_phone, temp_mobile_specifications)\n",
    "        mobile_specs_data_by_brand.update({ brand_name: temp_mobile_specifications })\n",
    "\n",
    "    return mobile_specs_data_by_brand"
   ]
  },
  {
   "cell_type": "code",
   "execution_count": null,
   "id": "0e3f9887-e9b5-4c06-9528-3aaaf10a2a56",
   "metadata": {},
   "outputs": [],
   "source": [
    "mobile_specs_data = get_all_mobile_specifications()"
   ]
  },
  {
   "cell_type": "code",
   "execution_count": 44,
   "id": "0eaeeada-dd0d-45eb-b496-fd0cb1564d3f",
   "metadata": {},
   "outputs": [],
   "source": [
    "import json"
   ]
  },
  {
   "cell_type": "code",
   "execution_count": 46,
   "id": "7d91acf7-c9dc-4644-b22e-537b46dd34b2",
   "metadata": {},
   "outputs": [],
   "source": [
    "with open('mobile_specifications_data.json', 'w+') as fp:\n",
    "    json.dump(mobile_specs_data, fp)"
   ]
  },
  {
   "cell_type": "code",
   "execution_count": 49,
   "id": "21e808ba-3ac6-49d7-a02b-4092cbf6186b",
   "metadata": {},
   "outputs": [],
   "source": [
    "mobile_brand_url_list = get_url_list_of_all_mobile_phone_brands()"
   ]
  },
  {
   "cell_type": "code",
   "execution_count": null,
   "id": "66eb5ac9-8302-4f3d-b8bd-2b0c16919caa",
   "metadata": {},
   "outputs": [],
   "source": [
    "mobile_brand_url_list"
   ]
  },
  {
   "cell_type": "code",
   "execution_count": 52,
   "id": "6faf64a2-73aa-4a3d-853d-0c7da1da4211",
   "metadata": {},
   "outputs": [],
   "source": [
    "errored_mobile_urls = []\n",
    "\n",
    "mobile_phones_url_list = get_all_mobile_phones_under_a_brand('https://www.gadgets360.com/mobiles/apple-phones', errored_mobile_urls)"
   ]
  },
  {
   "cell_type": "code",
   "execution_count": 53,
   "id": "952dee00-4612-4d9e-8dde-9c4f89f780e9",
   "metadata": {},
   "outputs": [
    {
     "data": {
      "text/plain": [
       "[]"
      ]
     },
     "execution_count": 53,
     "metadata": {},
     "output_type": "execute_result"
    }
   ],
   "source": [
    "errored_mobile_urls"
   ]
  },
  {
   "cell_type": "code",
   "execution_count": null,
   "id": "6f26c007-b686-4498-920c-9380df250126",
   "metadata": {},
   "outputs": [],
   "source": [
    "mobile_phones_url_list"
   ]
  },
  {
   "cell_type": "code",
   "execution_count": 55,
   "id": "28b67241-db11-4e9b-ab4e-ce51629245dd",
   "metadata": {},
   "outputs": [],
   "source": [
    "response = requests.get('https://www.gadgets360.com/iphone-16-pro-price-in-india-128237')\n",
    "mobile_detail_soup = BeautifulSoup(response.content, 'html.parser')"
   ]
  },
  {
   "cell_type": "code",
   "execution_count": 61,
   "id": "154b69a6-27f6-4909-8324-fee2542926e3",
   "metadata": {},
   "outputs": [
    {
     "data": {
      "text/plain": [
       "'iphone-16-pro'"
      ]
     },
     "execution_count": 61,
     "metadata": {},
     "output_type": "execute_result"
    }
   ],
   "source": [
    "mobile_detail_soup.find('div', class_=\"_lhs\").find('h1').text.lower().replace(' ', '-')"
   ]
  },
  {
   "cell_type": "code",
   "execution_count": 67,
   "id": "ac25161e-0d21-4d4e-a29c-b810a938bc45",
   "metadata": {},
   "outputs": [],
   "source": [
    "def get_mobile_specs(mobile_detail_url, mobile_specifications):\n",
    "    \"\"\"Get specifications of mobile phones\"\"\"\n",
    "    ### Get the name of the mobile whose details are being extracted.\n",
    "    mob_url = urlparse(mobile_detail_url)\n",
    "    # mobile_name = '-'.join(mob_url.path.replace('/', '').split('-')[:-1])\n",
    "    \n",
    "    ### Get the list of all the mobile phones under a single brand.\n",
    "    response = requests.get(mobile_detail_url)\n",
    "    \n",
    "    if response.status_code == 200:\n",
    "        mobile_detail_soup = BeautifulSoup(response.content, 'html.parser')\n",
    "    else:\n",
    "        print(f'get_mobile_specs:Response received = {response.status_code}')\n",
    "\n",
    "    # Find the mobile name in the document    \n",
    "    mobile_name = mobile_detail_soup.find('div', class_=\"_lhs\").find('h1').text.lower().replace(' ', '-')\n",
    "\n",
    "    ### find all the categories of specs defined for the mobile phone.\n",
    "    detail_spec_div = mobile_detail_soup.select(\"div#specs\")\n",
    "    specs_category_divs = detail_spec_div[0].find_all('div', class_=\"_hd\")\n",
    "    \n",
    "    ### Define a dictionary to collect all the details of mobile phones.\n",
    "    mobile_specifications.update({ mobile_name: {} })\n",
    "    \n",
    "    ### Find details of the mobile phone and update it to a dictionary.\n",
    "    for each_category in specs_category_divs:\n",
    "        category_name = each_category.text\n",
    "        mobile_specifications[mobile_name].update({ category_name: {} })\n",
    "    \n",
    "        #### Since the table of specs does not have any class to find, Traverse 2 parents up to find the right tag.\n",
    "        category_table_data = each_category.parent.parent.find('table')\n",
    "        table_rows = category_table_data.find_all('tr')\n",
    "    \n",
    "        for each_table_row in table_rows:\n",
    "            table_data = each_table_row.find_all('td')\n",
    "            if len(table_data) > 1:\n",
    "                key = each_table_row.find_all('td')[0].text\n",
    "                value = each_table_row.find_all('td')[1].text\n",
    "                mobile_specifications[mobile_name][category_name].update({ key: value })\n",
    "\n",
    "    return mobile_specifications"
   ]
  },
  {
   "cell_type": "code",
   "execution_count": 65,
   "id": "631ae66b-4956-4de7-a1c2-e0dd971055f6",
   "metadata": {},
   "outputs": [],
   "source": [
    "def get_all_mobile_phones_under_a_brand(mobile_brand_url, errored_mobile_urls):\n",
    "    \"\"\"Get all URLs of phones under a brand URL.\"\"\"\n",
    "    response = requests.get(mobile_brand_url)\n",
    "    \n",
    "    if response.status_code == 200:\n",
    "        ten_oh_html_doc = BeautifulSoup(response.content, 'html.parser')\n",
    "    else:\n",
    "        print(f'get_all_mobile_phones_under_a_brand:Response received = {response.status_code}')\n",
    "    \n",
    "    ### Add an if condition to the below statement. Move forward only if brand_list classname is present in html doc.\n",
    "    mobile_list_element = ten_oh_html_doc.find('div', class_=\"brand_list\")\n",
    "    if mobile_list_element:\n",
    "        mobile_list_divs = mobile_list_element.find_all('div', class_=\"rvw-imgbox\")\n",
    "        \n",
    "        mobile_list_url = []\n",
    "        \n",
    "        for each_div in mobile_list_divs:\n",
    "            a_tag = each_div.find('a')\n",
    "            mobile_list_url.append(a_tag['href'])\n",
    "        return mobile_list_url\n",
    "    else:\n",
    "        errored_mobile_urls.append(mobile_brand_url)\n",
    "        return []"
   ]
  },
  {
   "cell_type": "code",
   "execution_count": 70,
   "id": "c6e0df32-c3b8-43c9-a6e3-aa805e7faa14",
   "metadata": {},
   "outputs": [],
   "source": [
    "def get_all_mobile_specifications():\n",
    "    \"\"\"Get specifications of all mobile phones.\"\"\"\n",
    "    mobile_brand_url_list = get_url_list_of_all_mobile_phone_brands()\n",
    "    mobile_specs_data_by_brand = {}\n",
    "    errored_mobile_urls = []\n",
    "\n",
    "    for each_mobile_brand_url in tqdm(mobile_brand_url_list):\n",
    "        url_obj = urlparse(each_mobile_brand_url)\n",
    "        brand_name = url_obj.path.split('/')[-1]\n",
    "        mobile_phones_url_list = get_all_mobile_phones_under_a_brand(each_mobile_brand_url, errored_mobile_urls)\n",
    "        temp_mobile_specifications = {}\n",
    "\n",
    "        for each_mobile_phone in mobile_phones_url_list:        \n",
    "            temp_mobile_specifications = get_mobile_specs(each_mobile_phone, temp_mobile_specifications)\n",
    "        mobile_specs_data_by_brand.update({ brand_name: temp_mobile_specifications })\n",
    "\n",
    "    return mobile_specs_data_by_brand, errored_mobile_urls"
   ]
  },
  {
   "cell_type": "code",
   "execution_count": 73,
   "id": "7f607016-cf45-4dbd-b8f5-14514dea688d",
   "metadata": {},
   "outputs": [
    {
     "name": "stderr",
     "output_type": "stream",
     "text": [
      "100%|███████████████████████████████████████████████████████████████████████████████████████████████████████████████████████████████████████████████████████████████████████████████████████████████████████| 179/179 [07:08<00:00,  2.40s/it]\n"
     ]
    }
   ],
   "source": [
    "mobile_specs_data_by_brand, errored_mobile_urls = get_all_mobile_specifications()"
   ]
  },
  {
   "cell_type": "code",
   "execution_count": 74,
   "id": "af1d682a-c2da-4cfb-9a7f-ccdc93add762",
   "metadata": {},
   "outputs": [
    {
     "data": {
      "text/plain": [
       "120"
      ]
     },
     "execution_count": 74,
     "metadata": {},
     "output_type": "execute_result"
    }
   ],
   "source": [
    "len(errored_mobile_urls)"
   ]
  },
  {
   "cell_type": "code",
   "execution_count": 76,
   "id": "b8681249-a474-4dc5-9a52-668641015cd5",
   "metadata": {},
   "outputs": [],
   "source": [
    "with open('mobile_specifications_data.json', 'w+') as fp:\n",
    "    json.dump(mobile_specs_data_by_brand, fp)"
   ]
  },
  {
   "cell_type": "code",
   "execution_count": 77,
   "id": "a44de1e9-0b21-448f-9301-23d1a1cc7f84",
   "metadata": {},
   "outputs": [
    {
     "data": {
      "text/plain": [
       "['https://www.gadgets360.com/mobiles/adcom-phones',\n",
       " 'https://www.gadgets360.com/mobiles/airtel-phones',\n",
       " 'https://www.gadgets360.com/mobiles/alpha-phones',\n",
       " 'https://www.gadgets360.com/mobiles/amazon-phones',\n",
       " 'https://www.gadgets360.com/mobiles/aoc-phones']"
      ]
     },
     "execution_count": 77,
     "metadata": {},
     "output_type": "execute_result"
    }
   ],
   "source": [
    "errored_mobile_urls[:5]"
   ]
  },
  {
   "cell_type": "markdown",
   "id": "4663f2b5-7d19-4bd1-9e02-2b849db88d88",
   "metadata": {
    "jp-MarkdownHeadingCollapsed": true
   },
   "source": [
    "## Processing errored mobile phones"
   ]
  },
  {
   "cell_type": "code",
   "execution_count": 79,
   "id": "8e241eba-0433-4624-9ad1-bbe44d5a9816",
   "metadata": {},
   "outputs": [],
   "source": [
    "mobile_listing_url = 'https://www.gadgets360.com/mobiles/adcom-phones'\n",
    "response = requests.get(mobile_listing_url)"
   ]
  },
  {
   "cell_type": "code",
   "execution_count": 80,
   "id": "9096a713-0c94-4e9c-809c-64e276dc2c2d",
   "metadata": {},
   "outputs": [
    {
     "data": {
      "text/plain": [
       "200"
      ]
     },
     "execution_count": 80,
     "metadata": {},
     "output_type": "execute_result"
    }
   ],
   "source": [
    "response.status_code"
   ]
  },
  {
   "cell_type": "code",
   "execution_count": 81,
   "id": "db615995-2b6f-407b-8450-83e12bc66b95",
   "metadata": {},
   "outputs": [],
   "source": [
    "mobile_detail_soup = BeautifulSoup(response.content, 'html.parser')"
   ]
  },
  {
   "cell_type": "code",
   "execution_count": 82,
   "id": "192c1173-9659-45ef-b23c-19fdab87f205",
   "metadata": {},
   "outputs": [],
   "source": [
    "mobile_listing_section = mobile_detail_soup.find('section', class_=\"_lpdlst\")"
   ]
  },
  {
   "cell_type": "code",
   "execution_count": 88,
   "id": "dca890b9-95e0-46fd-8444-f74d7df919da",
   "metadata": {},
   "outputs": [],
   "source": [
    "mobile_listing_div = mobile_listing_section.select('div#allplist')"
   ]
  },
  {
   "cell_type": "code",
   "execution_count": 90,
   "id": "1881bf4f-8678-47ce-ba35-e68a35a5e68f",
   "metadata": {},
   "outputs": [],
   "source": [
    "listing = mobile_listing_div[0].find_all('div', class_=\"_nolpoptbuy\")"
   ]
  },
  {
   "cell_type": "code",
   "execution_count": 102,
   "id": "17099970-1813-4d09-bb8e-ce4aef837fe1",
   "metadata": {},
   "outputs": [
    {
     "data": {
      "text/plain": [
       "'https://www.gadgets360.com/adcom-kitkat-a54-2174'"
      ]
     },
     "execution_count": 102,
     "metadata": {},
     "output_type": "execute_result"
    }
   ],
   "source": [
    "listing[0].find('h3', class_=\"_hd\").find('a').get('href')"
   ]
  },
  {
   "cell_type": "code",
   "execution_count": 117,
   "id": "d9522890-05dd-4dee-81f2-1fe937ad2339",
   "metadata": {},
   "outputs": [],
   "source": [
    "bad_urls = []\n",
    "\n",
    "def get_mobile_urls_of_brand(mobile_listing_url):\n",
    "    \"\"\"Get detail URLs of each mobile under a given brand.\"\"\"\n",
    "    mobile_detail_urls = []\n",
    "    response = requests.get(mobile_listing_url)\n",
    "    if response.status_code == 200:\n",
    "        mobile_detail_soup = BeautifulSoup(response.content, 'html.parser')\n",
    "    else:\n",
    "        bad_urls.append(each_listing_url)\n",
    "\n",
    "    mobile_listing_section = mobile_detail_soup.find('section', class_=\"_lpdlst\")\n",
    "    mobile_listing_div = mobile_listing_section.select('div#allplist')\n",
    "    listing = mobile_listing_div[0].find_all('div', class_=\"_nolpoptbuy\")\n",
    "\n",
    "    for each_listing in listing:\n",
    "        temp_mobile_detail_url = each_listing.find('h3', class_=\"_hd\").find('a').get('href')\n",
    "        mobile_detail_urls.append(temp_mobile_detail_url)\n",
    "\n",
    "    return mobile_detail_urls"
   ]
  },
  {
   "cell_type": "code",
   "execution_count": 126,
   "id": "a45ff667-9330-4e4e-b5d6-a71726c34ae7",
   "metadata": {},
   "outputs": [],
   "source": [
    "errored_mobile_specs_data_by_brand = {}"
   ]
  },
  {
   "cell_type": "code",
   "execution_count": 122,
   "id": "77cc1964-b64c-4adf-899b-853194263a4b",
   "metadata": {},
   "outputs": [],
   "source": [
    "def process_errored_mobile_listing_urls(errored_mobile_urls):\n",
    "    \"\"\"Processing the different HTML format.\"\"\"\n",
    "    for each_listing_url in tqdm(errored_mobile_urls):\n",
    "        mobile_detail_urls_list = get_mobile_urls_of_brand(each_listing_url)\n",
    "        url_obj = urlparse(each_listing_url)\n",
    "        brand_name = url_obj.path.split('/')[-1]\n",
    "        temp_mobile_specifications = {}\n",
    "\n",
    "        for each_mobile_detail_url in mobile_detail_urls_list:\n",
    "            temp_mobile_specifications = get_mobile_specs(each_mobile_detail_url, temp_mobile_specifications)\n",
    "            errored_mobile_specs_data_by_brand.update({ brand_name: temp_mobile_specifications })\n",
    "    return errored_mobile_specs_data_by_brand"
   ]
  },
  {
   "cell_type": "code",
   "execution_count": 127,
   "id": "aac81008-0d47-44f9-9546-d91c571e8393",
   "metadata": {},
   "outputs": [
    {
     "name": "stderr",
     "output_type": "stream",
     "text": [
      "100%|███████████████████████████████████████████████████████████████████████████████████████████████████████████████████████████████████████████████████████████████████████████████████████████████████████| 120/120 [04:40<00:00,  2.34s/it]\n"
     ]
    }
   ],
   "source": [
    "residual_mobile_specs_data_by_brand = process_errored_mobile_listing_urls(errored_mobile_urls)"
   ]
  },
  {
   "cell_type": "code",
   "execution_count": 128,
   "id": "685d4f94-3474-4b09-b624-15e78a6fc710",
   "metadata": {},
   "outputs": [
    {
     "data": {
      "text/plain": [
       "[]"
      ]
     },
     "execution_count": 128,
     "metadata": {},
     "output_type": "execute_result"
    }
   ],
   "source": [
    "bad_urls"
   ]
  },
  {
   "cell_type": "code",
   "execution_count": 131,
   "id": "6f6c7e62-c3b3-4158-b9a5-f4e261f58784",
   "metadata": {},
   "outputs": [],
   "source": [
    "with open('errored_mobile_specifications_data.json', 'w+') as fp:\n",
    "    json.dump(residual_mobile_specs_data_by_brand, fp)"
   ]
  },
  {
   "cell_type": "code",
   "execution_count": 1,
   "id": "dbd3b622-ed3a-473f-8b83-c88894b5127c",
   "metadata": {},
   "outputs": [],
   "source": [
    "abc = (1, 2, 3)"
   ]
  },
  {
   "cell_type": "code",
   "execution_count": 2,
   "id": "1a328498-873a-464f-a94c-c1e5b63f9003",
   "metadata": {},
   "outputs": [
    {
     "data": {
      "text/plain": [
       "1"
      ]
     },
     "execution_count": 2,
     "metadata": {},
     "output_type": "execute_result"
    }
   ],
   "source": [
    "abc[0]"
   ]
  },
  {
   "cell_type": "code",
   "execution_count": 3,
   "id": "cb451920-f7b4-461a-a6b8-c405817e69d2",
   "metadata": {},
   "outputs": [],
   "source": [
    "dict1 = {'a': 1, 'b': 2}\n",
    "dict2 = {'c': 3, 'd': 4}"
   ]
  },
  {
   "cell_type": "code",
   "execution_count": 4,
   "id": "3ade4f14-7079-461a-853f-e5e17deb42f0",
   "metadata": {},
   "outputs": [
    {
     "data": {
      "text/plain": [
       "{'a': 1, 'b': 2, 'c': 3, 'd': 4}"
      ]
     },
     "execution_count": 4,
     "metadata": {},
     "output_type": "execute_result"
    }
   ],
   "source": [
    "dict1 | dict2"
   ]
  },
  {
   "cell_type": "code",
   "execution_count": null,
   "id": "0e666746-a72e-4502-98eb-6721d58b8962",
   "metadata": {},
   "outputs": [],
   "source": []
  }
 ],
 "metadata": {
  "kernelspec": {
   "display_name": "Python 3 (ipykernel)",
   "language": "python",
   "name": "python3"
  },
  "language_info": {
   "codemirror_mode": {
    "name": "ipython",
    "version": 3
   },
   "file_extension": ".py",
   "mimetype": "text/x-python",
   "name": "python",
   "nbconvert_exporter": "python",
   "pygments_lexer": "ipython3",
   "version": "3.9.6"
  }
 },
 "nbformat": 4,
 "nbformat_minor": 5
}
