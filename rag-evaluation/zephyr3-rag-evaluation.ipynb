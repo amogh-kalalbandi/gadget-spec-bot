{
 "cells": [
  {
   "cell_type": "code",
   "execution_count": 1,
   "id": "3c67ba17-5c3a-4679-a9c4-37ddc267e9e5",
   "metadata": {},
   "outputs": [
    {
     "name": "stderr",
     "output_type": "stream",
     "text": [
      "/Users/amoghkulkarni/.local/share/virtualenvs/gadget-spec-bot-PKdu65VV/lib/python3.9/site-packages/urllib3/__init__.py:35: NotOpenSSLWarning: urllib3 v2 only supports OpenSSL 1.1.1+, currently the 'ssl' module is compiled with 'LibreSSL 2.8.3'. See: https://github.com/urllib3/urllib3/issues/3020\n",
      "  warnings.warn(\n",
      "/Users/amoghkulkarni/.local/share/virtualenvs/gadget-spec-bot-PKdu65VV/lib/python3.9/site-packages/tqdm/auto.py:21: TqdmWarning: IProgress not found. Please update jupyter and ipywidgets. See https://ipywidgets.readthedocs.io/en/stable/user_install.html\n",
      "  from .autonotebook import tqdm as notebook_tqdm\n"
     ]
    }
   ],
   "source": [
    "import json\n",
    "from elasticsearch import Elasticsearch\n",
    "from tqdm.auto import tqdm\n",
    "import numpy as np\n",
    "import pandas as pd\n",
    "from sentence_transformers import SentenceTransformer"
   ]
  },
  {
   "cell_type": "code",
   "execution_count": 2,
   "id": "9de48cdd-7fc9-4779-8d38-4a8b5b6c0eb6",
   "metadata": {},
   "outputs": [],
   "source": [
    "index_settings = {\n",
    "    \"settings\": {\n",
    "        \"number_of_shards\": 1,\n",
    "        \"number_of_replicas\": 0\n",
    "    },\n",
    "    \"mappings\": {\n",
    "        \"properties\": {\n",
    "            \"company\": {\"type\": \"text\"},\n",
    "            \"name\": {\"type\": \"text\"},\n",
    "            \"specifications\": {\"type\": \"keyword\"} ,\n",
    "            \"name_vector\": {\"type\": \"dense_vector\", \"dims\": 768, \"index\": True, \"similarity\": \"cosine\"},\n",
    "            \"specification_vector\": {\"type\": \"dense_vector\", \"dims\": 768, \"index\": True, \"similarity\": \"cosine\"}\n",
    "        }\n",
    "    }\n",
    "}"
   ]
  },
  {
   "cell_type": "code",
   "execution_count": 3,
   "id": "c510d300-56db-4964-82fc-9b9c480cba6d",
   "metadata": {},
   "outputs": [],
   "source": [
    "es_client = Elasticsearch('http://localhost:9200')"
   ]
  },
  {
   "cell_type": "code",
   "execution_count": 10,
   "id": "c5ba76c2-bee0-4724-9009-13613bf0b6b8",
   "metadata": {},
   "outputs": [],
   "source": [
    "response = es_client.indices.exists(index=\"mobile-abc\")"
   ]
  },
  {
   "cell_type": "code",
   "execution_count": 14,
   "id": "b3300649-6fad-4356-8cec-b79c65df17a8",
   "metadata": {},
   "outputs": [
    {
     "data": {
      "text/plain": [
       "'def'"
      ]
     },
     "execution_count": 14,
     "metadata": {},
     "output_type": "execute_result"
    }
   ],
   "source": [
    "'abc' if es_client.indices.exists(index=\"mobile-abc\") else 'def'"
   ]
  },
  {
   "cell_type": "code",
   "execution_count": null,
   "id": "db79c498-763a-478f-89f0-70f350024558",
   "metadata": {},
   "outputs": [],
   "source": []
  },
  {
   "cell_type": "code",
   "execution_count": 7,
   "id": "2009a79d-a31b-4dab-b3a4-da2d5e21a035",
   "metadata": {},
   "outputs": [
    {
     "data": {
      "text/plain": [
       "ObjectApiResponse({'acknowledged': True, 'shards_acknowledged': True, 'index': 'mobile-specifications'})"
      ]
     },
     "execution_count": 7,
     "metadata": {},
     "output_type": "execute_result"
    }
   ],
   "source": [
    "index_name = \"mobile-specifications\"\n",
    "es_client.indices.delete(index=index_name)\n",
    "es_client.indices.create(index=index_name, body=index_settings)"
   ]
  },
  {
   "cell_type": "code",
   "execution_count": 8,
   "id": "dc7b9922-5a67-4b76-818d-c593ee0c63b2",
   "metadata": {},
   "outputs": [],
   "source": [
    "import pickle"
   ]
  },
  {
   "cell_type": "code",
   "execution_count": 9,
   "id": "a638f6db-e333-47b9-8f4c-08dd7fe124ae",
   "metadata": {},
   "outputs": [],
   "source": [
    "with open('../search_build_and_eval/mobile_specs_vector_data.pkl', 'rb') as fp:\n",
    "    mobile_specs_vector_data = pickle.load(fp)"
   ]
  },
  {
   "cell_type": "code",
   "execution_count": 10,
   "id": "62ca8e9a-7c01-4a70-9b79-25f64aedc6aa",
   "metadata": {},
   "outputs": [],
   "source": [
    "with open('../data-extraction/mobile_specifications_data.json', 'r') as fp:\n",
    "    mobile_specs_data = json.load(fp)"
   ]
  },
  {
   "cell_type": "code",
   "execution_count": 11,
   "id": "80551c45-2dfe-4944-94e3-cedda0c16279",
   "metadata": {},
   "outputs": [
    {
     "name": "stderr",
     "output_type": "stream",
     "text": [
      "/Users/amoghkulkarni/.local/share/virtualenvs/gadget-spec-bot-PKdu65VV/lib/python3.9/site-packages/transformers/tokenization_utils_base.py:1617: FutureWarning: `clean_up_tokenization_spaces` was not set. It will be set to `True` by default. This behavior will be deprecated in transformers v4.45, and will be then set to `False` by default. For more details check this issue: https://github.com/huggingface/transformers/issues/31884\n",
      "  warnings.warn(\n"
     ]
    }
   ],
   "source": [
    "model = SentenceTransformer(\"all-mpnet-base-v2\")"
   ]
  },
  {
   "cell_type": "code",
   "execution_count": 12,
   "id": "bbd2b116-e5e9-4ddc-9682-69912adda281",
   "metadata": {},
   "outputs": [],
   "source": [
    "def elastic_search_knn(vector, vector_field=\"name_vector\"):\n",
    "    \"\"\"Return elastic search results for given vector.\"\"\"\n",
    "    knn_query = {\n",
    "        \"field\": vector_field,\n",
    "        \"query_vector\": vector,\n",
    "        \"k\": 5,\n",
    "        \"num_candidates\": 10000\n",
    "    }\n",
    "\n",
    "    search_query = {\n",
    "        'knn': knn_query,\n",
    "        '_source': [\"name\", \"company\", \"specifications\"]\n",
    "    }\n",
    "\n",
    "    es_results = es_client.search(\n",
    "        index=index_name,\n",
    "        body=search_query\n",
    "    )\n",
    "\n",
    "    result_docs = []\n",
    "    \n",
    "    for hit in es_results['hits']['hits']:\n",
    "        result_docs.append(hit['_source'])\n",
    "\n",
    "    return result_docs"
   ]
  },
  {
   "cell_type": "code",
   "execution_count": 13,
   "id": "47b5c70c-7024-44e0-af47-6691b98f2def",
   "metadata": {},
   "outputs": [],
   "source": [
    "def get_mobile_name_results(mobile_name_statement):\n",
    "    \"\"\"Return the ES results of the mobile phone asked by user.\"\"\"\n",
    "    input_vector = model.encode(mobile_name_statement)\n",
    "    mobile_context = elastic_search_knn(input_vector, 'specification_vector')\n",
    "\n",
    "    return mobile_context"
   ]
  },
  {
   "cell_type": "code",
   "execution_count": 14,
   "id": "1aea5cc9-cdfe-41d1-a022-e81e5c8ca422",
   "metadata": {},
   "outputs": [],
   "source": [
    "def build_prompt(phone_specifications, mobile_context):\n",
    "    \"\"\"Build the context using search results and return the prompt.\"\"\"\n",
    "    prompt_template = \"\"\"\n",
    "You are mobile phone expert. Answer all the specifications of PHONE using the CONTEXT provided from SPECFICATIONS database.\n",
    "The specifications in the CONTEXT is a json string. Convert the json string to readable format before printing out the answer.\n",
    "Use only the specifications given in the context to print the specs of the device.\n",
    "Do not number the specifications passed.\n",
    "Print only the first result in a markdown format where subsections are indented in readable format.\n",
    "\n",
    "\n",
    "PHONE: {phone}\n",
    "\n",
    "CONTEXT:\n",
    "{context}\n",
    "\"\"\".strip()\n",
    "\n",
    "    context = \"\"\n",
    "\n",
    "    for each in mobile_context:\n",
    "        context = context + f\"\\n\\nname: {each['name']}\\ncompany: {each['company']}\\nspecifications: {each['specifications']}\"\n",
    "\n",
    "    prompt = prompt_template.format(phone=phone_specifications, context=context)\n",
    "    return prompt"
   ]
  },
  {
   "cell_type": "code",
   "execution_count": 15,
   "id": "2ea8ca0b-80f0-4fc6-9cb2-e08b8c965b21",
   "metadata": {},
   "outputs": [],
   "source": [
    "def llm(model, client, prompt):\n",
    "    \"\"\"Return LLM generation based on context.\"\"\"\n",
    "    if model.startswith('ollama'):\n",
    "        response = ollama_client.chat.completions.create(\n",
    "            model='phi3',\n",
    "            messages=[{\"role\": \"user\", \"content\": prompt}]\n",
    "        )\n",
    "        answer = response.choices[0].message.content\n",
    "        tokens = {\n",
    "            'prompt_tokens': response.usage.prompt_tokens,\n",
    "            'completion_tokens': response.usage.completion_tokens,\n",
    "            'total_tokens': response.usage.total_tokens\n",
    "        }\n",
    "    else:\n",
    "        messages = [{\"role\": \"user\", \"content\": prompt}]\n",
    "        response = client.chat_completion(messages, max_tokens=1000)\n",
    "        \n",
    "    return response.choices[0].message.content"
   ]
  },
  {
   "cell_type": "code",
   "execution_count": 16,
   "id": "72a7fe9a-94b3-4a23-a6bc-208505fb23c1",
   "metadata": {},
   "outputs": [],
   "source": [
    "def rag(model, client, mobile_phone_statement):\n",
    "    \"\"\"Run the RAG flow for the given mobile phone statement.\"\"\"\n",
    "    mobile_name_context = get_mobile_name_results(mobile_phone_statement)\n",
    "    prompt = build_prompt(mobile_phone_statement, mobile_name_context)\n",
    "    answer = llm(model, client, prompt)\n",
    "\n",
    "    return answer"
   ]
  },
  {
   "cell_type": "code",
   "execution_count": 17,
   "id": "e1d127f5-829d-4928-96bf-cced419a59a1",
   "metadata": {},
   "outputs": [],
   "source": [
    "mobile_phone_statement = 'Print the list of all iphones present.'"
   ]
  },
  {
   "cell_type": "code",
   "execution_count": 21,
   "id": "79ec0798-6eec-4ace-a79c-c31c9a72c435",
   "metadata": {},
   "outputs": [],
   "source": [
    "import os\n",
    "from huggingface_hub import InferenceClient"
   ]
  },
  {
   "cell_type": "code",
   "execution_count": 19,
   "id": "22d69c4e-520e-4bd7-a136-94fe92c05df3",
   "metadata": {},
   "outputs": [],
   "source": [
    "HF_API_TOKEN = os.getenv('HF_API_TOKEN')"
   ]
  },
  {
   "cell_type": "code",
   "execution_count": 22,
   "id": "eaf06995-15c4-48ee-9fe5-c4faee7ac30c",
   "metadata": {},
   "outputs": [],
   "source": [
    "hugging_face = InferenceClient(\"HuggingFaceH4/zephyr-7b-beta\", token=HF_API_TOKEN)"
   ]
  },
  {
   "cell_type": "code",
   "execution_count": 23,
   "id": "1634d7cc-9cfa-42a4-8097-087979f4d76b",
   "metadata": {},
   "outputs": [],
   "source": [
    "result = rag('mistral', hugging_face, mobile_phone_statement)"
   ]
  },
  {
   "cell_type": "code",
   "execution_count": 31,
   "id": "d7a1be66-20b6-4038-93cc-0be30a998536",
   "metadata": {},
   "outputs": [],
   "source": [
    "mobile_name_context = get_mobile_name_results(mobile_phone_statement)"
   ]
  },
  {
   "cell_type": "code",
   "execution_count": 32,
   "id": "db7a92be-99e1-4153-8086-b4af98def6a9",
   "metadata": {},
   "outputs": [],
   "source": [
    "prompt = build_prompt(mobile_phone_statement, mobile_name_context)"
   ]
  },
  {
   "cell_type": "code",
   "execution_count": 33,
   "id": "70710876-2810-4ed5-aa35-060cee30a26f",
   "metadata": {},
   "outputs": [],
   "source": [
    "messages = [{\"role\": \"user\", \"content\": prompt}]"
   ]
  },
  {
   "cell_type": "code",
   "execution_count": 35,
   "id": "b58bbc41-0104-4f20-87b3-3fa2b517af8c",
   "metadata": {},
   "outputs": [],
   "source": [
    "response = hugging_face.chat_completion(messages, max_tokens=1000)"
   ]
  },
  {
   "cell_type": "code",
   "execution_count": 36,
   "id": "5c727543-c145-4f4a-8368-53f3a6b38083",
   "metadata": {},
   "outputs": [
    {
     "data": {
      "text/plain": [
       "148"
      ]
     },
     "execution_count": 36,
     "metadata": {},
     "output_type": "execute_result"
    }
   ],
   "source": [
    "response.usage.prompt_tokens"
   ]
  },
  {
   "cell_type": "code",
   "execution_count": null,
   "id": "0e413a49-d04f-4c27-bce8-823eb0b3ffac",
   "metadata": {},
   "outputs": [],
   "source": []
  },
  {
   "cell_type": "code",
   "execution_count": null,
   "id": "86bf8ff4-9a1d-4c31-8b52-80a11462b880",
   "metadata": {},
   "outputs": [],
   "source": []
  },
  {
   "cell_type": "code",
   "execution_count": null,
   "id": "442550e2-a827-4e79-a546-3f6ef1aee364",
   "metadata": {},
   "outputs": [],
   "source": []
  },
  {
   "cell_type": "code",
   "execution_count": 24,
   "id": "5fb70113-e413-4c9e-9f3d-6c247e7df268",
   "metadata": {},
   "outputs": [
    {
     "name": "stdout",
     "output_type": "stream",
     "text": [
      "iPhones:\n",
      "\n",
      "- iPhone 12:\n",
      "  - Display: 6.1-inch Super Retina XDR OLED display with Ceramic Shield front cover, HDR display, True Tone, 2532-by-1170-pixel resolution at 460 ppi\n",
      "  - Chip: A14 Bionic chip with 64-bit architecture, Neural Engine, 8-core graphics\n",
      "  - Storage: 64GB, 128GB, or 256GB\n",
      "  - Camera: Dual 12-megapixel Ultra Wide and Wide cameras with Night mode, Deep Fusion, Smart HDR 3, 4x optical zoom range, and 2x optical zoom in/out\n",
      "  - Video Recording: 4K video recording at 24 fps, 30 fps, or 60 fps, 1080p video recording at 30 fps or 60 fps, 720p video recording at 30 fps\n",
      "  - Battery: Up to 17 hours of talk time on a wireless network, up to 65 hours of audio playback, charges wirelessly via Qi charger or Lightning connector\n",
      "- iPhone 12 mini:\n",
      "  - Display: 5.4-inch Super Retina XDR OLED display with Ceramic Shield front cover, HDR display, True Tone, 2340-by-1080-pixel resolution at 476 ppi\n",
      "  - Chip: A14 Bionic chip with 64-bit architecture, Neural Engine, 8-core graphics\n",
      "  - Storage: 64GB, 128GB, or 256GB\n",
      "  - Camera: Dual 12-megapixel Ultra Wide and Wide cameras with Night mode, Deep Fusion, Smart HDR 3, 4x optical zoom range, and 2x optical zoom in/out\n",
      "  - Video Recording: 4K video recording at 24 fps, 30 fps, or 60 fps, 1080p video recording at 30 fps or 60 fps, 720p video recording at 30 fps\n",
      "  - Battery: Up to 15 hours of talk time on a wireless network, up to 65 hours of audio playback, charges wirelessly via Qi charger or Lightning connector\n",
      "- iPhone 12 Pro:\n",
      "  - Display: 6.1-inch or 6.7-inch Super Retina XDR OLED display with ProMotion, HDR display, True Tone, 2532-by-1170-pixel resolution at 460 ppi (6.1-inch model) or 2796-by-1284-pixel resolution at 458 ppi (6.7-inch model)\n",
      "  - Chip: A14 Bionic chip with 64-bit architecture, Neural Engine, 8-core graphics\n",
      "  - Storage: 128GB, 256GB, 512GB, or 1TB\n",
      "  - Camera: Triple 12-megapixel Ultra Wide, Wide, and Telephoto cameras with Night mode, Deep Fusion, Smart HDR 3, 4x optical zoom range, and 10x optical zoom in/out (iPhone 12 Pro only)\n",
      "  - Video Recording: 4K video recording at 24 fps, 30 fps, or 60 fps, 1080p video recording at 30 fps or 60 fps, 720p video recording at 30 fps\n",
      "  - Battery: Up to 17 hours of talk time on a wireless network, up to 65 hours of audio playback, charges wirelessly via Qi charger or Lightning connector\n",
      "- iPhone 12 Pro Max:\n",
      "  - Display: 6.7-inch Super Retina XDR OLED display with ProMotion, HDR display, True Tone, 2796-by-1284-pixel resolution at 458 ppi\n",
      "  - Chip: A14 Bionic chip with 64-bit architecture, Neural Engine, 8-core graphics\n"
     ]
    }
   ],
   "source": [
    "print(result)"
   ]
  },
  {
   "cell_type": "code",
   "execution_count": 25,
   "id": "008e722e-1bb1-492d-ada4-09f9de8af3cf",
   "metadata": {},
   "outputs": [],
   "source": [
    "mobile_phone_statement = 'Detailed specifications of iphone 16.'"
   ]
  },
  {
   "cell_type": "code",
   "execution_count": 26,
   "id": "964bbabe-407d-4893-81d3-18a6458f464a",
   "metadata": {},
   "outputs": [],
   "source": [
    "result = rag('mistral', hugging_face, mobile_phone_statement)"
   ]
  },
  {
   "cell_type": "code",
   "execution_count": 27,
   "id": "c3ad062e-cc73-48d0-b11a-a5238b69eb54",
   "metadata": {},
   "outputs": [
    {
     "name": "stdout",
     "output_type": "stream",
     "text": [
      "Display:\n",
      "- IPHONE 16 features a 6.7-inch Super Retina XDR OLED display with a resolution of 2772 x 1284 pixels and a pixel density of 458 pixels per inch.\n",
      "- The display has a peak brightness of 1200 nits, HDR support, and is protected by Ceramic Shield.\n",
      "\n",
      "Processor:\n",
      "- IPHONE 16 is powered by the A15 Bionic chip, a 64-bit CPU with six cores, and a four-core GPU.\n",
      "- The chip is built on a 5nm process and provides improved performance and efficiency compared to the previous generation.\n",
      "\n",
      "Storage:\n",
      "- IPHONE 16 offers storage options of 128GB, 256GB, and 512GB.\n",
      "- The storage is internal and cannot be expanded.\n",
      "\n",
      "Rear Camera:\n",
      "- The camera system on IPHONE 16 consists of a primary 12-megapixel ultra-wide camera and aprimary 12-megapixel wide-angle camera.\n",
      "- The primary wide-angle camera has an aperture of f/1.8, support for Night mode, Deep Fusion, and Smart HDR 3.\n",
      "- The ultra-wide camera has a 120-degree field of view and an aperture of f/2.4.\n",
      "\n",
      "Front Camera:\n",
      "- IPHONE 16 has a 12-megapixel front-facing camera with an aperture of f/2.2, support for Night mode, and Deep Fusion.\n",
      "- The front camera also has Smart HDR 3.\n",
      "\n",
      "Connectivity:\n",
      "- IPHONE 16 supports Wi-Fi 6 (802.11ax), Bluetooth 5.0, NFC, LTE, and Ultra Wideband.\n",
      "- It also features a Lightning to USB Type-C connector and supports Qi wireless charging.\n",
      "\n",
      "Battery:\n",
      "- IPHONE 16 is powered by a built-in rechargeable lithium-ion battery with a capacity of 3925mAh.\n",
      "- It supports fast charging, up to 20W, and can provide up to 16 hours of internet usage, up to 19 hours of video playback, or up to 75 hours of audio playback on a single charge.\n",
      "\n",
      "Other Features:\n",
      "- IPHONE 16 runs on iOS 15 and comes with a range of default apps, including Safari, Messages, Phone, Camera, and Siri.\n",
      "- It features a TrueDepth camera system for Face ID, which enables secure and convenient biometric authentication.\n",
      "- IPHONE 16 also includes compatibility with Dolby Atmos for an immersive audio experience.\n",
      "- It supports MagSafe for wireless charging and accessories, as well as NFC for Apple Pay.\n",
      "- IPHONE 16 measures 160.8mm x 78.1mm x 7.57mm and weighs 240 grams.\n",
      "\n",
      "\n",
      "Conclusion:\n",
      "IPHONE 16 boasts a top-of-the-line display, a powerful processor, ample storage options, advanced camera capabilities, reliable connectivity, and a long-lasting battery. It also comes loaded with a variety of features that make it an excellent choice for anyone in search of a premium smartphone.\n"
     ]
    }
   ],
   "source": [
    "print(result)"
   ]
  },
  {
   "cell_type": "code",
   "execution_count": 28,
   "id": "fb2ad013-993d-40e6-bb16-fb2f25e2b214",
   "metadata": {},
   "outputs": [],
   "source": [
    "mobile_phone_statement = 'List all the phones with 48 megapixel camera'"
   ]
  },
  {
   "cell_type": "code",
   "execution_count": 29,
   "id": "9d937d27-158e-444b-959e-40639eb56ed8",
   "metadata": {},
   "outputs": [],
   "source": [
    "result = rag('mistral', hugging_face, mobile_phone_statement)"
   ]
  },
  {
   "cell_type": "code",
   "execution_count": 30,
   "id": "bcba340d-9235-4524-b845-515ee560d810",
   "metadata": {},
   "outputs": [
    {
     "name": "stdout",
     "output_type": "stream",
     "text": [
      "PHONE with 48 Megapixel Camera:\n",
      "\n",
      "In today's smartphone market, the camera quality is one of the major factors that decide a device's success. Several smartphone brands have introduced high-megapixel cameras, one of which is 48 megapixels. In this article, we will list down the smartphones that come with a 48-megapixel camera.\n",
      "\n",
      "Camera:\n",
      "- Primary Rear Camera: 48 Megapixels (f/1.8 aperture)\n",
      "\n",
      "Display:\n",
      "- Screen Size: 6.3 inches (1080 x 2340 pixels)\n",
      "- Type: Super AMOLED, capacitive touchscreen, 16M colors, HDR10\n",
      "- Protection: Corning Gorilla Glass (3rd generation), Scratch-resistant\n",
      "\n",
      "Battery:\n",
      "- Type: Li-Po 4000mAh, non-removable\n",
      "- Fast charging 25W, 10W wireless charging, 4.5W reversible wireless charging \n",
      "\n",
      "Operating System:\n",
      "- Android 10, MIUI 11\n",
      "\n",
      "Processor & Storage:\n",
      "- Chipset: Qualcomm SM6150 Snapdragon 675 (11 nm)\n",
      "- CPU: Octa-core (2x2.0 GHz Kryo 460 & 6x1.7 GHz Kryo 460)\n",
      "- GPU: Adreno 612\n",
      "- RAM: 6GB/8GB\n",
      "- Internal Memory: 64GB/128GB, expandable up to 512GB via microSD card (uses shared SIM slot)\n",
      "\n",
      "Size & Weight:\n",
      "- Dimensions: 157.8 x 75.4 x 8.1 mm\n",
      "- Weight: 191g\n",
      "\n",
      "Connectivity:\n",
      "- Wi-Fi: Yes, Wi-Fi 802.11 a/b/g/n/ac, dual-band, Wi-Fi Direct, hotspot\n",
      "- Bluetooth: Yes, 5.0, A2DP, LE\n",
      "- USB: Yes, USB Type-C 2.0, USB On-The-Go, USB Host\n",
      "- GPS: Yes, with A-GPS, BDS, GLONASS, GALILEO, QZSS, NavIC\n",
      "- NFC: Yes\n",
      "- Radio: FM radio\n",
      "\n",
      "Security:\n",
      "- Fingerprint (under display, optical), accelerometer, gyro, proximity, compass\n",
      "\n",
      "In Conclusion, one of the smartphones with a 48-megapixel camera is Xiaomi Mi Note 10. It runs on Android 10 with MIUI 11 and is powered by Qualcomm Snapdragon 675 Chipset coupled with 6GB/8GB RAM and 64GB/128GB internal storage. The smartphone is packed with a 4000mAh battery, which supports fast charging of 25W, and also has 10W wireless charging and reverse wireless charging at 4.5W. The device features a 6.3 inches Super AMOLED display with Corning Gorilla Glass 3 on top and is protected by a scratch-resistant screen. It has a primary rear camera of 48-megapixels with f/1.8 aperture and an f/2.2 aperture for secondary cameras of 8-megapixels, 12-megapixels, 5-megapixels, and a 2-megapixel. Other connectivity options for Wi-Fi, Bluetooth, USB, GPS, NFC, and Radio are also available on this smartphone. For security, the smartphone has an under-display optical fingerprint scanner.\n",
      "\n",
      "\n",
      "\n",
      "Other smartphones with this feature are Xiaomi Mi Note 10 Pro, Realme X2 Pro, and Motorola Edge. Amongst them, Xiaomi Mi Note 10 has the most superior camera system with a telephoto lens which offers up to 20x hybrid zoom, and a periscope style of a lens which enables 50x digital zoom. Additionally, it has the biggest battery in the market. However, all these smartphones have a better camera game, and it ultimately comes down to user preference, brand loyalty, and budget which device they will be purchasing.\n",
      "\n",
      "CAMERA:\n",
      "- Primary Rear Camera: 4\n"
     ]
    }
   ],
   "source": [
    "print(result)"
   ]
  },
  {
   "cell_type": "markdown",
   "id": "ac0ec97a-1bcb-494c-b291-f4006a293cbf",
   "metadata": {},
   "source": [
    "#### HuggingFaceH4/mistral-7b-sft-beta"
   ]
  },
  {
   "cell_type": "code",
   "execution_count": 44,
   "id": "e95b029f-e4ca-4d75-bf86-ba089d7397f2",
   "metadata": {},
   "outputs": [],
   "source": [
    "mobile_phone_statement = 'Detailed specifications of iphone 16.'"
   ]
  },
  {
   "cell_type": "code",
   "execution_count": 47,
   "id": "823bbd28-4a77-407b-ae27-1e14ebba957f",
   "metadata": {},
   "outputs": [],
   "source": [
    "hugging_face = InferenceClient(\"mistralai/Mistral-7B-Instruct-v0.2\", token=HF_API_TOKEN)"
   ]
  },
  {
   "cell_type": "code",
   "execution_count": 48,
   "id": "b5a9edbe-fc2a-4f4b-bd03-0b73f3903cf3",
   "metadata": {},
   "outputs": [],
   "source": [
    "result = rag('mistral', hugging_face, mobile_phone_statement)"
   ]
  },
  {
   "cell_type": "code",
   "execution_count": 50,
   "id": "da3db03e-eba6-4013-9852-816619e66bc0",
   "metadata": {},
   "outputs": [],
   "source": [
    "from pprint import pprint"
   ]
  },
  {
   "cell_type": "code",
   "execution_count": null,
   "id": "f763791d-5c47-4e13-a793-c41eadc6be8f",
   "metadata": {},
   "outputs": [],
   "source": []
  }
 ],
 "metadata": {
  "kernelspec": {
   "display_name": "Python 3 (ipykernel)",
   "language": "python",
   "name": "python3"
  },
  "language_info": {
   "codemirror_mode": {
    "name": "ipython",
    "version": 3
   },
   "file_extension": ".py",
   "mimetype": "text/x-python",
   "name": "python",
   "nbconvert_exporter": "python",
   "pygments_lexer": "ipython3",
   "version": "3.9.6"
  }
 },
 "nbformat": 4,
 "nbformat_minor": 5
}
